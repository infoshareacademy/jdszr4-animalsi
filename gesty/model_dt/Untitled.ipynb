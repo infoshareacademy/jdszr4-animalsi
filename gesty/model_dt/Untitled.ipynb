{
 "cells": [
  {
   "cell_type": "code",
   "execution_count": 1,
   "id": "1a8088e5",
   "metadata": {},
   "outputs": [],
   "source": [
    "import os"
   ]
  },
  {
   "cell_type": "code",
   "execution_count": null,
   "id": "6ba508c1",
   "metadata": {},
   "outputs": [],
   "source": [
    "os.s"
   ]
  },
  {
   "cell_type": "code",
   "execution_count": null,
   "id": "e9b94fb6",
   "metadata": {},
   "outputs": [],
   "source": [
    "#wskazuje zrodlo skad pobiere zdjecia do predykcji\n",
    "path = os.getcwd()\n",
    "UPLOAD_FOLDER = os.path.join(path, 'static/images')\n",
    "ALLOWED_EXTENSIONS = set(['png', 'jpg', 'jpeg'])"
   ]
  },
  {
   "cell_type": "code",
   "execution_count": 2,
   "id": "19fbddaa",
   "metadata": {},
   "outputs": [],
   "source": [
    "path = os.getcwd()"
   ]
  },
  {
   "cell_type": "code",
   "execution_count": 6,
   "id": "f2fa6411",
   "metadata": {},
   "outputs": [],
   "source": [
    "filename = \"ck.pjp\""
   ]
  },
  {
   "cell_type": "code",
   "execution_count": 26,
   "id": "fd24dacb",
   "metadata": {},
   "outputs": [],
   "source": [
    "x = os.path.join('/static/images/', filename)"
   ]
  },
  {
   "cell_type": "code",
   "execution_count": 28,
   "id": "6dc7a6f3",
   "metadata": {},
   "outputs": [],
   "source": [
    "x = os.path.join(path, '/static/images/')"
   ]
  },
  {
   "cell_type": "code",
   "execution_count": 30,
   "id": "99bb2120",
   "metadata": {},
   "outputs": [
    {
     "data": {
      "text/plain": [
       "'C:\\\\Users\\\\Dawid\\\\Desktop\\\\kurs\\\\jdszr4-animalsi\\\\gesty\\\\model_dt'"
      ]
     },
     "execution_count": 30,
     "metadata": {},
     "output_type": "execute_result"
    }
   ],
   "source": [
    "path"
   ]
  },
  {
   "cell_type": "code",
   "execution_count": null,
   "id": "7ff53fb4",
   "metadata": {},
   "outputs": [],
   "source": []
  }
 ],
 "metadata": {
  "kernelspec": {
   "display_name": "Python 3",
   "language": "python",
   "name": "python3"
  },
  "language_info": {
   "codemirror_mode": {
    "name": "ipython",
    "version": 3
   },
   "file_extension": ".py",
   "mimetype": "text/x-python",
   "name": "python",
   "nbconvert_exporter": "python",
   "pygments_lexer": "ipython3",
   "version": "3.8.8"
  }
 },
 "nbformat": 4,
 "nbformat_minor": 5
}
