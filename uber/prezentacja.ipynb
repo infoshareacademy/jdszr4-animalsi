{
 "cells": [
  {
   "cell_type": "code",
   "execution_count": 1,
   "metadata": {},
   "outputs": [
    {
     "name": "stdout",
     "output_type": "stream",
     "text": [
      "prezentacja aplikacji - kalkulator obrazen\n",
      "wpływ pasów na obrazenia\n",
      "Ilosc obrazen w danym roku\n"
     ]
    }
   ],
   "source": [
    "import ipywidgets as widgets\n",
    "from IPython.display import clear_output\n",
    "from wywolanie_gadzetow import gadzety, przycisk, wiek_slider, CarAge, Make, Seatpos, DriverSex,out, run\n",
    "from accident import choice_widget1, przycisk1\n",
    "from pasy_a_obrazenia import gadzety3, przycisk3, Manuse, Injsev, out3, run3\n",
    "from zmiana_w_czasie import gadzety2, przycisk2, Injsev, out2, run2\n",
    "pass"
   ]
  },
  {
   "cell_type": "markdown",
   "metadata": {},
   "source": [
    "## Do jakiego ubera nie wsiadać? "
   ]
  },
  {
   "cell_type": "markdown",
   "metadata": {},
   "source": [
    "Korzystając z bazy danych fatalityfacts, dostępnej na stronie [link](https://www.kaggle.com/cfurby243/fatalityfacts) przeprowadziliśmy analize 51978 wypadków w latach 2004 do 2015.  \n",
    "- W bazie danych występowały wyłącznie wypadki.  \n",
    "- Zbadaliśmy, że w wypadkach brału udział średnio 2,13 osób.   \n",
    "- Dla potrzeb analizy wykorzystaliśmy tylko te przypadki, które dotyczyły samochodów osobowych.\n",
    "\n"
   ]
  },
  {
   "cell_type": "markdown",
   "metadata": {},
   "source": [
    "**Czy jeździmy bezpieczniej w ostatnich latach?   \n",
    "Sprawdźmy!**\n"
   ]
  },
  {
   "cell_type": "code",
   "execution_count": 2,
   "metadata": {},
   "outputs": [
    {
     "data": {
      "application/vnd.jupyter.widget-view+json": {
       "model_id": "f97767bf59db47cb81c016bc77a10799",
       "version_major": 2,
       "version_minor": 0
      },
      "text/plain": [
       "interactive(children=(Dropdown(description='Wielkosc obrazen:', layout=Layout(width='500px'), options={'brak o…"
      ]
     },
     "metadata": {},
     "output_type": "display_data"
    },
    {
     "data": {
      "application/vnd.jupyter.widget-view+json": {
       "model_id": "878fc6d2a8ec41dda55293d3705391f3",
       "version_major": 2,
       "version_minor": 0
      },
      "text/plain": [
       "Output()"
      ]
     },
     "metadata": {},
     "output_type": "display_data"
    },
    {
     "data": {
      "application/vnd.jupyter.widget-view+json": {
       "model_id": "2a5e19efb418438abb5d3df2c51ff1da",
       "version_major": 2,
       "version_minor": 0
      },
      "text/plain": [
       "Button(button_style='info', description='wylicz', icon='search', style=ButtonStyle(), tooltip='Kliknij')"
      ]
     },
     "metadata": {},
     "output_type": "display_data"
    }
   ],
   "source": [
    "widgets.interact(gadzety2, a=Injsev)\n",
    "display(out2)\n",
    "display(run2)\n",
    "run2.on_click(przycisk2)"
   ]
  },
  {
   "cell_type": "markdown",
   "metadata": {},
   "source": [
    "**Czy zapinanie pasów ma wpływ na nasze bezpieczeństwo?  \n",
    "Sprawdź!**\n"
   ]
  },
  {
   "cell_type": "code",
   "execution_count": 3,
   "metadata": {
    "scrolled": true
   },
   "outputs": [
    {
     "data": {
      "application/vnd.jupyter.widget-view+json": {
       "model_id": "6d6be33e6e0a4094be8e849220f32d93",
       "version_major": 2,
       "version_minor": 0
      },
      "text/plain": [
       "interactive(children=(Dropdown(description='Obecność pasów:', layout=Layout(width='500px'), options={'brak pas…"
      ]
     },
     "metadata": {},
     "output_type": "display_data"
    },
    {
     "data": {
      "application/vnd.jupyter.widget-view+json": {
       "model_id": "edcbc76e46ef45cda7952ffcb12a8661",
       "version_major": 2,
       "version_minor": 0
      },
      "text/plain": [
       "Output()"
      ]
     },
     "metadata": {},
     "output_type": "display_data"
    },
    {
     "data": {
      "application/vnd.jupyter.widget-view+json": {
       "model_id": "a2823d452b4a4ad3bde08c06ddb9496d",
       "version_major": 2,
       "version_minor": 0
      },
      "text/plain": [
       "Button(button_style='info', description='wylicz', icon='search', style=ButtonStyle(), tooltip='Kliknij')"
      ]
     },
     "metadata": {},
     "output_type": "display_data"
    }
   ],
   "source": [
    "widgets.interact(gadzety3, y=Manuse, a=Injsev)\n",
    "display(out3)\n",
    "display(run3)\n",
    "run3.on_click(przycisk3)"
   ]
  },
  {
   "cell_type": "markdown",
   "metadata": {},
   "source": [
    "**Zastanawiasz się czy wziąć współdzieloną taksówkę?  \n",
    "Sprawdź przy ilu osobach jest największa szansa na obrażenia w razie wypadku**"
   ]
  },
  {
   "cell_type": "code",
   "execution_count": 4,
   "metadata": {},
   "outputs": [
    {
     "data": {
      "application/vnd.jupyter.widget-view+json": {
       "model_id": "345e815f0e6c4c1abe2661cc47995960",
       "version_major": 2,
       "version_minor": 0
      },
      "text/plain": [
       "interactive(children=(Dropdown(description='Osoby:', options=('2', '3', '4', '5', '6', '7', '8', '9', '10', '1…"
      ]
     },
     "metadata": {},
     "output_type": "display_data"
    }
   ],
   "source": [
    "widgets.interact(przycisk1, option_choice=choice_widget1)\n",
    "pass"
   ]
  },
  {
   "cell_type": "markdown",
   "metadata": {},
   "source": [
    "**Chcesz dokładnie wiedzieć w jakich okolicznościach jest najwyższa szansa, że przeżyjesz?  \n",
    "Wypełnij formularz i się przekonaj !**\n"
   ]
  },
  {
   "cell_type": "code",
   "execution_count": 5,
   "metadata": {},
   "outputs": [
    {
     "data": {
      "application/vnd.jupyter.widget-view+json": {
       "model_id": "aa846534e2864f9691ab6f3b3c2eb0cf",
       "version_major": 2,
       "version_minor": 0
      },
      "text/plain": [
       "interactive(children=(IntSlider(value=20, description='Podaj wiek kierowcy', layout=Layout(width='500px'), min…"
      ]
     },
     "metadata": {},
     "output_type": "display_data"
    },
    {
     "data": {
      "application/vnd.jupyter.widget-view+json": {
       "model_id": "f9a4707e5d0e488d8df06dd5a3ff3cf5",
       "version_major": 2,
       "version_minor": 0
      },
      "text/plain": [
       "Output()"
      ]
     },
     "metadata": {},
     "output_type": "display_data"
    },
    {
     "data": {
      "application/vnd.jupyter.widget-view+json": {
       "model_id": "eadf5bc629234f5b8d5ebfa92d979911",
       "version_major": 2,
       "version_minor": 0
      },
      "text/plain": [
       "Button(button_style='info', description='wylicz', icon='search', style=ButtonStyle(), tooltip='Kliknij')"
      ]
     },
     "metadata": {},
     "output_type": "display_data"
    }
   ],
   "source": [
    "widgets.interact(gadzety, x=wiek_slider, y=CarAge,a = Make, b =  Seatpos, c = DriverSex)\n",
    "display(out)\n",
    "display(run)\n",
    "run.on_click(przycisk)"
   ]
  },
  {
   "cell_type": "code",
   "execution_count": null,
   "metadata": {},
   "outputs": [],
   "source": []
  },
  {
   "cell_type": "code",
   "execution_count": null,
   "metadata": {},
   "outputs": [],
   "source": []
  },
  {
   "cell_type": "code",
   "execution_count": null,
   "metadata": {},
   "outputs": [],
   "source": []
  },
  {
   "cell_type": "code",
   "execution_count": null,
   "metadata": {},
   "outputs": [],
   "source": []
  }
 ],
 "metadata": {
  "kernelspec": {
   "display_name": "Python 3",
   "language": "python",
   "name": "python3"
  },
  "language_info": {
   "codemirror_mode": {
    "name": "ipython",
    "version": 3
   },
   "file_extension": ".py",
   "mimetype": "text/x-python",
   "name": "python",
   "nbconvert_exporter": "python",
   "pygments_lexer": "ipython3",
   "version": "3.8.3"
  }
 },
 "nbformat": 4,
 "nbformat_minor": 4
}
