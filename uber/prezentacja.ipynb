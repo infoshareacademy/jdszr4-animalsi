{
 "cells": [
  {
   "cell_type": "code",
   "execution_count": 1,
   "metadata": {},
   "outputs": [
    {
     "name": "stdout",
     "output_type": "stream",
     "text": [
      "prezentacja aplikacji - kalkulator obrazen\n",
      "wpływ pasów na obrazenia\n",
      "Ilosc obrazen w danym roku\n"
     ]
    }
   ],
   "source": [
    "import ipywidgets as widgets\n",
    "from IPython.display import clear_output\n",
    "from wywolanie_gadzetow import gadzety, przycisk, wiek_slider, CarAge, Make, Seatpos, DriverSex,out, run\n",
    "from accident import choice_widget1, przycisk1\n",
    "from pasy_a_obrazenia import gadzety3, przycisk3, Manuse, Injsev, out3, run3\n",
    "from zmiana_w_czasie import gadzety2, przycisk2, Injsev, out2, run2\n",
    "pass"
   ]
  },
  {
   "cell_type": "markdown",
   "metadata": {},
   "source": [
    "## Do jakiego ubera nie wsiadać? "
   ]
  },
  {
   "cell_type": "markdown",
   "metadata": {},
   "source": [
    "Korzystając z bazy danych fatalityfacts, dostępnej na stronie [link](https://www.kaggle.com/cfurby243/fatalityfacts) przeprowadziliśmy analize 51978 wypadków w latach 2004 do 2015.  \n",
    "- W bazie danych występowały wyłącznie wypadki.  \n",
    "- Zbadaliśmy, że w wypadkach brału udział średnio 2,13 osób.   \n",
    "- Dla potrzeb analizy wykorzystaliśmy tylko te przypadki, które dotyczyły samochodów osobowych.\n",
    "\n"
   ]
  },
  {
   "cell_type": "markdown",
   "metadata": {},
   "source": [
    "**Czy jeździmy bezpieczniej w ostatnich latach?   \n",
    "Sprawdźmy!**\n"
   ]
  },
  {
   "cell_type": "code",
   "execution_count": 2,
   "metadata": {},
   "outputs": [
    {
     "data": {
      "application/vnd.jupyter.widget-view+json": {
       "model_id": "4d26c62e117b4b618e621623812cb37a",
       "version_major": 2,
       "version_minor": 0
      },
      "text/plain": [
       "interactive(children=(Dropdown(description='Wielkosc obrazen:', layout=Layout(width='500px'), options={'brak o…"
      ]
     },
     "metadata": {},
     "output_type": "display_data"
    },
    {
     "data": {
      "application/vnd.jupyter.widget-view+json": {
       "model_id": "e1ebfde4e5c1415a8597d3c67190f496",
       "version_major": 2,
       "version_minor": 0
      },
      "text/plain": [
       "Output()"
      ]
     },
     "metadata": {},
     "output_type": "display_data"
    },
    {
     "data": {
      "application/vnd.jupyter.widget-view+json": {
       "model_id": "d1a6e8ce020947f2bf8c6ebf2665fabe",
       "version_major": 2,
       "version_minor": 0
      },
      "text/plain": [
       "Button(button_style='info', description='wylicz', icon='search', style=ButtonStyle(), tooltip='Kliknij')"
      ]
     },
     "metadata": {},
     "output_type": "display_data"
    }
   ],
   "source": [
    "widgets.interact(gadzety2, a=Injsev)\n",
    "display(out2)\n",
    "display(run2)\n",
    "run2.on_click(przycisk2)"
   ]
  },
  {
   "cell_type": "markdown",
   "metadata": {},
   "source": [
    "**Czy zapinanie pasów ma wpływ na nasze bezpieczeństwo?  \n",
    "Sprawdź!**\n"
   ]
  },
  {
   "cell_type": "code",
   "execution_count": 3,
   "metadata": {
    "scrolled": true
   },
   "outputs": [
    {
     "data": {
      "application/vnd.jupyter.widget-view+json": {
       "model_id": "eb0198dba5764f2f9fd20981cccc404b",
       "version_major": 2,
       "version_minor": 0
      },
      "text/plain": [
       "interactive(children=(Dropdown(description='Obecność pasów:', layout=Layout(width='500px'), options={'brak pas…"
      ]
     },
     "metadata": {},
     "output_type": "display_data"
    },
    {
     "data": {
      "application/vnd.jupyter.widget-view+json": {
       "model_id": "eccfd26e7d8f403384496b8ed66e5a53",
       "version_major": 2,
       "version_minor": 0
      },
      "text/plain": [
       "Output()"
      ]
     },
     "metadata": {},
     "output_type": "display_data"
    },
    {
     "data": {
      "application/vnd.jupyter.widget-view+json": {
       "model_id": "feb41c17599646169738978b7d5b18c7",
       "version_major": 2,
       "version_minor": 0
      },
      "text/plain": [
       "Button(button_style='info', description='wylicz', icon='search', style=ButtonStyle(), tooltip='Kliknij')"
      ]
     },
     "metadata": {},
     "output_type": "display_data"
    }
   ],
   "source": [
    "widgets.interact(gadzety3, y=Manuse, a=Injsev)\n",
    "display(out3)\n",
    "display(run3)\n",
    "run3.on_click(przycisk3)"
   ]
  },
  {
   "cell_type": "markdown",
   "metadata": {},
   "source": [
    "**Zastanawiasz się czy wziąć współdzieloną taksówkę?  \n",
    "Sprawdź przy ilu osobach jest największa szansa na obrażenia w razie wypadku**"
   ]
  },
  {
   "cell_type": "code",
   "execution_count": 4,
   "metadata": {},
   "outputs": [
    {
     "data": {
      "application/vnd.jupyter.widget-view+json": {
       "model_id": "761e1d6266d04a89b7b4c130a12c13ce",
       "version_major": 2,
       "version_minor": 0
      },
      "text/plain": [
       "interactive(children=(Dropdown(description='Osoby:', options=('2', '3', '4', '5', '6', '7', '8', '9', '10', '1…"
      ]
     },
     "metadata": {},
     "output_type": "display_data"
    }
   ],
   "source": [
    "widgets.interact(przycisk1, option_choice=choice_widget1)\n",
    "pass"
   ]
  },
  {
   "cell_type": "markdown",
   "metadata": {},
   "source": [
    "**Chcesz dokładnie wiedzieć w jakich okolicznościach jest najwyższa szansa, że przeżyjesz?  \n",
    "Wypełnij formularz i się przekonaj !**\n"
   ]
  },
  {
   "cell_type": "code",
   "execution_count": 5,
   "metadata": {},
   "outputs": [
    {
     "data": {
      "application/vnd.jupyter.widget-view+json": {
       "model_id": "aec75c5025c84cbaa432da33bd4424de",
       "version_major": 2,
       "version_minor": 0
      },
      "text/plain": [
       "interactive(children=(IntSlider(value=20, description='Podaj wiek kierowcy', layout=Layout(width='500px'), min…"
      ]
     },
     "metadata": {},
     "output_type": "display_data"
    },
    {
     "data": {
      "application/vnd.jupyter.widget-view+json": {
       "model_id": "0ad287d737024d76a46a83877bb49d9c",
       "version_major": 2,
       "version_minor": 0
      },
      "text/plain": [
       "Output()"
      ]
     },
     "metadata": {},
     "output_type": "display_data"
    },
    {
     "data": {
      "application/vnd.jupyter.widget-view+json": {
       "model_id": "1e8d01684f28467c8a6a137f8ea3ffa3",
       "version_major": 2,
       "version_minor": 0
      },
      "text/plain": [
       "Button(button_style='info', description='wylicz', icon='search', style=ButtonStyle(), tooltip='Kliknij')"
      ]
     },
     "metadata": {},
     "output_type": "display_data"
    }
   ],
   "source": [
    "widgets.interact(gadzety, x=wiek_slider, y=CarAge,a = Make, b =  Seatpos, c = DriverSex)\n",
    "display(out)\n",
    "display(run)\n",
    "run.on_click(przycisk)"
   ]
  },
  {
   "cell_type": "code",
   "execution_count": null,
   "metadata": {},
   "outputs": [],
   "source": []
  },
  {
   "cell_type": "code",
   "execution_count": null,
   "metadata": {},
   "outputs": [],
   "source": []
  },
  {
   "cell_type": "code",
   "execution_count": null,
   "metadata": {},
   "outputs": [],
   "source": []
  },
  {
   "cell_type": "code",
   "execution_count": null,
   "metadata": {},
   "outputs": [],
   "source": []
  }
 ],
 "metadata": {
  "kernelspec": {
   "display_name": "Python 3",
   "language": "python",
   "name": "python3"
  },
  "language_info": {
   "codemirror_mode": {
    "name": "ipython",
    "version": 3
   },
   "file_extension": ".py",
   "mimetype": "text/x-python",
   "name": "python",
   "nbconvert_exporter": "python",
   "pygments_lexer": "ipython3",
   "version": "3.8.3"
  }
 },
 "nbformat": 4,
 "nbformat_minor": 4
}
