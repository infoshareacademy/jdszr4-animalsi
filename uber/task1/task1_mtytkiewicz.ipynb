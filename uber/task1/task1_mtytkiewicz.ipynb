{
 "cells": [
  {
   "cell_type": "code",
   "execution_count": 1,
   "metadata": {},
   "outputs": [],
   "source": [
    "import pandas as pd"
   ]
  },
  {
   "cell_type": "code",
   "execution_count": 109,
   "metadata": {},
   "outputs": [
    {
     "name": "stdout",
     "output_type": "stream",
     "text": [
      "C:\\Users\\Dawid\\Desktop\\kurs\\jdszr4-animalsi\\uber\n"
     ]
    }
   ],
   "source": [
    "#link do folderu, w którym mamy bazę:\n",
    "\n",
    "%cd \"C:\\Users\\Dawid\\Desktop\\kurs\\projekt\\uber\""
   ]
  },
  {
   "cell_type": "code",
   "execution_count": 2,
   "metadata": {},
   "outputs": [
    {
     "name": "stderr",
     "output_type": "stream",
     "text": [
      "C:\\Users\\marty\\anaconda3\\lib\\site-packages\\IPython\\core\\interactiveshell.py:3146: DtypeWarning: Columns (3) have mixed types.Specify dtype option on import or set low_memory=False.\n",
      "  has_raised = await self.run_ast_nodes(code_ast.body, cell_name,\n"
     ]
    }
   ],
   "source": [
    "df = pd.read_csv('database.sqlite')"
   ]
  },
  {
   "cell_type": "code",
   "execution_count": 3,
   "metadata": {},
   "outputs": [],
   "source": [
    "df.drop(columns=[\"Unnamed: 0\",\"HOSPSTAY\",'DOF1', 'GAD1','DVEST', \n",
    "                 'DVBASIS','BAGDEPLY','BAGFAIL','CASENO','MANAVAIL', 'MANFAIL', 'TREATMNT','DEATH'\n",
    "                ],inplace = True)\n"
   ]
  },
  {
   "cell_type": "markdown",
   "metadata": {},
   "source": [
    "\n",
    "\n",
    "Aby sprawnie pracować na danych zawartych w tabeli, podzielimy ją na 3 tabele połacząne kluczem głównym (CASEID i PSU)\n",
    "\n"
   ]
  },
  {
   "cell_type": "code",
   "execution_count": 4,
   "metadata": {},
   "outputs": [],
   "source": [
    "occupants = df[[\"CASEID\", 'PSU','AGE', 'BAGAVAIL','CHTYPE', 'HEIGHT', 'INJSEV',\n",
    "       'MANUSE', 'OCCNO', 'ROLE', 'SEATPOS', 'SEX', 'WEIGHT']]"
   ]
  },
  {
   "cell_type": "code",
   "execution_count": 5,
   "metadata": {},
   "outputs": [
    {
     "name": "stderr",
     "output_type": "stream",
     "text": [
      "<ipython-input-5-6732b027358d>:1: SettingWithCopyWarning: \n",
      "A value is trying to be set on a copy of a slice from a DataFrame\n",
      "\n",
      "See the caveats in the documentation: https://pandas.pydata.org/pandas-docs/stable/user_guide/indexing.html#returning-a-view-versus-a-copy\n",
      "  occupants.drop_duplicates(subset=[\"CASEID\", 'PSU','AGE', 'BAGAVAIL','CHTYPE', 'HEIGHT', 'INJSEV',\n"
     ]
    }
   ],
   "source": [
    "occupants.drop_duplicates(subset=[\"CASEID\", 'PSU','AGE', 'BAGAVAIL','CHTYPE', 'HEIGHT', 'INJSEV',\n",
    "       'MANUSE', 'OCCNO', 'ROLE', 'SEATPOS', 'SEX', 'WEIGHT'],inplace=True, ignore_index=True)"
   ]
  },
  {
   "cell_type": "code",
   "execution_count": 6,
   "metadata": {},
   "outputs": [],
   "source": [
    "vehicles= df[['CASEID', 'PSU','BODYTYPE', 'MAKE' , 'DVTOTAL','MODELYR']]"
   ]
  },
  {
   "cell_type": "code",
   "execution_count": 7,
   "metadata": {},
   "outputs": [
    {
     "name": "stderr",
     "output_type": "stream",
     "text": [
      "<ipython-input-7-650ac2603853>:1: SettingWithCopyWarning: \n",
      "A value is trying to be set on a copy of a slice from a DataFrame\n",
      "\n",
      "See the caveats in the documentation: https://pandas.pydata.org/pandas-docs/stable/user_guide/indexing.html#returning-a-view-versus-a-copy\n",
      "  vehicles.drop_duplicates(subset=['CASEID', 'PSU','BODYTYPE', 'MAKE' , 'DVTOTAL','MODELYR'],inplace=True, ignore_index=True)\n"
     ]
    }
   ],
   "source": [
    "vehicles.drop_duplicates(subset=['CASEID', 'PSU','BODYTYPE', 'MAKE' , 'DVTOTAL','MODELYR'],inplace=True, ignore_index=True)"
   ]
  },
  {
   "cell_type": "code",
   "execution_count": 8,
   "metadata": {},
   "outputs": [],
   "source": [
    "accidents = df[['CASEID', 'PSU', 'STRATIF','YEAR']]"
   ]
  },
  {
   "cell_type": "code",
   "execution_count": 9,
   "metadata": {},
   "outputs": [
    {
     "name": "stderr",
     "output_type": "stream",
     "text": [
      "<ipython-input-9-0fba22f11641>:1: SettingWithCopyWarning: \n",
      "A value is trying to be set on a copy of a slice from a DataFrame\n",
      "\n",
      "See the caveats in the documentation: https://pandas.pydata.org/pandas-docs/stable/user_guide/indexing.html#returning-a-view-versus-a-copy\n",
      "  accidents.drop_duplicates(subset=['CASEID', 'PSU', 'STRATIF','YEAR'], inplace =True, ignore_index=True)\n"
     ]
    }
   ],
   "source": [
    "accidents.drop_duplicates(subset=['CASEID', 'PSU', 'STRATIF','YEAR'], inplace =True, ignore_index=True)"
   ]
  },
  {
   "cell_type": "code",
   "execution_count": 10,
   "metadata": {},
   "outputs": [
    {
     "data": {
      "text/plain": [
       "True"
      ]
     },
     "execution_count": 10,
     "metadata": {},
     "output_type": "execute_result"
    }
   ],
   "source": [
    "import math\n",
    "x = float('nan')\n",
    "math.isnan(x)"
   ]
  },
  {
   "cell_type": "code",
   "execution_count": 13,
   "metadata": {},
   "outputs": [],
   "source": [
    "SEX_new=[]\n",
    "\n",
    "for i in occupants['SEX']:\n",
    "    if i==1:\n",
    "        SEX_new.append(1)\n",
    "    elif i==2:\n",
    "        SEX_new.append(2)\n",
    "    elif i>=3:\n",
    "        SEX_new.append(3)\n",
    "    elif math.isnan(i):\n",
    "        SEX_new.append(None)"
   ]
  },
  {
   "cell_type": "code",
   "execution_count": 14,
   "metadata": {},
   "outputs": [
    {
     "name": "stderr",
     "output_type": "stream",
     "text": [
      "<ipython-input-14-0e65efc02b08>:1: SettingWithCopyWarning: \n",
      "A value is trying to be set on a copy of a slice from a DataFrame.\n",
      "Try using .loc[row_indexer,col_indexer] = value instead\n",
      "\n",
      "See the caveats in the documentation: https://pandas.pydata.org/pandas-docs/stable/user_guide/indexing.html#returning-a-view-versus-a-copy\n",
      "  occupants['SEX_new'] = SEX_new\n"
     ]
    }
   ],
   "source": [
    "occupants['SEX_new'] = SEX_new"
   ]
  },
  {
   "cell_type": "code",
   "execution_count": 16,
   "metadata": {},
   "outputs": [],
   "source": [
    "WEIGHT_new=[]\n",
    "\n",
    "for i in occupants['WEIGHT']:\n",
    "    if i>=0 and i<=20:\n",
    "        WEIGHT_new.append(1)\n",
    "    elif i>=21 and i<=40:\n",
    "        WEIGHT_new.append(2)\n",
    "    elif i>=41 and i<=60:\n",
    "        WEIGHT_new.append(3)\n",
    "    elif i>=61 and i<=80:\n",
    "        WEIGHT_new.append(4)\n",
    "    elif i>=81 and i<=100:\n",
    "        WEIGHT_new.append(5)\n",
    "    elif i>100:\n",
    "        WEIGHT_new.append(6)\n",
    "    elif math.isnan(i):\n",
    "        WEIGHT_new.append(None)"
   ]
  },
  {
   "cell_type": "code",
   "execution_count": 17,
   "metadata": {},
   "outputs": [
    {
     "name": "stderr",
     "output_type": "stream",
     "text": [
      "<ipython-input-17-72117f9aed70>:1: SettingWithCopyWarning: \n",
      "A value is trying to be set on a copy of a slice from a DataFrame.\n",
      "Try using .loc[row_indexer,col_indexer] = value instead\n",
      "\n",
      "See the caveats in the documentation: https://pandas.pydata.org/pandas-docs/stable/user_guide/indexing.html#returning-a-view-versus-a-copy\n",
      "  occupants['WEIGHT_new'] = WEIGHT_new\n"
     ]
    }
   ],
   "source": [
    "occupants['WEIGHT_new'] = WEIGHT_new"
   ]
  },
  {
   "cell_type": "code",
   "execution_count": 18,
   "metadata": {},
   "outputs": [],
   "source": [
    "SEATPOS_new=[]\n",
    "\n",
    "for i in occupants['SEATPOS']:\n",
    "    if i>=11 and i<=15:\n",
    "        SEATPOS_new.append(1)\n",
    "    elif i>=21 and i<=25 or i==29:\n",
    "        SEATPOS_new.append(2)\n",
    "    elif i>=31 and i<=59:\n",
    "        SEATPOS_new.append(3)\n",
    "    elif i==19 or i==97 or i==98:\n",
    "        SEATPOS_new.append(4)\n",
    "    elif math.isnan(i):\n",
    "        SEATPOS_new.append(None)"
   ]
  },
  {
   "cell_type": "code",
   "execution_count": 19,
   "metadata": {},
   "outputs": [
    {
     "name": "stderr",
     "output_type": "stream",
     "text": [
      "<ipython-input-19-89ea867c71c6>:1: SettingWithCopyWarning: \n",
      "A value is trying to be set on a copy of a slice from a DataFrame.\n",
      "Try using .loc[row_indexer,col_indexer] = value instead\n",
      "\n",
      "See the caveats in the documentation: https://pandas.pydata.org/pandas-docs/stable/user_guide/indexing.html#returning-a-view-versus-a-copy\n",
      "  occupants['SEATPOS_new'] = SEATPOS_new\n"
     ]
    }
   ],
   "source": [
    "occupants['SEATPOS_new'] = SEATPOS_new"
   ]
  },
  {
   "cell_type": "code",
   "execution_count": 20,
   "metadata": {},
   "outputs": [],
   "source": [
    "ROLE_new=[]\n",
    "for i in occupants['ROLE']:\n",
    "    if i==1:\n",
    "        ROLE_new.append(1)\n",
    "    elif i==2:\n",
    "        ROLE_new.append(2)\n",
    "    elif math.isnan(i):\n",
    "        ROLE_new.append(None)"
   ]
  },
  {
   "cell_type": "code",
   "execution_count": 21,
   "metadata": {},
   "outputs": [
    {
     "name": "stderr",
     "output_type": "stream",
     "text": [
      "<ipython-input-21-185c14386df6>:1: SettingWithCopyWarning: \n",
      "A value is trying to be set on a copy of a slice from a DataFrame.\n",
      "Try using .loc[row_indexer,col_indexer] = value instead\n",
      "\n",
      "See the caveats in the documentation: https://pandas.pydata.org/pandas-docs/stable/user_guide/indexing.html#returning-a-view-versus-a-copy\n",
      "  occupants['ROLE_new'] = ROLE_new\n"
     ]
    }
   ],
   "source": [
    "occupants['ROLE_new'] = ROLE_new"
   ]
  },
  {
   "cell_type": "code",
   "execution_count": 22,
   "metadata": {},
   "outputs": [],
   "source": [
    "MANUSE_new=[]\n",
    "\n",
    "for i in occupants['MANUSE']:\n",
    "    if i>=0 and i<=1:\n",
    "        MANUSE_new.append(1)\n",
    "    elif i>=2 and i<=18:\n",
    "        MANUSE_new.append(2)\n",
    "    elif math.isnan(i):\n",
    "        MANUSE_new.append(None)"
   ]
  },
  {
   "cell_type": "code",
   "execution_count": 23,
   "metadata": {},
   "outputs": [
    {
     "name": "stderr",
     "output_type": "stream",
     "text": [
      "<ipython-input-23-898f79ce2082>:1: SettingWithCopyWarning: \n",
      "A value is trying to be set on a copy of a slice from a DataFrame.\n",
      "Try using .loc[row_indexer,col_indexer] = value instead\n",
      "\n",
      "See the caveats in the documentation: https://pandas.pydata.org/pandas-docs/stable/user_guide/indexing.html#returning-a-view-versus-a-copy\n",
      "  occupants['MANUSE_new'] = MANUSE_new\n"
     ]
    }
   ],
   "source": [
    "occupants['MANUSE_new'] = MANUSE_new"
   ]
  }
 ],
 "metadata": {
  "kernelspec": {
   "display_name": "Python 3",
   "language": "python",
   "name": "python3"
  },
  "language_info": {
   "codemirror_mode": {
    "name": "ipython",
    "version": 3
   },
   "file_extension": ".py",
   "mimetype": "text/x-python",
   "name": "python",
   "nbconvert_exporter": "python",
   "pygments_lexer": "ipython3",
   "version": "3.8.3"
  }
 },
 "nbformat": 4,
 "nbformat_minor": 4
}
