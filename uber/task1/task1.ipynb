{
 "cells": [
  {
   "cell_type": "code",
   "execution_count": 1,
   "metadata": {},
   "outputs": [],
   "source": [
    "import pandas as pd"
   ]
  },
  {
   "cell_type": "code",
   "execution_count": 37,
   "metadata": {},
   "outputs": [
    {
     "name": "stdout",
     "output_type": "stream",
     "text": [
      "C:\\Users\\Dawid\\Desktop\\kurs\\projekt\\uber\n"
     ]
    }
   ],
   "source": [
    "#link do folderu, w którym mamy bazę:\n",
    "\n",
    "%cd \"C:\\Users\\Dawid\\Desktop\\kurs\\projekt\\uber\""
   ]
  },
  {
   "cell_type": "code",
   "execution_count": 38,
   "metadata": {},
   "outputs": [
    {
     "name": "stderr",
     "output_type": "stream",
     "text": [
      "C:\\Users\\Dawid\\AppData\\Roaming\\Python\\Python38\\site-packages\\IPython\\core\\interactiveshell.py:3165: DtypeWarning: Columns (3) have mixed types.Specify dtype option on import or set low_memory=False.\n",
      "  has_raised = await self.run_ast_nodes(code_ast.body, cell_name,\n"
     ]
    }
   ],
   "source": [
    "df=pd.read_csv(\"./database.csv\")"
   ]
  },
  {
   "cell_type": "code",
   "execution_count": 39,
   "metadata": {},
   "outputs": [],
   "source": [
    "df.drop(columns=[\"Unnamed: 0\",\"HOSPSTAY\",'DOF1', 'GAD1','DVEST', \n",
    "                 'DVBASIS','BAGDEPLY','BAGFAIL','CASENO','MANAVAIL', 'MANFAIL', 'TREATMNT','DEATH'\n",
    "                ],inplace = True)\n"
   ]
  },
  {
   "cell_type": "markdown",
   "metadata": {},
   "source": [
    "\n",
    "\n",
    "Aby sprawnie pracować na danych zawartych w tabeli, podzielimy ją na 3 tabele połacząne kluczem głównym (CASEID i PSU)\n",
    "\n"
   ]
  },
  {
   "cell_type": "code",
   "execution_count": 40,
   "metadata": {},
   "outputs": [],
   "source": [
    "occupants = df[[\"CASEID\", 'PSU','YEAR','AGE', 'BAGAVAIL','CHTYPE', 'HEIGHT', 'INJSEV',\n",
    "       'MANUSE', 'OCCNO', 'ROLE', 'SEATPOS', 'SEX', 'WEIGHT']]"
   ]
  },
  {
   "cell_type": "code",
   "execution_count": 41,
   "metadata": {},
   "outputs": [
    {
     "name": "stderr",
     "output_type": "stream",
     "text": [
      "<ipython-input-41-6732b027358d>:1: SettingWithCopyWarning: \n",
      "A value is trying to be set on a copy of a slice from a DataFrame\n",
      "\n",
      "See the caveats in the documentation: https://pandas.pydata.org/pandas-docs/stable/user_guide/indexing.html#returning-a-view-versus-a-copy\n",
      "  occupants.drop_duplicates(subset=[\"CASEID\", 'PSU','AGE', 'BAGAVAIL','CHTYPE', 'HEIGHT', 'INJSEV',\n"
     ]
    }
   ],
   "source": [
    "occupants.drop_duplicates(subset=[\"CASEID\", 'PSU','YEAR','AGE', 'BAGAVAIL','CHTYPE', 'HEIGHT', 'INJSEV',\n",
    "       'MANUSE', 'OCCNO', 'ROLE', 'SEATPOS', 'SEX', 'WEIGHT'],inplace=True, ignore_index=True)"
   ]
  },
  {
   "cell_type": "code",
   "execution_count": 42,
   "metadata": {},
   "outputs": [],
   "source": [
    "vehicles= df[['CASEID', 'PSU','YEAR','BODYTYPE', 'MAKE' , 'DVTOTAL','MODELYR']]"
   ]
  },
  {
   "cell_type": "code",
   "execution_count": 43,
   "metadata": {},
   "outputs": [
    {
     "name": "stderr",
     "output_type": "stream",
     "text": [
      "<ipython-input-43-650ac2603853>:1: SettingWithCopyWarning: \n",
      "A value is trying to be set on a copy of a slice from a DataFrame\n",
      "\n",
      "See the caveats in the documentation: https://pandas.pydata.org/pandas-docs/stable/user_guide/indexing.html#returning-a-view-versus-a-copy\n",
      "  vehicles.drop_duplicates(subset=['CASEID', 'PSU','BODYTYPE', 'MAKE' , 'DVTOTAL','MODELYR'],inplace=True, ignore_index=True)\n"
     ]
    }
   ],
   "source": [
    "vehicles.drop_duplicates(subset=['CASEID', 'PSU','YEAR','BODYTYPE', 'MAKE' , 'DVTOTAL','MODELYR'],inplace=True, ignore_index=True)"
   ]
  },
  {
   "cell_type": "code",
   "execution_count": 44,
   "metadata": {},
   "outputs": [],
   "source": [
    "accidents = df[['CASEID', 'PSU','YEAR', 'STRATIF']]"
   ]
  },
  {
   "cell_type": "code",
   "execution_count": 45,
   "metadata": {},
   "outputs": [
    {
     "name": "stderr",
     "output_type": "stream",
     "text": [
      "<ipython-input-45-0fba22f11641>:1: SettingWithCopyWarning: \n",
      "A value is trying to be set on a copy of a slice from a DataFrame\n",
      "\n",
      "See the caveats in the documentation: https://pandas.pydata.org/pandas-docs/stable/user_guide/indexing.html#returning-a-view-versus-a-copy\n",
      "  accidents.drop_duplicates(subset=['CASEID', 'PSU', 'STRATIF','YEAR'], inplace =True, ignore_index=True)\n"
     ]
    }
   ],
   "source": [
    "accidents.drop_duplicates(subset=['CASEID', 'PSU','YEAR', 'STRATIF'], inplace =True, ignore_index=True)"
   ]
  },
  {
   "cell_type": "code",
   "execution_count": 46,
   "metadata": {},
   "outputs": [
    {
     "data": {
      "text/plain": [
       "True"
      ]
     },
     "execution_count": 46,
     "metadata": {},
     "output_type": "execute_result"
    }
   ],
   "source": [
    "import math\n",
    "x = float('nan')\n",
    "math.isnan(x)"
   ]
  },
  {
   "cell_type": "markdown",
   "metadata": {},
   "source": [
    "KOLUMNA HEIGHT"
   ]
  },
  {
   "cell_type": "code",
   "execution_count": 47,
   "metadata": {},
   "outputs": [],
   "source": [
    "Height_new=[]\n",
    "for i in occupants['HEIGHT']:\n",
    "    if i>=0 and i<=80:\n",
    "        Height_new.append(1)\n",
    "    elif i>=81 and i<=120:\n",
    "        Height_new.append(2)\n",
    "    elif i>=121 and i<=150:\n",
    "        Height_new.append(3)\n",
    "    elif i>=151 and i<=175:\n",
    "        Height_new.append(4)\n",
    "    elif i>=176 and i<=190:\n",
    "        Height_new.append(5)\n",
    "    elif i>=191:\n",
    "        Height_new.append(6)\n",
    "    elif math.isnan(i):\n",
    "        Height_new.append(None)"
   ]
  },
  {
   "cell_type": "code",
   "execution_count": 48,
   "metadata": {},
   "outputs": [
    {
     "name": "stderr",
     "output_type": "stream",
     "text": [
      "<ipython-input-48-d63d6bf885b0>:1: SettingWithCopyWarning: \n",
      "A value is trying to be set on a copy of a slice from a DataFrame.\n",
      "Try using .loc[row_indexer,col_indexer] = value instead\n",
      "\n",
      "See the caveats in the documentation: https://pandas.pydata.org/pandas-docs/stable/user_guide/indexing.html#returning-a-view-versus-a-copy\n",
      "  occupants['HEIGHT']=Height_new\n"
     ]
    }
   ],
   "source": [
    "occupants['HEIGHT']=Height_new"
   ]
  },
  {
   "cell_type": "markdown",
   "metadata": {},
   "source": [
    "KOLUMNA CHTYPE"
   ]
  },
  {
   "cell_type": "code",
   "execution_count": 49,
   "metadata": {},
   "outputs": [],
   "source": [
    "Chtype_new=[]\n",
    "\n",
    "for i in occupants['CHTYPE']:\n",
    "    if i==0:\n",
    "        Chtype_new.append(0)\n",
    "    elif i>=1 and i<=8:\n",
    "        Chtype_new.append(1) \n",
    "    elif math.isnan(i):\n",
    "        Chtype_new.append(None)"
   ]
  },
  {
   "cell_type": "code",
   "execution_count": 50,
   "metadata": {},
   "outputs": [
    {
     "name": "stderr",
     "output_type": "stream",
     "text": [
      "<ipython-input-50-b9171e5b46b3>:1: SettingWithCopyWarning: \n",
      "A value is trying to be set on a copy of a slice from a DataFrame.\n",
      "Try using .loc[row_indexer,col_indexer] = value instead\n",
      "\n",
      "See the caveats in the documentation: https://pandas.pydata.org/pandas-docs/stable/user_guide/indexing.html#returning-a-view-versus-a-copy\n",
      "  occupants['CHTYPE']=Chtype_new\n"
     ]
    }
   ],
   "source": [
    "occupants['CHTYPE']=Chtype_new"
   ]
  },
  {
   "cell_type": "markdown",
   "metadata": {},
   "source": [
    "KOLUMNA BAGAVAIL"
   ]
  },
  {
   "cell_type": "code",
   "execution_count": 52,
   "metadata": {},
   "outputs": [],
   "source": [
    "Bagavail_new=[]\n",
    "\n",
    "for i in occupants['BAGAVAIL']:\n",
    "    if i==0 or i==2 or i==3:\n",
    "        Bagavail_new.append(0) \n",
    "    elif i==1:\n",
    "        Bagavail_new.append(1) \n",
    "    elif math.isnan(i):\n",
    "        Bagavail_new.append(None)"
   ]
  },
  {
   "cell_type": "code",
   "execution_count": 53,
   "metadata": {},
   "outputs": [
    {
     "name": "stderr",
     "output_type": "stream",
     "text": [
      "<ipython-input-53-07633dfb0825>:1: SettingWithCopyWarning: \n",
      "A value is trying to be set on a copy of a slice from a DataFrame.\n",
      "Try using .loc[row_indexer,col_indexer] = value instead\n",
      "\n",
      "See the caveats in the documentation: https://pandas.pydata.org/pandas-docs/stable/user_guide/indexing.html#returning-a-view-versus-a-copy\n",
      "  occupants['BAGAVAIL']=Bagavail_new\n"
     ]
    }
   ],
   "source": [
    "occupants['BAGAVAIL']=Bagavail_new"
   ]
  },
  {
   "cell_type": "markdown",
   "metadata": {},
   "source": [
    "KOLUMNA AGE:"
   ]
  },
  {
   "cell_type": "code",
   "execution_count": 55,
   "metadata": {},
   "outputs": [],
   "source": [
    "Age_new=[]\n",
    "\n",
    "for i in occupants['AGE']:\n",
    "    if i>=0 and i<=3:\n",
    "        Age_new.append(1)\n",
    "    elif i>=4 and i<=7:\n",
    "        Age_new.append(2)\n",
    "    elif i>=8 and i<=12:\n",
    "        Age_new.append(3)\n",
    "    elif i>=13 and i<=16:\n",
    "        Age_new.append(4)\n",
    "    elif i>=17 and i<=21:\n",
    "        Age_new.append(5)\n",
    "    elif i>=22 and i<=30:\n",
    "        Age_new.append(6)\n",
    "    elif i>=31 and i<=50:\n",
    "        Age_new.append(7)\n",
    "    elif i>=51 and i<=65:\n",
    "        Age_new.append(8)\n",
    "    elif i>=66:\n",
    "        Age_new.append(9)\n",
    "    elif math.isnan(i):\n",
    "        Age_new.append(None)"
   ]
  },
  {
   "cell_type": "code",
   "execution_count": 56,
   "metadata": {},
   "outputs": [
    {
     "name": "stderr",
     "output_type": "stream",
     "text": [
      "<ipython-input-56-0daf7606c06e>:1: SettingWithCopyWarning: \n",
      "A value is trying to be set on a copy of a slice from a DataFrame.\n",
      "Try using .loc[row_indexer,col_indexer] = value instead\n",
      "\n",
      "See the caveats in the documentation: https://pandas.pydata.org/pandas-docs/stable/user_guide/indexing.html#returning-a-view-versus-a-copy\n",
      "  occupants['AGE']=Age_new\n"
     ]
    }
   ],
   "source": [
    "occupants['AGE']=Age_new"
   ]
  },
  {
   "cell_type": "markdown",
   "metadata": {},
   "source": [
    "### Wspolne funkcje - grupowanie"
   ]
  },
  {
   "cell_type": "code",
   "execution_count": 57,
   "metadata": {},
   "outputs": [],
   "source": [
    "def classify_value(input_value,mappings): \n",
    "    \n",
    "    for mark,values in  mappings.items():\n",
    "        if input_value in values: \n",
    "            return mark \n",
    "         \n",
    "    return None"
   ]
  },
  {
   "cell_type": "markdown",
   "metadata": {},
   "source": [
    "### Kolumna bodytype"
   ]
  },
  {
   "cell_type": "code",
   "execution_count": 58,
   "metadata": {},
   "outputs": [
    {
     "name": "stderr",
     "output_type": "stream",
     "text": [
      "<ipython-input-58-e2a0a8d3101d>:10: SettingWithCopyWarning: \n",
      "A value is trying to be set on a copy of a slice from a DataFrame.\n",
      "Try using .loc[row_indexer,col_indexer] = value instead\n",
      "\n",
      "See the caveats in the documentation: https://pandas.pydata.org/pandas-docs/stable/user_guide/indexing.html#returning-a-view-versus-a-copy\n",
      "  vehicles[\"BODYTYPE\"] = vehicles[\"BODYTYPE\"].apply(classify_value,mappings=bodytype_mappings)\n"
     ]
    }
   ],
   "source": [
    "bodytype_mappings = {0:[1,2,3,4,5,6,7,8,9,17],                                       # osobowy\n",
    "                          1:[61,62,63,64,69,74,78,79],                               # ciezarowka \n",
    "                          2:[24,25,28,50,58,59,60],                                  # busy   \n",
    "                          3:[10,40,41,45,48],                                        # dostawcze \n",
    "                          4:[65,68,67,70,80,81,82,89,90],                            # motory&quady\n",
    "                          5:[12, 14, 15, 16, 19, 20, 21, 22, 29, 30, 31, 32, 33,39], # większe samochody osobowe\n",
    "                          6:[92, 93, 97, 42, 23, 11]}                                # pozostale \n",
    "    \n",
    "\n",
    "vehicles[\"BODYTYPE\"] = vehicles[\"BODYTYPE\"].apply(classify_value,mappings=bodytype_mappings)\n"
   ]
  },
  {
   "cell_type": "markdown",
   "metadata": {},
   "source": [
    "### Kolumna STRATIF "
   ]
  },
  {
   "cell_type": "code",
   "execution_count": 59,
   "metadata": {},
   "outputs": [
    {
     "name": "stderr",
     "output_type": "stream",
     "text": [
      "<ipython-input-59-87ed812ec649>:8: SettingWithCopyWarning: \n",
      "A value is trying to be set on a copy of a slice from a DataFrame.\n",
      "Try using .loc[row_indexer,col_indexer] = value instead\n",
      "\n",
      "See the caveats in the documentation: https://pandas.pydata.org/pandas-docs/stable/user_guide/indexing.html#returning-a-view-versus-a-copy\n",
      "  accidents[\"STRATIF\"] = accidents[\"STRATIF\"].apply(classify_value,mappings=stratif_mappings)\n"
     ]
    }
   ],
   "source": [
    "stratif_mappings =       {0:['A','B'], # smiertelne obrażenia\n",
    "                          1:['J','K'], # poważne obrażenia – hospitalizowany (min. 1noc)\n",
    "                          2:['C','D'], #  poważne obrażenia – nie hospitalizowany\n",
    "                          3:['E','F'], # niewielkie obrażenia, ale przewieziony do szpitala\n",
    "                          4:['G','H']} # niewielkie obrażenia\n",
    "\n",
    "\n",
    "accidents[\"STRATIF\"] = accidents[\"STRATIF\"].apply(classify_value,mappings=stratif_mappings)\n"
   ]
  },
  {
   "cell_type": "code",
   "execution_count": 60,
   "metadata": {},
   "outputs": [],
   "source": [
    "SEX_new=[]\n",
    "\n",
    "for i in occupants['SEX']:\n",
    "    if i==1:\n",
    "        SEX_new.append(1)\n",
    "    elif i==2:\n",
    "        SEX_new.append(2)\n",
    "    elif i>=3:\n",
    "        SEX_new.append(3)\n",
    "    elif math.isnan(i):\n",
    "        SEX_new.append(None)"
   ]
  },
  {
   "cell_type": "code",
   "execution_count": 61,
   "metadata": {},
   "outputs": [
    {
     "name": "stderr",
     "output_type": "stream",
     "text": [
      "<ipython-input-61-cbedce190284>:1: SettingWithCopyWarning: \n",
      "A value is trying to be set on a copy of a slice from a DataFrame.\n",
      "Try using .loc[row_indexer,col_indexer] = value instead\n",
      "\n",
      "See the caveats in the documentation: https://pandas.pydata.org/pandas-docs/stable/user_guide/indexing.html#returning-a-view-versus-a-copy\n",
      "  occupants['SEX'] = SEX_new\n"
     ]
    }
   ],
   "source": [
    "occupants['SEX'] = SEX_new"
   ]
  },
  {
   "cell_type": "code",
   "execution_count": 62,
   "metadata": {},
   "outputs": [],
   "source": [
    "WEIGHT_new=[]\n",
    "\n",
    "for i in occupants['WEIGHT']:\n",
    "    if i>=0 and i<=20:\n",
    "        WEIGHT_new.append(1)\n",
    "    elif i>=21 and i<=40:\n",
    "        WEIGHT_new.append(2)\n",
    "    elif i>=41 and i<=60:\n",
    "        WEIGHT_new.append(3)\n",
    "    elif i>=61 and i<=80:\n",
    "        WEIGHT_new.append(4)\n",
    "    elif i>=81 and i<=100:\n",
    "        WEIGHT_new.append(5)\n",
    "    elif i>100:\n",
    "        WEIGHT_new.append(6)\n",
    "    elif math.isnan(i):\n",
    "        WEIGHT_new.append(None)"
   ]
  },
  {
   "cell_type": "code",
   "execution_count": 63,
   "metadata": {},
   "outputs": [
    {
     "name": "stderr",
     "output_type": "stream",
     "text": [
      "<ipython-input-63-3a76b214a9d2>:1: SettingWithCopyWarning: \n",
      "A value is trying to be set on a copy of a slice from a DataFrame.\n",
      "Try using .loc[row_indexer,col_indexer] = value instead\n",
      "\n",
      "See the caveats in the documentation: https://pandas.pydata.org/pandas-docs/stable/user_guide/indexing.html#returning-a-view-versus-a-copy\n",
      "  occupants['WEIGHT'] = WEIGHT_new\n"
     ]
    }
   ],
   "source": [
    "occupants['WEIGHT'] = WEIGHT_new"
   ]
  },
  {
   "cell_type": "code",
   "execution_count": 64,
   "metadata": {},
   "outputs": [],
   "source": [
    "SEATPOS_new=[]\n",
    "\n",
    "for i in occupants['SEATPOS']:\n",
    "    if i>=11 and i<=15:\n",
    "        SEATPOS_new.append(1)\n",
    "    elif i>=21 and i<=25 or i==29:\n",
    "        SEATPOS_new.append(2)\n",
    "    elif i>=31 and i<=59:\n",
    "        SEATPOS_new.append(3)\n",
    "    elif i==19 or i==97 or i==98:\n",
    "        SEATPOS_new.append(4)\n",
    "    elif math.isnan(i):\n",
    "        SEATPOS_new.append(None)"
   ]
  },
  {
   "cell_type": "code",
   "execution_count": 65,
   "metadata": {},
   "outputs": [
    {
     "name": "stderr",
     "output_type": "stream",
     "text": [
      "<ipython-input-65-9c143bcdd54a>:1: SettingWithCopyWarning: \n",
      "A value is trying to be set on a copy of a slice from a DataFrame.\n",
      "Try using .loc[row_indexer,col_indexer] = value instead\n",
      "\n",
      "See the caveats in the documentation: https://pandas.pydata.org/pandas-docs/stable/user_guide/indexing.html#returning-a-view-versus-a-copy\n",
      "  occupants['SEATPOS'] = SEATPOS_new\n"
     ]
    }
   ],
   "source": [
    "occupants['SEATPOS'] = SEATPOS_new"
   ]
  },
  {
   "cell_type": "code",
   "execution_count": 66,
   "metadata": {},
   "outputs": [],
   "source": [
    "ROLE_new=[]\n",
    "for i in occupants['ROLE']:\n",
    "    if i==1:\n",
    "        ROLE_new.append(1)\n",
    "    elif i==2:\n",
    "        ROLE_new.append(2)\n",
    "    elif math.isnan(i):\n",
    "        ROLE_new.append(None)"
   ]
  },
  {
   "cell_type": "code",
   "execution_count": 67,
   "metadata": {
    "scrolled": true
   },
   "outputs": [
    {
     "name": "stderr",
     "output_type": "stream",
     "text": [
      "<ipython-input-67-e23bc1111a5c>:1: SettingWithCopyWarning: \n",
      "A value is trying to be set on a copy of a slice from a DataFrame.\n",
      "Try using .loc[row_indexer,col_indexer] = value instead\n",
      "\n",
      "See the caveats in the documentation: https://pandas.pydata.org/pandas-docs/stable/user_guide/indexing.html#returning-a-view-versus-a-copy\n",
      "  occupants['ROLE'] = ROLE_new\n"
     ]
    }
   ],
   "source": [
    "occupants['ROLE'] = ROLE_new"
   ]
  },
  {
   "cell_type": "code",
   "execution_count": 68,
   "metadata": {},
   "outputs": [],
   "source": [
    "MANUSE_new=[]\n",
    "\n",
    "for i in occupants['MANUSE']:\n",
    "    if i>=0 and i<=1:\n",
    "        MANUSE_new.append(1)\n",
    "    elif i>=2 and i<=18:\n",
    "        MANUSE_new.append(2)\n",
    "    elif math.isnan(i):\n",
    "        MANUSE_new.append(None)"
   ]
  },
  {
   "cell_type": "code",
   "execution_count": 69,
   "metadata": {},
   "outputs": [
    {
     "name": "stderr",
     "output_type": "stream",
     "text": [
      "<ipython-input-69-d5dea4366e72>:1: SettingWithCopyWarning: \n",
      "A value is trying to be set on a copy of a slice from a DataFrame.\n",
      "Try using .loc[row_indexer,col_indexer] = value instead\n",
      "\n",
      "See the caveats in the documentation: https://pandas.pydata.org/pandas-docs/stable/user_guide/indexing.html#returning-a-view-versus-a-copy\n",
      "  occupants['MANUSE'] = MANUSE_new\n"
     ]
    }
   ],
   "source": [
    "occupants['MANUSE'] = MANUSE_new"
   ]
  },
  {
   "cell_type": "markdown",
   "metadata": {},
   "source": [
    "### Stworzenie nowych tabel"
   ]
  },
  {
   "cell_type": "code",
   "execution_count": 70,
   "metadata": {},
   "outputs": [],
   "source": [
    "occupants.to_csv(\"./occupants.csv\", index = False)\n",
    "accidents.to_csv(\"./accidents.csv\", index = False)\n",
    "vehicles.to_csv(\"./vehicles.csv\", index = False)"
   ]
  }
 ],
 "metadata": {
  "kernelspec": {
   "display_name": "Python 3",
   "language": "python",
   "name": "python3"
  },
  "language_info": {
   "codemirror_mode": {
    "name": "ipython",
    "version": 3
   },
   "file_extension": ".py",
   "mimetype": "text/x-python",
   "name": "python",
   "nbconvert_exporter": "python",
   "pygments_lexer": "ipython3",
   "version": "3.8.3"
  }
 },
 "nbformat": 4,
 "nbformat_minor": 4
}
