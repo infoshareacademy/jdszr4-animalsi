{
 "cells": [
  {
   "cell_type": "code",
   "execution_count": 2,
   "metadata": {},
   "outputs": [],
   "source": [
    "import pandas as pd"
   ]
  },
  {
   "cell_type": "code",
   "execution_count": 3,
   "metadata": {},
   "outputs": [
    {
     "name": "stdout",
     "output_type": "stream",
     "text": [
      "C:\\Users\\kdabr\\Documents\\DataScience2021\\ProjektPython\n"
     ]
    }
   ],
   "source": [
    "#link do folderu, w którym mamy bazę:\n",
    "\n",
    "%cd \"C:\\Users\\kdabr\\Documents\\DataScience2021\\ProjektPython\""
   ]
  },
  {
   "cell_type": "code",
   "execution_count": 4,
   "metadata": {},
   "outputs": [
    {
     "name": "stderr",
     "output_type": "stream",
     "text": [
      "D:\\ProgramData\\Anaconda3\\lib\\site-packages\\IPython\\core\\interactiveshell.py:3146: DtypeWarning: Columns (3) have mixed types.Specify dtype option on import or set low_memory=False.\n",
      "  has_raised = await self.run_ast_nodes(code_ast.body, cell_name,\n"
     ]
    }
   ],
   "source": [
    "df=pd.read_csv(\"./database.sqlite\")"
   ]
  },
  {
   "cell_type": "code",
   "execution_count": 5,
   "metadata": {},
   "outputs": [],
   "source": [
    "df.drop(columns=[\"Unnamed: 0\",\"HOSPSTAY\",'DOF1', 'GAD1','DVEST', \n",
    "                 'DVBASIS','BAGDEPLY','BAGFAIL','CASENO','MANAVAIL', 'MANFAIL', 'TREATMNT','DEATH'\n",
    "                ],inplace = True)\n"
   ]
  },
  {
   "cell_type": "markdown",
   "metadata": {},
   "source": [
    "\n",
    "\n",
    "Aby sprawnie pracować na danych zawartych w tabeli, podzielimy ją na 3 tabele połacząne kluczem głównym (CASEID i PSU)\n",
    "\n"
   ]
  },
  {
   "cell_type": "code",
   "execution_count": 6,
   "metadata": {},
   "outputs": [],
   "source": [
    "occupants = df[[\"CASEID\", 'PSU','AGE', 'BAGAVAIL','CHTYPE', 'HEIGHT', 'INJSEV',\n",
    "       'MANUSE', 'OCCNO', 'ROLE', 'SEATPOS', 'SEX', 'WEIGHT']]"
   ]
  },
  {
   "cell_type": "code",
   "execution_count": 7,
   "metadata": {},
   "outputs": [
    {
     "name": "stderr",
     "output_type": "stream",
     "text": [
      "<ipython-input-7-6732b027358d>:1: SettingWithCopyWarning: \n",
      "A value is trying to be set on a copy of a slice from a DataFrame\n",
      "\n",
      "See the caveats in the documentation: https://pandas.pydata.org/pandas-docs/stable/user_guide/indexing.html#returning-a-view-versus-a-copy\n",
      "  occupants.drop_duplicates(subset=[\"CASEID\", 'PSU','AGE', 'BAGAVAIL','CHTYPE', 'HEIGHT', 'INJSEV',\n"
     ]
    }
   ],
   "source": [
    "occupants.drop_duplicates(subset=[\"CASEID\", 'PSU','AGE', 'BAGAVAIL','CHTYPE', 'HEIGHT', 'INJSEV',\n",
    "       'MANUSE', 'OCCNO', 'ROLE', 'SEATPOS', 'SEX', 'WEIGHT'],inplace=True, ignore_index=True)"
   ]
  },
  {
   "cell_type": "code",
   "execution_count": 8,
   "metadata": {},
   "outputs": [],
   "source": [
    "vehicles= df[['CASEID', 'PSU','BODYTYPE', 'MAKE' , 'DVTOTAL','MODELYR']]"
   ]
  },
  {
   "cell_type": "code",
   "execution_count": 9,
   "metadata": {},
   "outputs": [
    {
     "name": "stderr",
     "output_type": "stream",
     "text": [
      "<ipython-input-9-650ac2603853>:1: SettingWithCopyWarning: \n",
      "A value is trying to be set on a copy of a slice from a DataFrame\n",
      "\n",
      "See the caveats in the documentation: https://pandas.pydata.org/pandas-docs/stable/user_guide/indexing.html#returning-a-view-versus-a-copy\n",
      "  vehicles.drop_duplicates(subset=['CASEID', 'PSU','BODYTYPE', 'MAKE' , 'DVTOTAL','MODELYR'],inplace=True, ignore_index=True)\n"
     ]
    }
   ],
   "source": [
    "vehicles.drop_duplicates(subset=['CASEID', 'PSU','BODYTYPE', 'MAKE' , 'DVTOTAL','MODELYR'],inplace=True, ignore_index=True)"
   ]
  },
  {
   "cell_type": "code",
   "execution_count": 10,
   "metadata": {},
   "outputs": [],
   "source": [
    "accidents = df[['CASEID', 'PSU', 'STRATIF','YEAR']]"
   ]
  },
  {
   "cell_type": "code",
   "execution_count": 11,
   "metadata": {
    "scrolled": true
   },
   "outputs": [
    {
     "name": "stderr",
     "output_type": "stream",
     "text": [
      "<ipython-input-11-0fba22f11641>:1: SettingWithCopyWarning: \n",
      "A value is trying to be set on a copy of a slice from a DataFrame\n",
      "\n",
      "See the caveats in the documentation: https://pandas.pydata.org/pandas-docs/stable/user_guide/indexing.html#returning-a-view-versus-a-copy\n",
      "  accidents.drop_duplicates(subset=['CASEID', 'PSU', 'STRATIF','YEAR'], inplace =True, ignore_index=True)\n"
     ]
    }
   ],
   "source": [
    "accidents.drop_duplicates(subset=['CASEID', 'PSU', 'STRATIF','YEAR'], inplace =True, ignore_index=True)"
   ]
  },
  {
   "cell_type": "markdown",
   "metadata": {},
   "source": [
    "## Wspolne funkcje - grupowanie"
   ]
  },
  {
   "cell_type": "code",
   "execution_count": 1,
   "metadata": {},
   "outputs": [],
   "source": [
    "def classify_value(input_value,mappings): \n",
    "    \n",
    "    for mark,values in  mappings.items():\n",
    "        if input_value in values: \n",
    "            return mark \n",
    "         \n",
    "    return None"
   ]
  },
  {
   "cell_type": "markdown",
   "metadata": {},
   "source": [
    "## Kolumna bodytype\n"
   ]
  },
  {
   "cell_type": "code",
   "execution_count": 12,
   "metadata": {},
   "outputs": [
    {
     "name": "stderr",
     "output_type": "stream",
     "text": [
      "<ipython-input-12-256bccace185>:11: SettingWithCopyWarning: \n",
      "A value is trying to be set on a copy of a slice from a DataFrame.\n",
      "Try using .loc[row_indexer,col_indexer] = value instead\n",
      "\n",
      "See the caveats in the documentation: https://pandas.pydata.org/pandas-docs/stable/user_guide/indexing.html#returning-a-view-versus-a-copy\n",
      "  vehicles[\"BODYTYPE_NEW\"] = vehicles[\"BODYTYPE\"].apply(classify_value,mappings=bodytype_mappings)\n"
     ]
    },
    {
     "data": {
      "text/plain": [
       "BODYTYPE  BODYTYPE_NEW\n",
       "4.0       0.0             39903\n",
       "14.0      5.0             13684\n",
       "31.0      5.0              7341\n",
       "2.0       0.0              6800\n",
       "20.0      5.0              4689\n",
       "30.0      5.0              4048\n",
       "15.0      5.0              3489\n",
       "6.0       0.0              2301\n",
       "3.0       0.0              2147\n",
       "5.0       0.0              2100\n",
       "21.0      5.0              1419\n",
       "68.0      4.0              1323\n",
       "1.0       0.0              1020\n",
       "9.0       0.0               652\n",
       "16.0      5.0               551\n",
       "63.0      1.0               352\n",
       "78.0      1.0               300\n",
       "58.0      2.0               236\n",
       "61.0      1.0               221\n",
       "64.0      1.0               190\n",
       "39.0      5.0               184\n",
       "80.0      4.0               138\n",
       "62.0      1.0               136\n",
       "50.0      2.0               134\n",
       "40.0      3.0               124\n",
       "28.0      2.0               102\n",
       "67.0      4.0                92\n",
       "19.0      5.0                90\n",
       "74.0      1.0                58\n",
       "22.0      5.0                56\n",
       "69.0      1.0                48\n",
       "17.0      0.0                41\n",
       "59.0      2.0                36\n",
       "29.0      5.0                35\n",
       "70.0      4.0                34\n",
       "8.0       0.0                30\n",
       "79.0      1.0                27\n",
       "25.0      2.0                27\n",
       "60.0      2.0                27\n",
       "24.0      2.0                22\n",
       "92.0      6.0                19\n",
       "65.0      4.0                18\n",
       "48.0      3.0                16\n",
       "10.0      3.0                14\n",
       "93.0      6.0                14\n",
       "97.0      6.0                10\n",
       "12.0      5.0                 8\n",
       "7.0       0.0                 8\n",
       "33.0      5.0                 7\n",
       "23.0      6.0                 7\n",
       "89.0      4.0                 5\n",
       "11.0      6.0                 4\n",
       "81.0      4.0                 3\n",
       "32.0      5.0                 3\n",
       "90.0      4.0                 2\n",
       "41.0      3.0                 2\n",
       "45.0      3.0                 1\n",
       "42.0      6.0                 1\n",
       "82.0      4.0                 1\n",
       "dtype: int64"
      ]
     },
     "execution_count": 12,
     "metadata": {},
     "output_type": "execute_result"
    }
   ],
   "source": [
    "bodytype_mappings = {0:[1,2,3,4,5,6,7,8,9,17],                                       # osobowy\n",
    "                          1:[61,62,63,64,69,74,78,79],                               # ciezarowka \n",
    "                          2:[24,25,28,50,58,59,60],                                  # busy   \n",
    "                          3:[10,40,41,45,48],                                        # dostawcze \n",
    "                          4:[65,68,67,70,80,81,82,89,90],                            # motory&quady\n",
    "                          5:[12, 14, 15, 16, 19, 20, 21, 22, 29, 30, 31, 32, 33,39], # większe samochody osobowe\n",
    "                          6:[92, 93, 97, 42, 23, 11]}                                # pozostale \n",
    "    \n",
    "\n",
    "vehicles.head(5)\n",
    "vehicles[\"BODYTYPE_NEW\"] = vehicles[\"BODYTYPE\"].apply(classify_value,mappings=bodytype_mappings)\n",
    "vehicles[['BODYTYPE','BODYTYPE_NEW']].value_counts()"
   ]
  },
  {
   "cell_type": "markdown",
   "metadata": {},
   "source": [
    "### Kontrola pustych wartosci"
   ]
  },
  {
   "cell_type": "code",
   "execution_count": 13,
   "metadata": {
    "scrolled": true
   },
   "outputs": [
    {
     "data": {
      "text/plain": [
       "False    94350\n",
       "True       193\n",
       "Name: BODYTYPE_NEW, dtype: int64"
      ]
     },
     "execution_count": 13,
     "metadata": {},
     "output_type": "execute_result"
    }
   ],
   "source": [
    "vehicles['BODYTYPE_NEW'].isna().value_counts()\n"
   ]
  },
  {
   "cell_type": "code",
   "execution_count": 16,
   "metadata": {},
   "outputs": [
    {
     "data": {
      "text/plain": [
       "False    94350\n",
       "True       193\n",
       "Name: BODYTYPE, dtype: int64"
      ]
     },
     "execution_count": 16,
     "metadata": {},
     "output_type": "execute_result"
    }
   ],
   "source": [
    "vehicles['BODYTYPE'].isna().value_counts()"
   ]
  },
  {
   "cell_type": "markdown",
   "metadata": {},
   "source": [
    "## Kolumna STRATIF "
   ]
  },
  {
   "cell_type": "code",
   "execution_count": 17,
   "metadata": {},
   "outputs": [
    {
     "name": "stderr",
     "output_type": "stream",
     "text": [
      "<ipython-input-17-86d1d05ea930>:8: SettingWithCopyWarning: \n",
      "A value is trying to be set on a copy of a slice from a DataFrame.\n",
      "Try using .loc[row_indexer,col_indexer] = value instead\n",
      "\n",
      "See the caveats in the documentation: https://pandas.pydata.org/pandas-docs/stable/user_guide/indexing.html#returning-a-view-versus-a-copy\n",
      "  accidents[\"STRATIF_NEW\"] = accidents[\"STRATIF\"].apply(classify_value,mappings=stratif_mappings)\n"
     ]
    },
    {
     "data": {
      "text/plain": [
       "STRATIF  STRATIF_NEW\n",
       "F        3.0            10079\n",
       "H        4.0             9746\n",
       "K        1.0             7434\n",
       "G        4.0             6161\n",
       "E        3.0             6066\n",
       "D        2.0             4174\n",
       "B        0.0             3156\n",
       "C        2.0             2690\n",
       "J        1.0             1785\n",
       "A        0.0              685\n",
       "dtype: int64"
      ]
     },
     "execution_count": 17,
     "metadata": {},
     "output_type": "execute_result"
    }
   ],
   "source": [
    "stratif_mappings =       {0:['A','B'], # smiertelne obrażenia\n",
    "                          1:['J','K'], # poważne obrażenia – hospitalizowany (min. 1noc)\n",
    "                          2:['C','D'], #  poważne obrażenia – nie hospitalizowany\n",
    "                          3:['E','F'], # niewielkie obrażenia, ale przewieziony do szpitala\n",
    "                          4:['G','H']} # niewielkie obrażenia\n",
    "\n",
    "accidents.head(5)\n",
    "accidents[\"STRATIF_NEW\"] = accidents[\"STRATIF\"].apply(classify_value,mappings=stratif_mappings)\n",
    "accidents[['STRATIF','STRATIF_NEW']].value_counts()"
   ]
  },
  {
   "cell_type": "markdown",
   "metadata": {},
   "source": [
    "### Kontrola pustych wartosci"
   ]
  },
  {
   "cell_type": "code",
   "execution_count": 18,
   "metadata": {
    "scrolled": true
   },
   "outputs": [
    {
     "data": {
      "text/plain": [
       "False    51976\n",
       "True         2\n",
       "Name: STRATIF_NEW, dtype: int64"
      ]
     },
     "execution_count": 18,
     "metadata": {},
     "output_type": "execute_result"
    }
   ],
   "source": [
    "accidents['STRATIF_NEW'].isna().value_counts()"
   ]
  },
  {
   "cell_type": "code",
   "execution_count": 19,
   "metadata": {},
   "outputs": [
    {
     "data": {
      "text/plain": [
       "False    51976\n",
       "True         2\n",
       "Name: STRATIF, dtype: int64"
      ]
     },
     "execution_count": 19,
     "metadata": {},
     "output_type": "execute_result"
    }
   ],
   "source": [
    "accidents['STRATIF'].isna().value_counts()"
   ]
  }
 ],
 "metadata": {
  "kernelspec": {
   "display_name": "Python 3",
   "language": "python",
   "name": "python3"
  },
  "language_info": {
   "codemirror_mode": {
    "name": "ipython",
    "version": 3
   },
   "file_extension": ".py",
   "mimetype": "text/x-python",
   "name": "python",
   "nbconvert_exporter": "python",
   "pygments_lexer": "ipython3",
   "version": "3.8.5"
  }
 },
 "nbformat": 4,
 "nbformat_minor": 4
}
