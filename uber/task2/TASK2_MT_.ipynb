{
 "cells": [
  {
   "cell_type": "code",
   "execution_count": 1,
   "metadata": {},
   "outputs": [],
   "source": [
    "import pandas as pd\n",
    "import numpy as np\n",
    "import matplotlib.pyplot as plt"
   ]
  },
  {
   "cell_type": "code",
   "execution_count": 2,
   "metadata": {},
   "outputs": [
    {
     "name": "stderr",
     "output_type": "stream",
     "text": [
      "C:\\Users\\marty\\anaconda3\\lib\\site-packages\\IPython\\core\\interactiveshell.py:3146: DtypeWarning: Columns (3) have mixed types.Specify dtype option on import or set low_memory=False.\n",
      "  has_raised = await self.run_ast_nodes(code_ast.body, cell_name,\n"
     ]
    }
   ],
   "source": [
    "df=pd.read_csv(\"database.sqlite\")"
   ]
  },
  {
   "cell_type": "code",
   "execution_count": 3,
   "metadata": {},
   "outputs": [],
   "source": [
    "df.drop(columns=[\"Unnamed: 0\",\"HOSPSTAY\",'DOF1', 'GAD1','DVEST', \n",
    "                 'DVBASIS','BAGDEPLY','BAGFAIL','CASENO','MANAVAIL', 'MANFAIL', 'TREATMNT','DEATH'\n",
    "                ],inplace = True)\n"
   ]
  },
  {
   "cell_type": "markdown",
   "metadata": {},
   "source": [
    "\n",
    "\n",
    "Aby sprawnie pracować na danych zawartych w tabeli, podzielimy ją na 3 tabele połacząne kluczem głównym (CASEID i PSU)\n",
    "\n"
   ]
  },
  {
   "cell_type": "code",
   "execution_count": 4,
   "metadata": {},
   "outputs": [],
   "source": [
    "occupants = df[[\"CASEID\", 'PSU','AGE', 'BAGAVAIL','CHTYPE', 'HEIGHT', 'INJSEV',\n",
    "       'MANUSE', 'OCCNO', 'ROLE', 'SEATPOS', 'SEX', 'WEIGHT']]"
   ]
  },
  {
   "cell_type": "code",
   "execution_count": 5,
   "metadata": {},
   "outputs": [
    {
     "name": "stderr",
     "output_type": "stream",
     "text": [
      "<ipython-input-5-6732b027358d>:1: SettingWithCopyWarning: \n",
      "A value is trying to be set on a copy of a slice from a DataFrame\n",
      "\n",
      "See the caveats in the documentation: https://pandas.pydata.org/pandas-docs/stable/user_guide/indexing.html#returning-a-view-versus-a-copy\n",
      "  occupants.drop_duplicates(subset=[\"CASEID\", 'PSU','AGE', 'BAGAVAIL','CHTYPE', 'HEIGHT', 'INJSEV',\n"
     ]
    }
   ],
   "source": [
    "occupants.drop_duplicates(subset=[\"CASEID\", 'PSU','AGE', 'BAGAVAIL','CHTYPE', 'HEIGHT', 'INJSEV',\n",
    "       'MANUSE', 'OCCNO', 'ROLE', 'SEATPOS', 'SEX', 'WEIGHT'],inplace=True, ignore_index=True)"
   ]
  },
  {
   "cell_type": "code",
   "execution_count": 6,
   "metadata": {},
   "outputs": [],
   "source": [
    "vehicles= df[['CASEID', 'PSU','BODYTYPE', 'MAKE' , 'DVTOTAL','MODELYR']]"
   ]
  },
  {
   "cell_type": "code",
   "execution_count": 7,
   "metadata": {},
   "outputs": [
    {
     "name": "stderr",
     "output_type": "stream",
     "text": [
      "<ipython-input-7-650ac2603853>:1: SettingWithCopyWarning: \n",
      "A value is trying to be set on a copy of a slice from a DataFrame\n",
      "\n",
      "See the caveats in the documentation: https://pandas.pydata.org/pandas-docs/stable/user_guide/indexing.html#returning-a-view-versus-a-copy\n",
      "  vehicles.drop_duplicates(subset=['CASEID', 'PSU','BODYTYPE', 'MAKE' , 'DVTOTAL','MODELYR'],inplace=True, ignore_index=True)\n"
     ]
    }
   ],
   "source": [
    "vehicles.drop_duplicates(subset=['CASEID', 'PSU','BODYTYPE', 'MAKE' , 'DVTOTAL','MODELYR'],inplace=True, ignore_index=True)"
   ]
  },
  {
   "cell_type": "code",
   "execution_count": 8,
   "metadata": {},
   "outputs": [],
   "source": [
    "accidents = df[['CASEID', 'PSU', 'STRATIF','YEAR']]"
   ]
  },
  {
   "cell_type": "code",
   "execution_count": 9,
   "metadata": {},
   "outputs": [
    {
     "name": "stderr",
     "output_type": "stream",
     "text": [
      "<ipython-input-9-0fba22f11641>:1: SettingWithCopyWarning: \n",
      "A value is trying to be set on a copy of a slice from a DataFrame\n",
      "\n",
      "See the caveats in the documentation: https://pandas.pydata.org/pandas-docs/stable/user_guide/indexing.html#returning-a-view-versus-a-copy\n",
      "  accidents.drop_duplicates(subset=['CASEID', 'PSU', 'STRATIF','YEAR'], inplace =True, ignore_index=True)\n"
     ]
    }
   ],
   "source": [
    "accidents.drop_duplicates(subset=['CASEID', 'PSU', 'STRATIF','YEAR'], inplace =True, ignore_index=True)"
   ]
  },
  {
   "cell_type": "code",
   "execution_count": 10,
   "metadata": {},
   "outputs": [
    {
     "data": {
      "text/plain": [
       "True"
      ]
     },
     "execution_count": 10,
     "metadata": {},
     "output_type": "execute_result"
    }
   ],
   "source": [
    "import math\n",
    "x = float('nan')\n",
    "math.isnan(x)"
   ]
  },
  {
   "cell_type": "markdown",
   "metadata": {},
   "source": [
    "KOLUMNA HEIGHT"
   ]
  },
  {
   "cell_type": "code",
   "execution_count": 11,
   "metadata": {},
   "outputs": [],
   "source": [
    "Height_new=[]\n",
    "for i in occupants['HEIGHT']:\n",
    "    if i>=0 and i<=80:\n",
    "        Height_new.append(1)\n",
    "    elif i>=81 and i<=120:\n",
    "        Height_new.append(2)\n",
    "    elif i>=121 and i<=150:\n",
    "        Height_new.append(3)\n",
    "    elif i>=151 and i<=175:\n",
    "        Height_new.append(4)\n",
    "    elif i>=176 and i<=190:\n",
    "        Height_new.append(5)\n",
    "    elif i>=191:\n",
    "        Height_new.append(6)\n",
    "    elif math.isnan(i):\n",
    "        Height_new.append(None)"
   ]
  },
  {
   "cell_type": "code",
   "execution_count": 12,
   "metadata": {},
   "outputs": [
    {
     "name": "stderr",
     "output_type": "stream",
     "text": [
      "<ipython-input-12-05ce475b907c>:1: SettingWithCopyWarning: \n",
      "A value is trying to be set on a copy of a slice from a DataFrame.\n",
      "Try using .loc[row_indexer,col_indexer] = value instead\n",
      "\n",
      "See the caveats in the documentation: https://pandas.pydata.org/pandas-docs/stable/user_guide/indexing.html#returning-a-view-versus-a-copy\n",
      "  occupants['Height_new']=Height_new\n"
     ]
    }
   ],
   "source": [
    "occupants['Height_new']=Height_new"
   ]
  },
  {
   "cell_type": "markdown",
   "metadata": {},
   "source": [
    "KOLUMNA CHTYPE"
   ]
  },
  {
   "cell_type": "code",
   "execution_count": 13,
   "metadata": {},
   "outputs": [],
   "source": [
    "Chtype_new=[]\n",
    "\n",
    "for i in occupants['CHTYPE']:\n",
    "    if i==0:\n",
    "        Chtype_new.append(0)\n",
    "    elif i>=1 and i<=8:\n",
    "        Chtype_new.append(1) \n",
    "    elif math.isnan(i):\n",
    "        Chtype_new.append(None)"
   ]
  },
  {
   "cell_type": "code",
   "execution_count": 14,
   "metadata": {},
   "outputs": [
    {
     "name": "stderr",
     "output_type": "stream",
     "text": [
      "<ipython-input-14-2c45352291ec>:1: SettingWithCopyWarning: \n",
      "A value is trying to be set on a copy of a slice from a DataFrame.\n",
      "Try using .loc[row_indexer,col_indexer] = value instead\n",
      "\n",
      "See the caveats in the documentation: https://pandas.pydata.org/pandas-docs/stable/user_guide/indexing.html#returning-a-view-versus-a-copy\n",
      "  occupants['Chtype_new']=Chtype_new\n"
     ]
    }
   ],
   "source": [
    "occupants['Chtype_new']=Chtype_new"
   ]
  },
  {
   "cell_type": "markdown",
   "metadata": {},
   "source": [
    "KOLUMNA BAGAVAIL"
   ]
  },
  {
   "cell_type": "code",
   "execution_count": 15,
   "metadata": {},
   "outputs": [],
   "source": [
    "Bagavail_new=[]\n",
    "\n",
    "for i in occupants['BAGAVAIL']:\n",
    "    if i==0 or i==2 or i==3:\n",
    "        Bagavail_new.append(0) \n",
    "    elif i==1:\n",
    "        Bagavail_new.append(1) \n",
    "    elif math.isnan(i):\n",
    "        Bagavail_new.append(None)"
   ]
  },
  {
   "cell_type": "code",
   "execution_count": 16,
   "metadata": {},
   "outputs": [
    {
     "name": "stderr",
     "output_type": "stream",
     "text": [
      "<ipython-input-16-0b308da1c91f>:1: SettingWithCopyWarning: \n",
      "A value is trying to be set on a copy of a slice from a DataFrame.\n",
      "Try using .loc[row_indexer,col_indexer] = value instead\n",
      "\n",
      "See the caveats in the documentation: https://pandas.pydata.org/pandas-docs/stable/user_guide/indexing.html#returning-a-view-versus-a-copy\n",
      "  occupants['Bagavail_new']=Bagavail_new\n"
     ]
    }
   ],
   "source": [
    "occupants['Bagavail_new']=Bagavail_new"
   ]
  },
  {
   "cell_type": "markdown",
   "metadata": {},
   "source": [
    "KOLUMNA AGE:"
   ]
  },
  {
   "cell_type": "code",
   "execution_count": 17,
   "metadata": {},
   "outputs": [],
   "source": [
    "Age_new=[]\n",
    "\n",
    "for i in occupants['AGE']:\n",
    "    if i>=0 and i<=3:\n",
    "        Age_new.append(1)\n",
    "    elif i>=4 and i<=7:\n",
    "        Age_new.append(2)\n",
    "    elif i>=8 and i<=12:\n",
    "        Age_new.append(3)\n",
    "    elif i>=13 and i<=16:\n",
    "        Age_new.append(4)\n",
    "    elif i>=17 and i<=21:\n",
    "        Age_new.append(5)\n",
    "    elif i>=22 and i<=30:\n",
    "        Age_new.append(6)\n",
    "    elif i>=31 and i<=50:\n",
    "        Age_new.append(7)\n",
    "    elif i>=51 and i<=65:\n",
    "        Age_new.append(8)\n",
    "    elif i>=66:\n",
    "        Age_new.append(9)\n",
    "    elif math.isnan(i):\n",
    "        Age_new.append(None)"
   ]
  },
  {
   "cell_type": "code",
   "execution_count": 18,
   "metadata": {},
   "outputs": [
    {
     "name": "stderr",
     "output_type": "stream",
     "text": [
      "<ipython-input-18-60a1eb22d39d>:1: SettingWithCopyWarning: \n",
      "A value is trying to be set on a copy of a slice from a DataFrame.\n",
      "Try using .loc[row_indexer,col_indexer] = value instead\n",
      "\n",
      "See the caveats in the documentation: https://pandas.pydata.org/pandas-docs/stable/user_guide/indexing.html#returning-a-view-versus-a-copy\n",
      "  occupants['Age_new']=Age_new\n"
     ]
    }
   ],
   "source": [
    "occupants['Age_new']=Age_new"
   ]
  },
  {
   "cell_type": "markdown",
   "metadata": {},
   "source": [
    "### Wspolne funkcje - grupowanie"
   ]
  },
  {
   "cell_type": "code",
   "execution_count": 19,
   "metadata": {},
   "outputs": [],
   "source": [
    "def classify_value(input_value,mappings): \n",
    "    \n",
    "    for mark,values in  mappings.items():\n",
    "        if input_value in values: \n",
    "            return mark \n",
    "         \n",
    "    return None"
   ]
  },
  {
   "cell_type": "markdown",
   "metadata": {},
   "source": [
    "### Kolumna bodytype"
   ]
  },
  {
   "cell_type": "code",
   "execution_count": 20,
   "metadata": {},
   "outputs": [
    {
     "name": "stderr",
     "output_type": "stream",
     "text": [
      "<ipython-input-20-d510a8e11388>:10: SettingWithCopyWarning: \n",
      "A value is trying to be set on a copy of a slice from a DataFrame.\n",
      "Try using .loc[row_indexer,col_indexer] = value instead\n",
      "\n",
      "See the caveats in the documentation: https://pandas.pydata.org/pandas-docs/stable/user_guide/indexing.html#returning-a-view-versus-a-copy\n",
      "  vehicles[\"BODYTYPE_NEW\"] = vehicles[\"BODYTYPE\"].apply(classify_value,mappings=bodytype_mappings)\n"
     ]
    }
   ],
   "source": [
    "bodytype_mappings = {0:[1,2,3,4,5,6,7,8,9,17],                                       # osobowy\n",
    "                          1:[61,62,63,64,69,74,78,79],                               # ciezarowka \n",
    "                          2:[24,25,28,50,58,59,60],                                  # busy   \n",
    "                          3:[10,40,41,45,48],                                        # dostawcze \n",
    "                          4:[65,68,67,70,80,81,82,89,90],                            # motory&quady\n",
    "                          5:[12, 14, 15, 16, 19, 20, 21, 22, 29, 30, 31, 32, 33,39], # większe samochody osobowe\n",
    "                          6:[92, 93, 97, 42, 23, 11]}                                # pozostale \n",
    "    \n",
    "\n",
    "vehicles[\"BODYTYPE_NEW\"] = vehicles[\"BODYTYPE\"].apply(classify_value,mappings=bodytype_mappings)\n"
   ]
  },
  {
   "cell_type": "markdown",
   "metadata": {},
   "source": [
    "### Kolumna STRATIF "
   ]
  },
  {
   "cell_type": "code",
   "execution_count": 21,
   "metadata": {},
   "outputs": [
    {
     "name": "stderr",
     "output_type": "stream",
     "text": [
      "<ipython-input-21-de83d490fa35>:8: SettingWithCopyWarning: \n",
      "A value is trying to be set on a copy of a slice from a DataFrame.\n",
      "Try using .loc[row_indexer,col_indexer] = value instead\n",
      "\n",
      "See the caveats in the documentation: https://pandas.pydata.org/pandas-docs/stable/user_guide/indexing.html#returning-a-view-versus-a-copy\n",
      "  accidents[\"STRATIF_NEW\"] = accidents[\"STRATIF\"].apply(classify_value,mappings=stratif_mappings)\n"
     ]
    }
   ],
   "source": [
    "stratif_mappings =       {0:['A','B'], # smiertelne obrażenia\n",
    "                          1:['J','K'], # poważne obrażenia – hospitalizowany (min. 1noc)\n",
    "                          2:['C','D'], #  poważne obrażenia – nie hospitalizowany\n",
    "                          3:['E','F'], # niewielkie obrażenia, ale przewieziony do szpitala\n",
    "                          4:['G','H']} # niewielkie obrażenia\n",
    "\n",
    "\n",
    "accidents[\"STRATIF_NEW\"] = accidents[\"STRATIF\"].apply(classify_value,mappings=stratif_mappings)\n"
   ]
  },
  {
   "cell_type": "code",
   "execution_count": 22,
   "metadata": {},
   "outputs": [],
   "source": [
    "SEX_new=[]\n",
    "\n",
    "for i in occupants['SEX']:\n",
    "    if i==1:\n",
    "        SEX_new.append(1)\n",
    "    elif i==2:\n",
    "        SEX_new.append(2)\n",
    "    elif i>=3:\n",
    "        SEX_new.append(3)\n",
    "    elif math.isnan(i):\n",
    "        SEX_new.append(None)"
   ]
  },
  {
   "cell_type": "code",
   "execution_count": 23,
   "metadata": {},
   "outputs": [
    {
     "name": "stderr",
     "output_type": "stream",
     "text": [
      "<ipython-input-23-0e65efc02b08>:1: SettingWithCopyWarning: \n",
      "A value is trying to be set on a copy of a slice from a DataFrame.\n",
      "Try using .loc[row_indexer,col_indexer] = value instead\n",
      "\n",
      "See the caveats in the documentation: https://pandas.pydata.org/pandas-docs/stable/user_guide/indexing.html#returning-a-view-versus-a-copy\n",
      "  occupants['SEX_new'] = SEX_new\n"
     ]
    }
   ],
   "source": [
    "occupants['SEX_new'] = SEX_new"
   ]
  },
  {
   "cell_type": "code",
   "execution_count": 24,
   "metadata": {},
   "outputs": [],
   "source": [
    "WEIGHT_new=[]\n",
    "\n",
    "for i in occupants['WEIGHT']:\n",
    "    if i>=0 and i<=20:\n",
    "        WEIGHT_new.append(1)\n",
    "    elif i>=21 and i<=40:\n",
    "        WEIGHT_new.append(2)\n",
    "    elif i>=41 and i<=60:\n",
    "        WEIGHT_new.append(3)\n",
    "    elif i>=61 and i<=80:\n",
    "        WEIGHT_new.append(4)\n",
    "    elif i>=81 and i<=100:\n",
    "        WEIGHT_new.append(5)\n",
    "    elif i>100:\n",
    "        WEIGHT_new.append(6)\n",
    "    elif math.isnan(i):\n",
    "        WEIGHT_new.append(None)"
   ]
  },
  {
   "cell_type": "code",
   "execution_count": 25,
   "metadata": {},
   "outputs": [
    {
     "name": "stderr",
     "output_type": "stream",
     "text": [
      "<ipython-input-25-72117f9aed70>:1: SettingWithCopyWarning: \n",
      "A value is trying to be set on a copy of a slice from a DataFrame.\n",
      "Try using .loc[row_indexer,col_indexer] = value instead\n",
      "\n",
      "See the caveats in the documentation: https://pandas.pydata.org/pandas-docs/stable/user_guide/indexing.html#returning-a-view-versus-a-copy\n",
      "  occupants['WEIGHT_new'] = WEIGHT_new\n"
     ]
    }
   ],
   "source": [
    "occupants['WEIGHT_new'] = WEIGHT_new"
   ]
  },
  {
   "cell_type": "code",
   "execution_count": 26,
   "metadata": {},
   "outputs": [],
   "source": [
    "SEATPOS_new=[]\n",
    "\n",
    "for i in occupants['SEATPOS']:\n",
    "    if i>=11 and i<=15:\n",
    "        SEATPOS_new.append(1)\n",
    "    elif i>=21 and i<=25 or i==29:\n",
    "        SEATPOS_new.append(2)\n",
    "    elif i>=31 and i<=59:\n",
    "        SEATPOS_new.append(3)\n",
    "    elif i==19 or i==97 or i==98:\n",
    "        SEATPOS_new.append(4)\n",
    "    elif math.isnan(i):\n",
    "        SEATPOS_new.append(None)"
   ]
  },
  {
   "cell_type": "code",
   "execution_count": 27,
   "metadata": {},
   "outputs": [
    {
     "name": "stderr",
     "output_type": "stream",
     "text": [
      "<ipython-input-27-89ea867c71c6>:1: SettingWithCopyWarning: \n",
      "A value is trying to be set on a copy of a slice from a DataFrame.\n",
      "Try using .loc[row_indexer,col_indexer] = value instead\n",
      "\n",
      "See the caveats in the documentation: https://pandas.pydata.org/pandas-docs/stable/user_guide/indexing.html#returning-a-view-versus-a-copy\n",
      "  occupants['SEATPOS_new'] = SEATPOS_new\n"
     ]
    }
   ],
   "source": [
    "occupants['SEATPOS_new'] = SEATPOS_new"
   ]
  },
  {
   "cell_type": "code",
   "execution_count": 28,
   "metadata": {},
   "outputs": [],
   "source": [
    "ROLE_new=[]\n",
    "for i in occupants['ROLE']:\n",
    "    if i==1:\n",
    "        ROLE_new.append(1)\n",
    "    elif i==2:\n",
    "        ROLE_new.append(2)\n",
    "    elif math.isnan(i):\n",
    "        ROLE_new.append(None)"
   ]
  },
  {
   "cell_type": "code",
   "execution_count": 29,
   "metadata": {},
   "outputs": [
    {
     "name": "stderr",
     "output_type": "stream",
     "text": [
      "<ipython-input-29-185c14386df6>:1: SettingWithCopyWarning: \n",
      "A value is trying to be set on a copy of a slice from a DataFrame.\n",
      "Try using .loc[row_indexer,col_indexer] = value instead\n",
      "\n",
      "See the caveats in the documentation: https://pandas.pydata.org/pandas-docs/stable/user_guide/indexing.html#returning-a-view-versus-a-copy\n",
      "  occupants['ROLE_new'] = ROLE_new\n"
     ]
    }
   ],
   "source": [
    "occupants['ROLE_new'] = ROLE_new"
   ]
  },
  {
   "cell_type": "code",
   "execution_count": 30,
   "metadata": {},
   "outputs": [],
   "source": [
    "MANUSE_new=[]\n",
    "\n",
    "for i in occupants['MANUSE']:\n",
    "    if i>=0 and i<=1:\n",
    "        MANUSE_new.append(1)\n",
    "    elif i>=2 and i<=18:\n",
    "        MANUSE_new.append(2)\n",
    "    elif math.isnan(i):\n",
    "        MANUSE_new.append(None)"
   ]
  },
  {
   "cell_type": "code",
   "execution_count": 31,
   "metadata": {},
   "outputs": [
    {
     "name": "stderr",
     "output_type": "stream",
     "text": [
      "<ipython-input-31-898f79ce2082>:1: SettingWithCopyWarning: \n",
      "A value is trying to be set on a copy of a slice from a DataFrame.\n",
      "Try using .loc[row_indexer,col_indexer] = value instead\n",
      "\n",
      "See the caveats in the documentation: https://pandas.pydata.org/pandas-docs/stable/user_guide/indexing.html#returning-a-view-versus-a-copy\n",
      "  occupants['MANUSE_new'] = MANUSE_new\n"
     ]
    }
   ],
   "source": [
    "occupants['MANUSE_new'] = MANUSE_new"
   ]
  },
  {
   "cell_type": "code",
   "execution_count": 32,
   "metadata": {},
   "outputs": [
    {
     "data": {
      "text/html": [
       "<div>\n",
       "<style scoped>\n",
       "    .dataframe tbody tr th:only-of-type {\n",
       "        vertical-align: middle;\n",
       "    }\n",
       "\n",
       "    .dataframe tbody tr th {\n",
       "        vertical-align: top;\n",
       "    }\n",
       "\n",
       "    .dataframe thead th {\n",
       "        text-align: right;\n",
       "    }\n",
       "</style>\n",
       "<table border=\"1\" class=\"dataframe\">\n",
       "  <thead>\n",
       "    <tr style=\"text-align: right;\">\n",
       "      <th></th>\n",
       "      <th>CASEID</th>\n",
       "      <th>PSU</th>\n",
       "      <th>AGE</th>\n",
       "      <th>BAGAVAIL</th>\n",
       "      <th>CHTYPE</th>\n",
       "      <th>HEIGHT</th>\n",
       "      <th>INJSEV</th>\n",
       "      <th>MANUSE</th>\n",
       "      <th>OCCNO</th>\n",
       "      <th>ROLE</th>\n",
       "      <th>...</th>\n",
       "      <th>WEIGHT</th>\n",
       "      <th>Height_new</th>\n",
       "      <th>Chtype_new</th>\n",
       "      <th>Bagavail_new</th>\n",
       "      <th>Age_new</th>\n",
       "      <th>SEX_new</th>\n",
       "      <th>WEIGHT_new</th>\n",
       "      <th>SEATPOS_new</th>\n",
       "      <th>ROLE_new</th>\n",
       "      <th>MANUSE_new</th>\n",
       "    </tr>\n",
       "  </thead>\n",
       "  <tbody>\n",
       "    <tr>\n",
       "      <th>0</th>\n",
       "      <td>1H</td>\n",
       "      <td>2</td>\n",
       "      <td>20.0</td>\n",
       "      <td>1.0</td>\n",
       "      <td>0.0</td>\n",
       "      <td>178.0</td>\n",
       "      <td>0.0</td>\n",
       "      <td>4.0</td>\n",
       "      <td>1.0</td>\n",
       "      <td>1.0</td>\n",
       "      <td>...</td>\n",
       "      <td>73.0</td>\n",
       "      <td>5.0</td>\n",
       "      <td>0.0</td>\n",
       "      <td>1.0</td>\n",
       "      <td>5.0</td>\n",
       "      <td>1.0</td>\n",
       "      <td>4.0</td>\n",
       "      <td>1.0</td>\n",
       "      <td>1.0</td>\n",
       "      <td>2.0</td>\n",
       "    </tr>\n",
       "    <tr>\n",
       "      <th>1</th>\n",
       "      <td>2K</td>\n",
       "      <td>2</td>\n",
       "      <td>69.0</td>\n",
       "      <td>1.0</td>\n",
       "      <td>0.0</td>\n",
       "      <td>178.0</td>\n",
       "      <td>1.0</td>\n",
       "      <td>4.0</td>\n",
       "      <td>1.0</td>\n",
       "      <td>1.0</td>\n",
       "      <td>...</td>\n",
       "      <td>86.0</td>\n",
       "      <td>5.0</td>\n",
       "      <td>0.0</td>\n",
       "      <td>1.0</td>\n",
       "      <td>9.0</td>\n",
       "      <td>1.0</td>\n",
       "      <td>5.0</td>\n",
       "      <td>1.0</td>\n",
       "      <td>1.0</td>\n",
       "      <td>2.0</td>\n",
       "    </tr>\n",
       "    <tr>\n",
       "      <th>2</th>\n",
       "      <td>2K</td>\n",
       "      <td>2</td>\n",
       "      <td>69.0</td>\n",
       "      <td>1.0</td>\n",
       "      <td>0.0</td>\n",
       "      <td>168.0</td>\n",
       "      <td>1.0</td>\n",
       "      <td>4.0</td>\n",
       "      <td>2.0</td>\n",
       "      <td>2.0</td>\n",
       "      <td>...</td>\n",
       "      <td>68.0</td>\n",
       "      <td>4.0</td>\n",
       "      <td>0.0</td>\n",
       "      <td>1.0</td>\n",
       "      <td>9.0</td>\n",
       "      <td>2.0</td>\n",
       "      <td>4.0</td>\n",
       "      <td>1.0</td>\n",
       "      <td>2.0</td>\n",
       "      <td>2.0</td>\n",
       "    </tr>\n",
       "    <tr>\n",
       "      <th>3</th>\n",
       "      <td>2K</td>\n",
       "      <td>2</td>\n",
       "      <td>18.0</td>\n",
       "      <td>1.0</td>\n",
       "      <td>0.0</td>\n",
       "      <td>NaN</td>\n",
       "      <td>3.0</td>\n",
       "      <td>4.0</td>\n",
       "      <td>1.0</td>\n",
       "      <td>1.0</td>\n",
       "      <td>...</td>\n",
       "      <td>NaN</td>\n",
       "      <td>NaN</td>\n",
       "      <td>0.0</td>\n",
       "      <td>1.0</td>\n",
       "      <td>5.0</td>\n",
       "      <td>1.0</td>\n",
       "      <td>NaN</td>\n",
       "      <td>1.0</td>\n",
       "      <td>1.0</td>\n",
       "      <td>2.0</td>\n",
       "    </tr>\n",
       "    <tr>\n",
       "      <th>4</th>\n",
       "      <td>2K</td>\n",
       "      <td>2</td>\n",
       "      <td>34.0</td>\n",
       "      <td>1.0</td>\n",
       "      <td>0.0</td>\n",
       "      <td>NaN</td>\n",
       "      <td>3.0</td>\n",
       "      <td>4.0</td>\n",
       "      <td>2.0</td>\n",
       "      <td>2.0</td>\n",
       "      <td>...</td>\n",
       "      <td>NaN</td>\n",
       "      <td>NaN</td>\n",
       "      <td>0.0</td>\n",
       "      <td>1.0</td>\n",
       "      <td>7.0</td>\n",
       "      <td>1.0</td>\n",
       "      <td>NaN</td>\n",
       "      <td>1.0</td>\n",
       "      <td>2.0</td>\n",
       "      <td>2.0</td>\n",
       "    </tr>\n",
       "    <tr>\n",
       "      <th>...</th>\n",
       "      <td>...</td>\n",
       "      <td>...</td>\n",
       "      <td>...</td>\n",
       "      <td>...</td>\n",
       "      <td>...</td>\n",
       "      <td>...</td>\n",
       "      <td>...</td>\n",
       "      <td>...</td>\n",
       "      <td>...</td>\n",
       "      <td>...</td>\n",
       "      <td>...</td>\n",
       "      <td>...</td>\n",
       "      <td>...</td>\n",
       "      <td>...</td>\n",
       "      <td>...</td>\n",
       "      <td>...</td>\n",
       "      <td>...</td>\n",
       "      <td>...</td>\n",
       "      <td>...</td>\n",
       "      <td>...</td>\n",
       "      <td>...</td>\n",
       "    </tr>\n",
       "    <tr>\n",
       "      <th>110731</th>\n",
       "      <td>68J</td>\n",
       "      <td>82</td>\n",
       "      <td>23.0</td>\n",
       "      <td>0.0</td>\n",
       "      <td>0.0</td>\n",
       "      <td>183.0</td>\n",
       "      <td>0.0</td>\n",
       "      <td>4.0</td>\n",
       "      <td>5.0</td>\n",
       "      <td>2.0</td>\n",
       "      <td>...</td>\n",
       "      <td>77.0</td>\n",
       "      <td>5.0</td>\n",
       "      <td>0.0</td>\n",
       "      <td>0.0</td>\n",
       "      <td>6.0</td>\n",
       "      <td>1.0</td>\n",
       "      <td>4.0</td>\n",
       "      <td>2.0</td>\n",
       "      <td>2.0</td>\n",
       "      <td>2.0</td>\n",
       "    </tr>\n",
       "    <tr>\n",
       "      <th>110732</th>\n",
       "      <td>68J</td>\n",
       "      <td>82</td>\n",
       "      <td>22.0</td>\n",
       "      <td>0.0</td>\n",
       "      <td>0.0</td>\n",
       "      <td>163.0</td>\n",
       "      <td>3.0</td>\n",
       "      <td>0.0</td>\n",
       "      <td>6.0</td>\n",
       "      <td>2.0</td>\n",
       "      <td>...</td>\n",
       "      <td>59.0</td>\n",
       "      <td>4.0</td>\n",
       "      <td>0.0</td>\n",
       "      <td>0.0</td>\n",
       "      <td>6.0</td>\n",
       "      <td>2.0</td>\n",
       "      <td>3.0</td>\n",
       "      <td>2.0</td>\n",
       "      <td>2.0</td>\n",
       "      <td>1.0</td>\n",
       "    </tr>\n",
       "    <tr>\n",
       "      <th>110733</th>\n",
       "      <td>70H</td>\n",
       "      <td>82</td>\n",
       "      <td>26.0</td>\n",
       "      <td>NaN</td>\n",
       "      <td>NaN</td>\n",
       "      <td>NaN</td>\n",
       "      <td>0.0</td>\n",
       "      <td>NaN</td>\n",
       "      <td>1.0</td>\n",
       "      <td>1.0</td>\n",
       "      <td>...</td>\n",
       "      <td>NaN</td>\n",
       "      <td>NaN</td>\n",
       "      <td>NaN</td>\n",
       "      <td>NaN</td>\n",
       "      <td>6.0</td>\n",
       "      <td>1.0</td>\n",
       "      <td>NaN</td>\n",
       "      <td>1.0</td>\n",
       "      <td>1.0</td>\n",
       "      <td>NaN</td>\n",
       "    </tr>\n",
       "    <tr>\n",
       "      <th>110734</th>\n",
       "      <td>72H</td>\n",
       "      <td>82</td>\n",
       "      <td>22.0</td>\n",
       "      <td>NaN</td>\n",
       "      <td>NaN</td>\n",
       "      <td>NaN</td>\n",
       "      <td>0.0</td>\n",
       "      <td>NaN</td>\n",
       "      <td>1.0</td>\n",
       "      <td>1.0</td>\n",
       "      <td>...</td>\n",
       "      <td>NaN</td>\n",
       "      <td>NaN</td>\n",
       "      <td>NaN</td>\n",
       "      <td>NaN</td>\n",
       "      <td>6.0</td>\n",
       "      <td>1.0</td>\n",
       "      <td>NaN</td>\n",
       "      <td>1.0</td>\n",
       "      <td>1.0</td>\n",
       "      <td>NaN</td>\n",
       "    </tr>\n",
       "    <tr>\n",
       "      <th>110735</th>\n",
       "      <td>76H</td>\n",
       "      <td>82</td>\n",
       "      <td>77.0</td>\n",
       "      <td>NaN</td>\n",
       "      <td>NaN</td>\n",
       "      <td>NaN</td>\n",
       "      <td>0.0</td>\n",
       "      <td>NaN</td>\n",
       "      <td>1.0</td>\n",
       "      <td>1.0</td>\n",
       "      <td>...</td>\n",
       "      <td>NaN</td>\n",
       "      <td>NaN</td>\n",
       "      <td>NaN</td>\n",
       "      <td>NaN</td>\n",
       "      <td>9.0</td>\n",
       "      <td>1.0</td>\n",
       "      <td>NaN</td>\n",
       "      <td>1.0</td>\n",
       "      <td>1.0</td>\n",
       "      <td>NaN</td>\n",
       "    </tr>\n",
       "  </tbody>\n",
       "</table>\n",
       "<p>110736 rows × 22 columns</p>\n",
       "</div>"
      ],
      "text/plain": [
       "       CASEID  PSU   AGE  BAGAVAIL  CHTYPE  HEIGHT  INJSEV  MANUSE  OCCNO  \\\n",
       "0          1H    2  20.0       1.0     0.0   178.0     0.0     4.0    1.0   \n",
       "1          2K    2  69.0       1.0     0.0   178.0     1.0     4.0    1.0   \n",
       "2          2K    2  69.0       1.0     0.0   168.0     1.0     4.0    2.0   \n",
       "3          2K    2  18.0       1.0     0.0     NaN     3.0     4.0    1.0   \n",
       "4          2K    2  34.0       1.0     0.0     NaN     3.0     4.0    2.0   \n",
       "...       ...  ...   ...       ...     ...     ...     ...     ...    ...   \n",
       "110731    68J   82  23.0       0.0     0.0   183.0     0.0     4.0    5.0   \n",
       "110732    68J   82  22.0       0.0     0.0   163.0     3.0     0.0    6.0   \n",
       "110733    70H   82  26.0       NaN     NaN     NaN     0.0     NaN    1.0   \n",
       "110734    72H   82  22.0       NaN     NaN     NaN     0.0     NaN    1.0   \n",
       "110735    76H   82  77.0       NaN     NaN     NaN     0.0     NaN    1.0   \n",
       "\n",
       "        ROLE  ...  WEIGHT  Height_new  Chtype_new  Bagavail_new  Age_new  \\\n",
       "0        1.0  ...    73.0         5.0         0.0           1.0      5.0   \n",
       "1        1.0  ...    86.0         5.0         0.0           1.0      9.0   \n",
       "2        2.0  ...    68.0         4.0         0.0           1.0      9.0   \n",
       "3        1.0  ...     NaN         NaN         0.0           1.0      5.0   \n",
       "4        2.0  ...     NaN         NaN         0.0           1.0      7.0   \n",
       "...      ...  ...     ...         ...         ...           ...      ...   \n",
       "110731   2.0  ...    77.0         5.0         0.0           0.0      6.0   \n",
       "110732   2.0  ...    59.0         4.0         0.0           0.0      6.0   \n",
       "110733   1.0  ...     NaN         NaN         NaN           NaN      6.0   \n",
       "110734   1.0  ...     NaN         NaN         NaN           NaN      6.0   \n",
       "110735   1.0  ...     NaN         NaN         NaN           NaN      9.0   \n",
       "\n",
       "        SEX_new  WEIGHT_new  SEATPOS_new  ROLE_new  MANUSE_new  \n",
       "0           1.0         4.0          1.0       1.0         2.0  \n",
       "1           1.0         5.0          1.0       1.0         2.0  \n",
       "2           2.0         4.0          1.0       2.0         2.0  \n",
       "3           1.0         NaN          1.0       1.0         2.0  \n",
       "4           1.0         NaN          1.0       2.0         2.0  \n",
       "...         ...         ...          ...       ...         ...  \n",
       "110731      1.0         4.0          2.0       2.0         2.0  \n",
       "110732      2.0         3.0          2.0       2.0         1.0  \n",
       "110733      1.0         NaN          1.0       1.0         NaN  \n",
       "110734      1.0         NaN          1.0       1.0         NaN  \n",
       "110735      1.0         NaN          1.0       1.0         NaN  \n",
       "\n",
       "[110736 rows x 22 columns]"
      ]
     },
     "execution_count": 32,
     "metadata": {},
     "output_type": "execute_result"
    }
   ],
   "source": [
    "occupants\n"
   ]
  },
  {
   "cell_type": "code",
   "execution_count": 33,
   "metadata": {},
   "outputs": [
    {
     "name": "stdout",
     "output_type": "stream",
     "text": [
      "Index(['CASEID', 'PSU', 'AGE', 'BAGAVAIL', 'CHTYPE', 'HEIGHT', 'INJSEV',\n",
      "       'MANUSE', 'OCCNO', 'ROLE', 'SEATPOS', 'SEX', 'WEIGHT', 'Height_new',\n",
      "       'Chtype_new', 'Bagavail_new', 'Age_new', 'SEX_new', 'WEIGHT_new',\n",
      "       'SEATPOS_new', 'ROLE_new', 'MANUSE_new'],\n",
      "      dtype='object')\n",
      "Index(['CASEID', 'PSU', 'STRATIF', 'YEAR', 'STRATIF_NEW'], dtype='object')\n",
      "Index(['CASEID', 'PSU', 'BODYTYPE', 'MAKE', 'DVTOTAL', 'MODELYR',\n",
      "       'BODYTYPE_NEW'],\n",
      "      dtype='object')\n"
     ]
    }
   ],
   "source": [
    "print(occupants.columns) ## SEX, WEIGHT, SEATPOS\n",
    "print(accidents.columns)\n",
    "print(vehicles.columns) ##BODYTYPE, MAKE"
   ]
  },
  {
   "cell_type": "code",
   "execution_count": 34,
   "metadata": {},
   "outputs": [
    {
     "name": "stderr",
     "output_type": "stream",
     "text": [
      "C:\\Users\\marty\\anaconda3\\lib\\site-packages\\pandas\\core\\frame.py:4163: SettingWithCopyWarning: \n",
      "A value is trying to be set on a copy of a slice from a DataFrame\n",
      "\n",
      "See the caveats in the documentation: https://pandas.pydata.org/pandas-docs/stable/user_guide/indexing.html#returning-a-view-versus-a-copy\n",
      "  return super().drop(\n"
     ]
    }
   ],
   "source": [
    "occupants.drop(columns=[\"SEX\",'AGE', 'WEIGHT','HEIGHT', 'CHTYPE','BAGAVAIL','SEATPOS','ROLE', 'MANUSE'],inplace = True)\n"
   ]
  },
  {
   "cell_type": "code",
   "execution_count": 35,
   "metadata": {},
   "outputs": [
    {
     "data": {
      "text/html": [
       "<div>\n",
       "<style scoped>\n",
       "    .dataframe tbody tr th:only-of-type {\n",
       "        vertical-align: middle;\n",
       "    }\n",
       "\n",
       "    .dataframe tbody tr th {\n",
       "        vertical-align: top;\n",
       "    }\n",
       "\n",
       "    .dataframe thead th {\n",
       "        text-align: right;\n",
       "    }\n",
       "</style>\n",
       "<table border=\"1\" class=\"dataframe\">\n",
       "  <thead>\n",
       "    <tr style=\"text-align: right;\">\n",
       "      <th></th>\n",
       "      <th>CASEID</th>\n",
       "      <th>PSU</th>\n",
       "      <th>INJSEV</th>\n",
       "      <th>OCCNO</th>\n",
       "      <th>Height_new</th>\n",
       "      <th>Chtype_new</th>\n",
       "      <th>Bagavail_new</th>\n",
       "      <th>Age_new</th>\n",
       "      <th>SEX_new</th>\n",
       "      <th>WEIGHT_new</th>\n",
       "      <th>SEATPOS_new</th>\n",
       "      <th>ROLE_new</th>\n",
       "      <th>MANUSE_new</th>\n",
       "    </tr>\n",
       "  </thead>\n",
       "  <tbody>\n",
       "    <tr>\n",
       "      <th>0</th>\n",
       "      <td>1H</td>\n",
       "      <td>2</td>\n",
       "      <td>0.0</td>\n",
       "      <td>1.0</td>\n",
       "      <td>5.0</td>\n",
       "      <td>0.0</td>\n",
       "      <td>1.0</td>\n",
       "      <td>5.0</td>\n",
       "      <td>1.0</td>\n",
       "      <td>4.0</td>\n",
       "      <td>1.0</td>\n",
       "      <td>1.0</td>\n",
       "      <td>2.0</td>\n",
       "    </tr>\n",
       "    <tr>\n",
       "      <th>1</th>\n",
       "      <td>2K</td>\n",
       "      <td>2</td>\n",
       "      <td>1.0</td>\n",
       "      <td>1.0</td>\n",
       "      <td>5.0</td>\n",
       "      <td>0.0</td>\n",
       "      <td>1.0</td>\n",
       "      <td>9.0</td>\n",
       "      <td>1.0</td>\n",
       "      <td>5.0</td>\n",
       "      <td>1.0</td>\n",
       "      <td>1.0</td>\n",
       "      <td>2.0</td>\n",
       "    </tr>\n",
       "    <tr>\n",
       "      <th>2</th>\n",
       "      <td>2K</td>\n",
       "      <td>2</td>\n",
       "      <td>1.0</td>\n",
       "      <td>2.0</td>\n",
       "      <td>4.0</td>\n",
       "      <td>0.0</td>\n",
       "      <td>1.0</td>\n",
       "      <td>9.0</td>\n",
       "      <td>2.0</td>\n",
       "      <td>4.0</td>\n",
       "      <td>1.0</td>\n",
       "      <td>2.0</td>\n",
       "      <td>2.0</td>\n",
       "    </tr>\n",
       "    <tr>\n",
       "      <th>3</th>\n",
       "      <td>2K</td>\n",
       "      <td>2</td>\n",
       "      <td>3.0</td>\n",
       "      <td>1.0</td>\n",
       "      <td>NaN</td>\n",
       "      <td>0.0</td>\n",
       "      <td>1.0</td>\n",
       "      <td>5.0</td>\n",
       "      <td>1.0</td>\n",
       "      <td>NaN</td>\n",
       "      <td>1.0</td>\n",
       "      <td>1.0</td>\n",
       "      <td>2.0</td>\n",
       "    </tr>\n",
       "    <tr>\n",
       "      <th>4</th>\n",
       "      <td>2K</td>\n",
       "      <td>2</td>\n",
       "      <td>3.0</td>\n",
       "      <td>2.0</td>\n",
       "      <td>NaN</td>\n",
       "      <td>0.0</td>\n",
       "      <td>1.0</td>\n",
       "      <td>7.0</td>\n",
       "      <td>1.0</td>\n",
       "      <td>NaN</td>\n",
       "      <td>1.0</td>\n",
       "      <td>2.0</td>\n",
       "      <td>2.0</td>\n",
       "    </tr>\n",
       "    <tr>\n",
       "      <th>...</th>\n",
       "      <td>...</td>\n",
       "      <td>...</td>\n",
       "      <td>...</td>\n",
       "      <td>...</td>\n",
       "      <td>...</td>\n",
       "      <td>...</td>\n",
       "      <td>...</td>\n",
       "      <td>...</td>\n",
       "      <td>...</td>\n",
       "      <td>...</td>\n",
       "      <td>...</td>\n",
       "      <td>...</td>\n",
       "      <td>...</td>\n",
       "    </tr>\n",
       "    <tr>\n",
       "      <th>110731</th>\n",
       "      <td>68J</td>\n",
       "      <td>82</td>\n",
       "      <td>0.0</td>\n",
       "      <td>5.0</td>\n",
       "      <td>5.0</td>\n",
       "      <td>0.0</td>\n",
       "      <td>0.0</td>\n",
       "      <td>6.0</td>\n",
       "      <td>1.0</td>\n",
       "      <td>4.0</td>\n",
       "      <td>2.0</td>\n",
       "      <td>2.0</td>\n",
       "      <td>2.0</td>\n",
       "    </tr>\n",
       "    <tr>\n",
       "      <th>110732</th>\n",
       "      <td>68J</td>\n",
       "      <td>82</td>\n",
       "      <td>3.0</td>\n",
       "      <td>6.0</td>\n",
       "      <td>4.0</td>\n",
       "      <td>0.0</td>\n",
       "      <td>0.0</td>\n",
       "      <td>6.0</td>\n",
       "      <td>2.0</td>\n",
       "      <td>3.0</td>\n",
       "      <td>2.0</td>\n",
       "      <td>2.0</td>\n",
       "      <td>1.0</td>\n",
       "    </tr>\n",
       "    <tr>\n",
       "      <th>110733</th>\n",
       "      <td>70H</td>\n",
       "      <td>82</td>\n",
       "      <td>0.0</td>\n",
       "      <td>1.0</td>\n",
       "      <td>NaN</td>\n",
       "      <td>NaN</td>\n",
       "      <td>NaN</td>\n",
       "      <td>6.0</td>\n",
       "      <td>1.0</td>\n",
       "      <td>NaN</td>\n",
       "      <td>1.0</td>\n",
       "      <td>1.0</td>\n",
       "      <td>NaN</td>\n",
       "    </tr>\n",
       "    <tr>\n",
       "      <th>110734</th>\n",
       "      <td>72H</td>\n",
       "      <td>82</td>\n",
       "      <td>0.0</td>\n",
       "      <td>1.0</td>\n",
       "      <td>NaN</td>\n",
       "      <td>NaN</td>\n",
       "      <td>NaN</td>\n",
       "      <td>6.0</td>\n",
       "      <td>1.0</td>\n",
       "      <td>NaN</td>\n",
       "      <td>1.0</td>\n",
       "      <td>1.0</td>\n",
       "      <td>NaN</td>\n",
       "    </tr>\n",
       "    <tr>\n",
       "      <th>110735</th>\n",
       "      <td>76H</td>\n",
       "      <td>82</td>\n",
       "      <td>0.0</td>\n",
       "      <td>1.0</td>\n",
       "      <td>NaN</td>\n",
       "      <td>NaN</td>\n",
       "      <td>NaN</td>\n",
       "      <td>9.0</td>\n",
       "      <td>1.0</td>\n",
       "      <td>NaN</td>\n",
       "      <td>1.0</td>\n",
       "      <td>1.0</td>\n",
       "      <td>NaN</td>\n",
       "    </tr>\n",
       "  </tbody>\n",
       "</table>\n",
       "<p>110736 rows × 13 columns</p>\n",
       "</div>"
      ],
      "text/plain": [
       "       CASEID  PSU  INJSEV  OCCNO  Height_new  Chtype_new  Bagavail_new  \\\n",
       "0          1H    2     0.0    1.0         5.0         0.0           1.0   \n",
       "1          2K    2     1.0    1.0         5.0         0.0           1.0   \n",
       "2          2K    2     1.0    2.0         4.0         0.0           1.0   \n",
       "3          2K    2     3.0    1.0         NaN         0.0           1.0   \n",
       "4          2K    2     3.0    2.0         NaN         0.0           1.0   \n",
       "...       ...  ...     ...    ...         ...         ...           ...   \n",
       "110731    68J   82     0.0    5.0         5.0         0.0           0.0   \n",
       "110732    68J   82     3.0    6.0         4.0         0.0           0.0   \n",
       "110733    70H   82     0.0    1.0         NaN         NaN           NaN   \n",
       "110734    72H   82     0.0    1.0         NaN         NaN           NaN   \n",
       "110735    76H   82     0.0    1.0         NaN         NaN           NaN   \n",
       "\n",
       "        Age_new  SEX_new  WEIGHT_new  SEATPOS_new  ROLE_new  MANUSE_new  \n",
       "0           5.0      1.0         4.0          1.0       1.0         2.0  \n",
       "1           9.0      1.0         5.0          1.0       1.0         2.0  \n",
       "2           9.0      2.0         4.0          1.0       2.0         2.0  \n",
       "3           5.0      1.0         NaN          1.0       1.0         2.0  \n",
       "4           7.0      1.0         NaN          1.0       2.0         2.0  \n",
       "...         ...      ...         ...          ...       ...         ...  \n",
       "110731      6.0      1.0         4.0          2.0       2.0         2.0  \n",
       "110732      6.0      2.0         3.0          2.0       2.0         1.0  \n",
       "110733      6.0      1.0         NaN          1.0       1.0         NaN  \n",
       "110734      6.0      1.0         NaN          1.0       1.0         NaN  \n",
       "110735      9.0      1.0         NaN          1.0       1.0         NaN  \n",
       "\n",
       "[110736 rows x 13 columns]"
      ]
     },
     "execution_count": 35,
     "metadata": {},
     "output_type": "execute_result"
    }
   ],
   "source": [
    "occupants"
   ]
  },
  {
   "cell_type": "code",
   "execution_count": 36,
   "metadata": {},
   "outputs": [
    {
     "name": "stderr",
     "output_type": "stream",
     "text": [
      "C:\\Users\\marty\\anaconda3\\lib\\site-packages\\pandas\\core\\frame.py:4163: SettingWithCopyWarning: \n",
      "A value is trying to be set on a copy of a slice from a DataFrame\n",
      "\n",
      "See the caveats in the documentation: https://pandas.pydata.org/pandas-docs/stable/user_guide/indexing.html#returning-a-view-versus-a-copy\n",
      "  return super().drop(\n"
     ]
    }
   ],
   "source": [
    "accidents.drop(columns=[\"STRATIF\"],inplace = True)\n"
   ]
  },
  {
   "cell_type": "code",
   "execution_count": 37,
   "metadata": {},
   "outputs": [],
   "source": [
    "vehicles.drop(columns=[\"BODYTYPE\"],inplace = True)\n"
   ]
  },
  {
   "cell_type": "code",
   "execution_count": 38,
   "metadata": {},
   "outputs": [],
   "source": [
    "occupants = occupants.rename({'Height_new':'HEIGHT', \n",
    "                  'Chtype_new':'CHTYPE',\n",
    "                  'Bagavail_new':'HEIGHT', \n",
    "                  'Age_new':'AGE',\n",
    "                  'SEX_new':'SEX', \n",
    "                  'WEIGHT_new':'WEIGHT',\n",
    "                  'SEATPOS_new':'SEATPOS', \n",
    "                  'ROLE_new':'ROLE',\n",
    "                  'MANUSE_new':'MANUSE'\n",
    "                 }, axis=1)"
   ]
  },
  {
   "cell_type": "code",
   "execution_count": 39,
   "metadata": {},
   "outputs": [],
   "source": [
    "vehicles = vehicles.rename({'BODYTYPE_NEW':'BODYTYPE'}, axis=1)"
   ]
  },
  {
   "cell_type": "code",
   "execution_count": 40,
   "metadata": {},
   "outputs": [
    {
     "name": "stdout",
     "output_type": "stream",
     "text": [
      "Index(['CASEID', 'PSU', 'INJSEV', 'OCCNO', 'HEIGHT', 'CHTYPE', 'HEIGHT', 'AGE',\n",
      "       'SEX', 'WEIGHT', 'SEATPOS', 'ROLE', 'MANUSE'],\n",
      "      dtype='object')\n",
      "Index(['CASEID', 'PSU', 'MAKE', 'DVTOTAL', 'MODELYR', 'BODYTYPE'], dtype='object')\n"
     ]
    }
   ],
   "source": [
    "print(occupants.columns) ## SEX, WEIGHT, SEATPOS\n",
    "print(vehicles.columns) ##BODYTYPE, MAKE"
   ]
  },
  {
   "cell_type": "code",
   "execution_count": 41,
   "metadata": {},
   "outputs": [
    {
     "data": {
      "text/html": [
       "<div>\n",
       "<style scoped>\n",
       "    .dataframe tbody tr th:only-of-type {\n",
       "        vertical-align: middle;\n",
       "    }\n",
       "\n",
       "    .dataframe tbody tr th {\n",
       "        vertical-align: top;\n",
       "    }\n",
       "\n",
       "    .dataframe thead th {\n",
       "        text-align: right;\n",
       "    }\n",
       "</style>\n",
       "<table border=\"1\" class=\"dataframe\">\n",
       "  <thead>\n",
       "    <tr style=\"text-align: right;\">\n",
       "      <th></th>\n",
       "      <th>CASEID</th>\n",
       "      <th>PSU</th>\n",
       "      <th>INJSEV</th>\n",
       "      <th>OCCNO</th>\n",
       "      <th>HEIGHT</th>\n",
       "      <th>CHTYPE</th>\n",
       "      <th>HEIGHT</th>\n",
       "      <th>AGE</th>\n",
       "      <th>SEX</th>\n",
       "      <th>WEIGHT</th>\n",
       "      <th>SEATPOS</th>\n",
       "      <th>ROLE</th>\n",
       "      <th>MANUSE</th>\n",
       "    </tr>\n",
       "  </thead>\n",
       "  <tbody>\n",
       "    <tr>\n",
       "      <th>0</th>\n",
       "      <td>1H</td>\n",
       "      <td>2</td>\n",
       "      <td>0.0</td>\n",
       "      <td>1.0</td>\n",
       "      <td>5.0</td>\n",
       "      <td>0.0</td>\n",
       "      <td>1.0</td>\n",
       "      <td>5.0</td>\n",
       "      <td>1.0</td>\n",
       "      <td>4.0</td>\n",
       "      <td>1.0</td>\n",
       "      <td>1.0</td>\n",
       "      <td>2.0</td>\n",
       "    </tr>\n",
       "    <tr>\n",
       "      <th>1</th>\n",
       "      <td>2K</td>\n",
       "      <td>2</td>\n",
       "      <td>1.0</td>\n",
       "      <td>1.0</td>\n",
       "      <td>5.0</td>\n",
       "      <td>0.0</td>\n",
       "      <td>1.0</td>\n",
       "      <td>9.0</td>\n",
       "      <td>1.0</td>\n",
       "      <td>5.0</td>\n",
       "      <td>1.0</td>\n",
       "      <td>1.0</td>\n",
       "      <td>2.0</td>\n",
       "    </tr>\n",
       "    <tr>\n",
       "      <th>2</th>\n",
       "      <td>2K</td>\n",
       "      <td>2</td>\n",
       "      <td>1.0</td>\n",
       "      <td>2.0</td>\n",
       "      <td>4.0</td>\n",
       "      <td>0.0</td>\n",
       "      <td>1.0</td>\n",
       "      <td>9.0</td>\n",
       "      <td>2.0</td>\n",
       "      <td>4.0</td>\n",
       "      <td>1.0</td>\n",
       "      <td>2.0</td>\n",
       "      <td>2.0</td>\n",
       "    </tr>\n",
       "    <tr>\n",
       "      <th>3</th>\n",
       "      <td>2K</td>\n",
       "      <td>2</td>\n",
       "      <td>3.0</td>\n",
       "      <td>1.0</td>\n",
       "      <td>NaN</td>\n",
       "      <td>0.0</td>\n",
       "      <td>1.0</td>\n",
       "      <td>5.0</td>\n",
       "      <td>1.0</td>\n",
       "      <td>NaN</td>\n",
       "      <td>1.0</td>\n",
       "      <td>1.0</td>\n",
       "      <td>2.0</td>\n",
       "    </tr>\n",
       "    <tr>\n",
       "      <th>4</th>\n",
       "      <td>2K</td>\n",
       "      <td>2</td>\n",
       "      <td>3.0</td>\n",
       "      <td>2.0</td>\n",
       "      <td>NaN</td>\n",
       "      <td>0.0</td>\n",
       "      <td>1.0</td>\n",
       "      <td>7.0</td>\n",
       "      <td>1.0</td>\n",
       "      <td>NaN</td>\n",
       "      <td>1.0</td>\n",
       "      <td>2.0</td>\n",
       "      <td>2.0</td>\n",
       "    </tr>\n",
       "    <tr>\n",
       "      <th>...</th>\n",
       "      <td>...</td>\n",
       "      <td>...</td>\n",
       "      <td>...</td>\n",
       "      <td>...</td>\n",
       "      <td>...</td>\n",
       "      <td>...</td>\n",
       "      <td>...</td>\n",
       "      <td>...</td>\n",
       "      <td>...</td>\n",
       "      <td>...</td>\n",
       "      <td>...</td>\n",
       "      <td>...</td>\n",
       "      <td>...</td>\n",
       "    </tr>\n",
       "    <tr>\n",
       "      <th>110731</th>\n",
       "      <td>68J</td>\n",
       "      <td>82</td>\n",
       "      <td>0.0</td>\n",
       "      <td>5.0</td>\n",
       "      <td>5.0</td>\n",
       "      <td>0.0</td>\n",
       "      <td>0.0</td>\n",
       "      <td>6.0</td>\n",
       "      <td>1.0</td>\n",
       "      <td>4.0</td>\n",
       "      <td>2.0</td>\n",
       "      <td>2.0</td>\n",
       "      <td>2.0</td>\n",
       "    </tr>\n",
       "    <tr>\n",
       "      <th>110732</th>\n",
       "      <td>68J</td>\n",
       "      <td>82</td>\n",
       "      <td>3.0</td>\n",
       "      <td>6.0</td>\n",
       "      <td>4.0</td>\n",
       "      <td>0.0</td>\n",
       "      <td>0.0</td>\n",
       "      <td>6.0</td>\n",
       "      <td>2.0</td>\n",
       "      <td>3.0</td>\n",
       "      <td>2.0</td>\n",
       "      <td>2.0</td>\n",
       "      <td>1.0</td>\n",
       "    </tr>\n",
       "    <tr>\n",
       "      <th>110733</th>\n",
       "      <td>70H</td>\n",
       "      <td>82</td>\n",
       "      <td>0.0</td>\n",
       "      <td>1.0</td>\n",
       "      <td>NaN</td>\n",
       "      <td>NaN</td>\n",
       "      <td>NaN</td>\n",
       "      <td>6.0</td>\n",
       "      <td>1.0</td>\n",
       "      <td>NaN</td>\n",
       "      <td>1.0</td>\n",
       "      <td>1.0</td>\n",
       "      <td>NaN</td>\n",
       "    </tr>\n",
       "    <tr>\n",
       "      <th>110734</th>\n",
       "      <td>72H</td>\n",
       "      <td>82</td>\n",
       "      <td>0.0</td>\n",
       "      <td>1.0</td>\n",
       "      <td>NaN</td>\n",
       "      <td>NaN</td>\n",
       "      <td>NaN</td>\n",
       "      <td>6.0</td>\n",
       "      <td>1.0</td>\n",
       "      <td>NaN</td>\n",
       "      <td>1.0</td>\n",
       "      <td>1.0</td>\n",
       "      <td>NaN</td>\n",
       "    </tr>\n",
       "    <tr>\n",
       "      <th>110735</th>\n",
       "      <td>76H</td>\n",
       "      <td>82</td>\n",
       "      <td>0.0</td>\n",
       "      <td>1.0</td>\n",
       "      <td>NaN</td>\n",
       "      <td>NaN</td>\n",
       "      <td>NaN</td>\n",
       "      <td>9.0</td>\n",
       "      <td>1.0</td>\n",
       "      <td>NaN</td>\n",
       "      <td>1.0</td>\n",
       "      <td>1.0</td>\n",
       "      <td>NaN</td>\n",
       "    </tr>\n",
       "  </tbody>\n",
       "</table>\n",
       "<p>110736 rows × 13 columns</p>\n",
       "</div>"
      ],
      "text/plain": [
       "       CASEID  PSU  INJSEV  OCCNO  HEIGHT  CHTYPE  HEIGHT  AGE  SEX  WEIGHT  \\\n",
       "0          1H    2     0.0    1.0     5.0     0.0     1.0  5.0  1.0     4.0   \n",
       "1          2K    2     1.0    1.0     5.0     0.0     1.0  9.0  1.0     5.0   \n",
       "2          2K    2     1.0    2.0     4.0     0.0     1.0  9.0  2.0     4.0   \n",
       "3          2K    2     3.0    1.0     NaN     0.0     1.0  5.0  1.0     NaN   \n",
       "4          2K    2     3.0    2.0     NaN     0.0     1.0  7.0  1.0     NaN   \n",
       "...       ...  ...     ...    ...     ...     ...     ...  ...  ...     ...   \n",
       "110731    68J   82     0.0    5.0     5.0     0.0     0.0  6.0  1.0     4.0   \n",
       "110732    68J   82     3.0    6.0     4.0     0.0     0.0  6.0  2.0     3.0   \n",
       "110733    70H   82     0.0    1.0     NaN     NaN     NaN  6.0  1.0     NaN   \n",
       "110734    72H   82     0.0    1.0     NaN     NaN     NaN  6.0  1.0     NaN   \n",
       "110735    76H   82     0.0    1.0     NaN     NaN     NaN  9.0  1.0     NaN   \n",
       "\n",
       "        SEATPOS  ROLE  MANUSE  \n",
       "0           1.0   1.0     2.0  \n",
       "1           1.0   1.0     2.0  \n",
       "2           1.0   2.0     2.0  \n",
       "3           1.0   1.0     2.0  \n",
       "4           1.0   2.0     2.0  \n",
       "...         ...   ...     ...  \n",
       "110731      2.0   2.0     2.0  \n",
       "110732      2.0   2.0     1.0  \n",
       "110733      1.0   1.0     NaN  \n",
       "110734      1.0   1.0     NaN  \n",
       "110735      1.0   1.0     NaN  \n",
       "\n",
       "[110736 rows x 13 columns]"
      ]
     },
     "execution_count": 41,
     "metadata": {},
     "output_type": "execute_result"
    }
   ],
   "source": [
    "occupants"
   ]
  },
  {
   "cell_type": "code",
   "execution_count": 42,
   "metadata": {},
   "outputs": [
    {
     "data": {
      "text/html": [
       "<div>\n",
       "<style scoped>\n",
       "    .dataframe tbody tr th:only-of-type {\n",
       "        vertical-align: middle;\n",
       "    }\n",
       "\n",
       "    .dataframe tbody tr th {\n",
       "        vertical-align: top;\n",
       "    }\n",
       "\n",
       "    .dataframe thead th {\n",
       "        text-align: right;\n",
       "    }\n",
       "</style>\n",
       "<table border=\"1\" class=\"dataframe\">\n",
       "  <thead>\n",
       "    <tr style=\"text-align: right;\">\n",
       "      <th></th>\n",
       "      <th>CASEID</th>\n",
       "      <th>PSU</th>\n",
       "      <th>MAKE</th>\n",
       "      <th>DVTOTAL</th>\n",
       "      <th>MODELYR</th>\n",
       "      <th>BODYTYPE</th>\n",
       "    </tr>\n",
       "  </thead>\n",
       "  <tbody>\n",
       "    <tr>\n",
       "      <th>0</th>\n",
       "      <td>1H</td>\n",
       "      <td>2</td>\n",
       "      <td>37.0</td>\n",
       "      <td>NaN</td>\n",
       "      <td>1995.0</td>\n",
       "      <td>0.0</td>\n",
       "    </tr>\n",
       "    <tr>\n",
       "      <th>1</th>\n",
       "      <td>2K</td>\n",
       "      <td>2</td>\n",
       "      <td>37.0</td>\n",
       "      <td>37.0</td>\n",
       "      <td>2001.0</td>\n",
       "      <td>5.0</td>\n",
       "    </tr>\n",
       "    <tr>\n",
       "      <th>2</th>\n",
       "      <td>2K</td>\n",
       "      <td>2</td>\n",
       "      <td>49.0</td>\n",
       "      <td>40.0</td>\n",
       "      <td>1998.0</td>\n",
       "      <td>5.0</td>\n",
       "    </tr>\n",
       "    <tr>\n",
       "      <th>3</th>\n",
       "      <td>3E</td>\n",
       "      <td>2</td>\n",
       "      <td>20.0</td>\n",
       "      <td>15.0</td>\n",
       "      <td>2001.0</td>\n",
       "      <td>0.0</td>\n",
       "    </tr>\n",
       "    <tr>\n",
       "      <th>4</th>\n",
       "      <td>3E</td>\n",
       "      <td>2</td>\n",
       "      <td>55.0</td>\n",
       "      <td>22.0</td>\n",
       "      <td>2001.0</td>\n",
       "      <td>0.0</td>\n",
       "    </tr>\n",
       "    <tr>\n",
       "      <th>...</th>\n",
       "      <td>...</td>\n",
       "      <td>...</td>\n",
       "      <td>...</td>\n",
       "      <td>...</td>\n",
       "      <td>...</td>\n",
       "      <td>...</td>\n",
       "    </tr>\n",
       "    <tr>\n",
       "      <th>94538</th>\n",
       "      <td>72H</td>\n",
       "      <td>82</td>\n",
       "      <td>37.0</td>\n",
       "      <td>NaN</td>\n",
       "      <td>2010.0</td>\n",
       "      <td>0.0</td>\n",
       "    </tr>\n",
       "    <tr>\n",
       "      <th>94539</th>\n",
       "      <td>72H</td>\n",
       "      <td>82</td>\n",
       "      <td>48.0</td>\n",
       "      <td>NaN</td>\n",
       "      <td>2013.0</td>\n",
       "      <td>0.0</td>\n",
       "    </tr>\n",
       "    <tr>\n",
       "      <th>94540</th>\n",
       "      <td>72H</td>\n",
       "      <td>82</td>\n",
       "      <td>41.0</td>\n",
       "      <td>NaN</td>\n",
       "      <td>2007.0</td>\n",
       "      <td>0.0</td>\n",
       "    </tr>\n",
       "    <tr>\n",
       "      <th>94541</th>\n",
       "      <td>76H</td>\n",
       "      <td>82</td>\n",
       "      <td>42.0</td>\n",
       "      <td>NaN</td>\n",
       "      <td>1990.0</td>\n",
       "      <td>0.0</td>\n",
       "    </tr>\n",
       "    <tr>\n",
       "      <th>94542</th>\n",
       "      <td>76H</td>\n",
       "      <td>82</td>\n",
       "      <td>7.0</td>\n",
       "      <td>NaN</td>\n",
       "      <td>2007.0</td>\n",
       "      <td>0.0</td>\n",
       "    </tr>\n",
       "  </tbody>\n",
       "</table>\n",
       "<p>94543 rows × 6 columns</p>\n",
       "</div>"
      ],
      "text/plain": [
       "      CASEID  PSU  MAKE  DVTOTAL  MODELYR  BODYTYPE\n",
       "0         1H    2  37.0      NaN   1995.0       0.0\n",
       "1         2K    2  37.0     37.0   2001.0       5.0\n",
       "2         2K    2  49.0     40.0   1998.0       5.0\n",
       "3         3E    2  20.0     15.0   2001.0       0.0\n",
       "4         3E    2  55.0     22.0   2001.0       0.0\n",
       "...      ...  ...   ...      ...      ...       ...\n",
       "94538    72H   82  37.0      NaN   2010.0       0.0\n",
       "94539    72H   82  48.0      NaN   2013.0       0.0\n",
       "94540    72H   82  41.0      NaN   2007.0       0.0\n",
       "94541    76H   82  42.0      NaN   1990.0       0.0\n",
       "94542    76H   82   7.0      NaN   2007.0       0.0\n",
       "\n",
       "[94543 rows x 6 columns]"
      ]
     },
     "execution_count": 42,
     "metadata": {},
     "output_type": "execute_result"
    }
   ],
   "source": [
    "vehicles"
   ]
  },
  {
   "cell_type": "code",
   "execution_count": 43,
   "metadata": {},
   "outputs": [
    {
     "data": {
      "text/plain": [
       "51978"
      ]
     },
     "execution_count": 43,
     "metadata": {},
     "output_type": "execute_result"
    }
   ],
   "source": [
    "n_wypadkow = accidents[[\"CASEID\",\"PSU\",\"YEAR\"]].drop_duplicates(subset=[\"CASEID\",\"PSU\",\"YEAR\"]).shape[0]\n",
    "n_wypadkow"
   ]
  },
  {
   "cell_type": "code",
   "execution_count": 44,
   "metadata": {},
   "outputs": [
    {
     "data": {
      "text/plain": [
       "110736"
      ]
     },
     "execution_count": 44,
     "metadata": {},
     "output_type": "execute_result"
    }
   ],
   "source": [
    "n_poszkodowanych = occupants.shape[0]\n",
    "n_poszkodowanych"
   ]
  },
  {
   "cell_type": "markdown",
   "metadata": {},
   "source": [
    "## KOLUMNA **SEX - płeć**"
   ]
  },
  {
   "cell_type": "code",
   "execution_count": 59,
   "metadata": {},
   "outputs": [
    {
     "name": "stdout",
     "output_type": "stream",
     "text": [
      " W kolumnie SEX 1.50% przypadków to NaN \n",
      " Przypadków NaN w SEX jest 1665\n"
     ]
    }
   ],
   "source": [
    "print(f\" W kolumnie SEX {(occupants.SEX.isna().sum()/n_poszkodowanych):.2%} przypadków to NaN \")\n",
    "print(f\" Przypadków NaN w SEX jest {occupants.SEX.isna().sum()}\")"
   ]
  },
  {
   "cell_type": "code",
   "execution_count": 45,
   "metadata": {},
   "outputs": [
    {
     "data": {
      "text/plain": [
       "SEX\n",
       "1.0    0.537296\n",
       "2.0    0.440209\n",
       "3.0    0.007459\n",
       "Name: SEX, dtype: float64"
      ]
     },
     "execution_count": 45,
     "metadata": {},
     "output_type": "execute_result"
    }
   ],
   "source": [
    "wypadki_per_plec = occupants.groupby([\"SEX\"])['SEX'].count()/occupants.shape[0]\n",
    "wypadki_per_plec "
   ]
  },
  {
   "cell_type": "code",
   "execution_count": 65,
   "metadata": {},
   "outputs": [
    {
     "data": {
      "text/plain": [
       "1.0    59498\n",
       "2.0    48747\n",
       "3.0      826\n",
       "Name: SEX, dtype: int64"
      ]
     },
     "execution_count": 65,
     "metadata": {},
     "output_type": "execute_result"
    }
   ],
   "source": [
    "occupants['SEX'].value_counts()"
   ]
  },
  {
   "cell_type": "code",
   "execution_count": 75,
   "metadata": {},
   "outputs": [
    {
     "data": {
      "text/plain": [
       "count    109071.000000\n",
       "mean          1.462075\n",
       "std           0.513527\n",
       "min           1.000000\n",
       "25%           1.000000\n",
       "50%           1.000000\n",
       "75%           2.000000\n",
       "max           3.000000\n",
       "Name: SEX, dtype: float64"
      ]
     },
     "execution_count": 75,
     "metadata": {},
     "output_type": "execute_result"
    }
   ],
   "source": [
    "occupants['SEX'].describe()"
   ]
  },
  {
   "cell_type": "code",
   "execution_count": 60,
   "metadata": {},
   "outputs": [
    {
     "data": {
      "text/plain": [
       "<AxesSubplot:>"
      ]
     },
     "execution_count": 60,
     "metadata": {},
     "output_type": "execute_result"
    },
    {
     "data": {
      "image/png": "[encoded data removed]",
      "text/plain": [
       "<Figure size 432x288 with 1 Axes>"
      ]
     },
     "metadata": {
      "needs_background": "light"
     },
     "output_type": "display_data"
    }
   ],
   "source": [
    "occupants['SEX'].hist()"
   ]
  },
  {
   "cell_type": "markdown",
   "metadata": {},
   "source": [
    "W wypadkach większy udział odnotowano w przypadku mężczyzn (ok 54%), kobiety stanowity ok 46%( w tym ok 0,8% to kobiety w ciąży)."
   ]
  },
  {
   "cell_type": "code",
   "execution_count": 47,
   "metadata": {},
   "outputs": [],
   "source": [
    "wypadki_per_sex_role=occupants.groupby([\"SEX\",'ROLE'],dropna=False)['SEX'].apply(lambda occupants: occupants.count() / n_poszkodowanych).to_frame(name = 'count').reset_index()"
   ]
  },
  {
   "cell_type": "code",
   "execution_count": 51,
   "metadata": {},
   "outputs": [
    {
     "data": {
      "text/html": [
       "<div>\n",
       "<style scoped>\n",
       "    .dataframe tbody tr th:only-of-type {\n",
       "        vertical-align: middle;\n",
       "    }\n",
       "\n",
       "    .dataframe tbody tr th {\n",
       "        vertical-align: top;\n",
       "    }\n",
       "\n",
       "    .dataframe thead th {\n",
       "        text-align: right;\n",
       "    }\n",
       "</style>\n",
       "<table border=\"1\" class=\"dataframe\">\n",
       "  <thead>\n",
       "    <tr style=\"text-align: right;\">\n",
       "      <th></th>\n",
       "      <th>SEX</th>\n",
       "      <th>ROLE</th>\n",
       "      <th>count</th>\n",
       "    </tr>\n",
       "  </thead>\n",
       "  <tbody>\n",
       "    <tr>\n",
       "      <th>0</th>\n",
       "      <td>1.0</td>\n",
       "      <td>1.0</td>\n",
       "      <td>0.379046</td>\n",
       "    </tr>\n",
       "    <tr>\n",
       "      <th>3</th>\n",
       "      <td>2.0</td>\n",
       "      <td>1.0</td>\n",
       "      <td>0.272721</td>\n",
       "    </tr>\n",
       "    <tr>\n",
       "      <th>4</th>\n",
       "      <td>2.0</td>\n",
       "      <td>2.0</td>\n",
       "      <td>0.167452</td>\n",
       "    </tr>\n",
       "    <tr>\n",
       "      <th>1</th>\n",
       "      <td>1.0</td>\n",
       "      <td>2.0</td>\n",
       "      <td>0.158178</td>\n",
       "    </tr>\n",
       "    <tr>\n",
       "      <th>6</th>\n",
       "      <td>3.0</td>\n",
       "      <td>1.0</td>\n",
       "      <td>0.004633</td>\n",
       "    </tr>\n",
       "  </tbody>\n",
       "</table>\n",
       "</div>"
      ],
      "text/plain": [
       "   SEX  ROLE     count\n",
       "0  1.0   1.0  0.379046\n",
       "3  2.0   1.0  0.272721\n",
       "4  2.0   2.0  0.167452\n",
       "1  1.0   2.0  0.158178\n",
       "6  3.0   1.0  0.004633"
      ]
     },
     "execution_count": 51,
     "metadata": {},
     "output_type": "execute_result"
    }
   ],
   "source": [
    "wypadki_per_sex_role.sort_values(by=\"count\", ascending = False).head()"
   ]
  },
  {
   "cell_type": "markdown",
   "metadata": {},
   "source": [
    "Większa liczba mężczyzn kierowców (37,91%) niż kobiet kierowców (27,3%). \n",
    "\n",
    "Większa liczba kobiet jako pasażer (16,75%) niż mężczyzn (15,82%)."
   ]
  },
  {
   "cell_type": "code",
   "execution_count": null,
   "metadata": {},
   "outputs": [],
   "source": []
  },
  {
   "cell_type": "markdown",
   "metadata": {},
   "source": [
    "## KOLUMNA **WEIGHT - waga**\n"
   ]
  },
  {
   "cell_type": "code",
   "execution_count": 53,
   "metadata": {},
   "outputs": [
    {
     "name": "stdout",
     "output_type": "stream",
     "text": [
      " W kolumnie WEIGHT 34.50% przypadków to NaN \n",
      " Przypadków NaN w WEIGHT jest 38202\n"
     ]
    }
   ],
   "source": [
    "print(f\" W kolumnie WEIGHT {(occupants.WEIGHT.isna().sum()/n_poszkodowanych):.2%} przypadków to NaN \")\n",
    "print(f\" Przypadków NaN w WEIGHT jest {occupants.WEIGHT.isna().sum()}\")"
   ]
  },
  {
   "cell_type": "code",
   "execution_count": 49,
   "metadata": {},
   "outputs": [
    {
     "data": {
      "text/plain": [
       "WEIGHT\n",
       "1.0    0.023389\n",
       "2.0    0.018792\n",
       "3.0    0.123654\n",
       "4.0    0.252736\n",
       "5.0    0.170071\n",
       "6.0    0.066374\n",
       "Name: WEIGHT, dtype: float64"
      ]
     },
     "execution_count": 49,
     "metadata": {},
     "output_type": "execute_result"
    }
   ],
   "source": [
    "wypadki_per_waga = occupants.groupby([\"WEIGHT\"])['WEIGHT'].count()/occupants.shape[0]\n",
    "wypadki_per_waga"
   ]
  },
  {
   "cell_type": "code",
   "execution_count": 66,
   "metadata": {},
   "outputs": [
    {
     "data": {
      "text/plain": [
       "4.0    27987\n",
       "5.0    18833\n",
       "3.0    13693\n",
       "6.0     7350\n",
       "1.0     2590\n",
       "2.0     2081\n",
       "Name: WEIGHT, dtype: int64"
      ]
     },
     "execution_count": 66,
     "metadata": {},
     "output_type": "execute_result"
    }
   ],
   "source": [
    "occupants['WEIGHT'].value_counts()"
   ]
  },
  {
   "cell_type": "code",
   "execution_count": 74,
   "metadata": {},
   "outputs": [
    {
     "data": {
      "text/plain": [
       "count    72534.000000\n",
       "mean         4.109025\n",
       "std          1.130491\n",
       "min          1.000000\n",
       "25%          3.000000\n",
       "50%          4.000000\n",
       "75%          5.000000\n",
       "max          6.000000\n",
       "Name: WEIGHT, dtype: float64"
      ]
     },
     "execution_count": 74,
     "metadata": {},
     "output_type": "execute_result"
    }
   ],
   "source": [
    "occupants['WEIGHT'].describe()"
   ]
  },
  {
   "cell_type": "code",
   "execution_count": 61,
   "metadata": {},
   "outputs": [
    {
     "data": {
      "text/plain": [
       "<AxesSubplot:>"
      ]
     },
     "execution_count": 61,
     "metadata": {},
     "output_type": "execute_result"
    },
    {
     "data": {
      "image/png": "[encoded data removed]",
      "text/plain": [
       "<Figure size 432x288 with 1 Axes>"
      ]
     },
     "metadata": {
      "needs_background": "light"
     },
     "output_type": "display_data"
    }
   ],
   "source": [
    "occupants['WEIGHT'].hist()"
   ]
  },
  {
   "cell_type": "markdown",
   "metadata": {},
   "source": [
    "Największa ilość (25,73%) osób o wadze 61-80 kg, następnie 81-100 kg (17,00%), 41-60 kg (12,37%). "
   ]
  },
  {
   "cell_type": "code",
   "execution_count": null,
   "metadata": {},
   "outputs": [],
   "source": []
  },
  {
   "cell_type": "markdown",
   "metadata": {},
   "source": [
    "## KOLUMNA **SEATPOS - pozycja siedzenia pasażera**\n"
   ]
  },
  {
   "cell_type": "code",
   "execution_count": 55,
   "metadata": {},
   "outputs": [
    {
     "name": "stdout",
     "output_type": "stream",
     "text": [
      " W kolumnie SEATPOS 10.96% przypadków to NaN \n",
      " Przypadków NaN w SEATPOS jest 12139\n"
     ]
    }
   ],
   "source": [
    "print(f\" W kolumnie SEATPOS {(occupants.SEATPOS.isna().sum()/n_poszkodowanych):.2%} przypadków to NaN \")\n",
    "print(f\" Przypadków NaN w SEATPOS jest {occupants.SEATPOS.isna().sum()}\")"
   ]
  },
  {
   "cell_type": "code",
   "execution_count": 54,
   "metadata": {},
   "outputs": [
    {
     "data": {
      "text/plain": [
       "SEATPOS\n",
       "1.0    0.762065\n",
       "2.0    0.117875\n",
       "3.0    0.008173\n",
       "4.0    0.002267\n",
       "Name: SEATPOS, dtype: float64"
      ]
     },
     "execution_count": 54,
     "metadata": {},
     "output_type": "execute_result"
    }
   ],
   "source": [
    "wypadki_per_pozycja = occupants.groupby([\"SEATPOS\"])['SEATPOS'].count()/occupants.shape[0]\n",
    "wypadki_per_pozycja "
   ]
  },
  {
   "cell_type": "code",
   "execution_count": 67,
   "metadata": {},
   "outputs": [
    {
     "data": {
      "text/plain": [
       "1.0    84388\n",
       "2.0    13053\n",
       "3.0      905\n",
       "4.0      251\n",
       "Name: SEATPOS, dtype: int64"
      ]
     },
     "execution_count": 67,
     "metadata": {},
     "output_type": "execute_result"
    }
   ],
   "source": [
    "occupants['SEATPOS'].value_counts()"
   ]
  },
  {
   "cell_type": "code",
   "execution_count": 73,
   "metadata": {},
   "outputs": [
    {
     "data": {
      "text/plain": [
       "count    98597.000000\n",
       "mean         1.158382\n",
       "std          0.408572\n",
       "min          1.000000\n",
       "25%          1.000000\n",
       "50%          1.000000\n",
       "75%          1.000000\n",
       "max          4.000000\n",
       "Name: SEATPOS, dtype: float64"
      ]
     },
     "execution_count": 73,
     "metadata": {},
     "output_type": "execute_result"
    }
   ],
   "source": [
    "occupants['SEATPOS'].describe()"
   ]
  },
  {
   "cell_type": "code",
   "execution_count": 62,
   "metadata": {},
   "outputs": [
    {
     "data": {
      "text/plain": [
       "<AxesSubplot:>"
      ]
     },
     "execution_count": 62,
     "metadata": {},
     "output_type": "execute_result"
    },
    {
     "data": {
      "image/png": "[encoded data removed]",
      "text/plain": [
       "<Figure size 432x288 with 1 Axes>"
      ]
     },
     "metadata": {
      "needs_background": "light"
     },
     "output_type": "display_data"
    }
   ],
   "source": [
    "occupants['SEATPOS'].hist()"
   ]
  },
  {
   "cell_type": "markdown",
   "metadata": {},
   "source": [
    "76,21% to pozycja z przodu obok kierowcy, 11.79% to pozycja w drugim rzędzie. "
   ]
  },
  {
   "cell_type": "code",
   "execution_count": null,
   "metadata": {},
   "outputs": [],
   "source": []
  },
  {
   "cell_type": "markdown",
   "metadata": {},
   "source": [
    "## KOLUMNA **BODYTYPE - typ auta**"
   ]
  },
  {
   "cell_type": "code",
   "execution_count": 57,
   "metadata": {},
   "outputs": [
    {
     "name": "stdout",
     "output_type": "stream",
     "text": [
      " W kolumnie BODYTYPE 0.17% przypadków to NaN \n",
      " Przypadków NaN w BODYTYPE jest 193\n"
     ]
    }
   ],
   "source": [
    "print(f\" W kolumnie BODYTYPE {(vehicles.BODYTYPE.isna().sum()/n_poszkodowanych):.2%} przypadków to NaN \")\n",
    "print(f\" Przypadków NaN w BODYTYPE jest {vehicles.BODYTYPE.isna().sum()}\")"
   ]
  },
  {
   "cell_type": "code",
   "execution_count": null,
   "metadata": {},
   "outputs": [],
   "source": [
    "wypadki_per_tauta = vehicles.groupby([\"BODYTYPE\"])['BODYTYPE'].count()/occupants.shape[0]\n",
    "wypadki_per_tauta "
   ]
  },
  {
   "cell_type": "code",
   "execution_count": 68,
   "metadata": {},
   "outputs": [
    {
     "data": {
      "text/plain": [
       "0.0    55002\n",
       "5.0    35604\n",
       "4.0     1616\n",
       "1.0     1332\n",
       "2.0      584\n",
       "3.0      157\n",
       "6.0       55\n",
       "Name: BODYTYPE, dtype: int64"
      ]
     },
     "execution_count": 68,
     "metadata": {},
     "output_type": "execute_result"
    }
   ],
   "source": [
    "vehicles['BODYTYPE'].value_counts()"
   ]
  },
  {
   "cell_type": "code",
   "execution_count": 72,
   "metadata": {},
   "outputs": [
    {
     "data": {
      "text/plain": [
       "count    94350.000000\n",
       "mean         1.990302\n",
       "std          2.412812\n",
       "min          0.000000\n",
       "25%          0.000000\n",
       "50%          0.000000\n",
       "75%          5.000000\n",
       "max          6.000000\n",
       "Name: BODYTYPE, dtype: float64"
      ]
     },
     "execution_count": 72,
     "metadata": {},
     "output_type": "execute_result"
    }
   ],
   "source": [
    "vehicles['BODYTYPE'].describe()"
   ]
  },
  {
   "cell_type": "code",
   "execution_count": 63,
   "metadata": {},
   "outputs": [
    {
     "data": {
      "text/plain": [
       "<AxesSubplot:>"
      ]
     },
     "execution_count": 63,
     "metadata": {},
     "output_type": "execute_result"
    },
    {
     "data": {
      "image/png": "[encoded data removed]",
      "text/plain": [
       "<Figure size 432x288 with 1 Axes>"
      ]
     },
     "metadata": {
      "needs_background": "light"
     },
     "output_type": "display_data"
    }
   ],
   "source": [
    "vehicles['BODYTYPE'].hist()"
   ]
  },
  {
   "cell_type": "markdown",
   "metadata": {},
   "source": [
    "49,67% to auta osobowe biorące udział w wypadku, zaś 32,15% to większe samochody tj. suvy czy vany."
   ]
  },
  {
   "cell_type": "code",
   "execution_count": null,
   "metadata": {},
   "outputs": [],
   "source": []
  },
  {
   "cell_type": "markdown",
   "metadata": {},
   "source": [
    "## KOLUMNA **MAKE - marka auta**"
   ]
  },
  {
   "cell_type": "code",
   "execution_count": 58,
   "metadata": {},
   "outputs": [
    {
     "name": "stdout",
     "output_type": "stream",
     "text": [
      " W kolumnie MAKE 0.61% przypadków to NaN \n",
      " Przypadków NaN w MAKE jest 676\n"
     ]
    }
   ],
   "source": [
    "print(f\" W kolumnie MAKE {(vehicles.MAKE.isna().sum()/n_poszkodowanych):.2%} przypadków to NaN \")\n",
    "print(f\" Przypadków NaN w MAKE jest {vehicles.MAKE.isna().sum()}\")"
   ]
  },
  {
   "cell_type": "code",
   "execution_count": null,
   "metadata": {},
   "outputs": [],
   "source": [
    "wypadki_per_marka_auta = vehicles.groupby([\"MAKE\"])['MAKE'].count()/occupants.shape[0]\n",
    "wypadki_per_marka_auta "
   ]
  },
  {
   "cell_type": "code",
   "execution_count": null,
   "metadata": {},
   "outputs": [],
   "source": [
    "wypadki_per_marka_auta.sort_values(ascending=False)"
   ]
  },
  {
   "cell_type": "code",
   "execution_count": null,
   "metadata": {},
   "outputs": [],
   "source": [
    "((wypadki_per_marka_auta.sort_values(ascending=False))[:10])"
   ]
  },
  {
   "cell_type": "code",
   "execution_count": 70,
   "metadata": {},
   "outputs": [
    {
     "data": {
      "text/plain": [
       "12.0    15145\n",
       "20.0    13738\n",
       "49.0     8906\n",
       "37.0     7107\n",
       "7.0      5770\n",
       "35.0     5205\n",
       "22.0     3075\n",
       "2.0      2767\n",
       "23.0     2336\n",
       "18.0     2182\n",
       "6.0      2161\n",
       "55.0     1914\n",
       "14.0     1615\n",
       "41.0     1601\n",
       "30.0     1466\n",
       "21.0     1356\n",
       "52.0     1315\n",
       "24.0     1296\n",
       "63.0     1288\n",
       "19.0     1143\n",
       "Name: MAKE, dtype: int64"
      ]
     },
     "execution_count": 70,
     "metadata": {},
     "output_type": "execute_result"
    }
   ],
   "source": [
    "vehicles['MAKE'].value_counts().head(20)"
   ]
  },
  {
   "cell_type": "code",
   "execution_count": 71,
   "metadata": {},
   "outputs": [
    {
     "data": {
      "text/plain": [
       "count    93867.000000\n",
       "mean        28.393333\n",
       "std         18.758576\n",
       "min          1.000000\n",
       "25%         12.000000\n",
       "50%         21.000000\n",
       "75%         41.000000\n",
       "max         98.000000\n",
       "Name: MAKE, dtype: float64"
      ]
     },
     "execution_count": 71,
     "metadata": {},
     "output_type": "execute_result"
    }
   ],
   "source": [
    "vehicles['MAKE'].describe()"
   ]
  },
  {
   "cell_type": "code",
   "execution_count": 64,
   "metadata": {},
   "outputs": [
    {
     "data": {
      "text/plain": [
       "<AxesSubplot:>"
      ]
     },
     "execution_count": 64,
     "metadata": {},
     "output_type": "execute_result"
    },
    {
     "data": {
      "image/png": "[encoded data removed]",
      "text/plain": [
       "<Figure size 432x288 with 1 Axes>"
      ]
     },
     "metadata": {
      "needs_background": "light"
     },
     "output_type": "display_data"
    }
   ],
   "source": [
    "vehicles['MAKE'].hist()"
   ]
  },
  {
   "cell_type": "markdown",
   "metadata": {},
   "source": [
    "Najwięcej wypadków miały marki : Ford 13,68%, Chevrolet 12,41%, Toyota 8,04%, Honda 6,42%, Dodge 5,21%.\n",
    "\n"
   ]
  }
 ],
 "metadata": {
  "kernelspec": {
   "display_name": "Python 3",
   "language": "python",
   "name": "python3"
  },
  "language_info": {
   "codemirror_mode": {
    "name": "ipython",
    "version": 3
   },
   "file_extension": ".py",
   "mimetype": "text/x-python",
   "name": "python",
   "nbconvert_exporter": "python",
   "pygments_lexer": "ipython3",
   "version": "3.8.5"
  }
 },
 "nbformat": 4,
 "nbformat_minor": 4
}
