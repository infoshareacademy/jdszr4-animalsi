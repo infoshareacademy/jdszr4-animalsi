{
 "cells": [
  {
   "cell_type": "markdown",
   "metadata": {},
   "source": [
    "# TASK 2 - analiza kolumn SEX, WEIGHT, SEATPOS, BODYTYPE oraz MAKE."
   ]
  },
  {
   "cell_type": "code",
   "execution_count": null,
   "metadata": {},
   "outputs": [],
   "source": [
    "import pandas as pd\n",
    "import numpy as np\n",
    "import matplotlib.pyplot as plt"
   ]
  },
  {
   "cell_type": "code",
   "execution_count": 77,
   "metadata": {},
   "outputs": [],
   "source": [
    "occupants=pd.read_csv(\"occupants.csv\")"
   ]
  },
  {
   "cell_type": "code",
   "execution_count": 78,
   "metadata": {},
   "outputs": [],
   "source": [
    "vehicles=pd.read_csv(\"vehicles.csv\")"
   ]
  },
  {
   "cell_type": "code",
   "execution_count": 79,
   "metadata": {},
   "outputs": [
    {
     "data": {
      "text/plain": [
       "51978"
      ]
     },
     "execution_count": 79,
     "metadata": {},
     "output_type": "execute_result"
    }
   ],
   "source": [
    "n_wypadkow = accidents[[\"CASEID\",\"PSU\",\"YEAR\"]].drop_duplicates(subset=[\"CASEID\",\"PSU\",\"YEAR\"]).shape[0]\n",
    "n_wypadkow"
   ]
  },
  {
   "cell_type": "code",
   "execution_count": 119,
   "metadata": {},
   "outputs": [
    {
     "data": {
      "text/plain": [
       "110736"
      ]
     },
     "execution_count": 119,
     "metadata": {},
     "output_type": "execute_result"
    }
   ],
   "source": [
    "n_poszkodowanych = occupants.shape[0]\n",
    "n_poszkodowanych"
   ]
  },
  {
   "cell_type": "markdown",
   "metadata": {},
   "source": [
    "## KOLUMNA **SEX - płeć**"
   ]
  },
  {
   "cell_type": "code",
   "execution_count": 122,
   "metadata": {},
   "outputs": [
    {
     "name": "stdout",
     "output_type": "stream",
     "text": [
      " W kolumnie SEX 1.50% jest wartości NaN. \n",
      " Przypadków NaN w kolumnie SEX jest 1665.\n"
     ]
    }
   ],
   "source": [
    "print(f\" W kolumnie SEX {(occupants.SEX.isna().sum()/n_poszkodowanych):.2%} jest wartości NaN. \")\n",
    "print(f\" Przypadków NaN w kolumnie SEX jest {occupants.SEX.isna().sum()}.\")"
   ]
  },
  {
   "cell_type": "code",
   "execution_count": 129,
   "metadata": {},
   "outputs": [
    {
     "data": {
      "text/plain": [
       "1.0    59498\n",
       "2.0    48747\n",
       "3.0      826\n",
       "Name: SEX, dtype: int64"
      ]
     },
     "execution_count": 129,
     "metadata": {},
     "output_type": "execute_result"
    }
   ],
   "source": [
    "occupants['SEX'].value_counts()"
   ]
  },
  {
   "cell_type": "code",
   "execution_count": 128,
   "metadata": {},
   "outputs": [
    {
     "data": {
      "text/plain": [
       "<AxesSubplot:>"
      ]
     },
     "execution_count": 128,
     "metadata": {},
     "output_type": "execute_result"
    },
    {
     "data": {
      "image/png": "[encoded data removed]",
      "text/plain": [
       "<Figure size 432x288 with 1 Axes>"
      ]
     },
     "metadata": {
      "needs_background": "light"
     },
     "output_type": "display_data"
    }
   ],
   "source": [
    "occupants['SEX'].hist()"
   ]
  },
  {
   "cell_type": "code",
   "execution_count": 124,
   "metadata": {
    "scrolled": true
   },
   "outputs": [
    {
     "data": {
      "text/plain": [
       "SEX\n",
       "1.0    0.537296\n",
       "2.0    0.440209\n",
       "3.0    0.007459\n",
       "Name: SEX, dtype: float64"
      ]
     },
     "execution_count": 124,
     "metadata": {},
     "output_type": "execute_result"
    }
   ],
   "source": [
    "wypadki_per_plec = occupants.groupby([\"SEX\"])['SEX'].count()/occupants.shape[0]\n",
    "wypadki_per_plec "
   ]
  },
  {
   "cell_type": "markdown",
   "metadata": {},
   "source": [
    "**W wypadkach większy udział odnotowano w przypadku mężczyzn (ok 54%), kobiety stanowity ok 46% (w tym ok 0,8% to kobiety w ciąży).**"
   ]
  },
  {
   "cell_type": "code",
   "execution_count": 86,
   "metadata": {},
   "outputs": [],
   "source": [
    "wypadki_per_sex_role=occupants.groupby([\"SEX\",'ROLE'],dropna=False)['SEX'].apply(lambda occupants: occupants.count() / n_poszkodowanych).to_frame(name = 'count').reset_index()"
   ]
  },
  {
   "cell_type": "code",
   "execution_count": 87,
   "metadata": {},
   "outputs": [
    {
     "data": {
      "text/html": [
       "<div>\n",
       "<style scoped>\n",
       "    .dataframe tbody tr th:only-of-type {\n",
       "        vertical-align: middle;\n",
       "    }\n",
       "\n",
       "    .dataframe tbody tr th {\n",
       "        vertical-align: top;\n",
       "    }\n",
       "\n",
       "    .dataframe thead th {\n",
       "        text-align: right;\n",
       "    }\n",
       "</style>\n",
       "<table border=\"1\" class=\"dataframe\">\n",
       "  <thead>\n",
       "    <tr style=\"text-align: right;\">\n",
       "      <th></th>\n",
       "      <th>SEX</th>\n",
       "      <th>ROLE</th>\n",
       "      <th>count</th>\n",
       "    </tr>\n",
       "  </thead>\n",
       "  <tbody>\n",
       "    <tr>\n",
       "      <th>0</th>\n",
       "      <td>1.0</td>\n",
       "      <td>1.0</td>\n",
       "      <td>0.379046</td>\n",
       "    </tr>\n",
       "    <tr>\n",
       "      <th>3</th>\n",
       "      <td>2.0</td>\n",
       "      <td>1.0</td>\n",
       "      <td>0.272721</td>\n",
       "    </tr>\n",
       "    <tr>\n",
       "      <th>4</th>\n",
       "      <td>2.0</td>\n",
       "      <td>2.0</td>\n",
       "      <td>0.167452</td>\n",
       "    </tr>\n",
       "    <tr>\n",
       "      <th>1</th>\n",
       "      <td>1.0</td>\n",
       "      <td>2.0</td>\n",
       "      <td>0.158178</td>\n",
       "    </tr>\n",
       "    <tr>\n",
       "      <th>6</th>\n",
       "      <td>3.0</td>\n",
       "      <td>1.0</td>\n",
       "      <td>0.004633</td>\n",
       "    </tr>\n",
       "  </tbody>\n",
       "</table>\n",
       "</div>"
      ],
      "text/plain": [
       "   SEX  ROLE     count\n",
       "0  1.0   1.0  0.379046\n",
       "3  2.0   1.0  0.272721\n",
       "4  2.0   2.0  0.167452\n",
       "1  1.0   2.0  0.158178\n",
       "6  3.0   1.0  0.004633"
      ]
     },
     "execution_count": 87,
     "metadata": {},
     "output_type": "execute_result"
    }
   ],
   "source": [
    "wypadki_per_sex_role.sort_values(by=\"count\", ascending = False).head()"
   ]
  },
  {
   "cell_type": "markdown",
   "metadata": {},
   "source": [
    "**Większa liczba mężczyzn kierowców (37,91%) niż kobiet kierowców (27,3%).** \n",
    "\n",
    "**Większa liczba kobiet jako pasażer (16,75%) niż mężczyzn (15,82%).**"
   ]
  },
  {
   "cell_type": "code",
   "execution_count": null,
   "metadata": {},
   "outputs": [],
   "source": []
  },
  {
   "cell_type": "markdown",
   "metadata": {},
   "source": [
    "## KOLUMNA **WEIGHT - waga**\n"
   ]
  },
  {
   "cell_type": "code",
   "execution_count": 88,
   "metadata": {},
   "outputs": [
    {
     "name": "stdout",
     "output_type": "stream",
     "text": [
      " W kolumnie WEIGHT 34.50% przypadków to NaN \n",
      " Przypadków NaN w WEIGHT jest 38202\n"
     ]
    }
   ],
   "source": [
    "print(f\" W kolumnie WEIGHT {(occupants.WEIGHT.isna().sum()/n_poszkodowanych):.2%} jest wartości NaN. \")\n",
    "print(f\" Przypadków NaN w kolumnie WEIGHT jest {occupants.WEIGHT.isna().sum()}.\")"
   ]
  },
  {
   "cell_type": "code",
   "execution_count": 90,
   "metadata": {},
   "outputs": [
    {
     "data": {
      "text/plain": [
       "4.0    27987\n",
       "5.0    18833\n",
       "3.0    13693\n",
       "6.0     7350\n",
       "1.0     2590\n",
       "2.0     2081\n",
       "Name: WEIGHT, dtype: int64"
      ]
     },
     "execution_count": 90,
     "metadata": {},
     "output_type": "execute_result"
    }
   ],
   "source": [
    "occupants['WEIGHT'].value_counts()"
   ]
  },
  {
   "cell_type": "markdown",
   "metadata": {},
   "source": [
    "**Najwięcej pasażerów odnotowano w wadze 61-80 kg, potem 81-100 kg, następnie 41-60kg.**"
   ]
  },
  {
   "cell_type": "code",
   "execution_count": 92,
   "metadata": {},
   "outputs": [
    {
     "data": {
      "text/plain": [
       "<AxesSubplot:>"
      ]
     },
     "execution_count": 92,
     "metadata": {},
     "output_type": "execute_result"
    },
    {
     "data": {
      "image/png": "[encoded data removed]",
      "text/plain": [
       "<Figure size 432x288 with 1 Axes>"
      ]
     },
     "metadata": {
      "needs_background": "light"
     },
     "output_type": "display_data"
    }
   ],
   "source": [
    "occupants['WEIGHT'].hist()"
   ]
  },
  {
   "cell_type": "code",
   "execution_count": 131,
   "metadata": {},
   "outputs": [
    {
     "data": {
      "text/plain": [
       "WEIGHT\n",
       "1.0    0.023389\n",
       "2.0    0.018792\n",
       "3.0    0.123654\n",
       "4.0    0.252736\n",
       "5.0    0.170071\n",
       "6.0    0.066374\n",
       "Name: WEIGHT, dtype: float64"
      ]
     },
     "execution_count": 131,
     "metadata": {},
     "output_type": "execute_result"
    }
   ],
   "source": [
    "wypadki_per_waga = occupants.groupby([\"WEIGHT\"])['WEIGHT'].count()/occupants.shape[0]\n",
    "wypadki_per_waga"
   ]
  },
  {
   "cell_type": "markdown",
   "metadata": {},
   "source": [
    "**Największa ilość (25,73%) osób o wadze 61-80 kg, następnie 81-100 kg (17,00%), 41-60 kg (12,37%).**"
   ]
  },
  {
   "cell_type": "code",
   "execution_count": null,
   "metadata": {},
   "outputs": [],
   "source": []
  },
  {
   "cell_type": "markdown",
   "metadata": {},
   "source": [
    "## KOLUMNA **SEATPOS - pozycja siedzenia pasażera**\n"
   ]
  },
  {
   "cell_type": "code",
   "execution_count": 93,
   "metadata": {},
   "outputs": [
    {
     "name": "stdout",
     "output_type": "stream",
     "text": [
      " W kolumnie SEATPOS 10.96% przypadków to NaN \n",
      " Przypadków NaN w SEATPOS jest 12139\n"
     ]
    }
   ],
   "source": [
    "print(f\" W kolumnie SEATPOS {(occupants.SEATPOS.isna().sum()/n_poszkodowanych):.2%} jest wartości NaN. \")\n",
    "print(f\" Przypadków NaN w kolumnie SEATPOS jest {occupants.SEATPOS.isna().sum()}.\")"
   ]
  },
  {
   "cell_type": "code",
   "execution_count": 95,
   "metadata": {},
   "outputs": [
    {
     "data": {
      "text/plain": [
       "1.0    84388\n",
       "2.0    13053\n",
       "3.0      905\n",
       "4.0      251\n",
       "Name: SEATPOS, dtype: int64"
      ]
     },
     "execution_count": 95,
     "metadata": {},
     "output_type": "execute_result"
    }
   ],
   "source": [
    "occupants['SEATPOS'].value_counts()"
   ]
  },
  {
   "cell_type": "code",
   "execution_count": 115,
   "metadata": {},
   "outputs": [
    {
     "data": {
      "text/plain": [
       "<AxesSubplot:>"
      ]
     },
     "execution_count": 115,
     "metadata": {},
     "output_type": "execute_result"
    },
    {
     "data": {
      "image/png": "[encoded data removed]",
      "text/plain": [
       "<Figure size 432x288 with 1 Axes>"
      ]
     },
     "metadata": {
      "needs_background": "light"
     },
     "output_type": "display_data"
    }
   ],
   "source": [
    "occupants['SEATPOS'].hist()"
   ]
  },
  {
   "cell_type": "markdown",
   "metadata": {},
   "source": [
    "**Najwięcej odnotowano miejsc w pierwszym rzędzie, następnie w drugim i trzecim.**"
   ]
  },
  {
   "cell_type": "code",
   "execution_count": 132,
   "metadata": {},
   "outputs": [
    {
     "data": {
      "text/plain": [
       "SEATPOS\n",
       "1.0    0.762065\n",
       "2.0    0.117875\n",
       "3.0    0.008173\n",
       "4.0    0.002267\n",
       "Name: SEATPOS, dtype: float64"
      ]
     },
     "execution_count": 132,
     "metadata": {},
     "output_type": "execute_result"
    }
   ],
   "source": [
    "wypadki_per_pozycja = occupants.groupby([\"SEATPOS\"])['SEATPOS'].count()/occupants.shape[0]\n",
    "wypadki_per_pozycja "
   ]
  },
  {
   "cell_type": "markdown",
   "metadata": {},
   "source": [
    "**76,21% to pozycja z przodu obok kierowcy, 11.79% to pozycja w drugim rzędzie.**"
   ]
  },
  {
   "cell_type": "code",
   "execution_count": 149,
   "metadata": {},
   "outputs": [],
   "source": [
    "wypadki_per_seatpos_role=occupants.groupby([\"ROLE\",'SEATPOS'],dropna=False)['ROLE'].apply(lambda occupants: occupants.count() / n_poszkodowanych).to_frame(name = 'count').reset_index()"
   ]
  },
  {
   "cell_type": "code",
   "execution_count": 144,
   "metadata": {
    "scrolled": true
   },
   "outputs": [
    {
     "data": {
      "text/html": [
       "<div>\n",
       "<style scoped>\n",
       "    .dataframe tbody tr th:only-of-type {\n",
       "        vertical-align: middle;\n",
       "    }\n",
       "\n",
       "    .dataframe tbody tr th {\n",
       "        vertical-align: top;\n",
       "    }\n",
       "\n",
       "    .dataframe thead th {\n",
       "        text-align: right;\n",
       "    }\n",
       "</style>\n",
       "<table border=\"1\" class=\"dataframe\">\n",
       "  <thead>\n",
       "    <tr style=\"text-align: right;\">\n",
       "      <th></th>\n",
       "      <th>ROLE</th>\n",
       "      <th>SEATPOS</th>\n",
       "      <th>count</th>\n",
       "    </tr>\n",
       "  </thead>\n",
       "  <tbody>\n",
       "    <tr>\n",
       "      <th>0</th>\n",
       "      <td>1.0</td>\n",
       "      <td>1.0</td>\n",
       "      <td>0.591777</td>\n",
       "    </tr>\n",
       "    <tr>\n",
       "      <th>1</th>\n",
       "      <td>1.0</td>\n",
       "      <td>2.0</td>\n",
       "      <td>0.000027</td>\n",
       "    </tr>\n",
       "    <tr>\n",
       "      <th>2</th>\n",
       "      <td>1.0</td>\n",
       "      <td>NaN</td>\n",
       "      <td>0.069047</td>\n",
       "    </tr>\n",
       "    <tr>\n",
       "      <th>3</th>\n",
       "      <td>2.0</td>\n",
       "      <td>1.0</td>\n",
       "      <td>0.170288</td>\n",
       "    </tr>\n",
       "    <tr>\n",
       "      <th>4</th>\n",
       "      <td>2.0</td>\n",
       "      <td>2.0</td>\n",
       "      <td>0.117848</td>\n",
       "    </tr>\n",
       "    <tr>\n",
       "      <th>5</th>\n",
       "      <td>2.0</td>\n",
       "      <td>3.0</td>\n",
       "      <td>0.008173</td>\n",
       "    </tr>\n",
       "    <tr>\n",
       "      <th>6</th>\n",
       "      <td>2.0</td>\n",
       "      <td>4.0</td>\n",
       "      <td>0.002240</td>\n",
       "    </tr>\n",
       "    <tr>\n",
       "      <th>7</th>\n",
       "      <td>2.0</td>\n",
       "      <td>NaN</td>\n",
       "      <td>0.040321</td>\n",
       "    </tr>\n",
       "    <tr>\n",
       "      <th>8</th>\n",
       "      <td>NaN</td>\n",
       "      <td>4.0</td>\n",
       "      <td>0.000000</td>\n",
       "    </tr>\n",
       "    <tr>\n",
       "      <th>9</th>\n",
       "      <td>NaN</td>\n",
       "      <td>NaN</td>\n",
       "      <td>0.000000</td>\n",
       "    </tr>\n",
       "  </tbody>\n",
       "</table>\n",
       "</div>"
      ],
      "text/plain": [
       "   ROLE  SEATPOS     count\n",
       "0   1.0      1.0  0.591777\n",
       "1   1.0      2.0  0.000027\n",
       "2   1.0      NaN  0.069047\n",
       "3   2.0      1.0  0.170288\n",
       "4   2.0      2.0  0.117848\n",
       "5   2.0      3.0  0.008173\n",
       "6   2.0      4.0  0.002240\n",
       "7   2.0      NaN  0.040321\n",
       "8   NaN      4.0  0.000000\n",
       "9   NaN      NaN  0.000000"
      ]
     },
     "execution_count": 144,
     "metadata": {},
     "output_type": "execute_result"
    }
   ],
   "source": [
    "wypadki_per_seatpos_role"
   ]
  },
  {
   "cell_type": "markdown",
   "metadata": {},
   "source": [
    "**Największa liczba pasażerów siedziała w pierwszym rzędzie (17,03%), zaś w drugim rzędzie siedziało 11,79% pasażerów.**"
   ]
  },
  {
   "cell_type": "markdown",
   "metadata": {},
   "source": [
    "## KOLUMNA **BODYTYPE - typ auta**"
   ]
  },
  {
   "cell_type": "code",
   "execution_count": 98,
   "metadata": {
    "scrolled": true
   },
   "outputs": [
    {
     "name": "stdout",
     "output_type": "stream",
     "text": [
      " W kolumnie BODYTYPE 0.17% przypadków to NaN \n",
      " Przypadków NaN w BODYTYPE jest 193\n"
     ]
    }
   ],
   "source": [
    "print(f\" W kolumnie BODYTYPE {(vehicles.BODYTYPE.isna().sum()/n_poszkodowanych):.2%} jest wartości NaN. \")\n",
    "print(f\" Przypadków NaN w kolumnie w BODYTYPE jest {vehicles.BODYTYPE.isna().sum()}\")"
   ]
  },
  {
   "cell_type": "code",
   "execution_count": 100,
   "metadata": {},
   "outputs": [
    {
     "data": {
      "text/plain": [
       "0.0    55002\n",
       "5.0    35604\n",
       "4.0     1616\n",
       "1.0     1332\n",
       "2.0      584\n",
       "3.0      157\n",
       "6.0       55\n",
       "Name: BODYTYPE, dtype: int64"
      ]
     },
     "execution_count": 100,
     "metadata": {},
     "output_type": "execute_result"
    }
   ],
   "source": [
    "vehicles['BODYTYPE'].value_counts()"
   ]
  },
  {
   "cell_type": "code",
   "execution_count": 118,
   "metadata": {},
   "outputs": [
    {
     "data": {
      "text/plain": [
       "<AxesSubplot:>"
      ]
     },
     "execution_count": 118,
     "metadata": {},
     "output_type": "execute_result"
    },
    {
     "data": {
      "image/png": "[encoded data removed]",
      "text/plain": [
       "<Figure size 432x288 with 1 Axes>"
      ]
     },
     "metadata": {
      "needs_background": "light"
     },
     "output_type": "display_data"
    }
   ],
   "source": [
    "vehicles['BODYTYPE'].hist()"
   ]
  },
  {
   "cell_type": "markdown",
   "metadata": {},
   "source": [
    "**Najwięcej jest aut typu osobowego, potem większe osobowe następnie motory i quady.**"
   ]
  },
  {
   "cell_type": "code",
   "execution_count": 150,
   "metadata": {},
   "outputs": [
    {
     "data": {
      "text/plain": [
       "BODYTYPE\n",
       "0.0    0.496695\n",
       "1.0    0.012029\n",
       "2.0    0.005274\n",
       "3.0    0.001418\n",
       "4.0    0.014593\n",
       "5.0    0.321521\n",
       "6.0    0.000497\n",
       "Name: BODYTYPE, dtype: float64"
      ]
     },
     "execution_count": 150,
     "metadata": {},
     "output_type": "execute_result"
    }
   ],
   "source": [
    "wypadki_per_tauta = vehicles.groupby([\"BODYTYPE\"])['BODYTYPE'].count()/occupants.shape[0]\n",
    "wypadki_per_tauta "
   ]
  },
  {
   "cell_type": "markdown",
   "metadata": {},
   "source": [
    "**49,67% to auta osobowe biorące udział w wypadku, zaś 32,15% to większe samochody tj. suvy czy vany.**"
   ]
  },
  {
   "cell_type": "code",
   "execution_count": null,
   "metadata": {},
   "outputs": [],
   "source": []
  },
  {
   "cell_type": "markdown",
   "metadata": {},
   "source": [
    "## KOLUMNA **MAKE - marka auta**"
   ]
  },
  {
   "cell_type": "code",
   "execution_count": 103,
   "metadata": {},
   "outputs": [
    {
     "name": "stdout",
     "output_type": "stream",
     "text": [
      " W kolumnie MAKE 0.61% przypadków to NaN \n",
      " Przypadków NaN w MAKE jest 676\n"
     ]
    }
   ],
   "source": [
    "print(f\" W kolumnie MAKE {(vehicles.MAKE.isna().sum()/n_poszkodowanych):.2%} jest wartości NaN. \")\n",
    "print(f\" Przypadków NaN w kolumnie MAKE jest {vehicles.MAKE.isna().sum()}\")"
   ]
  },
  {
   "cell_type": "code",
   "execution_count": 153,
   "metadata": {},
   "outputs": [
    {
     "data": {
      "text/plain": [
       "count    93867.000000\n",
       "mean        28.393333\n",
       "std         18.758576\n",
       "min          1.000000\n",
       "25%         12.000000\n",
       "50%         21.000000\n",
       "75%         41.000000\n",
       "max         98.000000\n",
       "Name: MAKE, dtype: float64"
      ]
     },
     "execution_count": 153,
     "metadata": {},
     "output_type": "execute_result"
    }
   ],
   "source": [
    "vehicles['MAKE'].describe()"
   ]
  },
  {
   "cell_type": "code",
   "execution_count": 154,
   "metadata": {},
   "outputs": [
    {
     "data": {
      "text/plain": [
       "<AxesSubplot:>"
      ]
     },
     "execution_count": 154,
     "metadata": {},
     "output_type": "execute_result"
    },
    {
     "data": {
      "image/png": "[encoded data removed]",
      "text/plain": [
       "<Figure size 432x288 with 1 Axes>"
      ]
     },
     "metadata": {
      "needs_background": "light"
     },
     "output_type": "display_data"
    }
   ],
   "source": [
    "vehicles['MAKE'].hist()"
   ]
  },
  {
   "cell_type": "markdown",
   "metadata": {},
   "source": [
    "**Najwięcej aut jest marki : Ford, Chevrolet, Eagle,Honda, Dodge.**"
   ]
  },
  {
   "cell_type": "code",
   "execution_count": 151,
   "metadata": {},
   "outputs": [
    {
     "data": {
      "text/plain": [
       "MAKE\n",
       "1.0     0.000054\n",
       "2.0     0.024987\n",
       "3.0     0.000596\n",
       "6.0     0.019515\n",
       "7.0     0.052106\n",
       "          ...   \n",
       "84.0    0.004895\n",
       "85.0    0.002149\n",
       "86.0    0.002249\n",
       "87.0    0.002203\n",
       "98.0    0.004145\n",
       "Name: MAKE, Length: 63, dtype: float64"
      ]
     },
     "execution_count": 151,
     "metadata": {},
     "output_type": "execute_result"
    }
   ],
   "source": [
    "wypadki_per_marka_auta = vehicles.groupby([\"MAKE\"])['MAKE'].count()/occupants.shape[0]\n",
    "wypadki_per_marka_auta "
   ]
  },
  {
   "cell_type": "code",
   "execution_count": 152,
   "metadata": {},
   "outputs": [
    {
     "data": {
      "text/plain": [
       "MAKE\n",
       "12.0    0.136767\n",
       "20.0    0.124061\n",
       "49.0    0.080426\n",
       "37.0    0.064180\n",
       "7.0     0.052106\n",
       "          ...   \n",
       "78.0    0.000018\n",
       "31.0    0.000009\n",
       "60.0    0.000009\n",
       "71.0    0.000009\n",
       "43.0    0.000009\n",
       "Name: MAKE, Length: 63, dtype: float64"
      ]
     },
     "execution_count": 152,
     "metadata": {},
     "output_type": "execute_result"
    }
   ],
   "source": [
    "wypadki_per_marka_auta.sort_values(ascending=False)"
   ]
  },
  {
   "cell_type": "code",
   "execution_count": 114,
   "metadata": {
    "scrolled": true
   },
   "outputs": [
    {
     "data": {
      "text/plain": [
       "MAKE\n",
       "12.0    0.136767\n",
       "20.0    0.124061\n",
       "49.0    0.080426\n",
       "37.0    0.064180\n",
       "7.0     0.052106\n",
       "35.0    0.047004\n",
       "22.0    0.027769\n",
       "2.0     0.024987\n",
       "23.0    0.021095\n",
       "18.0    0.019705\n",
       "6.0     0.019515\n",
       "55.0    0.017284\n",
       "14.0    0.014584\n",
       "41.0    0.014458\n",
       "30.0    0.013239\n",
       "21.0    0.012245\n",
       "52.0    0.011875\n",
       "24.0    0.011704\n",
       "63.0    0.011631\n",
       "19.0    0.010322\n",
       "59.0    0.009897\n",
       "54.0    0.009798\n",
       "34.0    0.009509\n",
       "48.0    0.009103\n",
       "42.0    0.008967\n",
       "13.0    0.007568\n",
       "51.0    0.006863\n",
       "82.0    0.005924\n",
       "9.0     0.005147\n",
       "58.0    0.005030\n",
       "84.0    0.004895\n",
       "98.0    0.004145\n",
       "53.0    0.003423\n",
       "32.0    0.003414\n",
       "38.0    0.003395\n",
       "86.0    0.002249\n",
       "87.0    0.002203\n",
       "85.0    0.002149\n",
       "62.0    0.001517\n",
       "47.0    0.001436\n",
       "39.0    0.001300\n",
       "69.0    0.000939\n",
       "45.0    0.000668\n",
       "3.0     0.000596\n",
       "64.0    0.000515\n",
       "10.0    0.000397\n",
       "Name: MAKE, dtype: float64"
      ]
     },
     "execution_count": 114,
     "metadata": {},
     "output_type": "execute_result"
    }
   ],
   "source": [
    "((wypadki_per_marka_auta.sort_values(ascending=False))[:10])"
   ]
  },
  {
   "cell_type": "markdown",
   "metadata": {},
   "source": [
    "**Najwięcej wypadków miały marki : Ford 13,68%, Chevrolet 12,41%, Toyota 8,04%, Honda 6,42%, Dodge 5,21%.**\n",
    "\n"
   ]
  }
 ],
 "metadata": {
  "kernelspec": {
   "display_name": "Python 3",
   "language": "python",
   "name": "python3"
  },
  "language_info": {
   "codemirror_mode": {
    "name": "ipython",
    "version": 3
   },
   "file_extension": ".py",
   "mimetype": "text/x-python",
   "name": "python",
   "nbconvert_exporter": "python",
   "pygments_lexer": "ipython3",
   "version": "3.8.5"
  }
 },
 "nbformat": 4,
 "nbformat_minor": 4
}
