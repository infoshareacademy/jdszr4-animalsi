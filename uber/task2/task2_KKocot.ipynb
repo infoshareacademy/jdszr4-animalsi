{
 "cells": [
  {
   "cell_type": "markdown",
   "metadata": {},
   "source": [
    "### TAKS 2 - analiza kolumn: HEIGHT, INJSEV, MANUSE, OCCNO, ROLE"
   ]
  },
  {
   "cell_type": "code",
   "execution_count": 1,
   "metadata": {},
   "outputs": [],
   "source": [
    "import pandas as pd"
   ]
  },
  {
   "cell_type": "code",
   "execution_count": 2,
   "metadata": {},
   "outputs": [],
   "source": [
    "vehicles=pd.read_csv(\"vehicles.csv\")"
   ]
  },
  {
   "cell_type": "code",
   "execution_count": 3,
   "metadata": {},
   "outputs": [
    {
     "data": {
      "text/html": [
       "<div>\n",
       "<style scoped>\n",
       "    .dataframe tbody tr th:only-of-type {\n",
       "        vertical-align: middle;\n",
       "    }\n",
       "\n",
       "    .dataframe tbody tr th {\n",
       "        vertical-align: top;\n",
       "    }\n",
       "\n",
       "    .dataframe thead th {\n",
       "        text-align: right;\n",
       "    }\n",
       "</style>\n",
       "<table border=\"1\" class=\"dataframe\">\n",
       "  <thead>\n",
       "    <tr style=\"text-align: right;\">\n",
       "      <th></th>\n",
       "      <th>CASEID</th>\n",
       "      <th>PSU</th>\n",
       "      <th>BODYTYPE</th>\n",
       "      <th>MAKE</th>\n",
       "      <th>DVTOTAL</th>\n",
       "      <th>MODELYR</th>\n",
       "    </tr>\n",
       "  </thead>\n",
       "  <tbody>\n",
       "    <tr>\n",
       "      <th>0</th>\n",
       "      <td>1H</td>\n",
       "      <td>2</td>\n",
       "      <td>0.0</td>\n",
       "      <td>37.0</td>\n",
       "      <td>NaN</td>\n",
       "      <td>1995.0</td>\n",
       "    </tr>\n",
       "    <tr>\n",
       "      <th>1</th>\n",
       "      <td>2K</td>\n",
       "      <td>2</td>\n",
       "      <td>5.0</td>\n",
       "      <td>37.0</td>\n",
       "      <td>37.0</td>\n",
       "      <td>2001.0</td>\n",
       "    </tr>\n",
       "    <tr>\n",
       "      <th>2</th>\n",
       "      <td>2K</td>\n",
       "      <td>2</td>\n",
       "      <td>5.0</td>\n",
       "      <td>49.0</td>\n",
       "      <td>40.0</td>\n",
       "      <td>1998.0</td>\n",
       "    </tr>\n",
       "    <tr>\n",
       "      <th>3</th>\n",
       "      <td>3E</td>\n",
       "      <td>2</td>\n",
       "      <td>0.0</td>\n",
       "      <td>20.0</td>\n",
       "      <td>15.0</td>\n",
       "      <td>2001.0</td>\n",
       "    </tr>\n",
       "    <tr>\n",
       "      <th>4</th>\n",
       "      <td>3E</td>\n",
       "      <td>2</td>\n",
       "      <td>0.0</td>\n",
       "      <td>55.0</td>\n",
       "      <td>22.0</td>\n",
       "      <td>2001.0</td>\n",
       "    </tr>\n",
       "  </tbody>\n",
       "</table>\n",
       "</div>"
      ],
      "text/plain": [
       "  CASEID  PSU  BODYTYPE  MAKE  DVTOTAL  MODELYR\n",
       "0     1H    2       0.0  37.0      NaN   1995.0\n",
       "1     2K    2       5.0  37.0     37.0   2001.0\n",
       "2     2K    2       5.0  49.0     40.0   1998.0\n",
       "3     3E    2       0.0  20.0     15.0   2001.0\n",
       "4     3E    2       0.0  55.0     22.0   2001.0"
      ]
     },
     "execution_count": 3,
     "metadata": {},
     "output_type": "execute_result"
    }
   ],
   "source": [
    "vehicles.head(5)"
   ]
  },
  {
   "cell_type": "code",
   "execution_count": 4,
   "metadata": {},
   "outputs": [],
   "source": [
    "accidents=pd.read_csv(\"accidents.csv\")"
   ]
  },
  {
   "cell_type": "code",
   "execution_count": 5,
   "metadata": {},
   "outputs": [
    {
     "data": {
      "text/html": [
       "<div>\n",
       "<style scoped>\n",
       "    .dataframe tbody tr th:only-of-type {\n",
       "        vertical-align: middle;\n",
       "    }\n",
       "\n",
       "    .dataframe tbody tr th {\n",
       "        vertical-align: top;\n",
       "    }\n",
       "\n",
       "    .dataframe thead th {\n",
       "        text-align: right;\n",
       "    }\n",
       "</style>\n",
       "<table border=\"1\" class=\"dataframe\">\n",
       "  <thead>\n",
       "    <tr style=\"text-align: right;\">\n",
       "      <th></th>\n",
       "      <th>CASEID</th>\n",
       "      <th>PSU</th>\n",
       "      <th>STRATIF</th>\n",
       "      <th>YEAR</th>\n",
       "    </tr>\n",
       "  </thead>\n",
       "  <tbody>\n",
       "    <tr>\n",
       "      <th>0</th>\n",
       "      <td>1H</td>\n",
       "      <td>2</td>\n",
       "      <td>4.0</td>\n",
       "      <td>2004</td>\n",
       "    </tr>\n",
       "    <tr>\n",
       "      <th>1</th>\n",
       "      <td>2K</td>\n",
       "      <td>2</td>\n",
       "      <td>1.0</td>\n",
       "      <td>2004</td>\n",
       "    </tr>\n",
       "    <tr>\n",
       "      <th>2</th>\n",
       "      <td>3E</td>\n",
       "      <td>2</td>\n",
       "      <td>3.0</td>\n",
       "      <td>2004</td>\n",
       "    </tr>\n",
       "    <tr>\n",
       "      <th>3</th>\n",
       "      <td>4A</td>\n",
       "      <td>2</td>\n",
       "      <td>0.0</td>\n",
       "      <td>2004</td>\n",
       "    </tr>\n",
       "    <tr>\n",
       "      <th>4</th>\n",
       "      <td>5D</td>\n",
       "      <td>2</td>\n",
       "      <td>2.0</td>\n",
       "      <td>2004</td>\n",
       "    </tr>\n",
       "  </tbody>\n",
       "</table>\n",
       "</div>"
      ],
      "text/plain": [
       "  CASEID  PSU  STRATIF  YEAR\n",
       "0     1H    2      4.0  2004\n",
       "1     2K    2      1.0  2004\n",
       "2     3E    2      3.0  2004\n",
       "3     4A    2      0.0  2004\n",
       "4     5D    2      2.0  2004"
      ]
     },
     "execution_count": 5,
     "metadata": {},
     "output_type": "execute_result"
    }
   ],
   "source": [
    "accidents.head(5)"
   ]
  },
  {
   "cell_type": "code",
   "execution_count": 6,
   "metadata": {},
   "outputs": [],
   "source": [
    "occupants=pd.read_csv(\"occupants.csv\")"
   ]
  },
  {
   "cell_type": "code",
   "execution_count": 7,
   "metadata": {},
   "outputs": [
    {
     "data": {
      "text/html": [
       "<div>\n",
       "<style scoped>\n",
       "    .dataframe tbody tr th:only-of-type {\n",
       "        vertical-align: middle;\n",
       "    }\n",
       "\n",
       "    .dataframe tbody tr th {\n",
       "        vertical-align: top;\n",
       "    }\n",
       "\n",
       "    .dataframe thead th {\n",
       "        text-align: right;\n",
       "    }\n",
       "</style>\n",
       "<table border=\"1\" class=\"dataframe\">\n",
       "  <thead>\n",
       "    <tr style=\"text-align: right;\">\n",
       "      <th></th>\n",
       "      <th>CASEID</th>\n",
       "      <th>PSU</th>\n",
       "      <th>AGE</th>\n",
       "      <th>BAGAVAIL</th>\n",
       "      <th>CHTYPE</th>\n",
       "      <th>HEIGHT</th>\n",
       "      <th>INJSEV</th>\n",
       "      <th>MANUSE</th>\n",
       "      <th>OCCNO</th>\n",
       "      <th>ROLE</th>\n",
       "      <th>SEATPOS</th>\n",
       "      <th>SEX</th>\n",
       "      <th>WEIGHT</th>\n",
       "    </tr>\n",
       "  </thead>\n",
       "  <tbody>\n",
       "    <tr>\n",
       "      <th>0</th>\n",
       "      <td>1H</td>\n",
       "      <td>2</td>\n",
       "      <td>5.0</td>\n",
       "      <td>1.0</td>\n",
       "      <td>0.0</td>\n",
       "      <td>5.0</td>\n",
       "      <td>0.0</td>\n",
       "      <td>2.0</td>\n",
       "      <td>1.0</td>\n",
       "      <td>1.0</td>\n",
       "      <td>1.0</td>\n",
       "      <td>1.0</td>\n",
       "      <td>4.0</td>\n",
       "    </tr>\n",
       "    <tr>\n",
       "      <th>1</th>\n",
       "      <td>2K</td>\n",
       "      <td>2</td>\n",
       "      <td>9.0</td>\n",
       "      <td>1.0</td>\n",
       "      <td>0.0</td>\n",
       "      <td>5.0</td>\n",
       "      <td>1.0</td>\n",
       "      <td>2.0</td>\n",
       "      <td>1.0</td>\n",
       "      <td>1.0</td>\n",
       "      <td>1.0</td>\n",
       "      <td>1.0</td>\n",
       "      <td>5.0</td>\n",
       "    </tr>\n",
       "    <tr>\n",
       "      <th>2</th>\n",
       "      <td>2K</td>\n",
       "      <td>2</td>\n",
       "      <td>9.0</td>\n",
       "      <td>1.0</td>\n",
       "      <td>0.0</td>\n",
       "      <td>4.0</td>\n",
       "      <td>1.0</td>\n",
       "      <td>2.0</td>\n",
       "      <td>2.0</td>\n",
       "      <td>2.0</td>\n",
       "      <td>1.0</td>\n",
       "      <td>2.0</td>\n",
       "      <td>4.0</td>\n",
       "    </tr>\n",
       "    <tr>\n",
       "      <th>3</th>\n",
       "      <td>2K</td>\n",
       "      <td>2</td>\n",
       "      <td>5.0</td>\n",
       "      <td>1.0</td>\n",
       "      <td>0.0</td>\n",
       "      <td>NaN</td>\n",
       "      <td>3.0</td>\n",
       "      <td>2.0</td>\n",
       "      <td>1.0</td>\n",
       "      <td>1.0</td>\n",
       "      <td>1.0</td>\n",
       "      <td>1.0</td>\n",
       "      <td>NaN</td>\n",
       "    </tr>\n",
       "    <tr>\n",
       "      <th>4</th>\n",
       "      <td>2K</td>\n",
       "      <td>2</td>\n",
       "      <td>7.0</td>\n",
       "      <td>1.0</td>\n",
       "      <td>0.0</td>\n",
       "      <td>NaN</td>\n",
       "      <td>3.0</td>\n",
       "      <td>2.0</td>\n",
       "      <td>2.0</td>\n",
       "      <td>2.0</td>\n",
       "      <td>1.0</td>\n",
       "      <td>1.0</td>\n",
       "      <td>NaN</td>\n",
       "    </tr>\n",
       "  </tbody>\n",
       "</table>\n",
       "</div>"
      ],
      "text/plain": [
       "  CASEID  PSU  AGE  BAGAVAIL  CHTYPE  HEIGHT  INJSEV  MANUSE  OCCNO  ROLE  \\\n",
       "0     1H    2  5.0       1.0     0.0     5.0     0.0     2.0    1.0   1.0   \n",
       "1     2K    2  9.0       1.0     0.0     5.0     1.0     2.0    1.0   1.0   \n",
       "2     2K    2  9.0       1.0     0.0     4.0     1.0     2.0    2.0   2.0   \n",
       "3     2K    2  5.0       1.0     0.0     NaN     3.0     2.0    1.0   1.0   \n",
       "4     2K    2  7.0       1.0     0.0     NaN     3.0     2.0    2.0   2.0   \n",
       "\n",
       "   SEATPOS  SEX  WEIGHT  \n",
       "0      1.0  1.0     4.0  \n",
       "1      1.0  1.0     5.0  \n",
       "2      1.0  2.0     4.0  \n",
       "3      1.0  1.0     NaN  \n",
       "4      1.0  1.0     NaN  "
      ]
     },
     "execution_count": 7,
     "metadata": {},
     "output_type": "execute_result"
    }
   ],
   "source": [
    "occupants.head(5)"
   ]
  },
  {
   "cell_type": "markdown",
   "metadata": {},
   "source": [
    "#### Analiza kolumny HEIGHT"
   ]
  },
  {
   "cell_type": "code",
   "execution_count": 9,
   "metadata": {},
   "outputs": [
    {
     "data": {
      "text/plain": [
       "4.0    44906\n",
       "5.0    18457\n",
       "3.0     2786\n",
       "6.0     1983\n",
       "2.0     1707\n",
       "1.0     1104\n",
       "Name: HEIGHT, dtype: int64"
      ]
     },
     "execution_count": 9,
     "metadata": {},
     "output_type": "execute_result"
    }
   ],
   "source": [
    "#ilosc danych niepustych w poszczegolnych katergoriach\n",
    "occupants['HEIGHT'].value_counts()"
   ]
  },
  {
   "cell_type": "code",
   "execution_count": 11,
   "metadata": {},
   "outputs": [
    {
     "name": "stdout",
     "output_type": "stream",
     "text": [
      "procentowa ilosc danych niepustych w kategoriach:\n",
      "4.0    0.405523\n",
      "5.0    0.166676\n",
      "3.0    0.025159\n",
      "6.0    0.017907\n",
      "2.0    0.015415\n",
      "1.0    0.009970\n",
      "Name: HEIGHT, dtype: float64\n"
     ]
    }
   ],
   "source": [
    "#ilosc danych niepustych wyrazona w %\n",
    "print(\"procentowa ilosc danych niepustych w kategoriach:\\n{}\".format(occupants['HEIGHT'].value_counts()/occupants.shape[0]))"
   ]
  },
  {
   "cell_type": "markdown",
   "metadata": {},
   "source": [
    "##### Zdecydowanie przeważa grupa osób o wysokości z kategorii 4 i 5 (151-190 cm). Najmniej natomiast jest osób o wzroście bardzo niskim (dzieci) oraz osób bardzo wysokich (powyżej 191 cm)."
   ]
  },
  {
   "cell_type": "code",
   "execution_count": 16,
   "metadata": {},
   "outputs": [
    {
     "data": {
      "text/plain": [
       "<AxesSubplot:>"
      ]
     },
     "execution_count": 16,
     "metadata": {},
     "output_type": "execute_result"
    },
    {
     "data": {
      "image/png": "[encoded data removed]",
      "text/plain": [
       "<Figure size 432x288 with 1 Axes>"
      ]
     },
     "metadata": {
      "needs_background": "light"
     },
     "output_type": "display_data"
    }
   ],
   "source": [
    "occupants['HEIGHT'].hist()"
   ]
  },
  {
   "cell_type": "code",
   "execution_count": 22,
   "metadata": {},
   "outputs": [
    {
     "data": {
      "text/plain": [
       "70943"
      ]
     },
     "execution_count": 22,
     "metadata": {},
     "output_type": "execute_result"
    }
   ],
   "source": [
    "#suma danych niepustych\n",
    "occupants['HEIGHT'].value_counts().sum()"
   ]
  },
  {
   "cell_type": "code",
   "execution_count": 42,
   "metadata": {},
   "outputs": [
    {
     "name": "stdout",
     "output_type": "stream",
     "text": [
      "procentowa ilosc danych niepustych:\n",
      "64.06%\n"
     ]
    }
   ],
   "source": [
    "print(\"procentowa ilosc danych niepustych:\\n{:.2%}\".format(occupants['HEIGHT'].value_counts().sum()/occupants.shape[0]))"
   ]
  },
  {
   "cell_type": "code",
   "execution_count": 14,
   "metadata": {},
   "outputs": [
    {
     "data": {
      "text/plain": [
       "39793"
      ]
     },
     "execution_count": 14,
     "metadata": {},
     "output_type": "execute_result"
    }
   ],
   "source": [
    "#ilosc danych pustych w kolumnie HEIGHT\n",
    "occupants['HEIGHT'].isna().sum()"
   ]
  },
  {
   "cell_type": "code",
   "execution_count": 48,
   "metadata": {},
   "outputs": [
    {
     "name": "stdout",
     "output_type": "stream",
     "text": [
      "procentowa ilosc danych pustych:\n",
      "35.94%\n"
     ]
    }
   ],
   "source": [
    "print(\"procentowa ilosc danych pustych:\\n{:.2%}\".format(occupants['HEIGHT'].isna().sum()/occupants.shape[0]))"
   ]
  },
  {
   "cell_type": "markdown",
   "metadata": {},
   "source": [
    "#### Analiza kolumny INJSEV"
   ]
  },
  {
   "cell_type": "code",
   "execution_count": 24,
   "metadata": {},
   "outputs": [
    {
     "data": {
      "text/plain": [
       "0.0    40271\n",
       "3.0    22704\n",
       "1.0    22700\n",
       "2.0    16488\n",
       "4.0     4283\n",
       "5.0     1969\n",
       "6.0        8\n",
       "Name: INJSEV, dtype: int64"
      ]
     },
     "execution_count": 24,
     "metadata": {},
     "output_type": "execute_result"
    }
   ],
   "source": [
    "#ilosc danych niepustych w poszczegolnych kategoriach\n",
    "occupants['INJSEV'].value_counts()"
   ]
  },
  {
   "cell_type": "code",
   "execution_count": 25,
   "metadata": {},
   "outputs": [
    {
     "name": "stdout",
     "output_type": "stream",
     "text": [
      "procentowa ilosc danych niepustych w kategoriach:\n",
      "0.0    0.363667\n",
      "3.0    0.205028\n",
      "1.0    0.204992\n",
      "2.0    0.148895\n",
      "4.0    0.038678\n",
      "5.0    0.017781\n",
      "6.0    0.000072\n",
      "Name: INJSEV, dtype: float64\n"
     ]
    }
   ],
   "source": [
    "#ilosc danych niepustych wyrazona w %\n",
    "print(\"procentowa ilosc danych niepustych w kategoriach:\\n{}\".format(occupants['INJSEV'].value_counts()/occupants.shape[0]))"
   ]
  },
  {
   "cell_type": "code",
   "execution_count": 26,
   "metadata": {},
   "outputs": [
    {
     "data": {
      "text/plain": [
       "<AxesSubplot:>"
      ]
     },
     "execution_count": 26,
     "metadata": {},
     "output_type": "execute_result"
    },
    {
     "data": {
      "image/png": "[encoded data removed]",
      "text/plain": [
       "<Figure size 432x288 with 1 Axes>"
      ]
     },
     "metadata": {
      "needs_background": "light"
     },
     "output_type": "display_data"
    }
   ],
   "source": [
    "occupants['INJSEV'].hist()"
   ]
  },
  {
   "cell_type": "markdown",
   "metadata": {},
   "source": [
    "##### Przeważa brak obrażeń (0). Najmniej wypadków dotyczy kategorii obrażeń 6 (śmierci przed wypadkiem)."
   ]
  },
  {
   "cell_type": "code",
   "execution_count": 27,
   "metadata": {},
   "outputs": [
    {
     "data": {
      "text/plain": [
       "108423"
      ]
     },
     "execution_count": 27,
     "metadata": {},
     "output_type": "execute_result"
    }
   ],
   "source": [
    "#ilość danych niepustych\n",
    "occupants['INJSEV'].value_counts().sum()"
   ]
  },
  {
   "cell_type": "code",
   "execution_count": 28,
   "metadata": {},
   "outputs": [
    {
     "name": "stdout",
     "output_type": "stream",
     "text": [
      "procentowa ilosc danych niepustych:\n",
      "97.91%\n"
     ]
    }
   ],
   "source": [
    "print(\"procentowa ilosc danych niepustych:\\n{:.2%}\".format(occupants['INJSEV'].value_counts().sum()/occupants.shape[0]))"
   ]
  },
  {
   "cell_type": "code",
   "execution_count": 29,
   "metadata": {},
   "outputs": [
    {
     "data": {
      "text/plain": [
       "2313"
      ]
     },
     "execution_count": 29,
     "metadata": {},
     "output_type": "execute_result"
    }
   ],
   "source": [
    "#ilosc danych pustych\n",
    "occupants['INJSEV'].isna().sum()"
   ]
  },
  {
   "cell_type": "code",
   "execution_count": 30,
   "metadata": {},
   "outputs": [
    {
     "name": "stdout",
     "output_type": "stream",
     "text": [
      "procentowa ilosc danych pustych:\n",
      "2.09%\n"
     ]
    }
   ],
   "source": [
    "print(\"procentowa ilosc danych pustych:\\n{:.2%}\".format(occupants['INJSEV'].isna().sum()/occupants.shape[0]))"
   ]
  },
  {
   "cell_type": "markdown",
   "metadata": {},
   "source": [
    "#### Analiza kolumny MANUSE"
   ]
  },
  {
   "cell_type": "code",
   "execution_count": 32,
   "metadata": {},
   "outputs": [
    {
     "data": {
      "text/plain": [
       "2.0    59833\n",
       "1.0    16332\n",
       "Name: MANUSE, dtype: int64"
      ]
     },
     "execution_count": 32,
     "metadata": {},
     "output_type": "execute_result"
    }
   ],
   "source": [
    "#ilosc danych niepustych w poszczegolnych kategoriach\n",
    "occupants['MANUSE'].value_counts()"
   ]
  },
  {
   "cell_type": "code",
   "execution_count": 33,
   "metadata": {},
   "outputs": [
    {
     "name": "stdout",
     "output_type": "stream",
     "text": [
      "procentowa ilosc danych niepustych w kategoriach:\n",
      "2.0    0.540321\n",
      "1.0    0.147486\n",
      "Name: MANUSE, dtype: float64\n"
     ]
    }
   ],
   "source": [
    "#ilosc danych niepustych wyrazona w %\n",
    "print(\"procentowa ilosc danych niepustych w kategoriach:\\n{}\".format(occupants['MANUSE'].value_counts()/occupants.shape[0]))"
   ]
  },
  {
   "cell_type": "code",
   "execution_count": 34,
   "metadata": {},
   "outputs": [
    {
     "data": {
      "text/plain": [
       "<AxesSubplot:>"
      ]
     },
     "execution_count": 34,
     "metadata": {},
     "output_type": "execute_result"
    },
    {
     "data": {
      "image/png": "[encoded data removed]",
      "text/plain": [
       "<Figure size 432x288 with 1 Axes>"
      ]
     },
     "metadata": {
      "needs_background": "light"
     },
     "output_type": "display_data"
    }
   ],
   "source": [
    "occupants['MANUSE'].hist()"
   ]
  },
  {
   "cell_type": "markdown",
   "metadata": {},
   "source": [
    "##### Zdecydowanie przeważają przypadki wypadków, w których były pasy."
   ]
  },
  {
   "cell_type": "code",
   "execution_count": 35,
   "metadata": {},
   "outputs": [
    {
     "data": {
      "text/plain": [
       "76165"
      ]
     },
     "execution_count": 35,
     "metadata": {},
     "output_type": "execute_result"
    }
   ],
   "source": [
    "#ilość danych niepustych\n",
    "occupants['MANUSE'].value_counts().sum()"
   ]
  },
  {
   "cell_type": "code",
   "execution_count": 36,
   "metadata": {},
   "outputs": [
    {
     "name": "stdout",
     "output_type": "stream",
     "text": [
      "procentowa ilosc danych niepustych:\n",
      "68.78%\n"
     ]
    }
   ],
   "source": [
    "print(\"procentowa ilosc danych niepustych:\\n{:.2%}\".format(occupants['MANUSE'].value_counts().sum()/occupants.shape[0]))"
   ]
  },
  {
   "cell_type": "code",
   "execution_count": 37,
   "metadata": {},
   "outputs": [
    {
     "data": {
      "text/plain": [
       "34571"
      ]
     },
     "execution_count": 37,
     "metadata": {},
     "output_type": "execute_result"
    }
   ],
   "source": [
    "#ilosc danych pustych\n",
    "occupants['MANUSE'].isna().sum()"
   ]
  },
  {
   "cell_type": "code",
   "execution_count": 38,
   "metadata": {},
   "outputs": [
    {
     "name": "stdout",
     "output_type": "stream",
     "text": [
      "procentowa ilosc danych pustych:\n",
      "31.22%\n"
     ]
    }
   ],
   "source": [
    "print(\"procentowa ilosc danych pustych:\\n{:.2%}\".format(occupants['MANUSE'].isna().sum()/occupants.shape[0]))"
   ]
  },
  {
   "cell_type": "markdown",
   "metadata": {},
   "source": [
    "#### Analiza kolumny OCCNO"
   ]
  },
  {
   "cell_type": "code",
   "execution_count": 40,
   "metadata": {},
   "outputs": [
    {
     "data": {
      "text/plain": [
       "1.0     73203\n",
       "2.0     23716\n",
       "3.0      8353\n",
       "4.0      3469\n",
       "5.0      1221\n",
       "6.0       419\n",
       "7.0       170\n",
       "8.0        76\n",
       "9.0        29\n",
       "10.0       16\n",
       "11.0       11\n",
       "12.0        8\n",
       "13.0        8\n",
       "14.0        6\n",
       "15.0        4\n",
       "16.0        3\n",
       "17.0        3\n",
       "18.0        2\n",
       "19.0        1\n",
       "Name: OCCNO, dtype: int64"
      ]
     },
     "execution_count": 40,
     "metadata": {},
     "output_type": "execute_result"
    }
   ],
   "source": [
    "#ilosc danych niepustych w poszczegolnych kategoriach\n",
    "occupants['OCCNO'].value_counts()"
   ]
  },
  {
   "cell_type": "code",
   "execution_count": 41,
   "metadata": {},
   "outputs": [
    {
     "name": "stdout",
     "output_type": "stream",
     "text": [
      "procentowa ilosc danych niepustych w kategoriach:\n",
      "1.0     0.661059\n",
      "2.0     0.214167\n",
      "3.0     0.075432\n",
      "4.0     0.031327\n",
      "5.0     0.011026\n",
      "6.0     0.003784\n",
      "7.0     0.001535\n",
      "8.0     0.000686\n",
      "9.0     0.000262\n",
      "10.0    0.000144\n",
      "11.0    0.000099\n",
      "12.0    0.000072\n",
      "13.0    0.000072\n",
      "14.0    0.000054\n",
      "15.0    0.000036\n",
      "16.0    0.000027\n",
      "17.0    0.000027\n",
      "18.0    0.000018\n",
      "19.0    0.000009\n",
      "Name: OCCNO, dtype: float64\n"
     ]
    }
   ],
   "source": [
    "#ilosc danych niepustych wyrazona w %\n",
    "print(\"procentowa ilosc danych niepustych w kategoriach:\\n{}\".format(occupants['OCCNO'].value_counts()/occupants.shape[0]))"
   ]
  },
  {
   "cell_type": "code",
   "execution_count": 42,
   "metadata": {},
   "outputs": [
    {
     "data": {
      "text/plain": [
       "<AxesSubplot:>"
      ]
     },
     "execution_count": 42,
     "metadata": {},
     "output_type": "execute_result"
    },
    {
     "data": {
      "image/png": "[encoded data removed]",
      "text/plain": [
       "<Figure size 432x288 with 1 Axes>"
      ]
     },
     "metadata": {
      "needs_background": "light"
     },
     "output_type": "display_data"
    }
   ],
   "source": [
    "occupants['OCCNO'].hist()"
   ]
  },
  {
   "cell_type": "markdown",
   "metadata": {},
   "source": [
    "##### Dane układają się zgodnie z kolejnością - przeważają wypadki z małą ilością pasażerów. Widać silną dominację wypadków z udziałem jednego pasażera (kierowcy). Następnie (około 3 razy rzadziej) są wypadki z udziałem dwóch pasażerów."
   ]
  },
  {
   "cell_type": "code",
   "execution_count": 44,
   "metadata": {},
   "outputs": [
    {
     "data": {
      "text/plain": [
       "count    110718.000000\n",
       "mean          1.544708\n",
       "std           0.977858\n",
       "min           1.000000\n",
       "25%           1.000000\n",
       "50%           1.000000\n",
       "75%           2.000000\n",
       "max          19.000000\n",
       "Name: OCCNO, dtype: float64"
      ]
     },
     "execution_count": 44,
     "metadata": {},
     "output_type": "execute_result"
    }
   ],
   "source": [
    "#srednia wwypadkow, odchylenie standardowe, kwantyle\n",
    "occupants['OCCNO'].describe()"
   ]
  },
  {
   "cell_type": "code",
   "execution_count": 45,
   "metadata": {},
   "outputs": [
    {
     "data": {
      "text/plain": [
       "110718"
      ]
     },
     "execution_count": 45,
     "metadata": {},
     "output_type": "execute_result"
    }
   ],
   "source": [
    "#ilość danych niepustych\n",
    "occupants['OCCNO'].value_counts().sum()"
   ]
  },
  {
   "cell_type": "code",
   "execution_count": 46,
   "metadata": {},
   "outputs": [
    {
     "name": "stdout",
     "output_type": "stream",
     "text": [
      "procentowa ilosc danych niepustych:\n",
      "99.98%\n"
     ]
    }
   ],
   "source": [
    "print(\"procentowa ilosc danych niepustych:\\n{:.2%}\".format(occupants['OCCNO'].value_counts().sum()/occupants.shape[0]))"
   ]
  },
  {
   "cell_type": "code",
   "execution_count": 48,
   "metadata": {},
   "outputs": [
    {
     "data": {
      "text/plain": [
       "34571"
      ]
     },
     "execution_count": 48,
     "metadata": {},
     "output_type": "execute_result"
    }
   ],
   "source": [
    "#ilosc danych pustych\n",
    "occupants['MANUSE'].isna().sum()"
   ]
  },
  {
   "cell_type": "code",
   "execution_count": 47,
   "metadata": {},
   "outputs": [
    {
     "name": "stdout",
     "output_type": "stream",
     "text": [
      "procentowa ilosc danych pustych:\n",
      "0.02%\n"
     ]
    }
   ],
   "source": [
    "print(\"procentowa ilosc danych pustych:\\n{:.2%}\".format(occupants['OCCNO'].isna().sum()/occupants.shape[0]))"
   ]
  },
  {
   "cell_type": "markdown",
   "metadata": {},
   "source": [
    "#### Analiza kolumny ROLE"
   ]
  },
  {
   "cell_type": "code",
   "execution_count": 50,
   "metadata": {},
   "outputs": [
    {
     "data": {
      "text/plain": [
       "1.0    73180\n",
       "2.0    37525\n",
       "Name: ROLE, dtype: int64"
      ]
     },
     "execution_count": 50,
     "metadata": {},
     "output_type": "execute_result"
    }
   ],
   "source": [
    "#ilosc danych niepustych w poszczegolnych kategoriach\n",
    "occupants['ROLE'].value_counts()"
   ]
  },
  {
   "cell_type": "code",
   "execution_count": 51,
   "metadata": {},
   "outputs": [
    {
     "name": "stdout",
     "output_type": "stream",
     "text": [
      "procentowa ilosc danych niepustych w kategoriach:\n",
      "1.0    0.660851\n",
      "2.0    0.338869\n",
      "Name: ROLE, dtype: float64\n"
     ]
    }
   ],
   "source": [
    "#ilosc danych niepustych wyrazona w %\n",
    "print(\"procentowa ilosc danych niepustych w kategoriach:\\n{}\".format(occupants['ROLE'].value_counts()/occupants.shape[0]))"
   ]
  },
  {
   "cell_type": "code",
   "execution_count": 52,
   "metadata": {},
   "outputs": [
    {
     "data": {
      "text/plain": [
       "<AxesSubplot:>"
      ]
     },
     "execution_count": 52,
     "metadata": {},
     "output_type": "execute_result"
    },
    {
     "data": {
      "image/png": "[encoded data removed]",
      "text/plain": [
       "<Figure size 432x288 with 1 Axes>"
      ]
     },
     "metadata": {
      "needs_background": "light"
     },
     "output_type": "display_data"
    }
   ],
   "source": [
    "occupants['ROLE'].hist()"
   ]
  },
  {
   "cell_type": "markdown",
   "metadata": {},
   "source": [
    "##### 2/3 wypadków to wypadki gdzie był kierowca. W 1/3 był pasażer."
   ]
  },
  {
   "cell_type": "code",
   "execution_count": 53,
   "metadata": {},
   "outputs": [
    {
     "data": {
      "text/plain": [
       "110705"
      ]
     },
     "execution_count": 53,
     "metadata": {},
     "output_type": "execute_result"
    }
   ],
   "source": [
    "#ilość danych niepustych\n",
    "occupants['ROLE'].value_counts().sum()"
   ]
  },
  {
   "cell_type": "code",
   "execution_count": 54,
   "metadata": {},
   "outputs": [
    {
     "name": "stdout",
     "output_type": "stream",
     "text": [
      "procentowa ilosc danych niepustych:\n",
      "99.97%\n"
     ]
    }
   ],
   "source": [
    "print(\"procentowa ilosc danych niepustych:\\n{:.2%}\".format(occupants['ROLE'].value_counts().sum()/occupants.shape[0]))"
   ]
  },
  {
   "cell_type": "code",
   "execution_count": 55,
   "metadata": {},
   "outputs": [
    {
     "data": {
      "text/plain": [
       "31"
      ]
     },
     "execution_count": 55,
     "metadata": {},
     "output_type": "execute_result"
    }
   ],
   "source": [
    "#ilosc danych pustych\n",
    "occupants['ROLE'].isna().sum()"
   ]
  },
  {
   "cell_type": "code",
   "execution_count": 56,
   "metadata": {},
   "outputs": [
    {
     "name": "stdout",
     "output_type": "stream",
     "text": [
      "procentowa ilosc danych pustych:\n",
      "0.03%\n"
     ]
    }
   ],
   "source": [
    "print(\"procentowa ilosc danych pustych:\\n{:.2%}\".format(occupants['ROLE'].isna().sum()/occupants.shape[0]))"
   ]
  }
 ],
 "metadata": {
  "kernelspec": {
   "display_name": "Python 3",
   "language": "python",
   "name": "python3"
  },
  "language_info": {
   "codemirror_mode": {
    "name": "ipython",
    "version": 3
   },
   "file_extension": ".py",
   "mimetype": "text/x-python",
   "name": "python",
   "nbconvert_exporter": "python",
   "pygments_lexer": "ipython3",
   "version": "3.8.5"
  }
 },
 "nbformat": 4,
 "nbformat_minor": 4
}
