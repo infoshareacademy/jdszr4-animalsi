{
 "cells": [
  {
   "cell_type": "code",
   "execution_count": 1,
   "metadata": {
    "scrolled": true
   },
   "outputs": [],
   "source": [
    "import pandas as pd\n",
    "import numpy as np\n",
    "import matplotlib.pyplot as plt"
   ]
  },
  {
   "cell_type": "code",
   "execution_count": 2,
   "metadata": {},
   "outputs": [
    {
     "name": "stdout",
     "output_type": "stream",
     "text": [
      "C:\\Users\\Dawid\\Desktop\\kurs\\projekt\\uber\n"
     ]
    }
   ],
   "source": [
    "#link do folderu, w którym mamy bazę:\n",
    "\n",
    "%cd \"C:\\Users\\Dawid\\Desktop\\kurs\\projekt\\uber\""
   ]
  },
  {
   "cell_type": "code",
   "execution_count": 3,
   "metadata": {},
   "outputs": [],
   "source": [
    "occupants=pd.read_csv(\"./occupants.csv\")\n",
    "accidents=pd.read_csv(\"./accidents.csv\")\n",
    "vehicles=pd.read_csv(\"./vehicles.csv\")"
   ]
  },
  {
   "cell_type": "markdown",
   "metadata": {},
   "source": [
    "### Przeanalizowanie rekordów"
   ]
  },
  {
   "cell_type": "markdown",
   "metadata": {},
   "source": [
    "#### CASEID and PSU"
   ]
  },
  {
   "cell_type": "code",
   "execution_count": 4,
   "metadata": {},
   "outputs": [
    {
     "data": {
      "text/plain": [
       "False"
      ]
     },
     "execution_count": 4,
     "metadata": {},
     "output_type": "execute_result"
    }
   ],
   "source": [
    "accidents['CASEID'].is_unique"
   ]
  },
  {
   "cell_type": "code",
   "execution_count": 5,
   "metadata": {},
   "outputs": [
    {
     "name": "stderr",
     "output_type": "stream",
     "text": [
      "<ipython-input-5-4a2adec04204>:1: FutureWarning: Indexing with multiple keys (implicitly converted to a tuple of keys) will be deprecated, use a list instead.\n",
      "  accidents.groupby([\"CASEID\",\"PSU\", \"YEAR\"])[\"CASEID\",\"PSU\", \"YEAR\"].count().head(10)\n"
     ]
    },
    {
     "data": {
      "text/html": [
       "<div>\n",
       "<style scoped>\n",
       "    .dataframe tbody tr th:only-of-type {\n",
       "        vertical-align: middle;\n",
       "    }\n",
       "\n",
       "    .dataframe tbody tr th {\n",
       "        vertical-align: top;\n",
       "    }\n",
       "\n",
       "    .dataframe thead th {\n",
       "        text-align: right;\n",
       "    }\n",
       "</style>\n",
       "<table border=\"1\" class=\"dataframe\">\n",
       "  <thead>\n",
       "    <tr style=\"text-align: right;\">\n",
       "      <th></th>\n",
       "      <th></th>\n",
       "      <th></th>\n",
       "      <th>CASEID</th>\n",
       "      <th>PSU</th>\n",
       "      <th>YEAR</th>\n",
       "    </tr>\n",
       "    <tr>\n",
       "      <th>CASEID</th>\n",
       "      <th>PSU</th>\n",
       "      <th>YEAR</th>\n",
       "      <th></th>\n",
       "      <th></th>\n",
       "      <th></th>\n",
       "    </tr>\n",
       "  </thead>\n",
       "  <tbody>\n",
       "    <tr>\n",
       "      <th rowspan=\"2\" valign=\"top\">1A</th>\n",
       "      <th>49</th>\n",
       "      <th>2009</th>\n",
       "      <td>1</td>\n",
       "      <td>1</td>\n",
       "      <td>1</td>\n",
       "    </tr>\n",
       "    <tr>\n",
       "      <th>50</th>\n",
       "      <th>2005</th>\n",
       "      <td>1</td>\n",
       "      <td>1</td>\n",
       "      <td>1</td>\n",
       "    </tr>\n",
       "    <tr>\n",
       "      <th rowspan=\"8\" valign=\"top\">1B</th>\n",
       "      <th rowspan=\"2\" valign=\"top\">9</th>\n",
       "      <th>2006</th>\n",
       "      <td>1</td>\n",
       "      <td>1</td>\n",
       "      <td>1</td>\n",
       "    </tr>\n",
       "    <tr>\n",
       "      <th>2009</th>\n",
       "      <td>1</td>\n",
       "      <td>1</td>\n",
       "      <td>1</td>\n",
       "    </tr>\n",
       "    <tr>\n",
       "      <th>41</th>\n",
       "      <th>2007</th>\n",
       "      <td>1</td>\n",
       "      <td>1</td>\n",
       "      <td>1</td>\n",
       "    </tr>\n",
       "    <tr>\n",
       "      <th rowspan=\"2\" valign=\"top\">43</th>\n",
       "      <th>2004</th>\n",
       "      <td>1</td>\n",
       "      <td>1</td>\n",
       "      <td>1</td>\n",
       "    </tr>\n",
       "    <tr>\n",
       "      <th>2013</th>\n",
       "      <td>1</td>\n",
       "      <td>1</td>\n",
       "      <td>1</td>\n",
       "    </tr>\n",
       "    <tr>\n",
       "      <th>79</th>\n",
       "      <th>2009</th>\n",
       "      <td>1</td>\n",
       "      <td>1</td>\n",
       "      <td>1</td>\n",
       "    </tr>\n",
       "    <tr>\n",
       "      <th rowspan=\"2\" valign=\"top\">81</th>\n",
       "      <th>2008</th>\n",
       "      <td>1</td>\n",
       "      <td>1</td>\n",
       "      <td>1</td>\n",
       "    </tr>\n",
       "    <tr>\n",
       "      <th>2010</th>\n",
       "      <td>1</td>\n",
       "      <td>1</td>\n",
       "      <td>1</td>\n",
       "    </tr>\n",
       "  </tbody>\n",
       "</table>\n",
       "</div>"
      ],
      "text/plain": [
       "                 CASEID  PSU  YEAR\n",
       "CASEID PSU YEAR                   \n",
       "  1A   49  2009       1    1     1\n",
       "       50  2005       1    1     1\n",
       "  1B   9   2006       1    1     1\n",
       "           2009       1    1     1\n",
       "       41  2007       1    1     1\n",
       "       43  2004       1    1     1\n",
       "           2013       1    1     1\n",
       "       79  2009       1    1     1\n",
       "       81  2008       1    1     1\n",
       "           2010       1    1     1"
      ]
     },
     "execution_count": 5,
     "metadata": {},
     "output_type": "execute_result"
    }
   ],
   "source": [
    "accidents.groupby([\"CASEID\",\"PSU\", \"YEAR\"])[\"CASEID\",\"PSU\", \"YEAR\"].count().head(10)"
   ]
  },
  {
   "cell_type": "code",
   "execution_count": 6,
   "metadata": {},
   "outputs": [
    {
     "data": {
      "text/plain": [
       "51978"
      ]
     },
     "execution_count": 6,
     "metadata": {},
     "output_type": "execute_result"
    }
   ],
   "source": [
    "n_wypadkow = accidents[[\"CASEID\",\"PSU\",\"YEAR\"]].drop_duplicates(subset=[\"CASEID\",\"PSU\",\"YEAR\"]).shape[0]\n",
    "n_wypadkow"
   ]
  },
  {
   "cell_type": "markdown",
   "metadata": {},
   "source": [
    "Moze byc kilka wypadkow o tym samy CASEID i w tym samym PSU, ale miały miejsce w różnych latach"
   ]
  },
  {
   "cell_type": "markdown",
   "metadata": {},
   "source": [
    "### dodatkowe miary "
   ]
  },
  {
   "cell_type": "code",
   "execution_count": 7,
   "metadata": {},
   "outputs": [],
   "source": [
    "n_poszkodowanych = occupants.shape[0]"
   ]
  },
  {
   "cell_type": "code",
   "execution_count": 8,
   "metadata": {},
   "outputs": [
    {
     "data": {
      "text/plain": [
       "2.13"
      ]
     },
     "execution_count": 8,
     "metadata": {},
     "output_type": "execute_result"
    }
   ],
   "source": [
    "srednia_n_pasazerow_na_wypadek=round(n_poszkodowanych/n_wypadkow,2)\n",
    "srednia_n_pasazerow_na_wypadek"
   ]
  },
  {
   "cell_type": "markdown",
   "metadata": {},
   "source": [
    "Uzyskany wynik, moze oznaczać to, że z reguły wypadki toczyły się między dwoma kierowcami lub kierowcy z pasażerem, ale bez udziału drugiego samochodu. \n"
   ]
  },
  {
   "cell_type": "markdown",
   "metadata": {},
   "source": [
    "#### AGE"
   ]
  },
  {
   "cell_type": "code",
   "execution_count": 9,
   "metadata": {},
   "outputs": [
    {
     "data": {
      "text/plain": [
       "AGE\n",
       "1.0    0.025578\n",
       "2.0    0.022987\n",
       "3.0    0.026337\n",
       "4.0    0.046073\n",
       "5.0    0.170119\n",
       "6.0    0.217637\n",
       "7.0    0.268856\n",
       "8.0    0.123901\n",
       "9.0    0.072049\n",
       "Name: AGE, dtype: float64"
      ]
     },
     "execution_count": 9,
     "metadata": {},
     "output_type": "execute_result"
    }
   ],
   "source": [
    "wypadki_per_wiek=occupants.groupby([\"AGE\"])['AGE'].count()/occupants.shape[0]\n",
    "wypadki_per_wiek"
   ]
  },
  {
   "cell_type": "markdown",
   "metadata": {},
   "source": [
    "Najwiekszy udział w wypadkach mieli ludzie w wieku od 31 do 50 lat, czyli najczęstsi kierowcy, w większosci wypadków brali udział ludzie w wieku od 17 do 65 lat, stanowiło to 70% przypadków"
   ]
  },
  {
   "cell_type": "code",
   "execution_count": 10,
   "metadata": {},
   "outputs": [
    {
     "name": "stdout",
     "output_type": "stream",
     "text": [
      " W kolumnie AGE 2.65% przypadków to NaN \n",
      " Przypadków NaN w AGE jest 2931\n"
     ]
    }
   ],
   "source": [
    "print(f\" W kolumnie AGE {(occupants.AGE.isna().sum()/n_poszkodowanych):.2%} przypadków to NaN \")\n",
    "print(f\" Przypadków NaN w AGE jest {occupants.AGE.isna().sum()}\")"
   ]
  },
  {
   "cell_type": "markdown",
   "metadata": {},
   "source": [
    "#### ROLE"
   ]
  },
  {
   "cell_type": "code",
   "execution_count": 11,
   "metadata": {
    "scrolled": true
   },
   "outputs": [
    {
     "data": {
      "text/plain": [
       "ROLE\n",
       "1.0    0.660882\n",
       "2.0    0.338838\n",
       "Name: ROLE, dtype: float64"
      ]
     },
     "execution_count": 11,
     "metadata": {},
     "output_type": "execute_result"
    }
   ],
   "source": [
    "wypadki_per_role=occupants.groupby([\"ROLE\"])['ROLE'].count()/occupants.shape[0]\n",
    "wypadki_per_role"
   ]
  },
  {
   "cell_type": "markdown",
   "metadata": {},
   "source": [
    "W ponad 33%  wypadkow biora udzial pasazerowie."
   ]
  },
  {
   "cell_type": "code",
   "execution_count": 12,
   "metadata": {},
   "outputs": [
    {
     "name": "stdout",
     "output_type": "stream",
     "text": [
      " W kolumnie ROLE 0.03% przypadków to NaN \n",
      " Przypadków NaN w ROLE jest 31\n"
     ]
    }
   ],
   "source": [
    "print(f\" W kolumnie ROLE {(occupants.ROLE.isna().sum()/n_poszkodowanych):.2%} przypadków to NaN \")\n",
    "print(f\" Przypadków NaN w ROLE jest {occupants.ROLE.isna().sum()}\")"
   ]
  },
  {
   "cell_type": "markdown",
   "metadata": {},
   "source": [
    "#### ROLE and AGE"
   ]
  },
  {
   "cell_type": "code",
   "execution_count": 13,
   "metadata": {},
   "outputs": [],
   "source": [
    "wypadki_per_wiek_i_role=occupants.groupby([\"AGE\",'ROLE'],dropna=False)['AGE'].apply(lambda occupants: occupants.count() / n_poszkodowanych).to_frame(name = 'count').reset_index()\n",
    "## moze byc tak, ze ten dopisek ,dropna=False  nie będzie działać, niby po aktualizacji powinien działać, ale może być różnice"
   ]
  },
  {
   "cell_type": "code",
   "execution_count": 14,
   "metadata": {},
   "outputs": [
    {
     "data": {
      "text/html": [
       "<div>\n",
       "<style scoped>\n",
       "    .dataframe tbody tr th:only-of-type {\n",
       "        vertical-align: middle;\n",
       "    }\n",
       "\n",
       "    .dataframe tbody tr th {\n",
       "        vertical-align: top;\n",
       "    }\n",
       "\n",
       "    .dataframe thead th {\n",
       "        text-align: right;\n",
       "    }\n",
       "</style>\n",
       "<table border=\"1\" class=\"dataframe\">\n",
       "  <thead>\n",
       "    <tr style=\"text-align: right;\">\n",
       "      <th></th>\n",
       "      <th>AGE</th>\n",
       "      <th>ROLE</th>\n",
       "      <th>count</th>\n",
       "    </tr>\n",
       "  </thead>\n",
       "  <tbody>\n",
       "    <tr>\n",
       "      <th>12</th>\n",
       "      <td>7.0</td>\n",
       "      <td>1.0</td>\n",
       "      <td>0.216923</td>\n",
       "    </tr>\n",
       "    <tr>\n",
       "      <th>9</th>\n",
       "      <td>6.0</td>\n",
       "      <td>1.0</td>\n",
       "      <td>0.160512</td>\n",
       "    </tr>\n",
       "    <tr>\n",
       "      <th>7</th>\n",
       "      <td>5.0</td>\n",
       "      <td>1.0</td>\n",
       "      <td>0.108236</td>\n",
       "    </tr>\n",
       "    <tr>\n",
       "      <th>15</th>\n",
       "      <td>8.0</td>\n",
       "      <td>1.0</td>\n",
       "      <td>0.100706</td>\n",
       "    </tr>\n",
       "    <tr>\n",
       "      <th>8</th>\n",
       "      <td>5.0</td>\n",
       "      <td>2.0</td>\n",
       "      <td>0.061883</td>\n",
       "    </tr>\n",
       "  </tbody>\n",
       "</table>\n",
       "</div>"
      ],
      "text/plain": [
       "    AGE  ROLE     count\n",
       "12  7.0   1.0  0.216923\n",
       "9   6.0   1.0  0.160512\n",
       "7   5.0   1.0  0.108236\n",
       "15  8.0   1.0  0.100706\n",
       "8   5.0   2.0  0.061883"
      ]
     },
     "execution_count": 14,
     "metadata": {},
     "output_type": "execute_result"
    }
   ],
   "source": [
    "wypadki_per_wiek_i_role.sort_values(by=\"count\", ascending = False).head()"
   ]
  },
  {
   "cell_type": "markdown",
   "metadata": {},
   "source": [
    "\n",
    "Najczęściej w wypadkach biorą udział ludzie w wieku 31-50, będący kierowcami (ROLE = 1)\n",
    "wsród pasażerów, najczęściej cierpią Ci w wieku 17-21\n"
   ]
  },
  {
   "cell_type": "markdown",
   "metadata": {},
   "source": [
    "#### BAGAVAIL (Poduszka powietrzna)"
   ]
  },
  {
   "cell_type": "code",
   "execution_count": 15,
   "metadata": {},
   "outputs": [
    {
     "data": {
      "text/plain": [
       "BAGAVAIL\n",
       "0.0    0.185829\n",
       "1.0    0.533812\n",
       "Name: BAGAVAIL, dtype: float64"
      ]
     },
     "execution_count": 15,
     "metadata": {},
     "output_type": "execute_result"
    }
   ],
   "source": [
    "wypadki_a_poduszka=occupants.groupby([\"BAGAVAIL\"])['BAGAVAIL'].count()/occupants.shape[0]\n",
    "wypadki_a_poduszka"
   ]
  },
  {
   "cell_type": "code",
   "execution_count": 16,
   "metadata": {},
   "outputs": [
    {
     "name": "stdout",
     "output_type": "stream",
     "text": [
      " W kolumnie BAGAVAIL 28.04% przypadków to NaN \n",
      " Przypadków NaN w BAGAVAIL jest 31052\n"
     ]
    }
   ],
   "source": [
    "print(f\" W kolumnie BAGAVAIL {(occupants.BAGAVAIL.isna().sum()/n_poszkodowanych):.2%} przypadków to NaN \")\n",
    "print(f\" Przypadków NaN w BAGAVAIL jest {occupants.BAGAVAIL.isna().sum()}\")"
   ]
  },
  {
   "cell_type": "markdown",
   "metadata": {},
   "source": [
    "Wiekszosc wypadkow jaka miała miejsce odbyła się u uczestników, którzy mieli poduszki potwietrzne."
   ]
  },
  {
   "cell_type": "markdown",
   "metadata": {},
   "source": [
    "### CHTYPE (fotelik)"
   ]
  },
  {
   "cell_type": "code",
   "execution_count": 17,
   "metadata": {},
   "outputs": [
    {
     "data": {
      "text/plain": [
       "CHTYPE\n",
       "0.0    0.760685\n",
       "1.0    0.026517\n",
       "Name: CHTYPE, dtype: float64"
      ]
     },
     "execution_count": 17,
     "metadata": {},
     "output_type": "execute_result"
    }
   ],
   "source": [
    "wypadki_a_fotelik=occupants.groupby([\"CHTYPE\"])['CHTYPE'].count()/occupants.shape[0]\n",
    "wypadki_a_fotelik"
   ]
  },
  {
   "cell_type": "code",
   "execution_count": 18,
   "metadata": {},
   "outputs": [
    {
     "name": "stdout",
     "output_type": "stream",
     "text": [
      " W kolumnie CHTYPE 21.28% przypadków to NaN \n",
      " Przypadków NaN w CHTYPE jest 23569\n"
     ]
    }
   ],
   "source": [
    "print(f\" W kolumnie CHTYPE {(occupants.CHTYPE.isna().sum()/n_poszkodowanych):.2%} przypadków to NaN \")\n",
    "print(f\" Przypadków NaN w CHTYPE jest {occupants.CHTYPE.isna().sum()}\")"
   ]
  },
  {
   "cell_type": "markdown",
   "metadata": {},
   "source": [
    "### CHTYPE vs AGE"
   ]
  },
  {
   "cell_type": "code",
   "execution_count": 19,
   "metadata": {},
   "outputs": [
    {
     "data": {
      "text/plain": [
       "1.0    1900\n",
       "0.0     324\n",
       "Name: CHTYPE, dtype: int64"
      ]
     },
     "execution_count": 19,
     "metadata": {},
     "output_type": "execute_result"
    }
   ],
   "source": [
    "fotelik_a_niemowleta=occupants.loc[occupants['AGE'] == 1,\"CHTYPE\"].value_counts()\n",
    "fotelik_a_niemowleta\n"
   ]
  },
  {
   "cell_type": "code",
   "execution_count": 20,
   "metadata": {},
   "outputs": [
    {
     "name": "stdout",
     "output_type": "stream",
     "text": [
      " Porównując potencjalnych użytkowników fotelika, tj. grupę wiekową 1 (od 0 do 3 lat) \n",
      " 14.57% wypadków miało miejsce bez fotelika\n"
     ]
    }
   ],
   "source": [
    "print(f\" Porównując potencjalnych użytkowników fotelika, tj. grupę wiekową 1 (od 0 do 3 lat) \\n {fotelik_a_niemowleta[0]/sum(fotelik_a_niemowleta):.2%} wypadków miało miejsce bez fotelika\")"
   ]
  }
 ],
 "metadata": {
  "kernelspec": {
   "display_name": "Python 3",
   "language": "python",
   "name": "python3"
  },
  "language_info": {
   "codemirror_mode": {
    "name": "ipython",
    "version": 3
   },
   "file_extension": ".py",
   "mimetype": "text/x-python",
   "name": "python",
   "nbconvert_exporter": "python",
   "pygments_lexer": "ipython3",
   "version": "3.8.3"
  }
 },
 "nbformat": 4,
 "nbformat_minor": 4
}
