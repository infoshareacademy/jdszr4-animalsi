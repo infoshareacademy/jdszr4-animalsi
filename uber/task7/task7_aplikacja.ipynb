{
 "cells": [
  {
   "cell_type": "code",
   "execution_count": 1,
   "metadata": {},
   "outputs": [],
   "source": [
    "import pandas as pd\n",
    "import numpy as np\n",
    "import matplotlib.pyplot as plt\n",
    "import ipywidgets as widgets\n",
    "from IPython.display import clear_output"
   ]
  },
  {
   "cell_type": "code",
   "execution_count": 2,
   "metadata": {},
   "outputs": [],
   "source": [
    "report=pd.read_csv(\"dane_surowe_do_kalkulatora_task7.csv\")"
   ]
  },
  {
   "cell_type": "code",
   "execution_count": 3,
   "metadata": {},
   "outputs": [],
   "source": [
    "# Slownik danych\n",
    "## wiek auta z przedziału\n",
    "CarAgeDict = {\"0 - 2 lata\": 0,\n",
    "             \"3 - 5 lat\" : 1,\n",
    "             \"6 - 10 lat\": 2,\n",
    "             \"11-20 lat\":3,\n",
    "             \"21 -30 lat\":4,\n",
    "             \"31 lat i więcej\": 5}\n",
    "\n",
    "## marka auta z listy poniżej\n",
    "MakeDict = {\"Audi\": 32,\n",
    "            \"BMW\": 34,\n",
    "            \"Cadillac\": 19,\n",
    "            \"Chevrolet\": 20,\n",
    "            \"Chrysler\": 6,\n",
    "            \"Deawoo\": 64,\n",
    "            \"Dodge\": 7,\n",
    "            \"Ford\": 12,\n",
    "            \"Honda\": 37,\n",
    "            \"Hyundai\":55,\n",
    "            \"Isuzu\":38,\n",
    "            \"Jeep\":2,\n",
    "            \"Kia\":63,\n",
    "            \"Land Rover\":62,\n",
    "            \"Lexus\":59,\n",
    "            \"Lincoln\":13,\n",
    "            \"Mercedes\":42,\n",
    "            \"Nissan\":52,\n",
    "            \"Pontiac\":22,\n",
    "            \"Porsche\":45,\n",
    "            \"Saab\":47,\n",
    "            \"Subaru\":48,\n",
    "            \"Suzuki\" :53,\n",
    "            \"Toyota\": 49,\n",
    "            \"Volkswagen\":30,\n",
    "            \"Volvo\" :51,\n",
    "            \"Pozostałe\": 99}\n",
    "            \n",
    "## pozycja kierowcy\n",
    "\n",
    "SeatposDict = {\"Obok kierowcy\" :1,\n",
    "              \"Drugi rząd\":2 ,\n",
    "              \"Kolejny rząd\": 3,\n",
    "              \"Niestandardowe miejsce\": 4}\n",
    "\n",
    "## DriverAge \n",
    "\n",
    "# 4: 17-21 lat\n",
    "# 5: 22-30 lat\n",
    "# 6: 31-50 lat\n",
    "# 7: 51-65 lat\n",
    "# 8: powyżej 66 lat\n",
    "\n",
    "## pleć kierowcy \n",
    "\n",
    "DriverSexDict = {\"Kobieta\" :2,\n",
    "                 \"Mężczyzna\" :1}\n"
   ]
  },
  {
   "cell_type": "code",
   "execution_count": 4,
   "metadata": {},
   "outputs": [],
   "source": [
    "#slider defincja\n",
    "style = {'description_width': '150px'}\n",
    "layout = {'width': '500px'}\n",
    "wiek_slider = widgets.IntSlider(value=20, min=16, max=100,  description = \"Podaj wiek kierowcy\",style = style,layout=layout)\n",
    "def wiek_kierowcy(x):\n",
    "    przedzial = 0\n",
    "    if x <=21:\n",
    "        przedzial = 4\n",
    "    elif x<=30:\n",
    "        przedzial = 5\n",
    "    elif x<=50:\n",
    "        przedzial = 6\n",
    "    elif x <=65:\n",
    "        przedzial = 7\n",
    "    else:\n",
    "        przedzial = 8\n",
    "    return przedzial"
   ]
  },
  {
   "cell_type": "code",
   "execution_count": 5,
   "metadata": {},
   "outputs": [],
   "source": [
    "#pola wyboru definicje\n",
    "CarAge = widgets.Dropdown(options = CarAgeDict, description='Wiek auta:',style = style,layout=layout)\n",
    "Make= widgets.Dropdown(options = MakeDict, description='Marka auta:',style = style,layout=layout)\n",
    "Seatpos= widgets.Dropdown(options = SeatposDict, description='Miejsce siedzenia',style = style,layout=layout)\n",
    "DriverSex =widgets.Dropdown(options = DriverSexDict,description='Płeć kierowcy',style = style,layout=layout)\n"
   ]
  },
  {
   "cell_type": "markdown",
   "metadata": {},
   "source": [
    "**WIDGETY:**"
   ]
  },
  {
   "cell_type": "code",
   "execution_count": 6,
   "metadata": {},
   "outputs": [
    {
     "data": {
      "application/vnd.jupyter.widget-view+json": {
       "model_id": "e954aae1065b4bf1a781fc50deb89889",
       "version_major": 2,
       "version_minor": 0
      },
      "text/plain": [
       "IntSlider(value=20, description='Podaj wiek kierowcy', layout=Layout(width='500px'), min=16, style=SliderStyle…"
      ]
     },
     "metadata": {},
     "output_type": "display_data"
    }
   ],
   "source": [
    "wiek_slider"
   ]
  },
  {
   "cell_type": "code",
   "execution_count": 7,
   "metadata": {},
   "outputs": [
    {
     "data": {
      "application/vnd.jupyter.widget-view+json": {
       "model_id": "2dac4443eadd4db1a98215fcd44879c7",
       "version_major": 2,
       "version_minor": 0
      },
      "text/plain": [
       "Dropdown(description='Wiek auta:', layout=Layout(width='500px'), options={'0 - 2 lata': 0, '3 - 5 lat': 1, '6 …"
      ]
     },
     "metadata": {},
     "output_type": "display_data"
    }
   ],
   "source": [
    "CarAge"
   ]
  },
  {
   "cell_type": "code",
   "execution_count": 8,
   "metadata": {},
   "outputs": [
    {
     "data": {
      "application/vnd.jupyter.widget-view+json": {
       "model_id": "3d1dea9c06ca4ab2848b3723e57642bc",
       "version_major": 2,
       "version_minor": 0
      },
      "text/plain": [
       "Dropdown(description='Marka auta:', layout=Layout(width='500px'), options={'Audi': 32, 'BMW': 34, 'Cadillac': …"
      ]
     },
     "metadata": {},
     "output_type": "display_data"
    }
   ],
   "source": [
    "Make"
   ]
  },
  {
   "cell_type": "code",
   "execution_count": 9,
   "metadata": {},
   "outputs": [
    {
     "data": {
      "application/vnd.jupyter.widget-view+json": {
       "model_id": "487c83617ef2432a8742b530c92165fb",
       "version_major": 2,
       "version_minor": 0
      },
      "text/plain": [
       "Dropdown(description='Miejsce siedzenia', layout=Layout(width='500px'), options={'Obok kierowcy': 1, 'Drugi rz…"
      ]
     },
     "metadata": {},
     "output_type": "display_data"
    }
   ],
   "source": [
    "Seatpos"
   ]
  },
  {
   "cell_type": "code",
   "execution_count": 10,
   "metadata": {},
   "outputs": [
    {
     "data": {
      "application/vnd.jupyter.widget-view+json": {
       "model_id": "f529bca2609041aab0af8add2fe8fa54",
       "version_major": 2,
       "version_minor": 0
      },
      "text/plain": [
       "Dropdown(description='Płeć kierowcy', layout=Layout(width='500px'), options={'Kobieta': 2, 'Mężczyzna': 1}, st…"
      ]
     },
     "metadata": {},
     "output_type": "display_data"
    }
   ],
   "source": [
    "DriverSex"
   ]
  },
  {
   "cell_type": "code",
   "execution_count": 11,
   "metadata": {},
   "outputs": [],
   "source": [
    "#definicja przycisku run\n",
    "run = widgets.Button(description = \"wylicz\",tooltip='Kliknij',icon='search',button_style='info')\n",
    "\n",
    "out = widgets.Output()\n",
    "def przycisk(X):\n",
    "    with out:\n",
    "        clear_output()\n",
    "        wiek = wiek_kierowcy(wiek_slider.value)\n",
    "        wynik = report[(report[\"CarAge\"]==CarAge.value) & (report[\"MAKE\"]==Make.value)  & \n",
    "                       (report[\"SEATPOS\"]==Seatpos.value) & (report[\"DriverSex\"]==DriverSex.value) & \n",
    "                       (report[\"DriverAge\"]==wiek)]\n",
    "        print(\"W takiej konfiguracji prawdopodobieństwo wynosi:\",\"\\n\",\n",
    "        \"- śmierci: {:.1%}\".format(round(wynik.loc[wynik[\"INJSEV\"]==4,\"TotalResult\"].values[0],2)),\"\\n\",\n",
    "        \"- poważnych obrażeń: {:.1%}\".format(round(wynik.loc[wynik[\"INJSEV\"]==3,\"TotalResult\"].values[0],2)),\"\\n\",\n",
    "        \"- lekkich obrażeń: {:.1%}\".format(round(wynik.loc[wynik[\"INJSEV\"]==1,\"TotalResult\"].values[0],2)),\"\\n\",  \n",
    "        \"- braku obrażeń: {:.1%}\".format(round(wynik.loc[wynik[\"INJSEV\"]==0,\"TotalResult\"].values[0],2)))  \n"
   ]
  },
  {
   "cell_type": "code",
   "execution_count": 12,
   "metadata": {},
   "outputs": [],
   "source": [
    "# polaczenie wszystkiego w jedna aplikacje\n",
    "\n",
    "values = {\"slider\": wiek_slider.value, \"option\": CarAge.value,\"option2\": Make.value, \"option3\": Seatpos.value,\"option4\":DriverSex}\n",
    "\n",
    "\n",
    "def gadzety(x,y,a,b,c):\n",
    "    values[\"slider\"] = x\n",
    "    values[\"option\"] = y\n",
    "    values[\"option2\"] = a\n",
    "    values[\"option3\"] = b\n",
    "    values[\"option4\"] = c"
   ]
  },
  {
   "cell_type": "code",
   "execution_count": 13,
   "metadata": {},
   "outputs": [],
   "source": [
    "# wszystkie w jednym miejscu"
   ]
  },
  {
   "cell_type": "code",
   "execution_count": 14,
   "metadata": {},
   "outputs": [
    {
     "data": {
      "application/vnd.jupyter.widget-view+json": {
       "model_id": "71eaf038b3784cadb966a5495751a785",
       "version_major": 2,
       "version_minor": 0
      },
      "text/plain": [
       "interactive(children=(IntSlider(value=20, description='Podaj wiek kierowcy', layout=Layout(width='500px'), min…"
      ]
     },
     "metadata": {},
     "output_type": "display_data"
    },
    {
     "data": {
      "application/vnd.jupyter.widget-view+json": {
       "model_id": "3dab7eac1878416399806d4cff33a581",
       "version_major": 2,
       "version_minor": 0
      },
      "text/plain": [
       "Output()"
      ]
     },
     "metadata": {},
     "output_type": "display_data"
    },
    {
     "data": {
      "application/vnd.jupyter.widget-view+json": {
       "model_id": "b072ce159a9b47758c0b52426cb7d7d5",
       "version_major": 2,
       "version_minor": 0
      },
      "text/plain": [
       "Button(button_style='info', description='wylicz', icon='search', style=ButtonStyle(), tooltip='Kliknij')"
      ]
     },
     "metadata": {},
     "output_type": "display_data"
    }
   ],
   "source": [
    "widgets.interact(gadzety, x=wiek_slider, y=CarAge,a = Make, b =  Seatpos, c = DriverSex)\n",
    "\n",
    "display(out)\n",
    "display(run)\n",
    "run.on_click(przycisk)\n"
   ]
  },
  {
   "cell_type": "code",
   "execution_count": null,
   "metadata": {},
   "outputs": [],
   "source": []
  },
  {
   "cell_type": "code",
   "execution_count": null,
   "metadata": {},
   "outputs": [],
   "source": []
  }
 ],
 "metadata": {
  "kernelspec": {
   "display_name": "Python 3",
   "language": "python",
   "name": "python3"
  },
  "language_info": {
   "codemirror_mode": {
    "name": "ipython",
    "version": 3
   },
   "file_extension": ".py",
   "mimetype": "text/x-python",
   "name": "python",
   "nbconvert_exporter": "python",
   "pygments_lexer": "ipython3",
   "version": "3.8.3"
  }
 },
 "nbformat": 4,
 "nbformat_minor": 4
}
