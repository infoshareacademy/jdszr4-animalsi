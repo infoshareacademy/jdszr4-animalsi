{
 "cells": [
  {
   "cell_type": "code",
   "execution_count": 1,
   "metadata": {},
   "outputs": [
    {
     "name": "stdout",
     "output_type": "stream",
     "text": [
      "C:\\Users\\Dawid\\Desktop\\kurs\\jdszr4-animalsi\\wino\n"
     ]
    }
   ],
   "source": [
    "#sciezka z danymi\n",
    "%cd \"C:\\Users\\Dawid\\Desktop\\kurs\\jdszr4-animalsi\\wino\""
   ]
  },
  {
   "cell_type": "code",
   "execution_count": 8,
   "metadata": {},
   "outputs": [],
   "source": [
    "#glowne biblioteki\n",
    "import pandas as pd\n",
    "import numpy as np \n",
    "from xgboost import XGBClassifier, DMatrix, cv\n",
    "from sklearn.metrics import *\n",
    "from sklearn.model_selection import GridSearchCV, StratifiedKFold,  train_test_split\n",
    "from sklearn.preprocessing import LabelEncoder\n",
    "from time import time \n",
    "import matplotlib.pyplot as plt\n",
    "from winsound import Beep"
   ]
  },
  {
   "cell_type": "code",
   "execution_count": 17,
   "metadata": {},
   "outputs": [
    {
     "name": "stdout",
     "output_type": "stream",
     "text": [
      "lista zmiennych: \n",
      " ['X', 'Y', 'X_train_all', 'X_test', 'Y_train_all', 'Y_test', 'X_train_reduced', 'X_val', 'Y_train_reduced', 'Y_val', 'X_train_all_scaled', 'X_test_scaled', 'X_val_scaled', 'X_train_reduced_scaled', 'X_train_all_scaled_PCA', 'X_test_scaled_PCA', 'X_train_reduced_scaled_PCA', 'X_val_scaled_PCA']\n"
     ]
    }
   ],
   "source": [
    "#wlasny modul\n",
    "from dane.dane_wsadowe_zmiana_klas import *"
   ]
  },
  {
   "cell_type": "markdown",
   "metadata": {},
   "source": [
    "**1. Prosty model XGboost jako benchmark**"
   ]
  },
  {
   "cell_type": "markdown",
   "metadata": {},
   "source": [
    "a) dane nieprzetworzone"
   ]
  },
  {
   "cell_type": "code",
   "execution_count": 22,
   "metadata": {},
   "outputs": [
    {
     "name": "stdout",
     "output_type": "stream",
     "text": [
      "acc train:  1.0 \n",
      " acc val:  0.9297\n"
     ]
    }
   ],
   "source": [
    "#wyjdzmy od prostego modelu na domyslnych parametrach\n",
    "model_xgb1 = XGBClassifier(objective= 'binary:logistic',eval_metric='mlogloss')\n",
    "model_xgb1.fit(X_train_reduced,Y_train_reduced)\n",
    "pred_xgb1 = model_xgb1.predict(X_val)\n",
    "\n",
    "#ocena modelu na danych treningowych i testowych \n",
    "print(\"acc train: \",round(model_xgb1.score(X_train_reduced, Y_train_reduced),4), \"\\n\",\n",
    "      \"acc val: \", round(model_xgb1.score(X_val, Y_val),4))\n"
   ]
  },
  {
   "cell_type": "code",
   "execution_count": 23,
   "metadata": {},
   "outputs": [
    {
     "name": "stdout",
     "output_type": "stream",
     "text": [
      "              precision    recall  f1-score   support\n",
      "\n",
      "           1       0.96      0.97      0.96       116\n",
      "           2       0.64      0.58      0.61        12\n",
      "\n",
      "    accuracy                           0.93       128\n",
      "   macro avg       0.80      0.77      0.79       128\n",
      "weighted avg       0.93      0.93      0.93       128\n",
      "\n",
      "[[112   4]\n",
      " [  5   7]]\n"
     ]
    }
   ],
   "source": [
    "#ocena jakosci modelu nr 1\n",
    "xgb1_cnf_matrix = confusion_matrix(Y_val, pred_xgb1)\n",
    "xgb1_cnf_raport = classification_report(Y_val, pred_xgb1)\n",
    "print(xgb1_cnf_raport)\n",
    "print(xgb1_cnf_matrix)"
   ]
  },
  {
   "cell_type": "markdown",
   "metadata": {},
   "source": [
    "Model na podstawowych parametrach całkiem dobrze przewiduje klasę 2, perfekcyjnie klasę 1. \n",
    "Spróbujmy dalej"
   ]
  },
  {
   "cell_type": "markdown",
   "metadata": {},
   "source": [
    "b) dane przeskalowane"
   ]
  },
  {
   "cell_type": "code",
   "execution_count": 24,
   "metadata": {},
   "outputs": [
    {
     "name": "stdout",
     "output_type": "stream",
     "text": [
      "acc train:  1.0 \n",
      " acc val:  0.9297\n"
     ]
    }
   ],
   "source": [
    "#wyjdzmy od prostego modelu na domyslnych parametrach\n",
    "model_xgb2 = XGBClassifier(objective= 'binary:logistic',eval_metric='mlogloss')\n",
    "model_xgb2.fit(X_train_reduced_scaled,Y_train_reduced)\n",
    "pred_xgb2 = model_xgb2.predict(X_val_scaled)\n",
    "\n",
    "\n",
    "#ocena modelu na danych treningowych i testowych \n",
    "print(\"acc train: \",round(model_xgb2.score(X_train_reduced_scaled, Y_train_reduced),4), \"\\n\",\n",
    "      \"acc val: \", round(model_xgb2.score(X_val_scaled, Y_val),4))"
   ]
  },
  {
   "cell_type": "code",
   "execution_count": 25,
   "metadata": {},
   "outputs": [
    {
     "name": "stdout",
     "output_type": "stream",
     "text": [
      "              precision    recall  f1-score   support\n",
      "\n",
      "           1       0.96      0.97      0.96       116\n",
      "           2       0.64      0.58      0.61        12\n",
      "\n",
      "    accuracy                           0.93       128\n",
      "   macro avg       0.80      0.77      0.79       128\n",
      "weighted avg       0.93      0.93      0.93       128\n",
      "\n",
      "[[112   4]\n",
      " [  5   7]]\n"
     ]
    }
   ],
   "source": [
    "#ocena jakosci modelu nr 2\n",
    "xgb2_cnf_matrix = confusion_matrix(Y_val, pred_xgb2)\n",
    "xgb2_cnf_raport = classification_report(Y_val, pred_xgb2)\n",
    "print(xgb2_cnf_raport)\n",
    "print(xgb2_cnf_matrix)"
   ]
  },
  {
   "cell_type": "markdown",
   "metadata": {},
   "source": [
    "Standaryzacja w tym przypadku nie poprawia w ogóle naszego dopasowania."
   ]
  },
  {
   "cell_type": "markdown",
   "metadata": {},
   "source": [
    "c) dane PCA"
   ]
  },
  {
   "cell_type": "code",
   "execution_count": 26,
   "metadata": {},
   "outputs": [
    {
     "name": "stdout",
     "output_type": "stream",
     "text": [
      "acc train:  1.0 \n",
      " acc val:  0.8984\n"
     ]
    }
   ],
   "source": [
    "#wyjdzmy od prostego modelu na domyslnych parametrach\n",
    "model_xgb3 = XGBClassifier(objective= 'binary:logistic',eval_metric='mlogloss')\n",
    "model_xgb3.fit(X_train_reduced_scaled_PCA,Y_train_reduced)\n",
    "pred_xgb3 = model_xgb3.predict(X_val_scaled_PCA)\n",
    "\n",
    "#ocena modelu na danych treningowych i testowych \n",
    "print(\"acc train: \",round(model_xgb3.score(X_train_reduced_scaled_PCA, Y_train_reduced),4), \"\\n\",\n",
    "      \"acc val: \", round(model_xgb3.score(X_val_scaled_PCA, Y_val),4))"
   ]
  },
  {
   "cell_type": "code",
   "execution_count": 27,
   "metadata": {},
   "outputs": [
    {
     "name": "stdout",
     "output_type": "stream",
     "text": [
      "              precision    recall  f1-score   support\n",
      "\n",
      "           1       0.94      0.95      0.94       116\n",
      "           2       0.45      0.42      0.43        12\n",
      "\n",
      "    accuracy                           0.90       128\n",
      "   macro avg       0.70      0.68      0.69       128\n",
      "weighted avg       0.89      0.90      0.90       128\n",
      "\n",
      "[[110   6]\n",
      " [  7   5]]\n"
     ]
    }
   ],
   "source": [
    "#ocena jakosci modelu nr 3\n",
    "xgb3_cnf_matrix = confusion_matrix(Y_val, pred_xgb3)\n",
    "xgb3_cnf_raport = classification_report(Y_val, pred_xgb3)\n",
    "print(xgb3_cnf_raport)\n",
    "print(xgb3_cnf_matrix)"
   ]
  },
  {
   "cell_type": "markdown",
   "metadata": {},
   "source": [
    "W przypadku tego modelu widzimy, że PCA nie wpływa na jakość analiz dla podstawowych parametrów. \n",
    "W dalszej część będziemy posługiwać sie danym standaryzowanymi"
   ]
  },
  {
   "cell_type": "markdown",
   "metadata": {},
   "source": [
    "**2. Znajdzmy najlepsze parametry dla tego modelu**"
   ]
  },
  {
   "cell_type": "code",
   "execution_count": 4,
   "metadata": {},
   "outputs": [],
   "source": [
    "#zacznijmy od małego zestawu, by dostrzec czy jest w ogóle jakas poprawa \n",
    "params_xgb1 = {\"max_depth\"        :list(range(2, 15, 2)),\n",
    "              \"n_estimators\"      :list(range(50,211,40)),\n",
    "              \"learning_rate\"     :list(np.linspace(0.05,0.40, 8)),\n",
    "               \n",
    "}"
   ]
  },
  {
   "cell_type": "code",
   "execution_count": 62,
   "metadata": {},
   "outputs": [
    {
     "data": {
      "text/plain": [
       "20"
      ]
     },
     "execution_count": 62,
     "metadata": {},
     "output_type": "execute_result"
    }
   ],
   "source": [
    "r=  0   # policzymy ile jest mozliwych kombinacji parametrow\n",
    "for j in params_xgb1.values():\n",
    "    s=len(j)\n",
    "    r += s\n",
    "r"
   ]
  },
  {
   "cell_type": "code",
   "execution_count": 65,
   "metadata": {},
   "outputs": [
    {
     "name": "stdout",
     "output_type": "stream",
     "text": [
      "Fitting 5 folds for each of 280 candidates, totalling 1400 fits\n"
     ]
    },
    {
     "name": "stderr",
     "output_type": "stream",
     "text": [
      "[Parallel(n_jobs=1)]: Using backend SequentialBackend with 1 concurrent workers.\n",
      "C:\\Users\\Dawid\\anaconda3\\lib\\site-packages\\xgboost\\sklearn.py:1146: UserWarning: The use of label encoder in XGBClassifier is deprecated and will be removed in a future release. To remove this warning, do the following: 1) Pass option use_label_encoder=False when constructing XGBClassifier object; and 2) Encode your labels (y) as integers starting with 0, i.e. 0, 1, 2, ..., [num_class - 1].\n",
      "  warnings.warn(label_encoder_deprecation_msg, UserWarning)\n",
      "[Parallel(n_jobs=1)]: Done 1400 out of 1400 | elapsed: 16.6min finished\n"
     ]
    }
   ],
   "source": [
    "#zdefiniujmy obiekt sprawdzajacy nasze parametry\n",
    "model_xgb4 = XGBClassifier(objective= \"multi:softmax\", booster = \"gbtree\",n_jobs = 3,eval_metric='mlogloss')\n",
    "skf = StratifiedKFold(n_splits=5, shuttle = True)\n",
    "grid_search1 =  GridSearchCV(model_xgb4,param_grid = params_xgb1,cv =5,verbose = 1,scoring = make_scorer(balanced_accuracy_score)).fit(X_train_all_scaled,Y_train_all)\n",
    "Beep(400,1000)"
   ]
  },
  {
   "cell_type": "code",
   "execution_count": 68,
   "metadata": {},
   "outputs": [
    {
     "name": "stdout",
     "output_type": "stream",
     "text": [
      "{'learning_rate': 0.2, 'max_depth': 14, 'n_estimators': 50}\n"
     ]
    }
   ],
   "source": [
    "# sprawdzmy nasz najlepszy zestaw parametrow\n",
    "print(grid_search1.best_params_)\n",
    "\n",
    "model_xgb4 = grid_search1.best_estimator_\n",
    "model_xgb4.fit(X_train_all_scaled,Y_train_all)\n",
    "\n",
    "pred_xgb4 = model_xgb4.predict(X_test_scaled)"
   ]
  },
  {
   "cell_type": "code",
   "execution_count": 69,
   "metadata": {},
   "outputs": [
    {
     "name": "stdout",
     "output_type": "stream",
     "text": [
      "              precision    recall  f1-score   support\n",
      "\n",
      "           1       0.50      0.14      0.22         7\n",
      "           2       0.88      0.96      0.92       260\n",
      "           3       0.72      0.49      0.58        53\n",
      "\n",
      "    accuracy                           0.86       320\n",
      "   macro avg       0.70      0.53      0.58       320\n",
      "weighted avg       0.85      0.86      0.85       320\n",
      "\n",
      "[[  1   6   0]\n",
      " [  1 249  10]\n",
      " [  0  27  26]]\n"
     ]
    }
   ],
   "source": [
    "#ocena jakosci modelu z wybranymi najlepszymi parametrami\n",
    "xgb4_cnf_matrix = confusion_matrix(Y_test, pred_xgb4)\n",
    "xgb4_cnf_raport = classification_report(Y_test, pred_xgb4)\n",
    "print(xgb4_cnf_raport)\n",
    "print(xgb4_cnf_matrix)"
   ]
  },
  {
   "cell_type": "markdown",
   "metadata": {},
   "source": [
    "Nasz model uzyskał wysoki współczynnik f1-score dla klasy 2, jednak dla pozostałych klas współczynniki nadal są niskie."
   ]
  },
  {
   "cell_type": "markdown",
   "metadata": {},
   "source": [
    "**Spróbujmy wykorzystać walidacje wskrośną (Cross validacje) wbudowana w pakiecie XGboost**"
   ]
  },
  {
   "cell_type": "code",
   "execution_count": 180,
   "metadata": {},
   "outputs": [],
   "source": [
    "#Najpierw przetworzmy dane do wlasciwego formatu:\n",
    "\n",
    "#przerobmy nasze Y za pomoca LabelEncodera\n",
    "LE = LabelEncoder()\n",
    "Y_train_all_encoded = LE.fit_transform(Y_train_all)\n",
    "Y_test_encoded = LE.fit_transform(Y_test)\n",
    "\n",
    "\n",
    "dane = DMatrix(data = X_train_all_scaled, label = Y_train_all_encoded)\n",
    "\n",
    "params_xgb2 = {\"max_depth\"        :14,\n",
    "              \"learning_rate\"     :0.2,\n",
    "              \"booster\"           :\"gbtree\",\n",
    "              \"objective\"         :\"multi:softmax\",\n",
    "              \"num_class\"         : 3\n",
    "}\n",
    "\n",
    "\n",
    "model_xgb5 = cv(dtrain = dane, params = params_xgb2, nfold = 5,num_boost_round=100,\n",
    "                metrics = \"auc\", as_pandas = True,early_stopping_rounds = 5)"
   ]
  },
  {
   "cell_type": "code",
   "execution_count": 169,
   "metadata": {},
   "outputs": [
    {
     "data": {
      "text/plain": [
       "Index(['train-auc-mean', 'train-auc-std', 'test-auc-mean', 'test-auc-std'], dtype='object')"
      ]
     },
     "execution_count": 169,
     "metadata": {},
     "output_type": "execute_result"
    }
   ],
   "source": [
    "model_xgb5.columns"
   ]
  },
  {
   "cell_type": "code",
   "execution_count": 181,
   "metadata": {},
   "outputs": [
    {
     "data": {
      "image/png": "[encoded data removed]",
      "text/plain": [
       "<Figure size 1080x504 with 1 Axes>"
      ]
     },
     "metadata": {
      "needs_background": "light"
     },
     "output_type": "display_data"
    }
   ],
   "source": [
    "#zobrazujmy nasz proces trenowania na podstawie AUC\n",
    "\n",
    "train_auc = model_xgb5.iloc[::,0]\n",
    "test_auc = model_xgb5.iloc[::,2]\n",
    "y_axis = range(1,model_xgb5.shape[0]+1)\n",
    "\n",
    "plt.figure(figsize=(15, 7))\n",
    "plt.plot(y_axis,train_auc, label = \"train\")\n",
    "plt.plot(y_axis,test_auc, label = \"test\")\n",
    "plt.xlabel(\"epochs\")\n",
    "plt.ylabel(\"auc\")\n",
    "plt.ylim([0.5, 1])\n",
    "plt.legend()\n",
    "_=plt.show()"
   ]
  },
  {
   "cell_type": "markdown",
   "metadata": {},
   "source": [
    "Rowniez metoda z cross walidacja nie przynosi wyzsze jakosci klasyfikacji.\n"
   ]
  },
  {
   "cell_type": "code",
   "execution_count": 11,
   "metadata": {},
   "outputs": [],
   "source": [
    "# dobierzmy jeszcze do naszego najlepszego modelu najbardziej optymalny zestaw parametrów i spróbujmy z inna metoda walidacji i innym scoremem\n",
    "params_xgb2 = {\"max_depth\"        :list(range(11, 15, 1)),\n",
    "              \"n_estimators\"      :list(range(50,211,40)),\n",
    "              \"learning_rate\"     :list(np.linspace(0.1,0.40, 5)),\n",
    "               'objective'        :[\"multi:softmax\", \"multi:softprob\"]\n",
    "}\n",
    "\n"
   ]
  },
  {
   "cell_type": "code",
   "execution_count": 12,
   "metadata": {},
   "outputs": [
    {
     "name": "stdout",
     "output_type": "stream",
     "text": [
      "Fitting 5 folds for each of 200 candidates, totalling 1000 fits\n"
     ]
    },
    {
     "name": "stderr",
     "output_type": "stream",
     "text": [
      "[Parallel(n_jobs=1)]: Using backend SequentialBackend with 1 concurrent workers.\n",
      "C:\\Users\\Dawid\\anaconda3\\lib\\site-packages\\xgboost\\sklearn.py:1146: UserWarning: The use of label encoder in XGBClassifier is deprecated and will be removed in a future release. To remove this warning, do the following: 1) Pass option use_label_encoder=False when constructing XGBClassifier object; and 2) Encode your labels (y) as integers starting with 0, i.e. 0, 1, 2, ..., [num_class - 1].\n",
      "  warnings.warn(label_encoder_deprecation_msg, UserWarning)\n",
      "[Parallel(n_jobs=1)]: Done 1000 out of 1000 | elapsed: 13.1min finished\n"
     ]
    }
   ],
   "source": [
    "#zdefiniujmy obiekt sprawdzajacy nasze parametry\n",
    "model_xgb5 = XGBClassifier(booster = \"gbtree\",n_jobs = 3,eval_metric='mlogloss')\n",
    "skf = StratifiedKFold(n_splits=5, shuffle = True)\n",
    "grid_search2 =  GridSearchCV(model_xgb5,param_grid = params_xgb2,cv =skf,verbose = 1,scoring = make_scorer(balanced_accuracy_score)).fit(X_train_all_scaled,Y_train_all)\n",
    "Beep(400,1000)"
   ]
  },
  {
   "cell_type": "code",
   "execution_count": 15,
   "metadata": {},
   "outputs": [
    {
     "name": "stdout",
     "output_type": "stream",
     "text": [
      "{'learning_rate': 0.4, 'max_depth': 13, 'n_estimators': 210, 'objective': 'multi:softmax'}\n"
     ]
    }
   ],
   "source": [
    "# sprawdzmy nasz najlepszy zestaw parametrow\n",
    "print(grid_search2.best_params_)\n",
    "\n",
    "model_xgb5 = grid_search2.best_estimator_\n",
    "model_xgb5.fit(X_train_all_scaled,Y_train_all)\n",
    "\n",
    "pred_xgb5 = model_xgb5.predict(X_test_scaled)"
   ]
  },
  {
   "cell_type": "code",
   "execution_count": 16,
   "metadata": {},
   "outputs": [
    {
     "name": "stdout",
     "output_type": "stream",
     "text": [
      "              precision    recall  f1-score   support\n",
      "\n",
      "           1       0.00      0.00      0.00        12\n",
      "           2       0.89      0.96      0.92       267\n",
      "           3       0.72      0.56      0.63        41\n",
      "\n",
      "    accuracy                           0.87       320\n",
      "   macro avg       0.54      0.51      0.52       320\n",
      "weighted avg       0.84      0.87      0.85       320\n",
      "\n",
      "[[  0  12   0]\n",
      " [  3 255   9]\n",
      " [  0  18  23]]\n"
     ]
    }
   ],
   "source": [
    "#ocena jakosci modelu z wybranymi najlepszymi parametrami\n",
    "xgb5_cnf_matrix = confusion_matrix(Y_test, pred_xgb5)\n",
    "xgb5_cnf_raport = classification_report(Y_test, pred_xgb5)\n",
    "print(xgb5_cnf_raport)\n",
    "print(xgb5_cnf_matrix)"
   ]
  },
  {
   "cell_type": "markdown",
   "metadata": {},
   "source": [
    "To na nic, klasa 1 wciąż uzyskuje niesatysfakcjonujace wyniki, sprobujmy przerobic nasz zbior na binarna klasyfikacje"
   ]
  }
 ],
 "metadata": {
  "kernelspec": {
   "display_name": "Python 3",
   "language": "python",
   "name": "python3"
  },
  "language_info": {
   "codemirror_mode": {
    "name": "ipython",
    "version": 3
   },
   "file_extension": ".py",
   "mimetype": "text/x-python",
   "name": "python",
   "nbconvert_exporter": "python",
   "pygments_lexer": "ipython3",
   "version": "3.8.3"
  }
 },
 "nbformat": 4,
 "nbformat_minor": 4
}
