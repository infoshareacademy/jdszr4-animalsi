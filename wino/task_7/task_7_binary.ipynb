{
 "cells": [
  {
   "cell_type": "code",
   "execution_count": 1,
   "metadata": {},
   "outputs": [
    {
     "name": "stdout",
     "output_type": "stream",
     "text": [
      "C:\\Users\\Dawid\\Desktop\\kurs\\jdszr4-animalsi\\wino\n"
     ]
    }
   ],
   "source": [
    "#sciezka z danymi\n",
    "%cd \"C:\\Users\\Dawid\\Desktop\\kurs\\jdszr4-animalsi\\wino\""
   ]
  },
  {
   "cell_type": "code",
   "execution_count": 2,
   "metadata": {},
   "outputs": [],
   "source": [
    "#glowne biblioteki\n",
    "import pandas as pd\n",
    "import numpy as np \n",
    "from xgboost import XGBClassifier, DMatrix, cv\n",
    "from sklearn.metrics import *\n",
    "from sklearn.model_selection import GridSearchCV, StratifiedKFold,  train_test_split\n",
    "from sklearn.preprocessing import LabelEncoder\n",
    "from time import time \n",
    "import matplotlib.pyplot as plt\n",
    "from winsound import Beep"
   ]
  },
  {
   "cell_type": "code",
   "execution_count": 3,
   "metadata": {},
   "outputs": [
    {
     "name": "stdout",
     "output_type": "stream",
     "text": [
      "lista zmiennych: \n",
      " ['X', 'Y', 'X_train_all', 'X_test', 'Y_train_all', 'Y_test', 'X_train_reduced', 'X_val', 'Y_train_reduced', 'Y_val', 'X_train_all_scaled', 'X_test_scaled', 'X_val_scaled', 'X_train_reduced_scaled', 'X_train_all_scaled_PCA', 'X_test_scaled_PCA', 'X_train_reduced_scaled_PCA', 'X_val_scaled_PCA']\n"
     ]
    }
   ],
   "source": [
    "#wlasny modul\n",
    "from dane.dane_wsadowe_zmiana_klas import *"
   ]
  },
  {
   "cell_type": "markdown",
   "metadata": {},
   "source": [
    "**1. Prosty model XGboost jako benchmark**"
   ]
  },
  {
   "cell_type": "markdown",
   "metadata": {},
   "source": [
    "a) dane nieprzetworzone"
   ]
  },
  {
   "cell_type": "code",
   "execution_count": 5,
   "metadata": {},
   "outputs": [
    {
     "name": "stdout",
     "output_type": "stream",
     "text": [
      "acc train:  1.0 \n",
      " acc val:  0.9219 \n",
      " acc test:  0.9156\n"
     ]
    }
   ],
   "source": [
    "#wyjdzmy od prostego modelu na domyslnych parametrach\n",
    "model_xgb1 = XGBClassifier(objective= 'binary:logistic',eval_metric='mlogloss', random_state = 6)\n",
    "model_xgb1.fit(X_train_reduced,Y_train_reduced)\n",
    "pred_xgb1_val = model_xgb1.predict(X_val)\n",
    "pred_xgb1_test = model_xgb1.predict(X_test)\n",
    "\n",
    "#ocena modelu na danych treningowych i testowych \n",
    "print(\"acc train: \",round(model_xgb1.score(X_train_reduced, Y_train_reduced),4), \"\\n\",\n",
    "      \"acc val: \", round(model_xgb1.score(X_val, Y_val),4), \"\\n\",\n",
    "      \"acc test: \", round(model_xgb1.score(X_test, Y_test),4)\n",
    "     )\n"
   ]
  },
  {
   "cell_type": "code",
   "execution_count": 7,
   "metadata": {},
   "outputs": [
    {
     "name": "stdout",
     "output_type": "stream",
     "text": [
      "              precision    recall  f1-score   support\n",
      "\n",
      "           1       0.93      0.98      0.96       114\n",
      "           2       0.75      0.43      0.55        14\n",
      "\n",
      "    accuracy                           0.92       128\n",
      "   macro avg       0.84      0.71      0.75       128\n",
      "weighted avg       0.91      0.92      0.91       128\n",
      "\n",
      "[[112   2]\n",
      " [  8   6]]\n"
     ]
    }
   ],
   "source": [
    "#ocena jakosci modelu nr 1 walidacja\n",
    "xgb1_cnf_matrix = confusion_matrix(Y_val, pred_xgb1_val)\n",
    "xgb1_cnf_raport = classification_report(Y_val, pred_xgb1_val)\n",
    "print(xgb1_cnf_raport)\n",
    "print(xgb1_cnf_matrix)"
   ]
  },
  {
   "cell_type": "code",
   "execution_count": 8,
   "metadata": {},
   "outputs": [
    {
     "name": "stdout",
     "output_type": "stream",
     "text": [
      "              precision    recall  f1-score   support\n",
      "\n",
      "           1       0.94      0.96      0.95       280\n",
      "           2       0.70      0.57      0.63        40\n",
      "\n",
      "    accuracy                           0.92       320\n",
      "   macro avg       0.82      0.77      0.79       320\n",
      "weighted avg       0.91      0.92      0.91       320\n",
      "\n",
      "[[270  10]\n",
      " [ 17  23]]\n"
     ]
    }
   ],
   "source": [
    "#ocena jakosci modelu nr 1 test\n",
    "xgb1_cnf_matrix = confusion_matrix(Y_test, pred_xgb1_test)\n",
    "xgb1_cnf_raport = classification_report(Y_test, pred_xgb1_test)\n",
    "print(xgb1_cnf_raport)\n",
    "print(xgb1_cnf_matrix)"
   ]
  },
  {
   "cell_type": "markdown",
   "metadata": {},
   "source": [
    "Model na podstawowych parametrach całkiem dobrze przewiduje klasę 2 ok 63%, perfekcyjnie klasę 1. \n",
    "Spróbujmy dalej"
   ]
  },
  {
   "cell_type": "markdown",
   "metadata": {},
   "source": [
    "b) dane przeskalowane"
   ]
  },
  {
   "cell_type": "code",
   "execution_count": 24,
   "metadata": {},
   "outputs": [
    {
     "name": "stdout",
     "output_type": "stream",
     "text": [
      "acc train:  1.0 \n",
      " acc val:  0.9297\n"
     ]
    }
   ],
   "source": [
    "#wyjdzmy od prostego modelu na domyslnych parametrach\n",
    "model_xgb2 = XGBClassifier(objective= 'binary:logistic',eval_metric='mlogloss')\n",
    "model_xgb2.fit(X_train_reduced_scaled,Y_train_reduced)\n",
    "pred_xgb2 = model_xgb2.predict(X_val_scaled)\n",
    "\n",
    "\n",
    "#ocena modelu na danych treningowych i testowych \n",
    "print(\"acc train: \",round(model_xgb2.score(X_train_reduced_scaled, Y_train_reduced),4), \"\\n\",\n",
    "      \"acc val: \", round(model_xgb2.score(X_val_scaled, Y_val),4))"
   ]
  },
  {
   "cell_type": "code",
   "execution_count": 25,
   "metadata": {},
   "outputs": [
    {
     "name": "stdout",
     "output_type": "stream",
     "text": [
      "              precision    recall  f1-score   support\n",
      "\n",
      "           1       0.96      0.97      0.96       116\n",
      "           2       0.64      0.58      0.61        12\n",
      "\n",
      "    accuracy                           0.93       128\n",
      "   macro avg       0.80      0.77      0.79       128\n",
      "weighted avg       0.93      0.93      0.93       128\n",
      "\n",
      "[[112   4]\n",
      " [  5   7]]\n"
     ]
    }
   ],
   "source": [
    "#ocena jakosci modelu nr 2\n",
    "xgb2_cnf_matrix = confusion_matrix(Y_val, pred_xgb2)\n",
    "xgb2_cnf_raport = classification_report(Y_val, pred_xgb2)\n",
    "print(xgb2_cnf_raport)\n",
    "print(xgb2_cnf_matrix)"
   ]
  },
  {
   "cell_type": "markdown",
   "metadata": {},
   "source": [
    "Standaryzacja w tym przypadku nie poprawia w ogóle naszego dopasowania."
   ]
  },
  {
   "cell_type": "markdown",
   "metadata": {},
   "source": [
    "c) dane PCA"
   ]
  },
  {
   "cell_type": "code",
   "execution_count": 26,
   "metadata": {},
   "outputs": [
    {
     "name": "stdout",
     "output_type": "stream",
     "text": [
      "acc train:  1.0 \n",
      " acc val:  0.8984\n"
     ]
    }
   ],
   "source": [
    "#wyjdzmy od prostego modelu na domyslnych parametrach\n",
    "model_xgb3 = XGBClassifier(objective= 'binary:logistic',eval_metric='mlogloss')\n",
    "model_xgb3.fit(X_train_reduced_scaled_PCA,Y_train_reduced)\n",
    "pred_xgb3 = model_xgb3.predict(X_val_scaled_PCA)\n",
    "\n",
    "#ocena modelu na danych treningowych i testowych \n",
    "print(\"acc train: \",round(model_xgb3.score(X_train_reduced_scaled_PCA, Y_train_reduced),4), \"\\n\",\n",
    "      \"acc val: \", round(model_xgb3.score(X_val_scaled_PCA, Y_val),4))"
   ]
  },
  {
   "cell_type": "code",
   "execution_count": 27,
   "metadata": {},
   "outputs": [
    {
     "name": "stdout",
     "output_type": "stream",
     "text": [
      "              precision    recall  f1-score   support\n",
      "\n",
      "           1       0.94      0.95      0.94       116\n",
      "           2       0.45      0.42      0.43        12\n",
      "\n",
      "    accuracy                           0.90       128\n",
      "   macro avg       0.70      0.68      0.69       128\n",
      "weighted avg       0.89      0.90      0.90       128\n",
      "\n",
      "[[110   6]\n",
      " [  7   5]]\n"
     ]
    }
   ],
   "source": [
    "#ocena jakosci modelu nr 3\n",
    "xgb3_cnf_matrix = confusion_matrix(Y_val, pred_xgb3)\n",
    "xgb3_cnf_raport = classification_report(Y_val, pred_xgb3)\n",
    "print(xgb3_cnf_raport)\n",
    "print(xgb3_cnf_matrix)"
   ]
  },
  {
   "cell_type": "markdown",
   "metadata": {},
   "source": [
    "W przypadku tego modelu widzimy, że PCA nie wpływa na jakość analiz dla podstawowych parametrów. \n",
    "W dalszej część będziemy posługiwać sie danym standaryzowanymi"
   ]
  },
  {
   "cell_type": "markdown",
   "metadata": {},
   "source": [
    "**2. Znajdzmy najlepsze parametry dla tego modelu**"
   ]
  },
  {
   "cell_type": "code",
   "execution_count": 28,
   "metadata": {},
   "outputs": [],
   "source": [
    "#zacznijmy od małego zestawu, by dostrzec czy jest w ogóle jakas poprawa \n",
    "params_xgb1 = {\"max_depth\"        :list(range(2, 15, 2)),\n",
    "              \"n_estimators\"      :list(range(50,211,40)),\n",
    "              \"learning_rate\"     :list(np.linspace(0.05,0.40, 8)),\n",
    "               \n",
    "}"
   ]
  },
  {
   "cell_type": "code",
   "execution_count": 29,
   "metadata": {},
   "outputs": [
    {
     "data": {
      "text/plain": [
       "20"
      ]
     },
     "execution_count": 29,
     "metadata": {},
     "output_type": "execute_result"
    }
   ],
   "source": [
    "r=  0   # policzymy ile jest mozliwych kombinacji parametrow\n",
    "for j in params_xgb1.values():\n",
    "    s=len(j)\n",
    "    r += s\n",
    "r"
   ]
  },
  {
   "cell_type": "code",
   "execution_count": 31,
   "metadata": {},
   "outputs": [
    {
     "name": "stdout",
     "output_type": "stream",
     "text": [
      "Fitting 5 folds for each of 280 candidates, totalling 1400 fits\n"
     ]
    },
    {
     "name": "stderr",
     "output_type": "stream",
     "text": [
      "[Parallel(n_jobs=1)]: Using backend SequentialBackend with 1 concurrent workers.\n",
      "C:\\Users\\Dawid\\anaconda3\\lib\\site-packages\\xgboost\\sklearn.py:1146: UserWarning: The use of label encoder in XGBClassifier is deprecated and will be removed in a future release. To remove this warning, do the following: 1) Pass option use_label_encoder=False when constructing XGBClassifier object; and 2) Encode your labels (y) as integers starting with 0, i.e. 0, 1, 2, ..., [num_class - 1].\n",
      "  warnings.warn(label_encoder_deprecation_msg, UserWarning)\n",
      "[Parallel(n_jobs=1)]: Done 1400 out of 1400 | elapsed:  6.3min finished\n"
     ]
    }
   ],
   "source": [
    "#zdefiniujmy obiekt sprawdzajacy nasze parametry\n",
    "model_xgb4 = XGBClassifier(objective= 'binary:logistic', booster = \"gbtree\",n_jobs = 3,eval_metric='mlogloss')\n",
    "skf = StratifiedKFold(n_splits=5, shuffle = True)\n",
    "grid_search1 =  GridSearchCV(model_xgb4,param_grid = params_xgb1,cv =skf,verbose = 1,scoring = make_scorer(balanced_accuracy_score)).fit(X_train_all_scaled,Y_train_all)\n",
    "Beep(400,1000)"
   ]
  },
  {
   "cell_type": "code",
   "execution_count": 32,
   "metadata": {},
   "outputs": [
    {
     "name": "stdout",
     "output_type": "stream",
     "text": [
      "{'learning_rate': 0.4, 'max_depth': 4, 'n_estimators': 130}\n"
     ]
    }
   ],
   "source": [
    "# sprawdzmy nasz najlepszy zestaw parametrow\n",
    "print(grid_search1.best_params_)\n",
    "\n",
    "model_xgb4 = grid_search1.best_estimator_\n",
    "model_xgb4.fit(X_train_all_scaled,Y_train_all)\n",
    "\n",
    "pred_xgb4 = model_xgb4.predict(X_test_scaled)"
   ]
  },
  {
   "cell_type": "code",
   "execution_count": 33,
   "metadata": {},
   "outputs": [
    {
     "name": "stdout",
     "output_type": "stream",
     "text": [
      "              precision    recall  f1-score   support\n",
      "\n",
      "           1       0.95      0.96      0.95       272\n",
      "           2       0.73      0.69      0.71        48\n",
      "\n",
      "    accuracy                           0.92       320\n",
      "   macro avg       0.84      0.82      0.83       320\n",
      "weighted avg       0.91      0.92      0.91       320\n",
      "\n",
      "[[260  12]\n",
      " [ 15  33]]\n"
     ]
    }
   ],
   "source": [
    "#ocena jakosci modelu z wybranymi najlepszymi parametrami\n",
    "xgb4_cnf_matrix = confusion_matrix(Y_test, pred_xgb4)\n",
    "xgb4_cnf_raport = classification_report(Y_test, pred_xgb4)\n",
    "print(xgb4_cnf_raport)\n",
    "print(xgb4_cnf_matrix)"
   ]
  },
  {
   "cell_type": "markdown",
   "metadata": {},
   "source": [
    "Nasz model uzyskał wysoki współczynnik f1-score dla klasy 2 na rekordowym dotad poziomie, tj. 71, dla klasy 1 wyniosł 95%.\n"
   ]
  },
  {
   "cell_type": "markdown",
   "metadata": {},
   "source": [
    "**Spróbujmy wykorzystać walidacje wskrośną (Cross validacje) wbudowana w pakiecie XGboost**"
   ]
  },
  {
   "cell_type": "code",
   "execution_count": null,
   "metadata": {},
   "outputs": [],
   "source": [
    "#cos nie działa ta cześć???"
   ]
  },
  {
   "cell_type": "code",
   "execution_count": 56,
   "metadata": {},
   "outputs": [
    {
     "ename": "XGBoostError",
     "evalue": "[22:20:11] C:/Users/Administrator/workspace/xgboost-win64_release_1.4.0/src/objective/regression_obj.cu:58: Check failed: preds.Size() == info.labels_.Size() (3063 vs. 1021) :  labels are not correctly providedpreds.size=3063, label.size=1021, Loss: binary:logistic",
     "output_type": "error",
     "traceback": [
      "\u001b[1;31m---------------------------------------------------------------------------\u001b[0m",
      "\u001b[1;31mXGBoostError\u001b[0m                              Traceback (most recent call last)",
      "\u001b[1;32m<ipython-input-56-446b0742739c>\u001b[0m in \u001b[0;36m<module>\u001b[1;34m\u001b[0m\n\u001b[0;32m     17\u001b[0m \u001b[1;33m\u001b[0m\u001b[0m\n\u001b[0;32m     18\u001b[0m \u001b[1;33m\u001b[0m\u001b[0m\n\u001b[1;32m---> 19\u001b[1;33m model_xgb5 = cv(dtrain = dane, params = params_xgb2, nfold = 5,num_boost_round=100,\n\u001b[0m\u001b[0;32m     20\u001b[0m                 metrics = \"auc\", as_pandas = True,early_stopping_rounds = 5)\n",
      "\u001b[1;32m~\\anaconda3\\lib\\site-packages\\xgboost\\training.py\u001b[0m in \u001b[0;36mcv\u001b[1;34m(params, dtrain, num_boost_round, nfold, stratified, folds, metrics, obj, feval, maximize, early_stopping_rounds, fpreproc, as_pandas, verbose_eval, show_stdv, seed, callbacks, shuffle)\u001b[0m\n\u001b[0;32m    493\u001b[0m         \u001b[1;32mif\u001b[0m \u001b[0mcallbacks\u001b[0m\u001b[1;33m.\u001b[0m\u001b[0mbefore_iteration\u001b[0m\u001b[1;33m(\u001b[0m\u001b[0mbooster\u001b[0m\u001b[1;33m,\u001b[0m \u001b[0mi\u001b[0m\u001b[1;33m,\u001b[0m \u001b[0mdtrain\u001b[0m\u001b[1;33m,\u001b[0m \u001b[1;32mNone\u001b[0m\u001b[1;33m)\u001b[0m\u001b[1;33m:\u001b[0m\u001b[1;33m\u001b[0m\u001b[1;33m\u001b[0m\u001b[0m\n\u001b[0;32m    494\u001b[0m             \u001b[1;32mbreak\u001b[0m\u001b[1;33m\u001b[0m\u001b[1;33m\u001b[0m\u001b[0m\n\u001b[1;32m--> 495\u001b[1;33m         \u001b[0mbooster\u001b[0m\u001b[1;33m.\u001b[0m\u001b[0mupdate\u001b[0m\u001b[1;33m(\u001b[0m\u001b[0mi\u001b[0m\u001b[1;33m,\u001b[0m \u001b[0mobj\u001b[0m\u001b[1;33m)\u001b[0m\u001b[1;33m\u001b[0m\u001b[1;33m\u001b[0m\u001b[0m\n\u001b[0m\u001b[0;32m    496\u001b[0m \u001b[1;33m\u001b[0m\u001b[0m\n\u001b[0;32m    497\u001b[0m         \u001b[0mshould_break\u001b[0m \u001b[1;33m=\u001b[0m \u001b[0mcallbacks\u001b[0m\u001b[1;33m.\u001b[0m\u001b[0mafter_iteration\u001b[0m\u001b[1;33m(\u001b[0m\u001b[0mbooster\u001b[0m\u001b[1;33m,\u001b[0m \u001b[0mi\u001b[0m\u001b[1;33m,\u001b[0m \u001b[0mdtrain\u001b[0m\u001b[1;33m,\u001b[0m \u001b[1;32mNone\u001b[0m\u001b[1;33m)\u001b[0m\u001b[1;33m\u001b[0m\u001b[1;33m\u001b[0m\u001b[0m\n",
      "\u001b[1;32m~\\anaconda3\\lib\\site-packages\\xgboost\\training.py\u001b[0m in \u001b[0;36mupdate\u001b[1;34m(self, iteration, obj)\u001b[0m\n\u001b[0;32m    229\u001b[0m         \u001b[1;34m'''Iterate through folds for update'''\u001b[0m\u001b[1;33m\u001b[0m\u001b[1;33m\u001b[0m\u001b[0m\n\u001b[0;32m    230\u001b[0m         \u001b[1;32mfor\u001b[0m \u001b[0mfold\u001b[0m \u001b[1;32min\u001b[0m \u001b[0mself\u001b[0m\u001b[1;33m.\u001b[0m\u001b[0mcvfolds\u001b[0m\u001b[1;33m:\u001b[0m\u001b[1;33m\u001b[0m\u001b[1;33m\u001b[0m\u001b[0m\n\u001b[1;32m--> 231\u001b[1;33m             \u001b[0mfold\u001b[0m\u001b[1;33m.\u001b[0m\u001b[0mupdate\u001b[0m\u001b[1;33m(\u001b[0m\u001b[0miteration\u001b[0m\u001b[1;33m,\u001b[0m \u001b[0mobj\u001b[0m\u001b[1;33m)\u001b[0m\u001b[1;33m\u001b[0m\u001b[1;33m\u001b[0m\u001b[0m\n\u001b[0m\u001b[0;32m    232\u001b[0m \u001b[1;33m\u001b[0m\u001b[0m\n\u001b[0;32m    233\u001b[0m     \u001b[1;32mdef\u001b[0m \u001b[0meval\u001b[0m\u001b[1;33m(\u001b[0m\u001b[0mself\u001b[0m\u001b[1;33m,\u001b[0m \u001b[0miteration\u001b[0m\u001b[1;33m,\u001b[0m \u001b[0mfeval\u001b[0m\u001b[1;33m)\u001b[0m\u001b[1;33m:\u001b[0m\u001b[1;33m\u001b[0m\u001b[1;33m\u001b[0m\u001b[0m\n",
      "\u001b[1;32m~\\anaconda3\\lib\\site-packages\\xgboost\\training.py\u001b[0m in \u001b[0;36mupdate\u001b[1;34m(self, iteration, fobj)\u001b[0m\n\u001b[0;32m    215\u001b[0m     \u001b[1;32mdef\u001b[0m \u001b[0mupdate\u001b[0m\u001b[1;33m(\u001b[0m\u001b[0mself\u001b[0m\u001b[1;33m,\u001b[0m \u001b[0miteration\u001b[0m\u001b[1;33m,\u001b[0m \u001b[0mfobj\u001b[0m\u001b[1;33m)\u001b[0m\u001b[1;33m:\u001b[0m\u001b[1;33m\u001b[0m\u001b[1;33m\u001b[0m\u001b[0m\n\u001b[0;32m    216\u001b[0m         \u001b[1;34m\"\"\"\"Update the boosters for one iteration\"\"\"\u001b[0m\u001b[1;33m\u001b[0m\u001b[1;33m\u001b[0m\u001b[0m\n\u001b[1;32m--> 217\u001b[1;33m         \u001b[0mself\u001b[0m\u001b[1;33m.\u001b[0m\u001b[0mbst\u001b[0m\u001b[1;33m.\u001b[0m\u001b[0mupdate\u001b[0m\u001b[1;33m(\u001b[0m\u001b[0mself\u001b[0m\u001b[1;33m.\u001b[0m\u001b[0mdtrain\u001b[0m\u001b[1;33m,\u001b[0m \u001b[0miteration\u001b[0m\u001b[1;33m,\u001b[0m \u001b[0mfobj\u001b[0m\u001b[1;33m)\u001b[0m\u001b[1;33m\u001b[0m\u001b[1;33m\u001b[0m\u001b[0m\n\u001b[0m\u001b[0;32m    218\u001b[0m \u001b[1;33m\u001b[0m\u001b[0m\n\u001b[0;32m    219\u001b[0m     \u001b[1;32mdef\u001b[0m \u001b[0meval\u001b[0m\u001b[1;33m(\u001b[0m\u001b[0mself\u001b[0m\u001b[1;33m,\u001b[0m \u001b[0miteration\u001b[0m\u001b[1;33m,\u001b[0m \u001b[0mfeval\u001b[0m\u001b[1;33m)\u001b[0m\u001b[1;33m:\u001b[0m\u001b[1;33m\u001b[0m\u001b[1;33m\u001b[0m\u001b[0m\n",
      "\u001b[1;32m~\\anaconda3\\lib\\site-packages\\xgboost\\core.py\u001b[0m in \u001b[0;36mupdate\u001b[1;34m(self, dtrain, iteration, fobj)\u001b[0m\n\u001b[0;32m   1497\u001b[0m \u001b[1;33m\u001b[0m\u001b[0m\n\u001b[0;32m   1498\u001b[0m         \u001b[1;32mif\u001b[0m \u001b[0mfobj\u001b[0m \u001b[1;32mis\u001b[0m \u001b[1;32mNone\u001b[0m\u001b[1;33m:\u001b[0m\u001b[1;33m\u001b[0m\u001b[1;33m\u001b[0m\u001b[0m\n\u001b[1;32m-> 1499\u001b[1;33m             _check_call(_LIB.XGBoosterUpdateOneIter(self.handle,\n\u001b[0m\u001b[0;32m   1500\u001b[0m                                                     \u001b[0mctypes\u001b[0m\u001b[1;33m.\u001b[0m\u001b[0mc_int\u001b[0m\u001b[1;33m(\u001b[0m\u001b[0miteration\u001b[0m\u001b[1;33m)\u001b[0m\u001b[1;33m,\u001b[0m\u001b[1;33m\u001b[0m\u001b[1;33m\u001b[0m\u001b[0m\n\u001b[0;32m   1501\u001b[0m                                                     dtrain.handle))\n",
      "\u001b[1;32m~\\anaconda3\\lib\\site-packages\\xgboost\\core.py\u001b[0m in \u001b[0;36m_check_call\u001b[1;34m(ret)\u001b[0m\n\u001b[0;32m    208\u001b[0m     \"\"\"\n\u001b[0;32m    209\u001b[0m     \u001b[1;32mif\u001b[0m \u001b[0mret\u001b[0m \u001b[1;33m!=\u001b[0m \u001b[1;36m0\u001b[0m\u001b[1;33m:\u001b[0m\u001b[1;33m\u001b[0m\u001b[1;33m\u001b[0m\u001b[0m\n\u001b[1;32m--> 210\u001b[1;33m         \u001b[1;32mraise\u001b[0m \u001b[0mXGBoostError\u001b[0m\u001b[1;33m(\u001b[0m\u001b[0mpy_str\u001b[0m\u001b[1;33m(\u001b[0m\u001b[0m_LIB\u001b[0m\u001b[1;33m.\u001b[0m\u001b[0mXGBGetLastError\u001b[0m\u001b[1;33m(\u001b[0m\u001b[1;33m)\u001b[0m\u001b[1;33m)\u001b[0m\u001b[1;33m)\u001b[0m\u001b[1;33m\u001b[0m\u001b[1;33m\u001b[0m\u001b[0m\n\u001b[0m\u001b[0;32m    211\u001b[0m \u001b[1;33m\u001b[0m\u001b[0m\n\u001b[0;32m    212\u001b[0m \u001b[1;33m\u001b[0m\u001b[0m\n",
      "\u001b[1;31mXGBoostError\u001b[0m: [22:20:11] C:/Users/Administrator/workspace/xgboost-win64_release_1.4.0/src/objective/regression_obj.cu:58: Check failed: preds.Size() == info.labels_.Size() (3063 vs. 1021) :  labels are not correctly providedpreds.size=3063, label.size=1021, Loss: binary:logistic"
     ]
    }
   ],
   "source": [
    "#Najpierw przetworzmy dane do wlasciwego formatu:\n",
    "\n",
    "#przerobmy nasze Y za pomoca LabelEncodera\n",
    "LE = LabelEncoder()\n",
    "Y_train_all_encoded = LE.fit_transform(Y_train_all)\n",
    "Y_test_encoded = LE.fit_transform(Y_test)\n",
    "\n",
    "\n",
    "dane = DMatrix(data = X_train_all_scaled, label = Y_train_all_encoded)\n",
    "\n",
    "params_xgb2 = {\"max_depth\"        :14,\n",
    "              \"learning_rate\"     :0.4,\n",
    "              \"booster\"           :\"gbtree\",\n",
    "              \"objective\"         :'binary:logistic',\n",
    "              \"num_class\"         : 3\n",
    "}\n",
    "\n",
    "\n",
    "model_xgb5 = cv(dtrain = dane, params = params_xgb2, nfold = 5,num_boost_round=100,\n",
    "                metrics = \"auc\", as_pandas = True,early_stopping_rounds = 5)"
   ]
  },
  {
   "cell_type": "code",
   "execution_count": 169,
   "metadata": {},
   "outputs": [
    {
     "data": {
      "text/plain": [
       "Index(['train-auc-mean', 'train-auc-std', 'test-auc-mean', 'test-auc-std'], dtype='object')"
      ]
     },
     "execution_count": 169,
     "metadata": {},
     "output_type": "execute_result"
    }
   ],
   "source": [
    "model_xgb5.columns"
   ]
  },
  {
   "cell_type": "code",
   "execution_count": 181,
   "metadata": {},
   "outputs": [
    {
     "data": {
      "image/png": "[encoded data removed]",
      "text/plain": [
       "<Figure size 1080x504 with 1 Axes>"
      ]
     },
     "metadata": {
      "needs_background": "light"
     },
     "output_type": "display_data"
    }
   ],
   "source": [
    "#zobrazujmy nasz proces trenowania na podstawie AUC\n",
    "\n",
    "train_auc = model_xgb5.iloc[::,0]\n",
    "test_auc = model_xgb5.iloc[::,2]\n",
    "y_axis = range(1,model_xgb5.shape[0]+1)\n",
    "\n",
    "plt.figure(figsize=(15, 7))\n",
    "plt.plot(y_axis,train_auc, label = \"train\")\n",
    "plt.plot(y_axis,test_auc, label = \"test\")\n",
    "plt.xlabel(\"epochs\")\n",
    "plt.ylabel(\"auc\")\n",
    "plt.ylim([0.5, 1])\n",
    "plt.legend()\n",
    "_=plt.show()"
   ]
  },
  {
   "cell_type": "markdown",
   "metadata": {},
   "source": [
    "Rowniez metoda z cross walidacja nie przynosi wyzsze jakosci klasyfikacji.\n"
   ]
  },
  {
   "cell_type": "code",
   "execution_count": 60,
   "metadata": {},
   "outputs": [],
   "source": [
    "# dobierzmy jeszcze do naszego najlepszego modelu najbardziej optymalny zestaw parametrów i spróbujmy z inna metoda walidacji i innym scoremem\n",
    "params_xgb2 = {\"max_depth\"        :list(range(11, 15, 1)),\n",
    "              \"n_estimators\"      :list(range(50,211,40)),\n",
    "              \"learning_rate\"     :list(np.linspace(0.1,0.40, 5))\n",
    "}\n",
    "\n"
   ]
  },
  {
   "cell_type": "code",
   "execution_count": 62,
   "metadata": {},
   "outputs": [
    {
     "name": "stdout",
     "output_type": "stream",
     "text": [
      "Fitting 5 folds for each of 100 candidates, totalling 500 fits\n"
     ]
    },
    {
     "name": "stderr",
     "output_type": "stream",
     "text": [
      "[Parallel(n_jobs=1)]: Using backend SequentialBackend with 1 concurrent workers.\n",
      "C:\\Users\\Dawid\\anaconda3\\lib\\site-packages\\xgboost\\sklearn.py:1146: UserWarning: The use of label encoder in XGBClassifier is deprecated and will be removed in a future release. To remove this warning, do the following: 1) Pass option use_label_encoder=False when constructing XGBClassifier object; and 2) Encode your labels (y) as integers starting with 0, i.e. 0, 1, 2, ..., [num_class - 1].\n",
      "  warnings.warn(label_encoder_deprecation_msg, UserWarning)\n",
      "[Parallel(n_jobs=1)]: Done 500 out of 500 | elapsed:  2.4min finished\n"
     ]
    }
   ],
   "source": [
    "#zdefiniujmy obiekt sprawdzajacy nasze parametry\n",
    "model_xgb5 = XGBClassifier(booster = \"gbtree\",n_jobs = 3,eval_metric='mlogloss',objective='binary:logistic')\n",
    "skf = StratifiedKFold(n_splits=5, shuffle = True)\n",
    "grid_search2 =  GridSearchCV(model_xgb5,param_grid = params_xgb2,cv =skf,verbose = 1,scoring = make_scorer(balanced_accuracy_score)).fit(X_train_all_scaled,Y_train_all)\n",
    "Beep(400,1000)"
   ]
  },
  {
   "cell_type": "code",
   "execution_count": 84,
   "metadata": {},
   "outputs": [
    {
     "name": "stdout",
     "output_type": "stream",
     "text": [
      "{'learning_rate': 0.4, 'max_depth': 14, 'n_estimators': 210}\n"
     ]
    }
   ],
   "source": [
    "# sprawdzmy nasz najlepszy zestaw parametrow\n",
    "print(grid_search2.best_params_)\n",
    "\n",
    "model_xgb5 = grid_search2.best_estimator_\n",
    "model_xgb5.fit(X_train_all_scaled,Y_train_all)\n",
    "\n",
    "pred_xgb5 = model_xgb5.predict(X_test_scaled)"
   ]
  },
  {
   "cell_type": "code",
   "execution_count": 85,
   "metadata": {},
   "outputs": [
    {
     "name": "stdout",
     "output_type": "stream",
     "text": [
      "              precision    recall  f1-score   support\n",
      "\n",
      "           1       0.95      0.97      0.96       272\n",
      "           2       0.79      0.69      0.73        48\n",
      "\n",
      "    accuracy                           0.93       320\n",
      "   macro avg       0.87      0.83      0.84       320\n",
      "weighted avg       0.92      0.93      0.92       320\n",
      "\n",
      "[[263   9]\n",
      " [ 15  33]]\n"
     ]
    }
   ],
   "source": [
    "#ocena jakosci modelu z wybranymi najlepszymi parametrami\n",
    "xgb5_cnf_matrix = confusion_matrix(Y_test, pred_xgb5)\n",
    "xgb5_cnf_raport = classification_report(Y_test, pred_xgb5)\n",
    "print(xgb5_cnf_raport)\n",
    "print(xgb5_cnf_matrix)"
   ]
  },
  {
   "cell_type": "markdown",
   "metadata": {},
   "source": [
    "Kolejna poprawa naszego modelu, uzyskujemy wynik 73% dla klasy 2 i 96% dla klasy 1"
   ]
  },
  {
   "cell_type": "markdown",
   "metadata": {},
   "source": [
    "**3. Sprobujmy zmodyfikować progi klasyfikacji dla naszego najlepszego modelu**"
   ]
  },
  {
   "cell_type": "code",
   "execution_count": 89,
   "metadata": {},
   "outputs": [],
   "source": [
    "#wyciagnijmy nie klasyfikacje a prawdopodobienstwa\n",
    "Y_pred_xgb5_proba = model_xgb5.predict_proba(X_test_scaled)[::,1]"
   ]
  },
  {
   "cell_type": "code",
   "execution_count": 90,
   "metadata": {},
   "outputs": [
    {
     "name": "stdout",
     "output_type": "stream",
     "text": [
      "trashold =0.1, F1 score= 0.83\n",
      "trashold =0.13, F1 score= 0.83\n",
      "trashold =0.16, F1 score= 0.83\n",
      "trashold =0.18, F1 score= 0.83\n",
      "trashold =0.21, F1 score= 0.83\n",
      "trashold =0.24, F1 score= 0.83\n",
      "trashold =0.27, F1 score= 0.85\n",
      "trashold =0.29, F1 score= 0.85\n",
      "trashold =0.32, F1 score= 0.86\n",
      "trashold =0.35, F1 score= 0.86\n",
      "trashold =0.38, F1 score= 0.86\n",
      "trashold =0.4, F1 score= 0.84\n",
      "trashold =0.43, F1 score= 0.84\n",
      "trashold =0.46, F1 score= 0.84\n",
      "trashold =0.49, F1 score= 0.84\n",
      "trashold =0.51, F1 score= 0.84\n",
      "trashold =0.54, F1 score= 0.84\n",
      "trashold =0.57, F1 score= 0.84\n",
      "trashold =0.6, F1 score= 0.84\n",
      "trashold =0.62, F1 score= 0.84\n",
      "trashold =0.65, F1 score= 0.84\n",
      "trashold =0.68, F1 score= 0.84\n",
      "trashold =0.71, F1 score= 0.83\n",
      "trashold =0.73, F1 score= 0.82\n",
      "trashold =0.76, F1 score= 0.82\n",
      "trashold =0.79, F1 score= 0.81\n",
      "trashold =0.82, F1 score= 0.81\n",
      "trashold =0.84, F1 score= 0.8\n",
      "trashold =0.87, F1 score= 0.79\n",
      "trashold =0.9, F1 score= 0.78\n"
     ]
    }
   ],
   "source": [
    "lista = []\n",
    "zbior_i = []\n",
    "zbior_f1 = []\n",
    "for i in np.linspace(0.1,0.9,30):\n",
    "    lista = [2 if Y_pred_xgb5_proba[x] >= i else 1 for x in range(Y_pred_xgb5_proba.size)]\n",
    "    print(\"trashold =\"+ str(round(i,2)) + \", F1 score= \" + str(round(f1_score(Y_test, lista,average = 'macro'),2)))\n",
    "    zbior_i.append(i)\n",
    "    zbior_f1.append(round(f1_score(Y_test, lista,average = 'macro'),2))"
   ]
  },
  {
   "cell_type": "code",
   "execution_count": 91,
   "metadata": {},
   "outputs": [
    {
     "data": {
      "image/png": "[encoded data removed]",
      "text/plain": [
       "<Figure size 432x288 with 1 Axes>"
      ]
     },
     "metadata": {
      "needs_background": "light"
     },
     "output_type": "display_data"
    }
   ],
   "source": [
    "plt.plot(zbior_i,zbior_f1)\n",
    "pass"
   ]
  },
  {
   "cell_type": "code",
   "execution_count": 92,
   "metadata": {},
   "outputs": [
    {
     "data": {
      "text/plain": [
       "0.3206896551724138"
      ]
     },
     "execution_count": 92,
     "metadata": {},
     "output_type": "execute_result"
    }
   ],
   "source": [
    "#pozycja najlepszego wyniku\n",
    "pozycja = np.min(np.where(zbior_f1 == np.max(zbior_f1)))\n",
    "#najlepszy wynik wypada przy progu\n",
    "prog = zbior_i[pozycja]\n",
    "prog "
   ]
  },
  {
   "cell_type": "code",
   "execution_count": 94,
   "metadata": {},
   "outputs": [],
   "source": [
    "# Sprawdzmy dokladnosc modelu przy tym progu\n",
    "Y_pred_xgb5_prog = [2 if Y_pred_xgb5_proba[x] >= prog else 1 for x in range(Y_pred_xgb5_proba.size)]"
   ]
  },
  {
   "cell_type": "code",
   "execution_count": 96,
   "metadata": {},
   "outputs": [
    {
     "name": "stdout",
     "output_type": "stream",
     "text": [
      "              precision    recall  f1-score   support\n",
      "\n",
      "           1       0.96      0.96      0.96       272\n",
      "           2       0.77      0.75      0.76        48\n",
      "\n",
      "    accuracy                           0.93       320\n",
      "   macro avg       0.86      0.85      0.86       320\n",
      "weighted avg       0.93      0.93      0.93       320\n",
      "\n",
      "[[261  11]\n",
      " [ 12  36]]\n"
     ]
    }
   ],
   "source": [
    "#ocena jakosci modelu na nowym progu\n",
    "xgb5_prog_cnf_matrix = confusion_matrix(Y_test, Y_pred_xgb5_prog)\n",
    "xgb5_prog_cnf_raport = classification_report(Y_test, Y_pred_xgb5_prog)\n",
    "print(xgb5_prog_cnf_raport)\n",
    "print(xgb5_prog_cnf_matrix)"
   ]
  },
  {
   "cell_type": "code",
   "execution_count": null,
   "metadata": {},
   "outputs": [],
   "source": [
    "Nasz ostateczny model uzyskał dokładność 93%, z 96% precyzja wskazuje dobrze klase 1 a z 76% klasę 2. "
   ]
  }
 ],
 "metadata": {
  "kernelspec": {
   "display_name": "Python 3",
   "language": "python",
   "name": "python3"
  },
  "language_info": {
   "codemirror_mode": {
    "name": "ipython",
    "version": 3
   },
   "file_extension": ".py",
   "mimetype": "text/x-python",
   "name": "python",
   "nbconvert_exporter": "python",
   "pygments_lexer": "ipython3",
   "version": "3.8.3"
  }
 },
 "nbformat": 4,
 "nbformat_minor": 4
}
