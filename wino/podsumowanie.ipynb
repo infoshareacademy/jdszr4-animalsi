{
 "cells": [
  {
   "cell_type": "code",
   "execution_count": 7,
   "metadata": {},
   "outputs": [
    {
     "name": "stdout",
     "output_type": "stream",
     "text": [
      "C:\\Users\\Dawid\\Desktop\\kurs\\jdszr4-animalsi\\wino\n"
     ]
    }
   ],
   "source": [
    "#sciezka z danymi\n",
    "%cd \"C:\\Users\\Dawid\\Desktop\\kurs\\jdszr4-animalsi\\wino\""
   ]
  },
  {
   "cell_type": "code",
   "execution_count": 90,
   "metadata": {},
   "outputs": [],
   "source": [
    "from sklearn.metrics import *\n",
    "import pickle\n",
    "import matplotlib.pyplot as plt\n",
    "#wlasny modul\n",
    "from dane.dane_wsadowe_zmiana_klas import *"
   ]
  },
  {
   "cell_type": "markdown",
   "metadata": {},
   "source": [
    "**1. Pobranie modeli**"
   ]
  },
  {
   "cell_type": "code",
   "execution_count": 9,
   "metadata": {},
   "outputs": [],
   "source": [
    "#random forrest\n",
    "with open(\"modele/model_final_rf.pkl\", \"rb\") as file:\n",
    "    model_rf = pickle.load(file)"
   ]
  },
  {
   "cell_type": "code",
   "execution_count": 10,
   "metadata": {},
   "outputs": [],
   "source": [
    "#XGboost\n",
    "with open(\"modele/model_final_xgb.pkl\", \"rb\") as file:\n",
    "    model_xgb = pickle.load(file)"
   ]
  },
  {
   "cell_type": "code",
   "execution_count": 88,
   "metadata": {},
   "outputs": [],
   "source": [
    "#knn\n",
    "with open(\"modele/Wine_Quality_Model_KNN.pkl\", \"rb\") as file:\n",
    "    model_knn = pickle.load(file)\n",
    "    "
   ]
  },
  {
   "cell_type": "code",
   "execution_count": 12,
   "metadata": {},
   "outputs": [],
   "source": [
    "#logistic regression\n",
    "with open(\"modele/model_logreg.pkl\", \"rb\") as file:\n",
    "    model_lr= pickle.load(file)"
   ]
  },
  {
   "cell_type": "markdown",
   "metadata": {},
   "source": [
    "**2. Trenowanie wszystkich modeli**"
   ]
  },
  {
   "cell_type": "code",
   "execution_count": 40,
   "metadata": {},
   "outputs": [],
   "source": [
    "lista_modeli = [model_rf, model_xgb,model_lr]\n",
    "\n",
    "#model_knn trzeba inaczej porownac\n",
    "\n",
    "#progi na ktorych dzialaja najlepiej\n",
    "progi = {\"RandomForestClassifier\" : 0.45862068965517244,\n",
    "        \"XGBClassifier\" : 0.3206896551724138,\n",
    "         \"LogisticRegression\": 0.5}\n",
    "\n",
    "#jakie zbiory wykorzystalismy do trenowania\n",
    "zbior = {\"RandomForestClassifier\" : X_test,\n",
    "        \"XGBClassifier\" :X_test_scaled,\n",
    "        \"LogisticRegression\": X_test}\n"
   ]
  },
  {
   "cell_type": "code",
   "execution_count": 35,
   "metadata": {},
   "outputs": [
    {
     "name": "stdout",
     "output_type": "stream",
     "text": [
      "RandomForestClassifier \n",
      "               precision    recall  f1-score   support\n",
      "\n",
      "           1       0.96      0.91      0.93       280\n",
      "           2       0.53      0.70      0.60        40\n",
      "\n",
      "    accuracy                           0.88       320\n",
      "   macro avg       0.74      0.81      0.77       320\n",
      "weighted avg       0.90      0.88      0.89       320\n",
      "\n",
      "XGBClassifier \n",
      "               precision    recall  f1-score   support\n",
      "\n",
      "           1       0.95      0.95      0.95       280\n",
      "           2       0.66      0.62      0.64        40\n",
      "\n",
      "    accuracy                           0.91       320\n",
      "   macro avg       0.80      0.79      0.80       320\n",
      "weighted avg       0.91      0.91      0.91       320\n",
      "\n",
      "LogisticRegression \n",
      "               precision    recall  f1-score   support\n",
      "\n",
      "           1       0.89      0.96      0.93       280\n",
      "           2       0.44      0.20      0.28        40\n",
      "\n",
      "    accuracy                           0.87       320\n",
      "   macro avg       0.67      0.58      0.60       320\n",
      "weighted avg       0.84      0.87      0.85       320\n",
      "\n"
     ]
    }
   ],
   "source": [
    "for i in lista_modeli:\n",
    "    prog = progi[type(i).__name__]\n",
    "    dane = zbior[type(i).__name__]\n",
    "    Y_pred_model = (i.predict_proba(dane)[:,1] >= prog).astype(int)+1\n",
    "    cnf_matrix = confusion_matrix(Y_test, Y_pred_model)\n",
    "    cnf_raport = classification_report(Y_test, Y_pred_model)\n",
    "    print(type(i).__name__, \"\\n\", cnf_raport)    "
   ]
  },
  {
   "cell_type": "code",
   "execution_count": 91,
   "metadata": {},
   "outputs": [
    {
     "name": "stdout",
     "output_type": "stream",
     "text": [
      "              precision    recall  f1-score   support\n",
      "\n",
      "           0       0.00      0.00      0.00         0\n",
      "           1       0.10      0.01      0.02       280\n",
      "           2       0.00      0.00      0.00        40\n",
      "\n",
      "    accuracy                           0.01       320\n",
      "   macro avg       0.03      0.00      0.01       320\n",
      "weighted avg       0.09      0.01      0.02       320\n",
      "\n"
     ]
    },
    {
     "name": "stderr",
     "output_type": "stream",
     "text": [
      "C:\\Users\\Dawid\\anaconda3\\lib\\site-packages\\sklearn\\metrics\\_classification.py:1221: UndefinedMetricWarning: Precision and F-score are ill-defined and being set to 0.0 in labels with no predicted samples. Use `zero_division` parameter to control this behavior.\n",
      "  _warn_prf(average, modifier, msg_start, len(result))\n",
      "C:\\Users\\Dawid\\anaconda3\\lib\\site-packages\\sklearn\\metrics\\_classification.py:1221: UndefinedMetricWarning: Recall and F-score are ill-defined and being set to 0.0 in labels with no true samples. Use `zero_division` parameter to control this behavior.\n",
      "  _warn_prf(average, modifier, msg_start, len(result))\n"
     ]
    }
   ],
   "source": [
    "#model KNN został wyliczony na danych bez zmiennej pH\n",
    "\n",
    "X_bez_pH = np.delete(X_test_scaled, 8,axis=1)\n",
    "\n",
    "Y_pred_model_knn = model_knn.predict(X_bez_pH)\n",
    "cnf_matrix_knn = confusion_matrix(Y_test, Y_pred_model_knn)\n",
    "cnf_raport_knn = classification_report(Y_test, Y_pred_model_knn)\n",
    "print(cnf_raport_knn)\n"
   ]
  },
  {
   "cell_type": "code",
   "execution_count": 93,
   "metadata": {},
   "outputs": [
    {
     "data": {
      "text/plain": [
       "array([0, 1], dtype=int64)"
      ]
     },
     "execution_count": 93,
     "metadata": {},
     "output_type": "execute_result"
    }
   ],
   "source": []
  },
  {
   "cell_type": "code",
   "execution_count": 79,
   "metadata": {},
   "outputs": [
    {
     "data": {
      "text/plain": [
       "array([[ 1.63500243,  0.74281416, -0.14204232, ...,  1.34018481,\n",
       "         0.36181197,  0.50338642],\n",
       "       [-0.34866796,  0.79935428, -0.19310877, ..., -0.27033963,\n",
       "        -1.04575508, -0.87764578],\n",
       "       [-0.06528648, -1.6318711 ,  0.36862222, ...,  0.35308919,\n",
       "         1.65208177,  0.4113176 ],\n",
       "       ...,\n",
       "       [ 0.3881239 ,  1.64745616, -0.65270686, ...,  0.8726132 ,\n",
       "        -0.16602568, -0.60143934],\n",
       "       [-0.17863907, -0.55760872,  0.47075512, ...,  0.45699399,\n",
       "        -1.16305234, -0.96971459],\n",
       "       [-0.63204945,  0.06433266,  0.01115704, ..., -0.16643483,\n",
       "         0.30316334,  0.50338642]])"
      ]
     },
     "execution_count": 79,
     "metadata": {},
     "output_type": "execute_result"
    }
   ],
   "source": [
    "X_bez_pH"
   ]
  },
  {
   "cell_type": "code",
   "execution_count": 71,
   "metadata": {},
   "outputs": [
    {
     "ename": "ValueError",
     "evalue": "Data must be 1-dimensional",
     "output_type": "error",
     "traceback": [
      "\u001b[1;31m---------------------------------------------------------------------------\u001b[0m",
      "\u001b[1;31mValueError\u001b[0m                                Traceback (most recent call last)",
      "\u001b[1;32m<ipython-input-71-4d90daf6da3a>\u001b[0m in \u001b[0;36m<module>\u001b[1;34m\u001b[0m\n\u001b[1;32m----> 1\u001b[1;33m \u001b[0mpd\u001b[0m\u001b[1;33m.\u001b[0m\u001b[0mDataFrame\u001b[0m\u001b[1;33m(\u001b[0m\u001b[1;33m{\u001b[0m\u001b[1;34m\"zmienna\"\u001b[0m \u001b[1;33m:\u001b[0m\u001b[0mX\u001b[0m\u001b[1;33m.\u001b[0m\u001b[0mcolumns\u001b[0m\u001b[1;33m,\u001b[0m\u001b[1;34m\"wartosci\"\u001b[0m \u001b[1;33m:\u001b[0m \u001b[0mX_train_all_scaled\u001b[0m\u001b[1;33m}\u001b[0m\u001b[1;33m)\u001b[0m\u001b[1;33m\u001b[0m\u001b[1;33m\u001b[0m\u001b[0m\n\u001b[0m",
      "\u001b[1;32m~\\anaconda3\\lib\\site-packages\\pandas\\core\\frame.py\u001b[0m in \u001b[0;36m__init__\u001b[1;34m(self, data, index, columns, dtype, copy)\u001b[0m\n\u001b[0;32m    612\u001b[0m         \u001b[1;32melif\u001b[0m \u001b[0misinstance\u001b[0m\u001b[1;33m(\u001b[0m\u001b[0mdata\u001b[0m\u001b[1;33m,\u001b[0m \u001b[0mdict\u001b[0m\u001b[1;33m)\u001b[0m\u001b[1;33m:\u001b[0m\u001b[1;33m\u001b[0m\u001b[1;33m\u001b[0m\u001b[0m\n\u001b[0;32m    613\u001b[0m             \u001b[1;31m# GH#38939 de facto copy defaults to False only in non-dict cases\u001b[0m\u001b[1;33m\u001b[0m\u001b[1;33m\u001b[0m\u001b[1;33m\u001b[0m\u001b[0m\n\u001b[1;32m--> 614\u001b[1;33m             \u001b[0mmgr\u001b[0m \u001b[1;33m=\u001b[0m \u001b[0mdict_to_mgr\u001b[0m\u001b[1;33m(\u001b[0m\u001b[0mdata\u001b[0m\u001b[1;33m,\u001b[0m \u001b[0mindex\u001b[0m\u001b[1;33m,\u001b[0m \u001b[0mcolumns\u001b[0m\u001b[1;33m,\u001b[0m \u001b[0mdtype\u001b[0m\u001b[1;33m=\u001b[0m\u001b[0mdtype\u001b[0m\u001b[1;33m,\u001b[0m \u001b[0mcopy\u001b[0m\u001b[1;33m=\u001b[0m\u001b[0mcopy\u001b[0m\u001b[1;33m,\u001b[0m \u001b[0mtyp\u001b[0m\u001b[1;33m=\u001b[0m\u001b[0mmanager\u001b[0m\u001b[1;33m)\u001b[0m\u001b[1;33m\u001b[0m\u001b[1;33m\u001b[0m\u001b[0m\n\u001b[0m\u001b[0;32m    615\u001b[0m         \u001b[1;32melif\u001b[0m \u001b[0misinstance\u001b[0m\u001b[1;33m(\u001b[0m\u001b[0mdata\u001b[0m\u001b[1;33m,\u001b[0m \u001b[0mma\u001b[0m\u001b[1;33m.\u001b[0m\u001b[0mMaskedArray\u001b[0m\u001b[1;33m)\u001b[0m\u001b[1;33m:\u001b[0m\u001b[1;33m\u001b[0m\u001b[1;33m\u001b[0m\u001b[0m\n\u001b[0;32m    616\u001b[0m             \u001b[1;32mimport\u001b[0m \u001b[0mnumpy\u001b[0m\u001b[1;33m.\u001b[0m\u001b[0mma\u001b[0m\u001b[1;33m.\u001b[0m\u001b[0mmrecords\u001b[0m \u001b[1;32mas\u001b[0m \u001b[0mmrecords\u001b[0m\u001b[1;33m\u001b[0m\u001b[1;33m\u001b[0m\u001b[0m\n",
      "\u001b[1;32m~\\anaconda3\\lib\\site-packages\\pandas\\core\\internals\\construction.py\u001b[0m in \u001b[0;36mdict_to_mgr\u001b[1;34m(data, index, columns, dtype, typ, copy)\u001b[0m\n\u001b[0;32m    460\u001b[0m         \u001b[1;31m# TODO: can we get rid of the dt64tz special case above?\u001b[0m\u001b[1;33m\u001b[0m\u001b[1;33m\u001b[0m\u001b[1;33m\u001b[0m\u001b[0m\n\u001b[0;32m    461\u001b[0m \u001b[1;33m\u001b[0m\u001b[0m\n\u001b[1;32m--> 462\u001b[1;33m     return arrays_to_mgr(\n\u001b[0m\u001b[0;32m    463\u001b[0m         \u001b[0marrays\u001b[0m\u001b[1;33m,\u001b[0m \u001b[0mdata_names\u001b[0m\u001b[1;33m,\u001b[0m \u001b[0mindex\u001b[0m\u001b[1;33m,\u001b[0m \u001b[0mcolumns\u001b[0m\u001b[1;33m,\u001b[0m \u001b[0mdtype\u001b[0m\u001b[1;33m=\u001b[0m\u001b[0mdtype\u001b[0m\u001b[1;33m,\u001b[0m \u001b[0mtyp\u001b[0m\u001b[1;33m=\u001b[0m\u001b[0mtyp\u001b[0m\u001b[1;33m,\u001b[0m \u001b[0mconsolidate\u001b[0m\u001b[1;33m=\u001b[0m\u001b[0mcopy\u001b[0m\u001b[1;33m\u001b[0m\u001b[1;33m\u001b[0m\u001b[0m\n\u001b[0;32m    464\u001b[0m     )\n",
      "\u001b[1;32m~\\anaconda3\\lib\\site-packages\\pandas\\core\\internals\\construction.py\u001b[0m in \u001b[0;36marrays_to_mgr\u001b[1;34m(arrays, arr_names, index, columns, dtype, verify_integrity, typ, consolidate)\u001b[0m\n\u001b[0;32m    120\u001b[0m \u001b[1;33m\u001b[0m\u001b[0m\n\u001b[0;32m    121\u001b[0m         \u001b[1;31m# don't force copy because getting jammed in an ndarray anyway\u001b[0m\u001b[1;33m\u001b[0m\u001b[1;33m\u001b[0m\u001b[1;33m\u001b[0m\u001b[0m\n\u001b[1;32m--> 122\u001b[1;33m         \u001b[0marrays\u001b[0m \u001b[1;33m=\u001b[0m \u001b[0m_homogenize\u001b[0m\u001b[1;33m(\u001b[0m\u001b[0marrays\u001b[0m\u001b[1;33m,\u001b[0m \u001b[0mindex\u001b[0m\u001b[1;33m,\u001b[0m \u001b[0mdtype\u001b[0m\u001b[1;33m)\u001b[0m\u001b[1;33m\u001b[0m\u001b[1;33m\u001b[0m\u001b[0m\n\u001b[0m\u001b[0;32m    123\u001b[0m \u001b[1;33m\u001b[0m\u001b[0m\n\u001b[0;32m    124\u001b[0m     \u001b[1;32melse\u001b[0m\u001b[1;33m:\u001b[0m\u001b[1;33m\u001b[0m\u001b[1;33m\u001b[0m\u001b[0m\n",
      "\u001b[1;32m~\\anaconda3\\lib\\site-packages\\pandas\\core\\internals\\construction.py\u001b[0m in \u001b[0;36m_homogenize\u001b[1;34m(data, index, dtype)\u001b[0m\n\u001b[0;32m    575\u001b[0m                 \u001b[0mval\u001b[0m \u001b[1;33m=\u001b[0m \u001b[0mcreate_series_with_explicit_dtype\u001b[0m\u001b[1;33m(\u001b[0m\u001b[0mval\u001b[0m\u001b[1;33m,\u001b[0m \u001b[0mindex\u001b[0m\u001b[1;33m=\u001b[0m\u001b[0mindex\u001b[0m\u001b[1;33m)\u001b[0m\u001b[1;33m.\u001b[0m\u001b[0m_values\u001b[0m\u001b[1;33m\u001b[0m\u001b[1;33m\u001b[0m\u001b[0m\n\u001b[0;32m    576\u001b[0m \u001b[1;33m\u001b[0m\u001b[0m\n\u001b[1;32m--> 577\u001b[1;33m             val = sanitize_array(\n\u001b[0m\u001b[0;32m    578\u001b[0m                 \u001b[0mval\u001b[0m\u001b[1;33m,\u001b[0m \u001b[0mindex\u001b[0m\u001b[1;33m,\u001b[0m \u001b[0mdtype\u001b[0m\u001b[1;33m=\u001b[0m\u001b[0mdtype\u001b[0m\u001b[1;33m,\u001b[0m \u001b[0mcopy\u001b[0m\u001b[1;33m=\u001b[0m\u001b[1;32mFalse\u001b[0m\u001b[1;33m,\u001b[0m \u001b[0mraise_cast_failure\u001b[0m\u001b[1;33m=\u001b[0m\u001b[1;32mFalse\u001b[0m\u001b[1;33m\u001b[0m\u001b[1;33m\u001b[0m\u001b[0m\n\u001b[0;32m    579\u001b[0m             )\n",
      "\u001b[1;32m~\\anaconda3\\lib\\site-packages\\pandas\\core\\construction.py\u001b[0m in \u001b[0;36msanitize_array\u001b[1;34m(data, index, dtype, copy, raise_cast_failure, allow_2d)\u001b[0m\n\u001b[0;32m    572\u001b[0m                 \u001b[0msubarr\u001b[0m \u001b[1;33m=\u001b[0m \u001b[0mmaybe_infer_to_datetimelike\u001b[0m\u001b[1;33m(\u001b[0m\u001b[0msubarr\u001b[0m\u001b[1;33m)\u001b[0m\u001b[1;33m\u001b[0m\u001b[1;33m\u001b[0m\u001b[0m\n\u001b[0;32m    573\u001b[0m \u001b[1;33m\u001b[0m\u001b[0m\n\u001b[1;32m--> 574\u001b[1;33m     \u001b[0msubarr\u001b[0m \u001b[1;33m=\u001b[0m \u001b[0m_sanitize_ndim\u001b[0m\u001b[1;33m(\u001b[0m\u001b[0msubarr\u001b[0m\u001b[1;33m,\u001b[0m \u001b[0mdata\u001b[0m\u001b[1;33m,\u001b[0m \u001b[0mdtype\u001b[0m\u001b[1;33m,\u001b[0m \u001b[0mindex\u001b[0m\u001b[1;33m,\u001b[0m \u001b[0mallow_2d\u001b[0m\u001b[1;33m=\u001b[0m\u001b[0mallow_2d\u001b[0m\u001b[1;33m)\u001b[0m\u001b[1;33m\u001b[0m\u001b[1;33m\u001b[0m\u001b[0m\n\u001b[0m\u001b[0;32m    575\u001b[0m \u001b[1;33m\u001b[0m\u001b[0m\n\u001b[0;32m    576\u001b[0m     \u001b[1;32mif\u001b[0m \u001b[0misinstance\u001b[0m\u001b[1;33m(\u001b[0m\u001b[0msubarr\u001b[0m\u001b[1;33m,\u001b[0m \u001b[0mnp\u001b[0m\u001b[1;33m.\u001b[0m\u001b[0mndarray\u001b[0m\u001b[1;33m)\u001b[0m\u001b[1;33m:\u001b[0m\u001b[1;33m\u001b[0m\u001b[1;33m\u001b[0m\u001b[0m\n",
      "\u001b[1;32m~\\anaconda3\\lib\\site-packages\\pandas\\core\\construction.py\u001b[0m in \u001b[0;36m_sanitize_ndim\u001b[1;34m(result, data, dtype, index, allow_2d)\u001b[0m\n\u001b[0;32m    623\u001b[0m             \u001b[1;32mif\u001b[0m \u001b[0mallow_2d\u001b[0m\u001b[1;33m:\u001b[0m\u001b[1;33m\u001b[0m\u001b[1;33m\u001b[0m\u001b[0m\n\u001b[0;32m    624\u001b[0m                 \u001b[1;32mreturn\u001b[0m \u001b[0mresult\u001b[0m\u001b[1;33m\u001b[0m\u001b[1;33m\u001b[0m\u001b[0m\n\u001b[1;32m--> 625\u001b[1;33m             \u001b[1;32mraise\u001b[0m \u001b[0mValueError\u001b[0m\u001b[1;33m(\u001b[0m\u001b[1;34m\"Data must be 1-dimensional\"\u001b[0m\u001b[1;33m)\u001b[0m\u001b[1;33m\u001b[0m\u001b[1;33m\u001b[0m\u001b[0m\n\u001b[0m\u001b[0;32m    626\u001b[0m         \u001b[1;32mif\u001b[0m \u001b[0mis_object_dtype\u001b[0m\u001b[1;33m(\u001b[0m\u001b[0mdtype\u001b[0m\u001b[1;33m)\u001b[0m \u001b[1;32mand\u001b[0m \u001b[0misinstance\u001b[0m\u001b[1;33m(\u001b[0m\u001b[0mdtype\u001b[0m\u001b[1;33m,\u001b[0m \u001b[0mExtensionDtype\u001b[0m\u001b[1;33m)\u001b[0m\u001b[1;33m:\u001b[0m\u001b[1;33m\u001b[0m\u001b[1;33m\u001b[0m\u001b[0m\n\u001b[0;32m    627\u001b[0m             \u001b[1;31m# i.e. PandasDtype(\"O\")\u001b[0m\u001b[1;33m\u001b[0m\u001b[1;33m\u001b[0m\u001b[1;33m\u001b[0m\u001b[0m\n",
      "\u001b[1;31mValueError\u001b[0m: Data must be 1-dimensional"
     ]
    }
   ],
   "source": [
    "pd.DataFrame({\"zmienna\" :X.columns,\"wartosci\" : X_train_all_scaled})"
   ]
  },
  {
   "cell_type": "code",
   "execution_count": 76,
   "metadata": {},
   "outputs": [
    {
     "data": {
      "text/plain": [
       "Index(['fixed acidity', 'volatile acidity', 'citric acid', 'residual sugar',\n",
       "       'chlorides', 'free sulfur dioxide', 'total sulfur dioxide', 'density',\n",
       "       'pH', 'sulphates', 'alcohol'],\n",
       "      dtype='object')"
      ]
     },
     "execution_count": 76,
     "metadata": {},
     "output_type": "execute_result"
    }
   ],
   "source": [
    "X.columns"
   ]
  },
  {
   "cell_type": "code",
   "execution_count": 77,
   "metadata": {},
   "outputs": [
    {
     "data": {
      "text/html": [
       "<div>\n",
       "<style scoped>\n",
       "    .dataframe tbody tr th:only-of-type {\n",
       "        vertical-align: middle;\n",
       "    }\n",
       "\n",
       "    .dataframe tbody tr th {\n",
       "        vertical-align: top;\n",
       "    }\n",
       "\n",
       "    .dataframe thead th {\n",
       "        text-align: right;\n",
       "    }\n",
       "</style>\n",
       "<table border=\"1\" class=\"dataframe\">\n",
       "  <thead>\n",
       "    <tr style=\"text-align: right;\">\n",
       "      <th></th>\n",
       "      <th>fixed acidity</th>\n",
       "      <th>volatile acidity</th>\n",
       "      <th>citric acid</th>\n",
       "      <th>residual sugar</th>\n",
       "      <th>chlorides</th>\n",
       "      <th>free sulfur dioxide</th>\n",
       "      <th>total sulfur dioxide</th>\n",
       "      <th>density</th>\n",
       "      <th>pH</th>\n",
       "      <th>sulphates</th>\n",
       "      <th>alcohol</th>\n",
       "    </tr>\n",
       "  </thead>\n",
       "  <tbody>\n",
       "    <tr>\n",
       "      <th>0</th>\n",
       "      <td>1.635002</td>\n",
       "      <td>0.742814</td>\n",
       "      <td>-0.142042</td>\n",
       "      <td>-0.016322</td>\n",
       "      <td>-0.052665</td>\n",
       "      <td>0.044694</td>\n",
       "      <td>0.258784</td>\n",
       "      <td>1.340185</td>\n",
       "      <td>-1.628908</td>\n",
       "      <td>0.361812</td>\n",
       "      <td>0.503386</td>\n",
       "    </tr>\n",
       "    <tr>\n",
       "      <th>1</th>\n",
       "      <td>-0.348668</td>\n",
       "      <td>0.799354</td>\n",
       "      <td>-0.193109</td>\n",
       "      <td>-0.306815</td>\n",
       "      <td>0.010424</td>\n",
       "      <td>0.144824</td>\n",
       "      <td>1.656036</td>\n",
       "      <td>-0.270340</td>\n",
       "      <td>0.046733</td>\n",
       "      <td>-1.045755</td>\n",
       "      <td>-0.877646</td>\n",
       "    </tr>\n",
       "    <tr>\n",
       "      <th>2</th>\n",
       "      <td>-0.065286</td>\n",
       "      <td>-1.631871</td>\n",
       "      <td>0.368622</td>\n",
       "      <td>1.871883</td>\n",
       "      <td>-0.536352</td>\n",
       "      <td>-0.756348</td>\n",
       "      <td>-0.748538</td>\n",
       "      <td>0.353089</td>\n",
       "      <td>-0.597744</td>\n",
       "      <td>1.652082</td>\n",
       "      <td>0.411318</td>\n",
       "    </tr>\n",
       "    <tr>\n",
       "      <th>3</th>\n",
       "      <td>-0.915431</td>\n",
       "      <td>0.629734</td>\n",
       "      <td>-0.193109</td>\n",
       "      <td>-0.306815</td>\n",
       "      <td>-0.157815</td>\n",
       "      <td>-0.455957</td>\n",
       "      <td>2.403404</td>\n",
       "      <td>-0.696349</td>\n",
       "      <td>0.304525</td>\n",
       "      <td>0.244515</td>\n",
       "      <td>0.411318</td>\n",
       "    </tr>\n",
       "    <tr>\n",
       "      <th>4</th>\n",
       "      <td>-0.802078</td>\n",
       "      <td>-0.670689</td>\n",
       "      <td>0.215423</td>\n",
       "      <td>-0.379438</td>\n",
       "      <td>-0.178844</td>\n",
       "      <td>0.545345</td>\n",
       "      <td>0.193795</td>\n",
       "      <td>-0.020968</td>\n",
       "      <td>1.013450</td>\n",
       "      <td>-0.635215</td>\n",
       "      <td>-0.877646</td>\n",
       "    </tr>\n",
       "    <tr>\n",
       "      <th>...</th>\n",
       "      <td>...</td>\n",
       "      <td>...</td>\n",
       "      <td>...</td>\n",
       "      <td>...</td>\n",
       "      <td>...</td>\n",
       "      <td>...</td>\n",
       "      <td>...</td>\n",
       "      <td>...</td>\n",
       "      <td>...</td>\n",
       "      <td>...</td>\n",
       "      <td>...</td>\n",
       "    </tr>\n",
       "    <tr>\n",
       "      <th>1272</th>\n",
       "      <td>-0.178639</td>\n",
       "      <td>0.629734</td>\n",
       "      <td>-0.244175</td>\n",
       "      <td>-0.088945</td>\n",
       "      <td>0.136604</td>\n",
       "      <td>-1.056738</td>\n",
       "      <td>-0.391102</td>\n",
       "      <td>-0.311902</td>\n",
       "      <td>0.368972</td>\n",
       "      <td>-0.459269</td>\n",
       "      <td>0.503386</td>\n",
       "    </tr>\n",
       "    <tr>\n",
       "      <th>1273</th>\n",
       "      <td>1.748355</td>\n",
       "      <td>-0.387988</td>\n",
       "      <td>1.185685</td>\n",
       "      <td>0.128925</td>\n",
       "      <td>0.725440</td>\n",
       "      <td>-1.156869</td>\n",
       "      <td>-0.911010</td>\n",
       "      <td>2.015566</td>\n",
       "      <td>-1.177774</td>\n",
       "      <td>0.244515</td>\n",
       "      <td>-0.233164</td>\n",
       "    </tr>\n",
       "    <tr>\n",
       "      <th>1274</th>\n",
       "      <td>0.388124</td>\n",
       "      <td>1.647456</td>\n",
       "      <td>-0.652707</td>\n",
       "      <td>0.056301</td>\n",
       "      <td>0.031454</td>\n",
       "      <td>-0.656218</td>\n",
       "      <td>-0.716044</td>\n",
       "      <td>0.872613</td>\n",
       "      <td>0.497868</td>\n",
       "      <td>-0.166026</td>\n",
       "      <td>-0.601439</td>\n",
       "    </tr>\n",
       "    <tr>\n",
       "      <th>1275</th>\n",
       "      <td>-0.178639</td>\n",
       "      <td>-0.557609</td>\n",
       "      <td>0.470755</td>\n",
       "      <td>-0.161568</td>\n",
       "      <td>-0.262964</td>\n",
       "      <td>-0.556087</td>\n",
       "      <td>0.096312</td>\n",
       "      <td>0.456994</td>\n",
       "      <td>0.175629</td>\n",
       "      <td>-1.163052</td>\n",
       "      <td>-0.969715</td>\n",
       "    </tr>\n",
       "    <tr>\n",
       "      <th>1276</th>\n",
       "      <td>-0.632049</td>\n",
       "      <td>0.064333</td>\n",
       "      <td>0.011157</td>\n",
       "      <td>0.056301</td>\n",
       "      <td>-0.073695</td>\n",
       "      <td>-0.355827</td>\n",
       "      <td>1.071140</td>\n",
       "      <td>-0.166435</td>\n",
       "      <td>0.497868</td>\n",
       "      <td>0.303163</td>\n",
       "      <td>0.503386</td>\n",
       "    </tr>\n",
       "  </tbody>\n",
       "</table>\n",
       "<p>1277 rows × 11 columns</p>\n",
       "</div>"
      ],
      "text/plain": [
       "      fixed acidity  volatile acidity  citric acid  residual sugar  chlorides  \\\n",
       "0          1.635002          0.742814    -0.142042       -0.016322  -0.052665   \n",
       "1         -0.348668          0.799354    -0.193109       -0.306815   0.010424   \n",
       "2         -0.065286         -1.631871     0.368622        1.871883  -0.536352   \n",
       "3         -0.915431          0.629734    -0.193109       -0.306815  -0.157815   \n",
       "4         -0.802078         -0.670689     0.215423       -0.379438  -0.178844   \n",
       "...             ...               ...          ...             ...        ...   \n",
       "1272      -0.178639          0.629734    -0.244175       -0.088945   0.136604   \n",
       "1273       1.748355         -0.387988     1.185685        0.128925   0.725440   \n",
       "1274       0.388124          1.647456    -0.652707        0.056301   0.031454   \n",
       "1275      -0.178639         -0.557609     0.470755       -0.161568  -0.262964   \n",
       "1276      -0.632049          0.064333     0.011157        0.056301  -0.073695   \n",
       "\n",
       "      free sulfur dioxide  total sulfur dioxide   density        pH  \\\n",
       "0                0.044694              0.258784  1.340185 -1.628908   \n",
       "1                0.144824              1.656036 -0.270340  0.046733   \n",
       "2               -0.756348             -0.748538  0.353089 -0.597744   \n",
       "3               -0.455957              2.403404 -0.696349  0.304525   \n",
       "4                0.545345              0.193795 -0.020968  1.013450   \n",
       "...                   ...                   ...       ...       ...   \n",
       "1272            -1.056738             -0.391102 -0.311902  0.368972   \n",
       "1273            -1.156869             -0.911010  2.015566 -1.177774   \n",
       "1274            -0.656218             -0.716044  0.872613  0.497868   \n",
       "1275            -0.556087              0.096312  0.456994  0.175629   \n",
       "1276            -0.355827              1.071140 -0.166435  0.497868   \n",
       "\n",
       "      sulphates   alcohol  \n",
       "0      0.361812  0.503386  \n",
       "1     -1.045755 -0.877646  \n",
       "2      1.652082  0.411318  \n",
       "3      0.244515  0.411318  \n",
       "4     -0.635215 -0.877646  \n",
       "...         ...       ...  \n",
       "1272  -0.459269  0.503386  \n",
       "1273   0.244515 -0.233164  \n",
       "1274  -0.166026 -0.601439  \n",
       "1275  -1.163052 -0.969715  \n",
       "1276   0.303163  0.503386  \n",
       "\n",
       "[1277 rows x 11 columns]"
      ]
     },
     "execution_count": 77,
     "metadata": {},
     "output_type": "execute_result"
    }
   ],
   "source": [
    "pd.DataFrame(X_train_all_scaled, columns = X.columns)"
   ]
  },
  {
   "cell_type": "code",
   "execution_count": 61,
   "metadata": {},
   "outputs": [
    {
     "name": "stdout",
     "output_type": "stream",
     "text": [
      "RandomForestClassifier\n"
     ]
    },
    {
     "data": {
      "image/png": "[encoded data removed]",
      "text/plain": [
       "<Figure size 1440x720 with 1 Axes>"
      ]
     },
     "metadata": {
      "needs_background": "light"
     },
     "output_type": "display_data"
    },
    {
     "name": "stdout",
     "output_type": "stream",
     "text": [
      "features with impact less than 0.05: \n",
      "                 zmienna   wartosc\n",
      "6   free sulfur dioxide  0.047959\n",
      "7             chlorides  0.047355\n",
      "8                    pH  0.045265\n",
      "9               density  0.039325\n",
      "10       residual sugar  0.027714 \n",
      "\n",
      "XGBClassifier\n"
     ]
    },
    {
     "data": {
      "image/png": "[encoded data removed]",
      "text/plain": [
       "<Figure size 1440x720 with 1 Axes>"
      ]
     },
     "metadata": {
      "needs_background": "light"
     },
     "output_type": "display_data"
    },
    {
     "name": "stdout",
     "output_type": "stream",
     "text": [
      "features with impact less than 0.05: \n",
      " Empty DataFrame\n",
      "Columns: [zmienna, wartosc]\n",
      "Index: [] \n",
      "\n",
      "LogisticRegression\n"
     ]
    },
    {
     "data": {
      "image/png": "[encoded data removed]",
      "text/plain": [
       "<Figure size 1440x720 with 1 Axes>"
      ]
     },
     "metadata": {
      "needs_background": "light"
     },
     "output_type": "display_data"
    },
    {
     "name": "stdout",
     "output_type": "stream",
     "text": [
      "features with impact less than 0.05: \n",
      "                  zmienna   wartosc\n",
      "5            citric acid  0.017726\n",
      "6          fixed acidity  0.010442\n",
      "7         residual sugar  0.008180\n",
      "8                density  0.004854\n",
      "9   total sulfur dioxide  0.003157\n",
      "10   free sulfur dioxide  0.003086 \n",
      "\n"
     ]
    }
   ],
   "source": [
    "#sprawdzmy jakie zmienne sa najmniej istotne do przewidywania modelu i je mozemy pominac przy narzedziu\n",
    "for i in lista_modeli:\n",
    "    if i != model_lr:\n",
    "        df = pd.DataFrame({\"zmienna\" :X.columns,\"wartosc\" : i.feature_importances_ }).sort_values(by = \"wartosc\", ascending = False).reset_index(drop = True)\n",
    "    else:\n",
    "         df = pd.DataFrame({\"zmienna\" :X.columns,\"wartosc\" : (np.abs(i.coef_)/(np.abs(i.coef_)).sum()).flatten()}).sort_values(by = \"wartosc\", ascending = False).reset_index(drop = True)\n",
    "    print(type(i).__name__)\n",
    "    plt.figure(figsize=(20,10))\n",
    "    plt.bar(df.zmienna, df.wartosc)\n",
    "    plt.show()\n",
    "    print(\"features with impact less than 0.05:\", \"\\n\",df[df.wartosc<0.05], \"\\n\")"
   ]
  }
 ],
 "metadata": {
  "kernelspec": {
   "display_name": "Python 3",
   "language": "python",
   "name": "python3"
  },
  "language_info": {
   "codemirror_mode": {
    "name": "ipython",
    "version": 3
   },
   "file_extension": ".py",
   "mimetype": "text/x-python",
   "name": "python",
   "nbconvert_exporter": "python",
   "pygments_lexer": "ipython3",
   "version": "3.8.3"
  }
 },
 "nbformat": 4,
 "nbformat_minor": 4
}
