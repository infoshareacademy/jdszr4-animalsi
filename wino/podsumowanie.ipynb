{
 "cells": [
  {
   "cell_type": "code",
   "execution_count": 2,
   "metadata": {},
   "outputs": [
    {
     "name": "stdout",
     "output_type": "stream",
     "text": [
      "C:\\Users\\Dawid\\Desktop\\kurs\\jdszr4-animalsi\\wino\n"
     ]
    }
   ],
   "source": [
    "#sciezka z danymi\n",
    "%cd \"C:\\Users\\Dawid\\Desktop\\kurs\\jdszr4-animalsi\\wino\""
   ]
  },
  {
   "cell_type": "code",
   "execution_count": 3,
   "metadata": {},
   "outputs": [
    {
     "name": "stdout",
     "output_type": "stream",
     "text": [
      "lista zmiennych: \n",
      " ['X', 'Y', 'X_train_all', 'X_test', 'Y_train_all', 'Y_test', 'X_train_reduced', 'X_val', 'Y_train_reduced', 'Y_val', 'X_train_all_scaled', 'X_test_scaled', 'X_val_scaled', 'X_train_reduced_scaled', 'X_train_all_scaled_PCA', 'X_test_scaled_PCA', 'X_train_reduced_scaled_PCA', 'X_val_scaled_PCA']\n"
     ]
    }
   ],
   "source": [
    "from sklearn.metrics import *\n",
    "import pickle\n",
    "#wlasny modul\n",
    "from dane.dane_wsadowe_zmiana_klas import *"
   ]
  },
  {
   "cell_type": "markdown",
   "metadata": {},
   "source": [
    "**1. Pobranie modeli**"
   ]
  },
  {
   "cell_type": "code",
   "execution_count": 4,
   "metadata": {},
   "outputs": [],
   "source": [
    "#random forrest\n",
    "with open(\"modele/model_final_rf.pkl\", \"rb\") as file:\n",
    "    model_rf = pickle.load(file)"
   ]
  },
  {
   "cell_type": "code",
   "execution_count": 5,
   "metadata": {},
   "outputs": [],
   "source": [
    "#XGboost\n",
    "with open(\"modele/model_final_xgb.pkl\", \"rb\") as file:\n",
    "    model_xgb = pickle.load(file)"
   ]
  },
  {
   "cell_type": "code",
   "execution_count": null,
   "metadata": {},
   "outputs": [],
   "source": []
  },
  {
   "cell_type": "markdown",
   "metadata": {},
   "source": [
    "**2. Trenowanie wszystkich modeli**"
   ]
  },
  {
   "cell_type": "code",
   "execution_count": 83,
   "metadata": {},
   "outputs": [],
   "source": [
    "lista_modeli = [model_rf, model_xgb]\n",
    "\n",
    "#progi na ktorych dzialaja najlepiej\n",
    "progi = {\"RandomForestClassifier\" : 0.45862068965517244,\n",
    "        \"XGBClassifier\" : 0.3206896551724138}\n",
    "\n",
    "#jakie zbiory wykorzystalismy do trenowania\n",
    "zbior = {\"RandomForestClassifier\" : X_test,\n",
    "        \"XGBClassifier\" :X_test_scaled}\n"
   ]
  },
  {
   "cell_type": "code",
   "execution_count": 82,
   "metadata": {},
   "outputs": [
    {
     "name": "stdout",
     "output_type": "stream",
     "text": [
      "RandomForestClassifier \n",
      "               precision    recall  f1-score   support\n",
      "\n",
      "           1       0.96      0.91      0.93       280\n",
      "           2       0.53      0.70      0.60        40\n",
      "\n",
      "    accuracy                           0.88       320\n",
      "   macro avg       0.74      0.81      0.77       320\n",
      "weighted avg       0.90      0.88      0.89       320\n",
      "\n",
      "XGBClassifier \n",
      "               precision    recall  f1-score   support\n",
      "\n",
      "           1       0.95      0.95      0.95       280\n",
      "           2       0.66      0.62      0.64        40\n",
      "\n",
      "    accuracy                           0.91       320\n",
      "   macro avg       0.80      0.79      0.80       320\n",
      "weighted avg       0.91      0.91      0.91       320\n",
      "\n"
     ]
    }
   ],
   "source": [
    "for i in lista_modeli:\n",
    "    prog = progi[type(i).__name__]\n",
    "    dane = zbior[type(i).__name__]\n",
    "    Y_pred_model = (i.predict_proba(dane)[:,1] >= prog).astype(int)+1\n",
    "    cnf_matrix = confusion_matrix(Y_test, Y_pred_model)\n",
    "    cnf_raport = classification_report(Y_test, Y_pred_model)\n",
    "    print(type(i).__name__, \"\\n\", cnf_raport)    "
   ]
  }
 ],
 "metadata": {
  "kernelspec": {
   "display_name": "Python 3",
   "language": "python",
   "name": "python3"
  },
  "language_info": {
   "codemirror_mode": {
    "name": "ipython",
    "version": 3
   },
   "file_extension": ".py",
   "mimetype": "text/x-python",
   "name": "python",
   "nbconvert_exporter": "python",
   "pygments_lexer": "ipython3",
   "version": "3.8.3"
  }
 },
 "nbformat": 4,
 "nbformat_minor": 4
}
