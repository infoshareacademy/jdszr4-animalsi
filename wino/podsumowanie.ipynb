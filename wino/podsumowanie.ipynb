{
 "cells": [
  {
   "cell_type": "code",
   "execution_count": 2,
   "metadata": {},
   "outputs": [
    {
     "name": "stdout",
     "output_type": "stream",
     "text": [
      "C:\\Users\\Dawid\\Desktop\\kurs\\jdszr4-animalsi\\wino\n"
     ]
    }
   ],
   "source": [
    "#sciezka z danymi\n",
    "%cd \"C:\\Users\\Dawid\\Desktop\\kurs\\jdszr4-animalsi\\wino\""
   ]
  },
  {
   "cell_type": "code",
   "execution_count": 88,
   "metadata": {},
   "outputs": [],
   "source": [
    "from sklearn.metrics import *\n",
    "import pickle\n",
    "import matplotlib.pyplot as plt\n",
    "#wlasny modul\n",
    "from dane.dane_wsadowe_zmiana_klas import *"
   ]
  },
  {
   "cell_type": "markdown",
   "metadata": {},
   "source": [
    "**1. Pobranie modeli**"
   ]
  },
  {
   "cell_type": "code",
   "execution_count": 4,
   "metadata": {},
   "outputs": [],
   "source": [
    "#random forrest\n",
    "with open(\"modele/model_final_rf.pkl\", \"rb\") as file:\n",
    "    model_rf = pickle.load(file)"
   ]
  },
  {
   "cell_type": "code",
   "execution_count": 5,
   "metadata": {},
   "outputs": [],
   "source": [
    "#XGboost\n",
    "with open(\"modele/model_final_xgb.pkl\", \"rb\") as file:\n",
    "    model_xgb = pickle.load(file)"
   ]
  },
  {
   "cell_type": "code",
   "execution_count": null,
   "metadata": {},
   "outputs": [],
   "source": []
  },
  {
   "cell_type": "markdown",
   "metadata": {},
   "source": [
    "**2. Trenowanie wszystkich modeli**"
   ]
  },
  {
   "cell_type": "code",
   "execution_count": 83,
   "metadata": {},
   "outputs": [],
   "source": [
    "lista_modeli = [model_rf, model_xgb]\n",
    "\n",
    "#progi na ktorych dzialaja najlepiej\n",
    "progi = {\"RandomForestClassifier\" : 0.45862068965517244,\n",
    "        \"XGBClassifier\" : 0.3206896551724138}\n",
    "\n",
    "#jakie zbiory wykorzystalismy do trenowania\n",
    "zbior = {\"RandomForestClassifier\" : X_test,\n",
    "        \"XGBClassifier\" :X_test_scaled}\n"
   ]
  },
  {
   "cell_type": "code",
   "execution_count": 82,
   "metadata": {},
   "outputs": [
    {
     "name": "stdout",
     "output_type": "stream",
     "text": [
      "RandomForestClassifier \n",
      "               precision    recall  f1-score   support\n",
      "\n",
      "           1       0.96      0.91      0.93       280\n",
      "           2       0.53      0.70      0.60        40\n",
      "\n",
      "    accuracy                           0.88       320\n",
      "   macro avg       0.74      0.81      0.77       320\n",
      "weighted avg       0.90      0.88      0.89       320\n",
      "\n",
      "XGBClassifier \n",
      "               precision    recall  f1-score   support\n",
      "\n",
      "           1       0.95      0.95      0.95       280\n",
      "           2       0.66      0.62      0.64        40\n",
      "\n",
      "    accuracy                           0.91       320\n",
      "   macro avg       0.80      0.79      0.80       320\n",
      "weighted avg       0.91      0.91      0.91       320\n",
      "\n"
     ]
    }
   ],
   "source": [
    "for i in lista_modeli:\n",
    "    prog = progi[type(i).__name__]\n",
    "    dane = zbior[type(i).__name__]\n",
    "    Y_pred_model = (i.predict_proba(dane)[:,1] >= prog).astype(int)+1\n",
    "    cnf_matrix = confusion_matrix(Y_test, Y_pred_model)\n",
    "    cnf_raport = classification_report(Y_test, Y_pred_model)\n",
    "    print(type(i).__name__, \"\\n\", cnf_raport)    "
   ]
  },
  {
   "cell_type": "code",
   "execution_count": 146,
   "metadata": {},
   "outputs": [
    {
     "data": {
      "image/png": "[encoded data removed]",
      "text/plain": [
       "<Figure size 1440x720 with 1 Axes>"
      ]
     },
     "metadata": {
      "needs_background": "light"
     },
     "output_type": "display_data"
    },
    {
     "name": "stdout",
     "output_type": "stream",
     "text": [
      "                zmienna   wartosc\n",
      "6   free sulfur dioxide  0.047959\n",
      "7             chlorides  0.047355\n",
      "8                    pH  0.045265\n",
      "9               density  0.039325\n",
      "10       residual sugar  0.027714\n"
     ]
    },
    {
     "data": {
      "image/png": "[encoded data removed]",
      "text/plain": [
       "<Figure size 1440x720 with 1 Axes>"
      ]
     },
     "metadata": {
      "needs_background": "light"
     },
     "output_type": "display_data"
    },
    {
     "name": "stdout",
     "output_type": "stream",
     "text": [
      "Empty DataFrame\n",
      "Columns: [zmienna, wartosc]\n",
      "Index: []\n"
     ]
    }
   ],
   "source": [
    "#sprawdzmy jakie zmienne sa najmniej istotne do przewidywania modelu i je mozemy pominac przy narzedziu\n",
    "for i in lista_modeli:\n",
    "    df = pd.DataFrame({\"zmienna\" :X.columns,\"wartosc\" : i.feature_importances_ }).sort_values(by = \"wartosc\", ascending = False).reset_index(drop = True)\n",
    "    plt.figure(figsize=(20,10))\n",
    "    plt.bar(df.zmienna, df.wartosc)\n",
    "    plt.show()\n",
    "    print(df[df.wartosc<0.05])"
   ]
  },
  {
   "cell_type": "code",
   "execution_count": 117,
   "metadata": {},
   "outputs": [
    {
     "data": {
      "text/plain": [
       "Index(['fixed acidity', 'volatile acidity', 'citric acid', 'residual sugar',\n",
       "       'chlorides', 'free sulfur dioxide', 'total sulfur dioxide', 'density',\n",
       "       'pH', 'sulphates', 'alcohol'],\n",
       "      dtype='object')"
      ]
     },
     "execution_count": 117,
     "metadata": {},
     "output_type": "execute_result"
    }
   ],
   "source": [
    "X.columns"
   ]
  },
  {
   "cell_type": "code",
   "execution_count": 119,
   "metadata": {},
   "outputs": [
    {
     "data": {
      "text/plain": [
       "array([0.07715453, 0.08954789, 0.06116929, 0.08991916, 0.0515771 ,\n",
       "       0.08081891, 0.07487553, 0.058752  , 0.06718756, 0.13162771,\n",
       "       0.21737032], dtype=float32)"
      ]
     },
     "execution_count": 119,
     "metadata": {},
     "output_type": "execute_result"
    }
   ],
   "source": [
    "i.feature_importances_"
   ]
  },
  {
   "cell_type": "code",
   "execution_count": 131,
   "metadata": {},
   "outputs": [
    {
     "data": {
      "text/html": [
       "<div>\n",
       "<style scoped>\n",
       "    .dataframe tbody tr th:only-of-type {\n",
       "        vertical-align: middle;\n",
       "    }\n",
       "\n",
       "    .dataframe tbody tr th {\n",
       "        vertical-align: top;\n",
       "    }\n",
       "\n",
       "    .dataframe thead th {\n",
       "        text-align: right;\n",
       "    }\n",
       "</style>\n",
       "<table border=\"1\" class=\"dataframe\">\n",
       "  <thead>\n",
       "    <tr style=\"text-align: right;\">\n",
       "      <th></th>\n",
       "      <th>zmienna</th>\n",
       "      <th>wartosc</th>\n",
       "    </tr>\n",
       "  </thead>\n",
       "  <tbody>\n",
       "    <tr>\n",
       "      <th>10</th>\n",
       "      <td>alcohol</td>\n",
       "      <td>0.217370</td>\n",
       "    </tr>\n",
       "    <tr>\n",
       "      <th>9</th>\n",
       "      <td>sulphates</td>\n",
       "      <td>0.131628</td>\n",
       "    </tr>\n",
       "    <tr>\n",
       "      <th>3</th>\n",
       "      <td>residual sugar</td>\n",
       "      <td>0.089919</td>\n",
       "    </tr>\n",
       "    <tr>\n",
       "      <th>1</th>\n",
       "      <td>volatile acidity</td>\n",
       "      <td>0.089548</td>\n",
       "    </tr>\n",
       "    <tr>\n",
       "      <th>5</th>\n",
       "      <td>free sulfur dioxide</td>\n",
       "      <td>0.080819</td>\n",
       "    </tr>\n",
       "    <tr>\n",
       "      <th>0</th>\n",
       "      <td>fixed acidity</td>\n",
       "      <td>0.077155</td>\n",
       "    </tr>\n",
       "    <tr>\n",
       "      <th>6</th>\n",
       "      <td>total sulfur dioxide</td>\n",
       "      <td>0.074876</td>\n",
       "    </tr>\n",
       "    <tr>\n",
       "      <th>8</th>\n",
       "      <td>pH</td>\n",
       "      <td>0.067188</td>\n",
       "    </tr>\n",
       "    <tr>\n",
       "      <th>2</th>\n",
       "      <td>citric acid</td>\n",
       "      <td>0.061169</td>\n",
       "    </tr>\n",
       "    <tr>\n",
       "      <th>7</th>\n",
       "      <td>density</td>\n",
       "      <td>0.058752</td>\n",
       "    </tr>\n",
       "    <tr>\n",
       "      <th>4</th>\n",
       "      <td>chlorides</td>\n",
       "      <td>0.051577</td>\n",
       "    </tr>\n",
       "  </tbody>\n",
       "</table>\n",
       "</div>"
      ],
      "text/plain": [
       "                 zmienna   wartosc\n",
       "10               alcohol  0.217370\n",
       "9              sulphates  0.131628\n",
       "3         residual sugar  0.089919\n",
       "1       volatile acidity  0.089548\n",
       "5    free sulfur dioxide  0.080819\n",
       "0          fixed acidity  0.077155\n",
       "6   total sulfur dioxide  0.074876\n",
       "8                     pH  0.067188\n",
       "2            citric acid  0.061169\n",
       "7                density  0.058752\n",
       "4              chlorides  0.051577"
      ]
     },
     "execution_count": 131,
     "metadata": {},
     "output_type": "execute_result"
    }
   ],
   "source": [
    "pd.DataFrame({\"zmienna\" :X.columns,\"wartosc\" : i.feature_importances_ }).sort_values(by = \"wartosc\", ascending = False)"
   ]
  }
 ],
 "metadata": {
  "kernelspec": {
   "display_name": "Python 3",
   "language": "python",
   "name": "python3"
  },
  "language_info": {
   "codemirror_mode": {
    "name": "ipython",
    "version": 3
   },
   "file_extension": ".py",
   "mimetype": "text/x-python",
   "name": "python",
   "nbconvert_exporter": "python",
   "pygments_lexer": "ipython3",
   "version": "3.8.3"
  }
 },
 "nbformat": 4,
 "nbformat_minor": 4
}
