{
 "cells": [
  {
   "cell_type": "code",
   "execution_count": 1,
   "metadata": {},
   "outputs": [
    {
     "name": "stdout",
     "output_type": "stream",
     "text": [
      "C:\\Users\\Dawid\\Desktop\\kurs\\jdszr4-animalsi\\wino\n"
     ]
    }
   ],
   "source": [
    "#sciezka z danymi\n",
    "%cd \"C:\\Users\\Dawid\\Desktop\\kurs\\jdszr4-animalsi\\wino\""
   ]
  },
  {
   "cell_type": "code",
   "execution_count": 2,
   "metadata": {},
   "outputs": [],
   "source": [
    "#glowne biblioteki\n",
    "import pandas as pd\n",
    "import numpy as np \n",
    "from sklearn.model_selection import train_test_split, StratifiedKFold\n",
    "from sklearn.ensemble import RandomForestClassifier\n",
    "from sklearn.metrics import *\n",
    "from sklearn.model_selection import GridSearchCV \n",
    "from time import time \n",
    "from winsound import Beep\n",
    "import matplotlib.pyplot as plt\n",
    "import pickle "
   ]
  },
  {
   "cell_type": "code",
   "execution_count": 119,
   "metadata": {},
   "outputs": [],
   "source": [
    "#wlasny modul\n",
    "from dane.dane_wsadowe_zmiana_klas import *"
   ]
  },
  {
   "cell_type": "markdown",
   "metadata": {},
   "source": [
    "**1. Prosty model lasow losowych jako benchmark**"
   ]
  },
  {
   "cell_type": "markdown",
   "metadata": {},
   "source": [
    "a) dane nieprzetworzone "
   ]
  },
  {
   "cell_type": "code",
   "execution_count": 116,
   "metadata": {},
   "outputs": [
    {
     "name": "stdout",
     "output_type": "stream",
     "text": [
      "acc train:  1.0 \n",
      " acc val:  0.9375 \n",
      " acc test:  0.8938 \n",
      "\n"
     ]
    }
   ],
   "source": [
    "#wyjdzmy od prostego modelu na domyslnych parametrach\n",
    "model_rf1 = RandomForestClassifier(random_state=6)\n",
    "model_rf1.fit(X_train_reduced,Y_train_reduced)\n",
    "pred_rf1_val = model_rf1.predict(X_val)\n",
    "pred_rf1_test = model_rf1.predict(X_test)\n",
    "\n",
    "\n",
    "#ocena modelu na danych treningowych i testowych \n",
    "print(\"acc train: \",round(model_rf1.score(X_train_reduced, Y_train_reduced),4), \"\\n\",\n",
    "      \"acc val: \", round(model_rf1.score(X_val, Y_val),4), \"\\n\",\n",
    "      \"acc test: \", round(model_rf1.score(X_test, Y_test),4), \"\\n\",\n",
    "     )\n"
   ]
  },
  {
   "cell_type": "code",
   "execution_count": 117,
   "metadata": {},
   "outputs": [
    {
     "name": "stdout",
     "output_type": "stream",
     "text": [
      "              precision    recall  f1-score   support\n",
      "\n",
      "           1       0.94      0.99      0.96       111\n",
      "           2       0.91      0.59      0.71        17\n",
      "\n",
      "    accuracy                           0.94       128\n",
      "   macro avg       0.92      0.79      0.84       128\n",
      "weighted avg       0.94      0.94      0.93       128\n",
      "\n",
      "[[110   1]\n",
      " [  7  10]]\n"
     ]
    }
   ],
   "source": [
    "#ocena jakosci modelu nr 1 walidacja\n",
    "rf1_cnf_matrix = confusion_matrix(Y_val, pred_rf1_val)\n",
    "rf1_cnf_raport = classification_report(Y_val, pred_rf1_val)\n",
    "print(rf1_cnf_raport)\n",
    "print(rf1_cnf_matrix)"
   ]
  },
  {
   "cell_type": "code",
   "execution_count": 118,
   "metadata": {},
   "outputs": [
    {
     "name": "stdout",
     "output_type": "stream",
     "text": [
      "              precision    recall  f1-score   support\n",
      "\n",
      "           1       0.93      0.95      0.94       280\n",
      "           2       0.59      0.50      0.54        40\n",
      "\n",
      "    accuracy                           0.89       320\n",
      "   macro avg       0.76      0.72      0.74       320\n",
      "weighted avg       0.89      0.89      0.89       320\n",
      "\n",
      "[[266  14]\n",
      " [ 20  20]]\n"
     ]
    }
   ],
   "source": [
    "#ocena jakosci modelu nr 1 test\n",
    "rf1_cnf_matrix = confusion_matrix(Y_test, pred_rf1_test)\n",
    "rf1_cnf_raport = classification_report(Y_test, pred_rf1_test)\n",
    "print(rf1_cnf_raport)\n",
    "print(rf1_cnf_matrix)"
   ]
  },
  {
   "cell_type": "markdown",
   "metadata": {},
   "source": [
    "Ocena pierwszego modelu, model jak mozna bylo się spodziewać dobrze przewiduje klase najbardziej liczna, ale slaba trafia w klasę 2 na zbiorze testowym."
   ]
  },
  {
   "cell_type": "markdown",
   "metadata": {},
   "source": [
    "b) dane przeskalowane"
   ]
  },
  {
   "cell_type": "code",
   "execution_count": 125,
   "metadata": {},
   "outputs": [],
   "source": [
    "#wyjdzmy od prostego modelu na domyslnych parametrach\n",
    "model_rf2 = RandomForestClassifier(random_state=6)\n",
    "model_rf2.fit(X_train_reduced_scaled,Y_train_reduced)\n",
    "pred_rf2_val = model_rf2.predict(X_val_scaled)\n",
    "pred_rf2_test = model_rf2.predict(X_test_scaled)"
   ]
  },
  {
   "cell_type": "code",
   "execution_count": 126,
   "metadata": {},
   "outputs": [
    {
     "name": "stdout",
     "output_type": "stream",
     "text": [
      "              precision    recall  f1-score   support\n",
      "\n",
      "           1       0.94      0.99      0.96       111\n",
      "           2       0.91      0.59      0.71        17\n",
      "\n",
      "    accuracy                           0.94       128\n",
      "   macro avg       0.92      0.79      0.84       128\n",
      "weighted avg       0.94      0.94      0.93       128\n",
      "\n",
      "[[110   1]\n",
      " [  7  10]]\n"
     ]
    }
   ],
   "source": [
    "#ocena jakosci modelu nr 2 walidacja\n",
    "rf2_cnf_matrix = confusion_matrix(Y_val, pred_rf2)\n",
    "rf2_cnf_raport = classification_report(Y_val, pred_rf2)\n",
    "print(rf2_cnf_raport)\n",
    "print(rf2_cnf_matrix)"
   ]
  },
  {
   "cell_type": "code",
   "execution_count": 127,
   "metadata": {},
   "outputs": [
    {
     "name": "stdout",
     "output_type": "stream",
     "text": [
      "              precision    recall  f1-score   support\n",
      "\n",
      "           1       0.93      0.95      0.94       280\n",
      "           2       0.58      0.47      0.52        40\n",
      "\n",
      "    accuracy                           0.89       320\n",
      "   macro avg       0.75      0.71      0.73       320\n",
      "weighted avg       0.88      0.89      0.89       320\n",
      "\n",
      "[[266  14]\n",
      " [ 21  19]]\n"
     ]
    }
   ],
   "source": [
    "#ocena jakosci modelu nr 2 test\n",
    "rf2_cnf_matrix = confusion_matrix(Y_test, pred_rf2_test)\n",
    "rf2_cnf_raport = classification_report(Y_test, pred_rf2_test)\n",
    "print(rf2_cnf_raport)\n",
    "print(rf2_cnf_matrix)"
   ]
  },
  {
   "cell_type": "markdown",
   "metadata": {},
   "source": [
    "Przy przeskalowanych danych wyniki nie poprawiły się."
   ]
  },
  {
   "cell_type": "markdown",
   "metadata": {},
   "source": [
    "c) dane PCA"
   ]
  },
  {
   "cell_type": "code",
   "execution_count": 128,
   "metadata": {},
   "outputs": [],
   "source": [
    "#wyjdzmy od prostego modelu na domyslnych parametrach\n",
    "model_rf3 = RandomForestClassifier(random_state=6)\n",
    "model_rf3.fit(X_train_reduced_scaled_PCA,Y_train_reduced)\n",
    "pred_rf3_val = model_rf3.predict(X_val_scaled_PCA)\n",
    "pred_rf3_test = model_rf3.predict(X_test_scaled_PCA)"
   ]
  },
  {
   "cell_type": "code",
   "execution_count": 129,
   "metadata": {},
   "outputs": [
    {
     "name": "stdout",
     "output_type": "stream",
     "text": [
      "              precision    recall  f1-score   support\n",
      "\n",
      "           1       0.94      0.99      0.96       111\n",
      "           2       0.91      0.59      0.71        17\n",
      "\n",
      "    accuracy                           0.94       128\n",
      "   macro avg       0.92      0.79      0.84       128\n",
      "weighted avg       0.94      0.94      0.93       128\n",
      "\n",
      "[[110   1]\n",
      " [  7  10]]\n"
     ]
    }
   ],
   "source": [
    "#ocena jakosci modelu nr 3 walidacja\n",
    "rf3_cnf_matrix = confusion_matrix(Y_val, pred_rf3)\n",
    "rf3_cnf_raport = classification_report(Y_val, pred_rf3)\n",
    "print(rf3_cnf_raport)\n",
    "print(rf3_cnf_matrix)"
   ]
  },
  {
   "cell_type": "code",
   "execution_count": 130,
   "metadata": {},
   "outputs": [
    {
     "name": "stdout",
     "output_type": "stream",
     "text": [
      "              precision    recall  f1-score   support\n",
      "\n",
      "           1       0.92      0.97      0.95       280\n",
      "           2       0.70      0.40      0.51        40\n",
      "\n",
      "    accuracy                           0.90       320\n",
      "   macro avg       0.81      0.69      0.73       320\n",
      "weighted avg       0.89      0.90      0.89       320\n",
      "\n",
      "[[273   7]\n",
      " [ 24  16]]\n"
     ]
    }
   ],
   "source": [
    "#ocena jakosci modelu nr 3 test\n",
    "rf3_cnf_matrix = confusion_matrix(Y_test, pred_rf3_test)\n",
    "rf3_cnf_raport = classification_report(Y_test, pred_rf3_test)\n",
    "print(rf3_cnf_raport)\n",
    "print(rf3_cnf_matrix)"
   ]
  },
  {
   "cell_type": "markdown",
   "metadata": {},
   "source": [
    "Przy PCA wyniki nie poprawiły się."
   ]
  },
  {
   "cell_type": "markdown",
   "metadata": {},
   "source": [
    "**2. Znajdzmy najlepsze parametry dla tego modelu**"
   ]
  },
  {
   "cell_type": "code",
   "execution_count": 131,
   "metadata": {},
   "outputs": [],
   "source": [
    "#zacznijmy od małego zestawu, by dostrzec czy jest w ogóle jakas poprawa\n",
    "params_rf1 = {\"max_depth\"        :[10,12,14,16,None],\n",
    "              \"n_estimators\"     :list(range(20,101,20)),\n",
    "              \"min_samples_leaf\" :list(range(1, 5, 1)),\n",
    "              \"max_features\"     :[4,8,10,None]\n",
    "}"
   ]
  },
  {
   "cell_type": "code",
   "execution_count": 132,
   "metadata": {
    "scrolled": true
   },
   "outputs": [
    {
     "data": {
      "text/plain": [
       "18"
      ]
     },
     "execution_count": 132,
     "metadata": {},
     "output_type": "execute_result"
    }
   ],
   "source": [
    "r=  0   # policzymy ile jest mozliwych kombinacji parametrow\n",
    "for j in params_rf1.values():\n",
    "    s=len(j)\n",
    "    r += s\n",
    "r"
   ]
  },
  {
   "cell_type": "markdown",
   "metadata": {},
   "source": [
    "- wykorzystajmy model oparty na nieprzetworzonych danych"
   ]
  },
  {
   "cell_type": "code",
   "execution_count": 133,
   "metadata": {},
   "outputs": [
    {
     "name": "stdout",
     "output_type": "stream",
     "text": [
      "Fitting 5 folds for each of 400 candidates, totalling 2000 fits\n"
     ]
    },
    {
     "name": "stderr",
     "output_type": "stream",
     "text": [
      "[Parallel(n_jobs=2)]: Using backend LokyBackend with 2 concurrent workers.\n",
      "[Parallel(n_jobs=2)]: Done  46 tasks      | elapsed:   10.6s\n",
      "[Parallel(n_jobs=2)]: Done 196 tasks      | elapsed:   38.7s\n",
      "[Parallel(n_jobs=2)]: Done 446 tasks      | elapsed:  1.6min\n",
      "[Parallel(n_jobs=2)]: Done 796 tasks      | elapsed:  2.9min\n",
      "[Parallel(n_jobs=2)]: Done 1246 tasks      | elapsed:  4.5min\n",
      "[Parallel(n_jobs=2)]: Done 1796 tasks      | elapsed:  6.7min\n",
      "[Parallel(n_jobs=2)]: Done 2000 out of 2000 | elapsed:  7.6min finished\n"
     ]
    }
   ],
   "source": [
    "#zdefiniujmy obiekt sprawdzajacy nasze parametry\n",
    "skf= StratifiedKFold(n_splits=5, shuffle = True, random_state = 6)\n",
    "grid_search1 =  GridSearchCV(RandomForestClassifier(random_state=6),param_grid = params_rf1,cv =skf,verbose = 1,n_jobs = 2,scoring = make_scorer(f1_score, average = \"macro\")).fit(X_train_all,Y_train_all)\n",
    "Beep(400,1000)"
   ]
  },
  {
   "cell_type": "code",
   "execution_count": 134,
   "metadata": {},
   "outputs": [
    {
     "name": "stdout",
     "output_type": "stream",
     "text": [
      "{'max_depth': 14, 'max_features': None, 'min_samples_leaf': 1, 'n_estimators': 40}\n"
     ]
    }
   ],
   "source": [
    "# sprawdzmy nasz najlepszy zestaw parametrow\n",
    "print(grid_search1.best_params_)\n",
    "\n",
    "model_rf4 = grid_search1.best_estimator_\n",
    "model_rf4.fit(X_train_all,Y_train_all)\n",
    "\n",
    "pred_rf4 = model_rf4.predict(X_test)"
   ]
  },
  {
   "cell_type": "code",
   "execution_count": 135,
   "metadata": {},
   "outputs": [
    {
     "name": "stdout",
     "output_type": "stream",
     "text": [
      "              precision    recall  f1-score   support\n",
      "\n",
      "           1       0.94      0.95      0.94       280\n",
      "           2       0.61      0.57      0.59        40\n",
      "\n",
      "    accuracy                           0.90       320\n",
      "   macro avg       0.77      0.76      0.77       320\n",
      "weighted avg       0.90      0.90      0.90       320\n",
      "\n",
      "[[265  15]\n",
      " [ 17  23]]\n"
     ]
    }
   ],
   "source": [
    "#ocena jakosci modelu z wybranymi najlepszymi parametrami\n",
    "rf4_cnf_matrix = confusion_matrix(Y_test, pred_rf4)\n",
    "rf4_cnf_raport = classification_report(Y_test, pred_rf4)\n",
    "print(rf4_cnf_raport)\n",
    "print(rf4_cnf_matrix)"
   ]
  },
  {
   "cell_type": "markdown",
   "metadata": {},
   "source": [
    "Widzimy dosyć dużą poprawę wyniku F1 score dla klasy 2. spróbujmy jeszcze przepracować niezbalansowanie klas.\n"
   ]
  },
  {
   "cell_type": "markdown",
   "metadata": {},
   "source": [
    "**3. Popracujmy nad niezbalansowaniem klas**"
   ]
  },
  {
   "cell_type": "code",
   "execution_count": 145,
   "metadata": {},
   "outputs": [],
   "source": [
    "# dobierzmy jeszcze do naszego najlepszego modelu najbardziej optymalny zestaw wag\n",
    "weights = np.linspace(0.05,0.95,100)\n",
    "params_weight1 = {\"class_weight\": [{1:x, 2: 1-x} for x in weights]}"
   ]
  },
  {
   "cell_type": "code",
   "execution_count": 146,
   "metadata": {},
   "outputs": [
    {
     "name": "stdout",
     "output_type": "stream",
     "text": [
      "Fitting 5 folds for each of 100 candidates, totalling 500 fits\n"
     ]
    },
    {
     "name": "stderr",
     "output_type": "stream",
     "text": [
      "[Parallel(n_jobs=3)]: Using backend LokyBackend with 3 concurrent workers.\n",
      "[Parallel(n_jobs=3)]: Done  44 tasks      | elapsed:    6.7s\n",
      "[Parallel(n_jobs=3)]: Done 194 tasks      | elapsed:   27.4s\n",
      "[Parallel(n_jobs=3)]: Done 444 tasks      | elapsed:  1.1min\n",
      "[Parallel(n_jobs=3)]: Done 500 out of 500 | elapsed:  1.3min finished\n"
     ]
    }
   ],
   "source": [
    "#zdefiniujmy obiekt sprawdzajacy nasze losowane wagi na ostatnim wyliczonym modelu\n",
    "grid_search2 =  GridSearchCV(grid_search1.best_estimator_,param_grid = params_weight1,cv =skf,verbose = 1,n_jobs = 3,scoring = make_scorer(balanced_accuracy_score)).fit(X_train_all,Y_train_all)\n",
    "Beep(400,1000)"
   ]
  },
  {
   "cell_type": "code",
   "execution_count": 147,
   "metadata": {},
   "outputs": [
    {
     "name": "stdout",
     "output_type": "stream",
     "text": [
      "{'class_weight': {1: 0.45909090909090905, 2: 0.540909090909091}}\n"
     ]
    }
   ],
   "source": [
    "# sprawdzmy jaki jest nasz najlepszy zestaw wag\n",
    "print(grid_search2.best_params_)\n",
    "\n",
    "model_rf5 = grid_search2.best_estimator_\n",
    "model_rf5.fit(X_train_all,Y_train_all)\n",
    "\n",
    "pred_rf5 = model_rf5.predict(X_test)"
   ]
  },
  {
   "cell_type": "code",
   "execution_count": 148,
   "metadata": {},
   "outputs": [
    {
     "data": {
      "text/plain": [
       "RandomForestClassifier(class_weight={1: 0.45909090909090905,\n",
       "                                     2: 0.540909090909091},\n",
       "                       max_depth=14, max_features=None, n_estimators=40,\n",
       "                       random_state=6)"
      ]
     },
     "execution_count": 148,
     "metadata": {},
     "output_type": "execute_result"
    }
   ],
   "source": [
    "#nasz dotychczasowy najlepszy model\n",
    "grid_search2.best_estimator_"
   ]
  },
  {
   "cell_type": "code",
   "execution_count": 149,
   "metadata": {},
   "outputs": [
    {
     "name": "stdout",
     "output_type": "stream",
     "text": [
      "              precision    recall  f1-score   support\n",
      "\n",
      "           1       0.94      0.95      0.95       280\n",
      "           2       0.63      0.60      0.62        40\n",
      "\n",
      "    accuracy                           0.91       320\n",
      "   macro avg       0.79      0.77      0.78       320\n",
      "weighted avg       0.90      0.91      0.91       320\n",
      "\n",
      "[[266  14]\n",
      " [ 16  24]]\n"
     ]
    }
   ],
   "source": [
    "#ocena jakosci modelu z wybranymi najlepszymi wagami i parametrami\n",
    "rf5_cnf_matrix = confusion_matrix(Y_test, pred_rf5)\n",
    "rf5_cnf_raport = classification_report(Y_test, pred_rf5)\n",
    "print(rf5_cnf_raport)\n",
    "print(rf5_cnf_matrix)"
   ]
  },
  {
   "cell_type": "markdown",
   "metadata": {},
   "source": [
    "Nasz model z wyważonymi wagami klas poprawił osiągniętą precyzje dla 2 klasy, ale może uda się jeszcze go poprawić."
   ]
  },
  {
   "cell_type": "markdown",
   "metadata": {},
   "source": [
    "**4. Pole pod krzywą ROC**   \n",
    "- próba znalezienia wydajniejszej klasyfikacji przy zmianie progu klasyfikacji"
   ]
  },
  {
   "cell_type": "code",
   "execution_count": 150,
   "metadata": {},
   "outputs": [],
   "source": [
    "#wyciagnijmy nie klasyfikacje a prawdopodobienstwa\n",
    "Y_pred_rf5_proba = model_rf5.predict_proba(X_test)[::,1]\n",
    "\n",
    "#wykreslenie krzywej ROC\n",
    "FPR, TPR, tresholds = roc_curve(Y_test, Y_pred_rf5_proba,pos_label=2)"
   ]
  },
  {
   "cell_type": "code",
   "execution_count": 151,
   "metadata": {},
   "outputs": [
    {
     "data": {
      "image/png": "[encoded data removed]",
      "text/plain": [
       "<Figure size 432x288 with 1 Axes>"
      ]
     },
     "metadata": {
      "needs_background": "light"
     },
     "output_type": "display_data"
    }
   ],
   "source": [
    "#poniżej mozemy zobaczyć jak prezentuje się nasz TPR vs FPR\n",
    "plt.plot(FPR, TPR)\n",
    "plt.xlabel(\"FPR\")\n",
    "plt.ylabel(\"TPR\")\n",
    "plt.show()"
   ]
  },
  {
   "cell_type": "code",
   "execution_count": 178,
   "metadata": {},
   "outputs": [
    {
     "data": {
      "text/plain": [
       "array([1.95      , 0.95      , 0.9       , 0.825     , 0.775     ,\n",
       "       0.73892375, 0.725     , 0.7       , 0.675     , 0.67137213,\n",
       "       0.625     , 0.6       , 0.58266094, 0.575     , 0.55766094,\n",
       "       0.55021257, 0.55      , 0.525     , 0.5       , 0.48235333,\n",
       "       0.44255162, 0.43426791, 0.425     , 0.4       , 0.37707751,\n",
       "       0.375     , 0.35      , 0.33426791, 0.325     , 0.32245848,\n",
       "       0.3       , 0.275     , 0.25207751, 0.25      , 0.20207751,\n",
       "       0.175     , 0.15      , 0.14637213, 0.125     , 0.10926791,\n",
       "       0.1       , 0.07860169, 0.075     , 0.05      , 0.02789397,\n",
       "       0.025     , 0.        ])"
      ]
     },
     "execution_count": 178,
     "metadata": {},
     "output_type": "execute_result"
    }
   ],
   "source": [
    "tresholds"
   ]
  },
  {
   "cell_type": "markdown",
   "metadata": {},
   "source": [
    "Zastosujmy inne przypisanie  progow i sprawdzmy nasz wynik"
   ]
  },
  {
   "cell_type": "code",
   "execution_count": 152,
   "metadata": {},
   "outputs": [
    {
     "name": "stdout",
     "output_type": "stream",
     "text": [
      "trashold =0.1, F1 score= 0.63\n",
      "trashold =0.13, F1 score= 0.66\n",
      "trashold =0.16, F1 score= 0.69\n",
      "trashold =0.18, F1 score= 0.7\n",
      "trashold =0.21, F1 score= 0.71\n",
      "trashold =0.24, F1 score= 0.71\n",
      "trashold =0.27, F1 score= 0.73\n",
      "trashold =0.29, F1 score= 0.74\n",
      "trashold =0.32, F1 score= 0.75\n",
      "trashold =0.35, F1 score= 0.75\n",
      "trashold =0.38, F1 score= 0.75\n",
      "trashold =0.4, F1 score= 0.78\n",
      "trashold =0.43, F1 score= 0.79\n",
      "trashold =0.46, F1 score= 0.79\n",
      "trashold =0.49, F1 score= 0.78\n",
      "trashold =0.51, F1 score= 0.78\n",
      "trashold =0.54, F1 score= 0.75\n",
      "trashold =0.57, F1 score= 0.74\n",
      "trashold =0.6, F1 score= 0.74\n",
      "trashold =0.62, F1 score= 0.73\n",
      "trashold =0.65, F1 score= 0.74\n",
      "trashold =0.68, F1 score= 0.72\n",
      "trashold =0.71, F1 score= 0.71\n",
      "trashold =0.73, F1 score= 0.7\n",
      "trashold =0.76, F1 score= 0.65\n",
      "trashold =0.79, F1 score= 0.58\n",
      "trashold =0.82, F1 score= 0.58\n",
      "trashold =0.84, F1 score= 0.56\n",
      "trashold =0.87, F1 score= 0.54\n",
      "trashold =0.9, F1 score= 0.54\n"
     ]
    }
   ],
   "source": [
    "lista = []\n",
    "zbior_i = []\n",
    "zbior_f1 = []\n",
    "for i in np.linspace(0.1,0.9,30):\n",
    "    lista = [2 if Y_pred_rf5_proba[x] >= i else 1 for x in range(Y_pred_rf5_proba.size)]\n",
    "    print(\"trashold =\"+ str(round(i,2)) + \", F1 score= \" + str(round(f1_score(Y_test, lista,average = 'macro'),2)))\n",
    "    zbior_i.append(i)\n",
    "    zbior_f1.append(round(f1_score(Y_test, lista,average = 'macro'),2))"
   ]
  },
  {
   "cell_type": "code",
   "execution_count": 153,
   "metadata": {},
   "outputs": [
    {
     "data": {
      "image/png": "[encoded data removed]",
      "text/plain": [
       "<Figure size 432x288 with 1 Axes>"
      ]
     },
     "metadata": {
      "needs_background": "light"
     },
     "output_type": "display_data"
    }
   ],
   "source": [
    "plt.plot(zbior_i,zbior_f1)\n",
    "pass"
   ]
  },
  {
   "cell_type": "code",
   "execution_count": 154,
   "metadata": {},
   "outputs": [
    {
     "data": {
      "text/plain": [
       "0.4310344827586208"
      ]
     },
     "execution_count": 154,
     "metadata": {},
     "output_type": "execute_result"
    }
   ],
   "source": [
    "#pozycja najlepszego wyniku\n",
    "pozycja = np.min(np.where(zbior_f1 == np.max(zbior_f1)))\n",
    "#najlepszy wynik wypada przy progu\n",
    "prog = zbior_i[pozycja]\n",
    "prog "
   ]
  },
  {
   "cell_type": "code",
   "execution_count": 155,
   "metadata": {},
   "outputs": [],
   "source": [
    "# Sprawdzmy dokladnosc modelu przy tym progu\n",
    "Y_pred_rf5_prog = [2 if Y_pred_rf5_proba[x] >= prog else 1 for x in range(Y_pred_rf5_proba.size)]"
   ]
  },
  {
   "cell_type": "code",
   "execution_count": 156,
   "metadata": {},
   "outputs": [
    {
     "name": "stdout",
     "output_type": "stream",
     "text": [
      "              precision    recall  f1-score   support\n",
      "\n",
      "           1       0.95      0.94      0.94       280\n",
      "           2       0.60      0.68      0.64        40\n",
      "\n",
      "    accuracy                           0.90       320\n",
      "   macro avg       0.78      0.81      0.79       320\n",
      "weighted avg       0.91      0.90      0.91       320\n",
      "\n",
      "[[262  18]\n",
      " [ 13  27]]\n"
     ]
    }
   ],
   "source": [
    "#ocena jakosci modelu na nowym progu\n",
    "rf5_prog_cnf_matrix = confusion_matrix(Y_test, Y_pred_rf5_prog)\n",
    "rf5_prog_cnf_raport = classification_report(Y_test, Y_pred_rf5_prog)\n",
    "print(rf5_prog_cnf_raport)\n",
    "print(rf5_prog_cnf_matrix)"
   ]
  },
  {
   "cell_type": "markdown",
   "metadata": {},
   "source": [
    "Nasz ostateczny model uzyskał dokładność 90%, z 94% precyzja wskazuje dobrze klase 1 a z 64% klasę 2. "
   ]
  },
  {
   "cell_type": "markdown",
   "metadata": {},
   "source": [
    "**5. Nasz najlepszy model**"
   ]
  },
  {
   "cell_type": "code",
   "execution_count": 175,
   "metadata": {},
   "outputs": [],
   "source": [
    "model_final_rf = model_rf5\n",
    "model_final_rf.fit(X_train_all,Y_train_all)\n",
    "\n",
    "pred_final_rf = (model_final_rf.predict_proba(X_test)[:,1] >= prog).astype(int)+1"
   ]
  },
  {
   "cell_type": "code",
   "execution_count": 176,
   "metadata": {},
   "outputs": [
    {
     "name": "stdout",
     "output_type": "stream",
     "text": [
      "              precision    recall  f1-score   support\n",
      "\n",
      "           1       0.95      0.94      0.94       280\n",
      "           2       0.60      0.68      0.64        40\n",
      "\n",
      "    accuracy                           0.90       320\n",
      "   macro avg       0.78      0.81      0.79       320\n",
      "weighted avg       0.91      0.90      0.91       320\n",
      "\n",
      "[[262  18]\n",
      " [ 13  27]]\n"
     ]
    }
   ],
   "source": [
    "#ocena jakosci modelu z wybranymi najlepszymi wagami i parametrami\n",
    "model_final_rf_cnf_matrix = confusion_matrix(Y_test, pred_final_rf)\n",
    "model_final_rf_cnf_raport = classification_report(Y_test, pred_final_rf)\n",
    "print(model_final_rf_cnf_raport)\n",
    "print(model_final_rf_cnf_matrix)"
   ]
  },
  {
   "cell_type": "code",
   "execution_count": 180,
   "metadata": {},
   "outputs": [],
   "source": [
    "#pakuje model do zmiennej pickle\n",
    "with open (\"model_final_rf.pkl\", \"wb\") as file:\n",
    "    pickle.dump(model_final_rf, file)"
   ]
  }
 ],
 "metadata": {
  "kernelspec": {
   "display_name": "Python 3",
   "language": "python",
   "name": "python3"
  },
  "language_info": {
   "codemirror_mode": {
    "name": "ipython",
    "version": 3
   },
   "file_extension": ".py",
   "mimetype": "text/x-python",
   "name": "python",
   "nbconvert_exporter": "python",
   "pygments_lexer": "ipython3",
   "version": "3.8.3"
  }
 },
 "nbformat": 4,
 "nbformat_minor": 4
}
