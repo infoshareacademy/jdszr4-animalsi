{
 "cells": [
  {
   "cell_type": "code",
   "execution_count": 1,
   "metadata": {},
   "outputs": [
    {
     "name": "stdout",
     "output_type": "stream",
     "text": [
      "C:\\Users\\Dawid\\Desktop\\kurs\\jdszr4-animalsi\\wino\n"
     ]
    }
   ],
   "source": [
    "#sciezka z danymi\n",
    "%cd \"C:\\Users\\Dawid\\Desktop\\kurs\\jdszr4-animalsi\\wino\""
   ]
  },
  {
   "cell_type": "code",
   "execution_count": 2,
   "metadata": {},
   "outputs": [],
   "source": [
    "#glowne biblioteki\n",
    "import pandas as pd\n",
    "import numpy as np \n",
    "from sklearn.model_selection import train_test_split, StratifiedKFold\n",
    "from sklearn.ensemble import RandomForestClassifier\n",
    "from sklearn.metrics import *\n",
    "from sklearn.model_selection import GridSearchCV \n",
    "from time import time \n",
    "from winsound import Beep\n",
    "import matplotlib.pyplot as plt\n",
    "import pickle "
   ]
  },
  {
   "cell_type": "code",
   "execution_count": 103,
   "metadata": {},
   "outputs": [],
   "source": [
    "#wlasny modul\n",
    "from dane.dane_wsadowe_zmiana_klas import *"
   ]
  },
  {
   "cell_type": "markdown",
   "metadata": {},
   "source": [
    "**1. Prosty model lasow losowych jako benchmark**"
   ]
  },
  {
   "cell_type": "markdown",
   "metadata": {},
   "source": [
    "a) dane nieprzetworzone "
   ]
  },
  {
   "cell_type": "code",
   "execution_count": 104,
   "metadata": {},
   "outputs": [
    {
     "name": "stdout",
     "output_type": "stream",
     "text": [
      "acc train:  1.0 \n",
      " acc val:  0.9375\n"
     ]
    }
   ],
   "source": [
    "#wyjdzmy od prostego modelu na domyslnych parametrach\n",
    "model_rf1 = RandomForestClassifier(random_state=6)\n",
    "model_rf1.fit(X_train_reduced,Y_train_reduced)\n",
    "pred_rf1 = model_rf1.predict(X_val)\n",
    "\n",
    "#ocena modelu na danych treningowych i testowych \n",
    "print(\"acc train: \",round(model_rf1.score(X_train_reduced, Y_train_reduced),4), \"\\n\",\n",
    "      \"acc val: \", round(model_rf1.score(X_val, Y_val),4))\n"
   ]
  },
  {
   "cell_type": "code",
   "execution_count": 105,
   "metadata": {},
   "outputs": [
    {
     "name": "stdout",
     "output_type": "stream",
     "text": [
      "              precision    recall  f1-score   support\n",
      "\n",
      "           1       0.94      0.99      0.96       111\n",
      "           2       0.91      0.59      0.71        17\n",
      "\n",
      "    accuracy                           0.94       128\n",
      "   macro avg       0.92      0.79      0.84       128\n",
      "weighted avg       0.94      0.94      0.93       128\n",
      "\n",
      "[[110   1]\n",
      " [  7  10]]\n"
     ]
    }
   ],
   "source": [
    "#ocena jakosci modelu nr 1\n",
    "rf1_cnf_matrix = confusion_matrix(Y_val, pred_rf1)\n",
    "rf1_cnf_raport = classification_report(Y_val, pred_rf1)\n",
    "print(rf1_cnf_raport)\n",
    "print(rf1_cnf_matrix)"
   ]
  },
  {
   "cell_type": "markdown",
   "metadata": {},
   "source": [
    "Ocena pierwszego modelu, model jak mozna bylo się spodziewać dobrze przewiduje klase najbardziej liczna, ale slaba trafia w klasę 2."
   ]
  },
  {
   "cell_type": "markdown",
   "metadata": {},
   "source": [
    "b) dane przeskalowane"
   ]
  },
  {
   "cell_type": "code",
   "execution_count": 101,
   "metadata": {},
   "outputs": [],
   "source": [
    "#wyjdzmy od prostego modelu na domyslnych parametrach\n",
    "model_rf2 = RandomForestClassifier(random_state=6)\n",
    "model_rf2.fit(X_train_reduced_scaled,Y_train_reduced)\n",
    "pred_rf2 = model_rf2.predict(X_val_scaled)"
   ]
  },
  {
   "cell_type": "code",
   "execution_count": 58,
   "metadata": {},
   "outputs": [
    {
     "name": "stdout",
     "output_type": "stream",
     "text": [
      "              precision    recall  f1-score   support\n",
      "\n",
      "           1       0.94      0.99      0.96       111\n",
      "           2       0.91      0.59      0.71        17\n",
      "\n",
      "    accuracy                           0.94       128\n",
      "   macro avg       0.92      0.79      0.84       128\n",
      "weighted avg       0.94      0.94      0.93       128\n",
      "\n",
      "[[110   1]\n",
      " [  7  10]]\n"
     ]
    }
   ],
   "source": [
    "#ocena jakosci modelu nr 2\n",
    "rf2_cnf_matrix = confusion_matrix(Y_val, pred_rf2)\n",
    "rf2_cnf_raport = classification_report(Y_val, pred_rf2)\n",
    "print(rf2_cnf_raport)\n",
    "print(rf2_cnf_matrix)"
   ]
  },
  {
   "cell_type": "markdown",
   "metadata": {},
   "source": [
    "Przy przeskalowanych danych wyniki nie zmieniły się."
   ]
  },
  {
   "cell_type": "markdown",
   "metadata": {},
   "source": [
    "c) dane PCA"
   ]
  },
  {
   "cell_type": "code",
   "execution_count": 29,
   "metadata": {},
   "outputs": [],
   "source": [
    "#wyjdzmy od prostego modelu na domyslnych parametrach\n",
    "model_rf3 = RandomForestClassifier(random_state=6)\n",
    "model_rf3.fit(X_train_reduced_scaled_PCA,Y_train_reduced)\n",
    "pred_rf3 = model_rf3.predict(X_val_scaled_PCA)"
   ]
  },
  {
   "cell_type": "code",
   "execution_count": 28,
   "metadata": {},
   "outputs": [
    {
     "name": "stdout",
     "output_type": "stream",
     "text": [
      "              precision    recall  f1-score   support\n",
      "\n",
      "           1       0.94      0.99      0.96       111\n",
      "           2       0.91      0.59      0.71        17\n",
      "\n",
      "    accuracy                           0.94       128\n",
      "   macro avg       0.92      0.79      0.84       128\n",
      "weighted avg       0.94      0.94      0.93       128\n",
      "\n",
      "[[110   1]\n",
      " [  7  10]]\n"
     ]
    }
   ],
   "source": [
    "#ocena jakosci modelu nr 3\n",
    "rf3_cnf_matrix = confusion_matrix(Y_val, pred_rf3)\n",
    "rf3_cnf_raport = classification_report(Y_val, pred_rf3)\n",
    "print(rf3_cnf_raport)\n",
    "print(rf3_cnf_matrix)"
   ]
  },
  {
   "cell_type": "markdown",
   "metadata": {},
   "source": [
    "Przy PCA wyniki nie poprawiły się."
   ]
  },
  {
   "cell_type": "markdown",
   "metadata": {},
   "source": [
    "**2. Znajdzmy najlepsze parametry dla tego modelu**"
   ]
  },
  {
   "cell_type": "code",
   "execution_count": 82,
   "metadata": {},
   "outputs": [],
   "source": [
    "#zacznijmy od małego zestawu, by dostrzec czy jest w ogóle jakas poprawa\n",
    "params_rf1 = {\"max_depth\"        :[10,12,14,16,None],\n",
    "              \"n_estimators\"     :list(range(20,101,20)),\n",
    "              \"min_samples_leaf\" :list(range(1, 5, 1)),\n",
    "              \"max_features\"     :[4,8,None]\n",
    "}"
   ]
  },
  {
   "cell_type": "code",
   "execution_count": 83,
   "metadata": {
    "scrolled": true
   },
   "outputs": [
    {
     "data": {
      "text/plain": [
       "17"
      ]
     },
     "execution_count": 83,
     "metadata": {},
     "output_type": "execute_result"
    }
   ],
   "source": [
    "r=  0   # policzymy ile jest mozliwych kombinacji parametrow\n",
    "for j in params_rf1.values():\n",
    "    s=len(j)\n",
    "    r += s\n",
    "r"
   ]
  },
  {
   "cell_type": "markdown",
   "metadata": {},
   "source": [
    "- wykorzystajmy model oparty na nieprzetworzonych danych"
   ]
  },
  {
   "cell_type": "code",
   "execution_count": 84,
   "metadata": {},
   "outputs": [
    {
     "name": "stdout",
     "output_type": "stream",
     "text": [
      "Fitting 5 folds for each of 300 candidates, totalling 1500 fits\n"
     ]
    },
    {
     "name": "stderr",
     "output_type": "stream",
     "text": [
      "[Parallel(n_jobs=2)]: Using backend LokyBackend with 2 concurrent workers.\n",
      "[Parallel(n_jobs=2)]: Done  88 tasks      | elapsed:   15.2s\n",
      "[Parallel(n_jobs=2)]: Done 258 tasks      | elapsed:  1.0min\n",
      "[Parallel(n_jobs=2)]: Done 508 tasks      | elapsed:  2.0min\n",
      "[Parallel(n_jobs=2)]: Done 858 tasks      | elapsed:  3.5min\n",
      "[Parallel(n_jobs=2)]: Done 1308 tasks      | elapsed:  5.3min\n",
      "[Parallel(n_jobs=2)]: Done 1500 out of 1500 | elapsed:  6.3min finished\n"
     ]
    }
   ],
   "source": [
    "#zdefiniujmy obiekt sprawdzajacy nasze parametry\n",
    "skf= StratifiedKFold(n_splits=5, shuffle = True)\n",
    "grid_search1 =  GridSearchCV(RandomForestClassifier(random_state=6),param_grid = params_rf1,cv =skf,verbose = 1,n_jobs = 2,scoring = make_scorer(f1_score, average = \"macro\")).fit(X_train_all,Y_train_all)\n",
    "Beep(400,1000)"
   ]
  },
  {
   "cell_type": "code",
   "execution_count": 85,
   "metadata": {},
   "outputs": [
    {
     "name": "stdout",
     "output_type": "stream",
     "text": [
      "{'max_depth': 12, 'max_features': 8, 'min_samples_leaf': 1, 'n_estimators': 100}\n"
     ]
    }
   ],
   "source": [
    "# sprawdzmy nasz najlepszy zestaw parametrow\n",
    "print(grid_search1.best_params_)\n",
    "\n",
    "model_rf4 = grid_search1.best_estimator_\n",
    "model_rf4.fit(X_train_all,Y_train_all)\n",
    "\n",
    "pred_rf4 = model_rf4.predict(X_test)"
   ]
  },
  {
   "cell_type": "code",
   "execution_count": 86,
   "metadata": {},
   "outputs": [
    {
     "name": "stdout",
     "output_type": "stream",
     "text": [
      "              precision    recall  f1-score   support\n",
      "\n",
      "           1       0.94      0.94      0.94       280\n",
      "           2       0.58      0.55      0.56        40\n",
      "\n",
      "    accuracy                           0.89       320\n",
      "   macro avg       0.76      0.75      0.75       320\n",
      "weighted avg       0.89      0.89      0.89       320\n",
      "\n",
      "[[264  16]\n",
      " [ 18  22]]\n"
     ]
    }
   ],
   "source": [
    "#ocena jakosci modelu z wybranymi najlepszymi parametrami\n",
    "rf4_cnf_matrix = confusion_matrix(Y_test, pred_rf4)\n",
    "rf4_cnf_raport = classification_report(Y_test, pred_rf4)\n",
    "print(rf4_cnf_raport)\n",
    "print(rf4_cnf_matrix)"
   ]
  },
  {
   "cell_type": "markdown",
   "metadata": {},
   "source": [
    "Widzimy calkiem dobry wynik F1 score dla klasy 2. spróbujmy jeszcze przepracować niezbalansowanie klas.\n"
   ]
  },
  {
   "cell_type": "markdown",
   "metadata": {},
   "source": [
    "**3. Popracujmy nad niezbalansowaniem klas**"
   ]
  },
  {
   "cell_type": "code",
   "execution_count": 87,
   "metadata": {},
   "outputs": [],
   "source": [
    "# dobierzmy jeszcze do naszego najlepszego modelu najbardziej optymalny zestaw wag\n",
    "weights = np.linspace(0.05,0.95,30)\n",
    "params_weight1 = {\"class_weight\": [{1:x, 2: 1-x} for x in weights]}"
   ]
  },
  {
   "cell_type": "code",
   "execution_count": 88,
   "metadata": {},
   "outputs": [
    {
     "name": "stdout",
     "output_type": "stream",
     "text": [
      "Fitting 5 folds for each of 30 candidates, totalling 150 fits\n"
     ]
    },
    {
     "name": "stderr",
     "output_type": "stream",
     "text": [
      "[Parallel(n_jobs=3)]: Using backend LokyBackend with 3 concurrent workers.\n",
      "[Parallel(n_jobs=3)]: Done  44 tasks      | elapsed:   20.3s\n",
      "[Parallel(n_jobs=3)]: Done 150 out of 150 | elapsed:  1.0min finished\n"
     ]
    }
   ],
   "source": [
    "#zdefiniujmy obiekt sprawdzajacy nasze losowane wagi na ostatnim wyliczonym modelu\n",
    "grid_search2 =  GridSearchCV(grid_search1.best_estimator_,param_grid = params_weight1,cv =skf,verbose = 1,n_jobs = 3,scoring = make_scorer(f1_score, average = \"macro\")).fit(X_train_all,Y_train_all)\n",
    "Beep(400,1000)"
   ]
  },
  {
   "cell_type": "code",
   "execution_count": 89,
   "metadata": {},
   "outputs": [
    {
     "name": "stdout",
     "output_type": "stream",
     "text": [
      "{'class_weight': {1: 0.2982758620689655, 2: 0.7017241379310345}}\n"
     ]
    }
   ],
   "source": [
    "# sprawdzmy jaki jest nasz najlepszy zestaw wag\n",
    "print(grid_search2.best_params_)\n",
    "\n",
    "model_rf5 = grid_search2.best_estimator_\n",
    "model_rf5.fit(X_train_all,Y_train_all)\n",
    "\n",
    "pred_rf5 = model_rf5.predict(X_test)"
   ]
  },
  {
   "cell_type": "code",
   "execution_count": 92,
   "metadata": {},
   "outputs": [
    {
     "data": {
      "text/plain": [
       "RandomForestClassifier(class_weight={1: 0.2982758620689655,\n",
       "                                     2: 0.7017241379310345},\n",
       "                       max_depth=12, max_features=8, random_state=6)"
      ]
     },
     "execution_count": 92,
     "metadata": {},
     "output_type": "execute_result"
    }
   ],
   "source": [
    "#nasz dotychczasowy najlepszy model\n",
    "grid_search2.best_estimator_"
   ]
  },
  {
   "cell_type": "code",
   "execution_count": 93,
   "metadata": {},
   "outputs": [
    {
     "name": "stdout",
     "output_type": "stream",
     "text": [
      "              precision    recall  f1-score   support\n",
      "\n",
      "           1       0.94      0.94      0.94       280\n",
      "           2       0.60      0.60      0.60        40\n",
      "\n",
      "    accuracy                           0.90       320\n",
      "   macro avg       0.77      0.77      0.77       320\n",
      "weighted avg       0.90      0.90      0.90       320\n",
      "\n",
      "[[264  16]\n",
      " [ 16  24]]\n"
     ]
    }
   ],
   "source": [
    "#ocena jakosci modelu z wybranymi najlepszymi wagami i parametrami\n",
    "rf5_cnf_matrix = confusion_matrix(Y_test, pred_rf5)\n",
    "rf5_cnf_raport = classification_report(Y_test, pred_rf5)\n",
    "print(rf5_cnf_raport)\n",
    "print(rf5_cnf_matrix)"
   ]
  },
  {
   "cell_type": "markdown",
   "metadata": {},
   "source": [
    "Nasz model z wyważonymi wagami klas osiągnał już całkiem dobrą dokładność dla klasy 2, ale może uda się jeszcze go poprawić."
   ]
  },
  {
   "cell_type": "markdown",
   "metadata": {},
   "source": [
    "**4. Pole pod krzywą ROC**   \n",
    "- próba znalezienia wydajniejszej klasyfikacji przy zmianie progu klasyfikacji"
   ]
  },
  {
   "cell_type": "code",
   "execution_count": 94,
   "metadata": {},
   "outputs": [],
   "source": [
    "#wyciagnijmy nie klasyfikacje a prawdopodobienstwa\n",
    "Y_pred_rf5_proba = model_rf5.predict_proba(X_test)[::,1]\n",
    "\n",
    "#wykreslenie krzywej ROC\n",
    "FPR, TPR, tresholds = roc_curve(Y_test, Y_pred_rf5_proba,pos_label=2)"
   ]
  },
  {
   "cell_type": "code",
   "execution_count": 95,
   "metadata": {},
   "outputs": [
    {
     "data": {
      "image/png": "[encoded data removed]",
      "text/plain": [
       "<Figure size 432x288 with 1 Axes>"
      ]
     },
     "metadata": {
      "needs_background": "light"
     },
     "output_type": "display_data"
    }
   ],
   "source": [
    "#poniżej mozemy zobaczyć jak prezentuje się nasz TPR vs FPR\n",
    "plt.plot(FPR, TPR)\n",
    "plt.xlabel(\"FPR\")\n",
    "plt.ylabel(\"TPR\")\n",
    "plt.show()"
   ]
  },
  {
   "cell_type": "markdown",
   "metadata": {},
   "source": [
    "Zastosujmy inne przypisanie  progow i sprawdzmy nasz wynik"
   ]
  },
  {
   "cell_type": "code",
   "execution_count": 96,
   "metadata": {},
   "outputs": [
    {
     "name": "stdout",
     "output_type": "stream",
     "text": [
      "trashold =0.1, F1 score= 0.63\n",
      "trashold =0.13, F1 score= 0.66\n",
      "trashold =0.16, F1 score= 0.68\n",
      "trashold =0.18, F1 score= 0.7\n",
      "trashold =0.21, F1 score= 0.71\n",
      "trashold =0.24, F1 score= 0.73\n",
      "trashold =0.27, F1 score= 0.73\n",
      "trashold =0.29, F1 score= 0.74\n",
      "trashold =0.32, F1 score= 0.75\n",
      "trashold =0.35, F1 score= 0.76\n",
      "trashold =0.38, F1 score= 0.75\n",
      "trashold =0.4, F1 score= 0.76\n",
      "trashold =0.43, F1 score= 0.77\n",
      "trashold =0.46, F1 score= 0.77\n",
      "trashold =0.49, F1 score= 0.76\n",
      "trashold =0.51, F1 score= 0.77\n",
      "trashold =0.54, F1 score= 0.75\n",
      "trashold =0.57, F1 score= 0.74\n",
      "trashold =0.6, F1 score= 0.76\n",
      "trashold =0.62, F1 score= 0.74\n",
      "trashold =0.65, F1 score= 0.76\n",
      "trashold =0.68, F1 score= 0.73\n",
      "trashold =0.71, F1 score= 0.68\n",
      "trashold =0.73, F1 score= 0.65\n",
      "trashold =0.76, F1 score= 0.66\n",
      "trashold =0.79, F1 score= 0.64\n",
      "trashold =0.82, F1 score= 0.62\n",
      "trashold =0.84, F1 score= 0.54\n",
      "trashold =0.87, F1 score= 0.52\n",
      "trashold =0.9, F1 score= 0.52\n"
     ]
    }
   ],
   "source": [
    "lista = []\n",
    "zbior_i = []\n",
    "zbior_f1 = []\n",
    "for i in np.linspace(0.1,0.9,30):\n",
    "    lista = [2 if Y_pred_rf5_proba[x] >= i else 1 for x in range(Y_pred_rf5_proba.size)]\n",
    "    print(\"trashold =\"+ str(round(i,2)) + \", F1 score= \" + str(round(f1_score(Y_test, lista,average = 'macro'),2)))\n",
    "    zbior_i.append(i)\n",
    "    zbior_f1.append(round(f1_score(Y_test, lista,average = 'macro'),2))"
   ]
  },
  {
   "cell_type": "code",
   "execution_count": 97,
   "metadata": {},
   "outputs": [
    {
     "data": {
      "image/png": "[encoded data removed]",
      "text/plain": [
       "<Figure size 432x288 with 1 Axes>"
      ]
     },
     "metadata": {
      "needs_background": "light"
     },
     "output_type": "display_data"
    }
   ],
   "source": [
    "plt.plot(zbior_i,zbior_f1)\n",
    "pass"
   ]
  },
  {
   "cell_type": "code",
   "execution_count": 98,
   "metadata": {},
   "outputs": [
    {
     "data": {
      "text/plain": [
       "0.4310344827586208"
      ]
     },
     "execution_count": 98,
     "metadata": {},
     "output_type": "execute_result"
    }
   ],
   "source": [
    "#pozycja najlepszego wyniku\n",
    "pozycja = np.min(np.where(zbior_f1 == np.max(zbior_f1)))\n",
    "#najlepszy wynik wypada przy progu\n",
    "prog = zbior_i[pozycja]\n",
    "prog "
   ]
  },
  {
   "cell_type": "code",
   "execution_count": 99,
   "metadata": {},
   "outputs": [],
   "source": [
    "# Sprawdzmy dokladnosc modelu przy tym progu\n",
    "Y_pred_rf5_prog = [2 if Y_pred_rf5_proba[x] >= prog else 1 for x in range(Y_pred_rf5_proba.size)]"
   ]
  },
  {
   "cell_type": "code",
   "execution_count": 100,
   "metadata": {},
   "outputs": [
    {
     "name": "stdout",
     "output_type": "stream",
     "text": [
      "              precision    recall  f1-score   support\n",
      "\n",
      "           1       0.95      0.93      0.94       280\n",
      "           2       0.57      0.65      0.60        40\n",
      "\n",
      "    accuracy                           0.89       320\n",
      "   macro avg       0.76      0.79      0.77       320\n",
      "weighted avg       0.90      0.89      0.90       320\n",
      "\n",
      "[[260  20]\n",
      " [ 14  26]]\n"
     ]
    }
   ],
   "source": [
    "#ocena jakosci modelu na nowym progu\n",
    "rf5_prog_cnf_matrix = confusion_matrix(Y_test, Y_pred_rf5_prog)\n",
    "rf5_prog_cnf_raport = classification_report(Y_test, Y_pred_rf5_prog)\n",
    "print(rf5_prog_cnf_raport)\n",
    "print(rf5_prog_cnf_matrix)"
   ]
  },
  {
   "cell_type": "markdown",
   "metadata": {},
   "source": [
    "Nasz ostateczny model uzyskał dokładność 91%, z 94% precyzja wskazuje dobrze klase 1 a z 69% klasę 2. "
   ]
  },
  {
   "cell_type": "markdown",
   "metadata": {},
   "source": [
    "**5. Nasz najlepszy model**"
   ]
  },
  {
   "cell_type": "code",
   "execution_count": 28,
   "metadata": {},
   "outputs": [],
   "source": [
    "model_rf5_final = grid_search2.best_estimator_\n",
    "model_rf5_final.fit(X_train_all,Y_train_all)\n",
    "\n",
    "pred_rf5_final = model_rf5.predict_proba(X_test)[:,1] >= prog\n",
    "#y_pred = (clf.predict_proba(X_test)[:,1] >= 0.3).astype(bool)"
   ]
  },
  {
   "cell_type": "code",
   "execution_count": 29,
   "metadata": {},
   "outputs": [
    {
     "name": "stdout",
     "output_type": "stream",
     "text": [
      "              precision    recall  f1-score   support\n",
      "\n",
      "           1       0.93      0.97      0.95       274\n",
      "           2       0.74      0.54      0.62        46\n",
      "\n",
      "    accuracy                           0.91       320\n",
      "   macro avg       0.83      0.76      0.79       320\n",
      "weighted avg       0.90      0.91      0.90       320\n",
      "\n",
      "[[265   9]\n",
      " [ 21  25]]\n"
     ]
    }
   ],
   "source": [
    "#ocena jakosci modelu z wybranymi najlepszymi wagami i parametrami\n",
    "rf5_final_cnf_matrix = confusion_matrix(Y_test, pred_rf5_final)\n",
    "rf5_final_cnf_raport = classification_report(Y_test, pred_rf5_final)\n",
    "print(rf5_final_cnf_raport)\n",
    "print(rf5_final_cnf_matrix)"
   ]
  },
  {
   "cell_type": "code",
   "execution_count": 25,
   "metadata": {},
   "outputs": [],
   "source": [
    "import pickle"
   ]
  },
  {
   "cell_type": "code",
   "execution_count": null,
   "metadata": {},
   "outputs": [],
   "source": [
    "#pakuje model do zmiennej pickle\n",
    "# ?? pytanie jak potem z klasyfikacja wobec progu??\n",
    "with open (\"model_rf_final\", \"wb\") as file:\n",
    "    pickle.dump(model_rf5_final, file)"
   ]
  }
 ],
 "metadata": {
  "kernelspec": {
   "display_name": "Python 3",
   "language": "python",
   "name": "python3"
  },
  "language_info": {
   "codemirror_mode": {
    "name": "ipython",
    "version": 3
   },
   "file_extension": ".py",
   "mimetype": "text/x-python",
   "name": "python",
   "nbconvert_exporter": "python",
   "pygments_lexer": "ipython3",
   "version": "3.8.3"
  }
 },
 "nbformat": 4,
 "nbformat_minor": 4
}
