{
 "cells": [
  {
   "cell_type": "code",
   "execution_count": 15,
   "metadata": {},
   "outputs": [
    {
     "name": "stdout",
     "output_type": "stream",
     "text": [
      "C:\\Users\\Dawid\\Desktop\\kurs\\jdszr4-animalsi\\wino\n"
     ]
    }
   ],
   "source": [
    "#sciezka z danymi\n",
    "%cd \"C:\\Users\\Dawid\\Desktop\\kurs\\jdszr4-animalsi\\wino\""
   ]
  },
  {
   "cell_type": "code",
   "execution_count": 16,
   "metadata": {},
   "outputs": [],
   "source": [
    "#glowne biblioteki\n",
    "import pandas as pd\n",
    "import numpy as np \n",
    "from sklearn.model_selection import train_test_split, StratifiedKFold\n",
    "from sklearn.ensemble import RandomForestClassifier\n",
    "from sklearn.metrics import *\n",
    "from sklearn.model_selection import GridSearchCV \n",
    "from time import time \n",
    "from winsound import Beep\n",
    "import matplotlib.pyplot as plt"
   ]
  },
  {
   "cell_type": "code",
   "execution_count": 17,
   "metadata": {},
   "outputs": [],
   "source": [
    "#wlasny modul\n",
    "from dane.dane_wsadowe_zmiana_klas import *"
   ]
  },
  {
   "cell_type": "markdown",
   "metadata": {},
   "source": [
    "**1. Prosty model lasow losowych jako benchmark**"
   ]
  },
  {
   "cell_type": "markdown",
   "metadata": {},
   "source": [
    "a) dane nieprzetworzone "
   ]
  },
  {
   "cell_type": "code",
   "execution_count": 18,
   "metadata": {},
   "outputs": [
    {
     "name": "stdout",
     "output_type": "stream",
     "text": [
      "acc train:  1.0 \n",
      " acc val:  0.9141\n"
     ]
    }
   ],
   "source": [
    "#wyjdzmy od prostego modelu na domyslnych parametrach\n",
    "model_rf1 = RandomForestClassifier()\n",
    "model_rf1.fit(X_train_reduced,Y_train_reduced)\n",
    "pred_rf1 = model_rf1.predict(X_val)\n",
    "\n",
    "#ocena modelu na danych treningowych i testowych \n",
    "print(\"acc train: \",round(model_rf1.score(X_train_reduced, Y_train_reduced),4), \"\\n\",\n",
    "      \"acc val: \", round(model_rf1.score(X_val, Y_val),4))\n"
   ]
  },
  {
   "cell_type": "code",
   "execution_count": 19,
   "metadata": {},
   "outputs": [
    {
     "name": "stdout",
     "output_type": "stream",
     "text": [
      "              precision    recall  f1-score   support\n",
      "\n",
      "           1       0.95      0.96      0.95       117\n",
      "           2       0.50      0.45      0.48        11\n",
      "\n",
      "    accuracy                           0.91       128\n",
      "   macro avg       0.72      0.71      0.71       128\n",
      "weighted avg       0.91      0.91      0.91       128\n",
      "\n",
      "[[112   5]\n",
      " [  6   5]]\n"
     ]
    }
   ],
   "source": [
    "#ocena jakosci modelu nr 1\n",
    "rf1_cnf_matrix = confusion_matrix(Y_val, pred_rf1)\n",
    "rf1_cnf_raport = classification_report(Y_val, pred_rf1)\n",
    "print(rf1_cnf_raport)\n",
    "print(rf1_cnf_matrix)"
   ]
  },
  {
   "cell_type": "markdown",
   "metadata": {},
   "source": [
    "Ocena pierwszego modelu, model jak mozna bylo się spodziewać dobrze przewiduje klase najbardziej liczna, ale slaba trafia w klasę 2."
   ]
  },
  {
   "cell_type": "markdown",
   "metadata": {},
   "source": [
    "b) dane przeskalowane"
   ]
  },
  {
   "cell_type": "code",
   "execution_count": 20,
   "metadata": {},
   "outputs": [],
   "source": [
    "#wyjdzmy od prostego modelu na domyslnych parametrach\n",
    "model_rf2 = RandomForestClassifier()\n",
    "model_rf2.fit(X_train_reduced_scaled,Y_train_reduced)\n",
    "pred_rf2 = model_rf2.predict(X_val_scaled)"
   ]
  },
  {
   "cell_type": "code",
   "execution_count": 21,
   "metadata": {},
   "outputs": [
    {
     "name": "stdout",
     "output_type": "stream",
     "text": [
      "              precision    recall  f1-score   support\n",
      "\n",
      "           1       0.94      0.96      0.95       117\n",
      "           2       0.44      0.36      0.40        11\n",
      "\n",
      "    accuracy                           0.91       128\n",
      "   macro avg       0.69      0.66      0.67       128\n",
      "weighted avg       0.90      0.91      0.90       128\n",
      "\n",
      "[[112   5]\n",
      " [  7   4]]\n"
     ]
    }
   ],
   "source": [
    "#ocena jakosci modelu nr 2\n",
    "rf2_cnf_matrix = confusion_matrix(Y_val, pred_rf2)\n",
    "rf2_cnf_raport = classification_report(Y_val, pred_rf2)\n",
    "print(rf2_cnf_raport)\n",
    "print(rf2_cnf_matrix)"
   ]
  },
  {
   "cell_type": "markdown",
   "metadata": {},
   "source": [
    "Przy przeskalowanych danych wyniki pogorszyły się."
   ]
  },
  {
   "cell_type": "markdown",
   "metadata": {},
   "source": [
    "c) dane PCA"
   ]
  },
  {
   "cell_type": "code",
   "execution_count": 22,
   "metadata": {},
   "outputs": [],
   "source": [
    "#wyjdzmy od prostego modelu na domyslnych parametrach\n",
    "model_rf3 = RandomForestClassifier()\n",
    "model_rf3.fit(X_train_reduced_scaled_PCA,Y_train_reduced)\n",
    "pred_rf3 = model_rf3.predict(X_val_scaled_PCA)"
   ]
  },
  {
   "cell_type": "code",
   "execution_count": 23,
   "metadata": {},
   "outputs": [
    {
     "name": "stdout",
     "output_type": "stream",
     "text": [
      "              precision    recall  f1-score   support\n",
      "\n",
      "           1       0.94      0.97      0.95       117\n",
      "           2       0.50      0.36      0.42        11\n",
      "\n",
      "    accuracy                           0.91       128\n",
      "   macro avg       0.72      0.66      0.69       128\n",
      "weighted avg       0.90      0.91      0.91       128\n",
      "\n",
      "[[113   4]\n",
      " [  7   4]]\n"
     ]
    }
   ],
   "source": [
    "#ocena jakosci modelu nr 3\n",
    "rf3_cnf_matrix = confusion_matrix(Y_val, pred_rf3)\n",
    "rf3_cnf_raport = classification_report(Y_val, pred_rf3)\n",
    "print(rf3_cnf_raport)\n",
    "print(rf3_cnf_matrix)"
   ]
  },
  {
   "cell_type": "markdown",
   "metadata": {},
   "source": [
    "Przy PCA wyniki nie poprawiły się."
   ]
  },
  {
   "cell_type": "markdown",
   "metadata": {},
   "source": [
    "**2. Znajdzmy najlepsze parametry dla tego modelu**"
   ]
  },
  {
   "cell_type": "code",
   "execution_count": 26,
   "metadata": {},
   "outputs": [],
   "source": [
    "#zacznijmy od małego zestawu, by dostrzec czy jest w ogóle jakas poprawa\n",
    "params_rf1 = {\"max_depth\"        :list(range(10, 15, 1)),\n",
    "              \"n_estimators\"     :list(range(50,211,40)),\n",
    "              \"min_samples_leaf\" :list(range(2, 15, 3)),\n",
    "              \"max_features\"     :[3,6,9,None]\n",
    "}"
   ]
  },
  {
   "cell_type": "code",
   "execution_count": 27,
   "metadata": {
    "scrolled": true
   },
   "outputs": [
    {
     "data": {
      "text/plain": [
       "19"
      ]
     },
     "execution_count": 27,
     "metadata": {},
     "output_type": "execute_result"
    }
   ],
   "source": [
    "r=  0   # policzymy ile jest mozliwych kombinacji parametrow\n",
    "for j in params_rf1.values():\n",
    "    s=len(j)\n",
    "    r += s\n",
    "r"
   ]
  },
  {
   "cell_type": "markdown",
   "metadata": {},
   "source": [
    "a) model oparty na nieprzetworzonych danych"
   ]
  },
  {
   "cell_type": "code",
   "execution_count": 28,
   "metadata": {},
   "outputs": [
    {
     "name": "stdout",
     "output_type": "stream",
     "text": [
      "Fitting 5 folds for each of 500 candidates, totalling 2500 fits\n"
     ]
    },
    {
     "name": "stderr",
     "output_type": "stream",
     "text": [
      "[Parallel(n_jobs=1)]: Using backend SequentialBackend with 1 concurrent workers.\n",
      "[Parallel(n_jobs=1)]: Done 2500 out of 2500 | elapsed: 27.3min finished\n"
     ]
    }
   ],
   "source": [
    "#zdefiniujmy obiekt sprawdzajacy nasze parametry\n",
    "grid_search1 =  GridSearchCV(RandomForestClassifier(),param_grid = params_rf1,cv =5,verbose = 1,n_jobs = 1,scoring = make_scorer(f1_score, average = \"macro\")).fit(X_train_all,Y_train_all)\n",
    "Beep(400,1000)"
   ]
  },
  {
   "cell_type": "code",
   "execution_count": 29,
   "metadata": {},
   "outputs": [
    {
     "name": "stdout",
     "output_type": "stream",
     "text": [
      "{'max_depth': 14, 'max_features': 9, 'min_samples_leaf': 2, 'n_estimators': 90}\n"
     ]
    }
   ],
   "source": [
    "# sprawdzmy nasz najlepszy zestaw parametrow\n",
    "print(grid_search1.best_params_)\n",
    "\n",
    "model_rf4 = grid_search1.best_estimator_\n",
    "model_rf4.fit(X_train_all,Y_train_all)\n",
    "\n",
    "pred_rf4 = model_rf4.predict(X_test)"
   ]
  },
  {
   "cell_type": "code",
   "execution_count": 30,
   "metadata": {},
   "outputs": [
    {
     "name": "stdout",
     "output_type": "stream",
     "text": [
      "              precision    recall  f1-score   support\n",
      "\n",
      "           1       0.91      0.98      0.94       271\n",
      "           2       0.79      0.47      0.59        49\n",
      "\n",
      "    accuracy                           0.90       320\n",
      "   macro avg       0.85      0.72      0.77       320\n",
      "weighted avg       0.89      0.90      0.89       320\n",
      "\n",
      "[[265   6]\n",
      " [ 26  23]]\n"
     ]
    }
   ],
   "source": [
    "#ocena jakosci modelu z wybranymi najlepszymi parametrami\n",
    "rf4_cnf_matrix = confusion_matrix(Y_test, pred_rf4)\n",
    "rf4_cnf_raport = classification_report(Y_test, pred_rf4)\n",
    "print(rf4_cnf_raport)\n",
    "print(rf4_cnf_matrix)"
   ]
  },
  {
   "cell_type": "markdown",
   "metadata": {},
   "source": [
    "Widzimy calkiem dobry wynik F1 score dla klasy 2. spróbujmy jeszcze przepracować niezbalansowanie klas.\n"
   ]
  },
  {
   "cell_type": "markdown",
   "metadata": {},
   "source": [
    "**3. Popracujmy nad niezbalansowaniem klas**"
   ]
  },
  {
   "cell_type": "code",
   "execution_count": 31,
   "metadata": {},
   "outputs": [],
   "source": [
    "# dobierzmy jeszcze do naszego najlepszego modelu najbardziej optymalny zestaw wag\n",
    "weights = np.linspace(0.05,0.95,50)\n",
    "params_weight1 = {\"class_weight\": [{1:x, 2: 1-x} for x in weights]}"
   ]
  },
  {
   "cell_type": "code",
   "execution_count": 32,
   "metadata": {},
   "outputs": [
    {
     "name": "stdout",
     "output_type": "stream",
     "text": [
      "Fitting 5 folds for each of 50 candidates, totalling 250 fits\n"
     ]
    },
    {
     "name": "stderr",
     "output_type": "stream",
     "text": [
      "[Parallel(n_jobs=3)]: Using backend LokyBackend with 3 concurrent workers.\n",
      "[Parallel(n_jobs=3)]: Done  44 tasks      | elapsed:   14.9s\n",
      "[Parallel(n_jobs=3)]: Done 194 tasks      | elapsed:   54.8s\n",
      "[Parallel(n_jobs=3)]: Done 250 out of 250 | elapsed:  1.2min finished\n"
     ]
    }
   ],
   "source": [
    "#zdefiniujmy obiekt sprawdzajacy nasze losowane wagi na ostatnim wyliczonym modelu\n",
    "grid_search2 =  GridSearchCV(grid_search1.best_estimator_,param_grid = params_weight1,cv =5,verbose = 1,n_jobs = 3,scoring = make_scorer(f1_score, average = \"macro\")).fit(X_train_all,Y_train_all)\n",
    "Beep(400,1000)"
   ]
  },
  {
   "cell_type": "code",
   "execution_count": 33,
   "metadata": {},
   "outputs": [
    {
     "name": "stdout",
     "output_type": "stream",
     "text": [
      "{'class_weight': {1: 0.17857142857142855, 2: 0.8214285714285714}}\n"
     ]
    }
   ],
   "source": [
    "# sprawdzmy jaki jest nasz najlepszy zestaw wag\n",
    "print(grid_search2.best_params_)\n",
    "\n",
    "model_rf5 = grid_search2.best_estimator_\n",
    "model_rf5.fit(X_train_all,Y_train_all)\n",
    "\n",
    "pred_rf5 = model_rf5.predict(X_test)"
   ]
  },
  {
   "cell_type": "code",
   "execution_count": 34,
   "metadata": {},
   "outputs": [
    {
     "name": "stdout",
     "output_type": "stream",
     "text": [
      "              precision    recall  f1-score   support\n",
      "\n",
      "           1       0.93      0.97      0.95       271\n",
      "           2       0.78      0.57      0.66        49\n",
      "\n",
      "    accuracy                           0.91       320\n",
      "   macro avg       0.85      0.77      0.80       320\n",
      "weighted avg       0.90      0.91      0.90       320\n",
      "\n",
      "[[263   8]\n",
      " [ 21  28]]\n"
     ]
    }
   ],
   "source": [
    "#ocena jakosci modelu z wybranymi najlepszymi wagami i parametrami\n",
    "rf5_cnf_matrix = confusion_matrix(Y_test, pred_rf5)\n",
    "rf5_cnf_raport = classification_report(Y_test, pred_rf5)\n",
    "print(rf5_cnf_raport)\n",
    "print(rf5_cnf_matrix)"
   ]
  },
  {
   "cell_type": "markdown",
   "metadata": {},
   "source": [
    "Nasz model z wyważonymi wagami klas osiągnał już całkiem dobrą dokładność dla klasy 2, ale może uda się jeszcze go poprawić."
   ]
  },
  {
   "cell_type": "markdown",
   "metadata": {},
   "source": [
    "**4. Pole pod krzywą ROC**   \n",
    "- próba znalezienia wydajniejszej klasyfikacji przy zmianie progu klasyfikacji"
   ]
  },
  {
   "cell_type": "code",
   "execution_count": 205,
   "metadata": {},
   "outputs": [],
   "source": [
    "#wyciagnijmy nie klasyfikacje a prawdopodobienstwa\n",
    "Y_pred_rf5_proba = model_rf5.predict_proba(X_test)[::,1]\n",
    "\n",
    "#wykreslenie krzywej ROC\n",
    "FPR, TPR, tresholds = roc_curve(Y_test, Y_pred_rf5_proba,pos_label=2)"
   ]
  },
  {
   "cell_type": "code",
   "execution_count": 91,
   "metadata": {},
   "outputs": [
    {
     "data": {
      "image/png": "[encoded data removed]",
      "text/plain": [
       "<Figure size 432x288 with 1 Axes>"
      ]
     },
     "metadata": {
      "needs_background": "light"
     },
     "output_type": "display_data"
    }
   ],
   "source": [
    "#poniżej mozemy zobaczyć jak prezentuje się nasz TPR vs FPR\n",
    "plt.plot(FPR, TPR)\n",
    "plt.xlabel(\"FPR\")\n",
    "plt.ylabel(\"TPR\")\n",
    "plt.show()"
   ]
  },
  {
   "cell_type": "markdown",
   "metadata": {},
   "source": [
    "Zastosujmy inne przypisanie  progow i sprawdzmy nasz wynik"
   ]
  },
  {
   "cell_type": "code",
   "execution_count": 243,
   "metadata": {},
   "outputs": [
    {
     "name": "stdout",
     "output_type": "stream",
     "text": [
      "trashold =0.1, F1 score= 0.72\n",
      "trashold =0.13, F1 score= 0.74\n",
      "trashold =0.16, F1 score= 0.76\n",
      "trashold =0.18, F1 score= 0.79\n",
      "trashold =0.21, F1 score= 0.81\n",
      "trashold =0.24, F1 score= 0.81\n",
      "trashold =0.27, F1 score= 0.81\n",
      "trashold =0.29, F1 score= 0.8\n",
      "trashold =0.32, F1 score= 0.82\n",
      "trashold =0.35, F1 score= 0.82\n",
      "trashold =0.38, F1 score= 0.81\n",
      "trashold =0.4, F1 score= 0.81\n",
      "trashold =0.43, F1 score= 0.79\n",
      "trashold =0.46, F1 score= 0.8\n",
      "trashold =0.49, F1 score= 0.8\n",
      "trashold =0.51, F1 score= 0.8\n",
      "trashold =0.54, F1 score= 0.8\n",
      "trashold =0.57, F1 score= 0.8\n",
      "trashold =0.6, F1 score= 0.8\n",
      "trashold =0.62, F1 score= 0.78\n",
      "trashold =0.65, F1 score= 0.76\n",
      "trashold =0.68, F1 score= 0.73\n",
      "trashold =0.71, F1 score= 0.69\n",
      "trashold =0.73, F1 score= 0.68\n",
      "trashold =0.76, F1 score= 0.68\n",
      "trashold =0.79, F1 score= 0.65\n",
      "trashold =0.82, F1 score= 0.61\n",
      "trashold =0.84, F1 score= 0.59\n",
      "trashold =0.87, F1 score= 0.57\n",
      "trashold =0.9, F1 score= 0.54\n"
     ]
    }
   ],
   "source": [
    "lista = []\n",
    "zbior_i = []\n",
    "zbior_f1 = []\n",
    "for i in np.linspace(0.1,0.9,30):\n",
    "    lista = [2 if Y_pred_rf5_proba[x] >= i else 1 for x in range(Y_pred_rf5_proba.size)]\n",
    "    print(\"trashold =\"+ str(round(i,2)) + \", F1 score= \" + str(round(f1_score(Y_test, lista,average = 'macro'),2)))\n",
    "    zbior_i.append(i)\n",
    "    zbior_f1.append(round(f1_score(Y_test, lista,average = 'macro'),2))"
   ]
  },
  {
   "cell_type": "code",
   "execution_count": 218,
   "metadata": {},
   "outputs": [
    {
     "data": {
      "image/png": "[encoded data removed]",
      "text/plain": [
       "<Figure size 432x288 with 1 Axes>"
      ]
     },
     "metadata": {
      "needs_background": "light"
     },
     "output_type": "display_data"
    }
   ],
   "source": [
    "plt.plot(zbior_i,zbior_f1)\n",
    "pass"
   ]
  },
  {
   "cell_type": "code",
   "execution_count": 229,
   "metadata": {},
   "outputs": [
    {
     "data": {
      "text/plain": [
       "0.3206896551724138"
      ]
     },
     "execution_count": 229,
     "metadata": {},
     "output_type": "execute_result"
    }
   ],
   "source": [
    "#pozycja najlepszego wyniku\n",
    "pozycja = np.min(np.where(zbior_f1 == np.max(zbior_f1)))\n",
    "#najlepszy wynik wypada przy progu\n",
    "prog = zbior_i[pozycja]\n",
    "prog "
   ]
  },
  {
   "cell_type": "code",
   "execution_count": 241,
   "metadata": {},
   "outputs": [],
   "source": [
    "# Sprawdzmy dokladnosc modelu przy tym progu\n",
    "Y_pred_rf5_prog = [2 if Y_pred_rf5_proba[x] >= prog else 1 for x in range(Y_pred_rf5_proba.size)]"
   ]
  },
  {
   "cell_type": "code",
   "execution_count": 242,
   "metadata": {},
   "outputs": [
    {
     "name": "stdout",
     "output_type": "stream",
     "text": [
      "              precision    recall  f1-score   support\n",
      "\n",
      "           1       0.94      0.94      0.94       271\n",
      "           2       0.69      0.69      0.69        49\n",
      "\n",
      "    accuracy                           0.91       320\n",
      "   macro avg       0.82      0.82      0.82       320\n",
      "weighted avg       0.91      0.91      0.91       320\n",
      "\n",
      "[[256  15]\n",
      " [ 15  34]]\n"
     ]
    }
   ],
   "source": [
    "#ocena jakosci modelu na nowym progu\n",
    "rf5_prog_cnf_matrix = confusion_matrix(Y_test, Y_pred_rf5_prog)\n",
    "rf5_prog_cnf_raport = classification_report(Y_test, Y_pred_rf5_prog)\n",
    "print(rf5_prog_cnf_raport)\n",
    "print(rf5_prog_cnf_matrix)"
   ]
  },
  {
   "cell_type": "markdown",
   "metadata": {},
   "source": [
    "Nasz ostateczny model uzyskał dokładność 91%, z 94% precyzja wskazuje dobrze klase 1 a z 69% klasę 2. "
   ]
  }
 ],
 "metadata": {
  "kernelspec": {
   "display_name": "Python 3",
   "language": "python",
   "name": "python3"
  },
  "language_info": {
   "codemirror_mode": {
    "name": "ipython",
    "version": 3
   },
   "file_extension": ".py",
   "mimetype": "text/x-python",
   "name": "python",
   "nbconvert_exporter": "python",
   "pygments_lexer": "ipython3",
   "version": "3.8.3"
  }
 },
 "nbformat": 4,
 "nbformat_minor": 4
}
